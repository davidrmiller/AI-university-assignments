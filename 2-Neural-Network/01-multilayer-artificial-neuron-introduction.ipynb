{
 "cells": [
  {
   "cell_type": "markdown",
   "metadata": {},
   "source": [
    "# Introduction to multilayer artificial neuron network"
   ]
  },
  {
   "cell_type": "markdown",
   "metadata": {},
   "source": [
    "<p style='text-align: justify;'> \n",
    "In this section, we will study multilayer artificial neuron network architecture and how to build such a network.\n",
    "</p>"
   ]
  },
  {
   "cell_type": "markdown",
   "metadata": {
    "tags": []
   },
   "source": [
    "## Objectives"
   ]
  },
  {
   "cell_type": "markdown",
   "metadata": {},
   "source": [
    "* **Understand** what is a artificial neuron network,\n",
    "* **Learn** the basic concepts of artificial neuron network."
   ]
  },
  {
   "cell_type": "markdown",
   "metadata": {
    "tags": []
   },
   "source": [
    "## The problem: linearity"
   ]
  },
  {
   "cell_type": "markdown",
   "metadata": {},
   "source": [
    "<p style='text-align: justify;'> \n",
    "The main problem with using a single artificial neuron is its limitations when dealing with more complex and non-linearly separable issues. A simple artificial neuron can only learn linear decisions, which means that it can solve problems in which two classes can be divided by a line or plane.\n",
    "</p>  \n",
    "    \n",
    "<p style='text-align: justify;'> \n",
    "However, many real-world problems involve non-linear relationships and more complex patterns, such as multi-class image classification or prediction with variables that have non-linear differences between them. A single artificial neuron is unsuitable in these cases, as it cannot accurately capture and represent these complex relationships.\n",
    "</p>  "
   ]
  },
  {
   "cell_type": "markdown",
   "metadata": {},
   "source": [
    "## The solution: multilayer artificial neuron network"
   ]
  },
  {
   "cell_type": "markdown",
   "metadata": {},
   "source": [
    "<p style='text-align: justify;'>\n",
    "A multilayer artificial neuron network, is an algorithm capable of handling problems where non-linearity is present, making it ideal for classification and regression problems where the relationship between inputs and desired outputs is not linear.\n",
    "</p>\n",
    "\n",
    "<p style='text-align: justify;'>\n",
    "The multilayer artificial neuron network can learn non-linear representations of data through hidden layers with non-linear activation functions, enabling the algorithm to capture complex patterns and relationships between input variables. This makes it a powerful tool for more challenging machine-learning problems. The structure of an multilayer artificial neuron network is shown below:\n",
    "</p>"
   ]
  },
  {
   "cell_type": "markdown",
   "metadata": {},
   "source": [
    "<div style=\"text-align:center\">\n",
    "<img src=\"./images/figure01_multilayer_neural_network.png\" style=\"width: 500px;\">\n",
    "</div>"
   ]
  },
  {
   "cell_type": "markdown",
   "metadata": {},
   "source": [
    "<p style='text-align: justify;'>\n",
    "An multilayer artificial neuron network is composed of a set of neurons, where each neuron is a complete artificial neuron, possessing its own inputs, weights, bias, and activation function, as demonstrated below:\n",
    "</p>\n",
    "\n",
    "<div style=\"text-align:center\">\n",
    "<img src=\"./images/figure02_highlighted_artificial_neuron.jpg\" style=\"width: 500px;\">\n",
    "</div>"
   ]
  },
  {
   "cell_type": "markdown",
   "metadata": {},
   "source": [
    "<p style='text-align: justify;'>\n",
    "An multilayer artificial neuron network is therefore formed by the interconnection of several artificial neurons, thereby creating a layered structure. Each of these layers performs a specific function within the multilayer artificial neuron network. The concepts related to the operation of each of them will be presented next.\n",
    "</p>"
   ]
  },
  {
   "cell_type": "markdown",
   "metadata": {
    "tags": []
   },
   "source": [
    "## Architecture of an multilayer artificial neuron network: input, hidden and output layers"
   ]
  },
  {
   "cell_type": "markdown",
   "metadata": {},
   "source": [
    "<p style='text-align: justify;'>\n",
    "The fundamental structure of the multilayer artificial neuron network consists of three main layers: the input layer, the hidden layer, and the output layer. Let us explore the function of each of them.\n",
    "</p>\n",
    "\n",
    "### ⊗ **Input layer**: \n",
    "\n",
    "<p style='text-align: justify;'>\n",
    "The input layer, as the name suggests, is the layer that receives the input data of the model. Each neuron in this layer represents a feature or attribute of the input data. For example, in an image classification problem, each neuron in the input layer could represent a pixel of the image.\n",
    "</p>\n",
    "\n",
    "<div style=\"text-align:center\">\n",
    "<img src=\"./images/figure03_input_layer.png\" style=\"width: 200px;\">\n",
    "</div>\n",
    "\n",
    "### ⊗ **Hidden layer**:\n",
    "\n",
    "<p style='text-align: justify;'>\n",
    "The hidden layer is located between the input layer and the output layer. It is important to emphasize that there can be several hidden layers in the same multilayer artificial neuron network. They are called Hidden because their activities are not directly observable to the user of the MLP. Each hidden layer is composed of a set of interconnected neurons.The number and size of layers can vary depending on the complexity of the problem and the chosen architecture.\n",
    "</p>\n",
    "\n",
    "<div style=\"text-align:center\">\n",
    "<img src=\"./images/figure04_hidden_layer.png\" style=\"width: 200px;\">\n",
    "</div>\n",
    "\n",
    "### ⊗ **Output layer**:\n",
    "\n",
    "<p style='text-align: justify;'>\n",
    "The output layer is the last layer of the multilayer artificial neuron network and produces the final outputs of the model. The number of neurons in the output layer depends on the problem to be solved. For example, in a binary classification problem, a single output neuron can indicate the probability of belonging to one class or the other. Values close to $0$ represent a high probability of belonging to a class, while values close to 1 represent a high probability of belonging to another category.\n",
    "</p>\n",
    "    \n",
    "<p style='text-align: justify;'>\n",
    "In multiclass classification problems, where there are more than two possible classes, we will have an output neuron for each category. The output of each neuron represents the probability of belonging to the respective class.\n",
    "</p>\n",
    "\n",
    "<div style=\"text-align:center\">\n",
    "<img src=\"./images/figure05_output_layer.png\" style=\"width: 200px;\">\n",
    "</div>"
   ]
  },
  {
   "cell_type": "markdown",
   "metadata": {
    "tags": []
   },
   "source": [
    "## Roses or violets using multilayer artificial neuron network\n",
    "\n",
    "<p style='text-align: justify;'>\n",
    "We have already developed a artificial neuron algorithm to identify whether a flower is a rose or a violet. However, you may have noticed that if some of the parameters are slightly out of the expected range (for example, a characteristic of a third type of flower), the current algorithm, as it only has a single artificial neuron, will not be able to indicate that the flower is neither a rose nor a violet, as it will inevitably tend towards one of the two possible responses for which it was programmed (rose or violet).\n",
    "</p>\n",
    "\n",
    "<p style='text-align: justify;'>\n",
    "To solve this problem, we can employ the principles of the multilayer artificial neuron network, allowing the algorithm to recognize whether a flower is a rose or a violet. If a different flower is presented, the algorithm will inform that it does not correspond to any previously mentioned options. See the following animation:\n",
    "</p>\n",
    "\n",
    "<div style=\"text-align:center\">\n",
    "<img src=\"./images/figure06_multilayer_works.gif\" style=\"width: 600px;\">\n",
    "</div>\n",
    "\n",
    "<p style='text-align: justify;'>\n",
    "Did you notice how it is possible to create a neural network capable of presenting several responses more efficiently than a simple artificial neuron? Of course, for this multilayer artificial neuron network to work appropriately, it is necessary to know some of its parameters, such as the activation functions and training methods.\n",
    "</p>"
   ]
  },
  {
   "cell_type": "markdown",
   "metadata": {},
   "source": [
    "## Activations functions used in multilayer artificial neuron networks"
   ]
  },
  {
   "cell_type": "markdown",
   "metadata": {},
   "source": [
    "<p style='text-align: justify;'>\n",
    "The activation function, a topic we have previously discussed, serves the critical role of allowing non-linearity in the neuron outputs. This feature of the activation function allows the model to decipher and portray complex relationships in the input data, guiding the network toward the intended output. The multilayer artificial neuron network operates on the same conceptual framework as its simpler counterpart, the artificial neuron, with the notable enhancement that each neuron in the multilayer model may use its own distinct activation function.\n",
    "</p>\n",
    "\n",
    "<p style='text-align: justify;'>\n",
    "It is essential to highlight that there is not just one possible activation function. There are several, each with characteristics such as linearity, non-linearity, and gradient representation capacity. Some of these activation functions are:\n",
    "</p>    \n",
    "\n",
    "* [*Linear,*](https://pytorch.org/docs/stable/generated/torch.nn.Linear.html)\n",
    "* [*Sigmoid,*](https://pytorch.org/docs/stable/generated/torch.nn.Sigmoid.html)\n",
    "* [*Softmax,*](https://pytorch.org/docs/stable/generated/torch.nn.Softmax.html)\n",
    "* [*Hyperbolic Tangent Function,*](https://pytorch.org/docs/stable/generated/torch.nn.Tanh.html)\n",
    "* [*Rectified Linear Unit (ReLU),*](https://pytorch.org/docs/stable/generated/torch.nn.ReLU.html)\n",
    "* [*Linear Exponential Function (ELU).*](https://pytorch.org/docs/stable/generated/torch.nn.ELU.html)\n",
    "\n",
    "<p style='text-align: justify;'>\n",
    "Each of these activation functions can be used to solve a specific problem in a neural network.\n",
    "</p>"
   ]
  },
  {
   "cell_type": "markdown",
   "metadata": {},
   "source": [
    "## ☆ Challenge: Classification of roses and violets  ☆"
   ]
  },
  {
   "cell_type": "markdown",
   "metadata": {},
   "source": [
    "Consider the following problem:\n",
    "\n",
    "**Roses are red, violets are blue, the stems of roses are tall, and violets are short.**\n",
    "\n",
    "Then:\n",
    "\n",
    "- Having the color spectrum between $red = 0$ and $blue = 10$.\n",
    "\n",
    "- Between $0$ and $10$, there is a mixture of the two colors, where the closer to $0$ is redder, and the closer to $10$ is bluer.\n",
    "\n",
    "- Given a set of pairs with (height and color) determine whether it is a rose or a violet.\n",
    "\n",
    "<p style=\"text-align: center;\">\n",
    " <img src=\"./images/figure07_rosesXviolets.png\"  width=\"500\" height=\"500\">\n",
    "</p>\n",
    "\n",
    "\n",
    "1. Create a multilayer artificial neuron network with Intel® Python.\n",
    "\n",
    "2. Formulate the labels (known data) for this problem.\n",
    "\n",
    "3. Use the multilayer artificial neuron network to classify whether they are rose or violet."
   ]
  },
  {
   "cell_type": "markdown",
   "metadata": {},
   "source": [
    "## ☆ Solution ☆ "
   ]
  },
  {
   "cell_type": "markdown",
   "metadata": {},
   "source": [
    "### ⊗ Import python packages "
   ]
  },
  {
   "cell_type": "markdown",
   "metadata": {},
   "source": [
    "Let us start by importing all the modules we will need:"
   ]
  },
  {
   "cell_type": "code",
   "execution_count": 1,
   "metadata": {},
   "outputs": [],
   "source": [
    "import numpy as np\n",
    "import matplotlib.pyplot as plt\n",
    "import random\n",
    "import math"
   ]
  },
  {
   "cell_type": "markdown",
   "metadata": {},
   "source": [
    "### ⊗ Set the activation function"
   ]
  },
  {
   "cell_type": "markdown",
   "metadata": {
    "tags": []
   },
   "source": [
    "<p style='text-align: justify;'>\n",
    "The sigmoid activation function, as we already know, is used to map the input values to an output between $0$ and $1$. The derivative of the simoid function is used to calculate the gradient, that is, the rate of variation of the sigmoid function in relation to the weights of the network. It is used in the process called <b>backpropagation</b> in order to adjust the weights in order to minimize the network error.\n",
    "</p>    \n",
    "\n",
    "If you used the sigmoid function and a derivative:\n",
    "\n",
    "$$\\sigma(x) = \\displaystyle \\frac{1}{1 + e^{-x}}$$\n",
    "    \n",
    "<br> \n",
    "$$\\sigma'(x) = \\sigma(x) * (1 - \\sigma(x))$$\n",
    "</br>"
   ]
  },
  {
   "cell_type": "code",
   "execution_count": 2,
   "metadata": {},
   "outputs": [],
   "source": [
    "def sigmoid(x):\n",
    "    #print(x)\n",
    "    try:\n",
    "        return 1 / (1 + math.exp(-x))\n",
    "    except Exception as e:\n",
    "        print(\"err \", x)\n",
    "        return None\n",
    "    \n",
    "def d_sigmoid(ox):\n",
    "    return ox * (1-ox)\n",
    "\n",
    "sigmoid = np.vectorize(sigmoid)\n",
    "d_sigmoid = np.vectorize(d_sigmoid)"
   ]
  },
  {
   "cell_type": "markdown",
   "metadata": {},
   "source": [
    "### ⊗ Create the layers, weights, bias, and feed-forward functions"
   ]
  },
  {
   "cell_type": "markdown",
   "metadata": {},
   "source": [
    "<p style='text-align: justify;'>\n",
    "When using a single artificial neuron, calculate its sum as $(\\sum_{i=0}^{n} (Xi+Wi)) + b$. When using two artificial neurons, calculate their sums as $N_0 = (\\sum_{i=0}^{n} ( X_{0i}i+W_{0i})) + b_0$ and $N_1 = (\\sum_{i=0}^{n} (X_{1i}i+W_{1i})) + b_1$. That can be accomplished with matrix multiplication.\n",
    "</p>"
   ]
  },
  {
   "cell_type": "markdown",
   "metadata": {},
   "source": [
    "<p style='text-align: justify;'>\n",
    "In order to make it possible to flow the data of the neural network from the inputs to the hidden layers and later the output, a mechanism capable of performing such a task is necessary. <b>Feed forward</b>, or direct propagation, is a mechanism that allows network data to flow in a single direction, going from the input layer to the output layer without feedback.\n",
    "Each neuron in a layer receives input signals, applies an activation function, and passes the result to neurons in the next layer.\n",
    "</p>\n",
    "    \n",
    "The feed-forward process calculates a new output given a set of inputs $X$ and weights $W$:\n",
    "\n",
    "$$\n",
    "X = \n",
    "\\quad\n",
    "\\begin{bmatrix} \n",
    "a\\\\\n",
    "b\n",
    "\\end{bmatrix}\n",
    "\\quad\n",
    "$$\n",
    "</br>\n",
    "$$\n",
    "W = \n",
    "\\quad\n",
    "\\begin{bmatrix} \n",
    "c & d \\\\\n",
    "e & f \n",
    "\\end{bmatrix}\n",
    "\\quad\n",
    "$$\n",
    "\n",
    "<p style='text-align: justify;'>\n",
    "The feed forward process is given by $H = W \\times X$ then $H = \\sigma(H + b)$ between one layer and another. In the next layer the input is the output of the previous one.\n",
    "</p>"
   ]
  },
  {
   "cell_type": "markdown",
   "metadata": {},
   "source": [
    "<div style='text-align: justify;'>\n",
    "    Let's create a class called <i>layer</i> that will be responsible for creating the layers of a neural network. Each layer is composed of a number of neurons and a number of input synapses for each neuron. Within this class we will create functions that will be responsible for creating the weights and biases of the network. These functions are:\n",
    "\n",
    "  \n",
    "* `createLayerW(self, nin, nout`:  function responsible for creating the network weights randomly. The <b>nin</b> represents the number of input neurons, while the <b>nout</b> represents the number of output neurons,\n",
    "\n",
    "* `add(self, W)`: method that adds a matrix of weights (W) to the matrix of weights (self.W) of the layer,\n",
    "\n",
    "* `addBias(self, W)`: method is similar to the add(self, W) method, but it adds a matrix of bias (W) to the bias (self.bias) of the layer,\n",
    "\n",
    "* `forward(self, X)`: layer propagation method takes an input (X), calculates the output by multiplying the weights by the input, adding the bias and applying the sigmoid activation function, \n",
    "\n",
    "* `getExit(self)`: method that returns the exit (self.exit) of the layer. \n",
    "</div>\n",
    "\n",
    "A bias unit is typically added to the input layer and sometimes to hidden layers of a neural network. It is represented by a value of $1$ multiplied by a bias weight, adjusted during the learning process. In a neuron, the bias allows you to shift the activation function to the left or right, which helps the neuron to activate in the right region of its input space."
   ]
  },
  {
   "cell_type": "code",
   "execution_count": 3,
   "metadata": {
    "tags": []
   },
   "outputs": [],
   "source": [
    "class layer:\n",
    "    def __init__(self, neurons, sinapces):\n",
    "        self.neurons = neurons\n",
    "        self.iNeurons = sinapces\n",
    "        self.W = self.createLayerW(self.neurons, self.iNeurons)\n",
    "        self.bias = self.createLayerW(self.neurons, 1)\n",
    "        self.exit = None\n",
    "        \n",
    "    def createLayerW(self,nin,nout):\n",
    "        tmp = []\n",
    "        for i in range(nin):\n",
    "            tmp.append([])\n",
    "            for j in range(nout):\n",
    "                tmp[i].append(random.random())\n",
    "        return np.array(tmp)\n",
    "      \n",
    "    def add(self, W):\n",
    "        if self.W.shape != W.shape:\n",
    "            print(\"Error 1\", self.W.shape, W.shape)\n",
    "        self.W = self.W + W\n",
    "        \n",
    "    def addBias(self, W):\n",
    "        if self.bias.shape != W.shape:\n",
    "            print(\"Error 2\", self.bias.shape, W.shape)\n",
    "        self.bias = self.bias + W\n",
    "    \n",
    "    def forward(self, X):\n",
    "        self.exit = self.W.dot(X)\n",
    "        self.exit = self.exit + self.bias\n",
    "        self.exit = sigmoid(self.exit)\n",
    "        \n",
    "    def getExit(self):\n",
    "        return self.exit\n",
    "    "
   ]
  },
  {
   "cell_type": "markdown",
   "metadata": {
    "tags": []
   },
   "source": [
    "### ⊗ Create the neural network"
   ]
  },
  {
   "cell_type": "markdown",
   "metadata": {},
   "source": [
    "\n",
    "Now it will be necessary to create the neural network itself. To train the network, we will use the [*Backpropagation Technique*](https://developers.google.com/machine-learning/glossary?hl=pt-br). This technique is based on the gradient descent algorithm and is used to adjust the weights of a neural network in order to minimize the error between the predicted output and the desired output.\n",
    "It propagates the error from the network output to the input layer."
   ]
  },
  {
   "cell_type": "markdown",
   "metadata": {},
   "source": [
    "How can we visualize N-dimensional problems?\n",
    "\n",
    "Trying to find the local minimum of the cost function.\n",
    "\n",
    "- `X_train` is the training data\n",
    "- `Y_train` is the expected class or response for `X_train`\n",
    "\n",
    "For backpropagation, the feed forward is executed saving the intermediate responses. The error is calculated:\n",
    "\n",
    "$$\n",
    "e = y_{train} - y_{pred}\n",
    "$$\n",
    "\n",
    "Then the derivative of the activation function is calculated, using the result of the layer:\n",
    "\n",
    "$$\n",
    "d_{ypred} = \\sigma'(y_{pred})\n",
    "$$\n",
    "\n",
    "The gradient is then calculated as:\n",
    "\n",
    "$$\n",
    "\\nabla = d_{ypred} \\times e\n",
    "$$\n",
    "\n",
    "In this way, multiply $\\nabla$ by a learning rate ($lr$) to go slowly towards the minimum point:\n",
    "\n",
    "$$\n",
    "\\nabla = lr \\times \\nabla\n",
    "$$\n",
    "\n",
    "After these operations, the bias is adjusted directly with $\\nabla$ and then multiplied by the transpose of the layer result ($H$), forming a matrix of rows and columns equal to the weights of the network ($TWL$):\n",
    "\n",
    "$$\n",
    "bias = bias + \\nabla\n",
    "$$\n",
    "\n",
    "$$\n",
    "TWL = \\nabla \\cdot H^{T}\n",
    "$$\n",
    "\n",
    "Then, element by element is added to the resulting matrix in the weights of the layer:\n",
    "\n",
    "$$\n",
    "WL = WL + TWL\n",
    "$$\n",
    "\n",
    "To get the error of the previous layer (or hidden layers) just:\n",
    "\n",
    "$$\n",
    "e_{h} = WL^T \\cdot e_{h-1}\n",
    "$$"
   ]
  },
  {
   "cell_type": "markdown",
   "metadata": {},
   "source": [
    "<div style='text-align: justify;'>\n",
    "Let's then create the class responsible for our neural network. Within this class, we will define the necessary functions to perform the network prediction, run the backpropagation algorithm, and perform the training itself.\n",
    "\n",
    "* **neuralNetwork():** class that contains methods to make it possible to perform neural network prediction,\n",
    "\n",
    "* **predict():**  the method responsible for making predictions of the neural network based on the input data ($X$). It performs the propagation through the layers, calculating the output of each layer and storing the intermediate outputs in **HidemLayers**. It returns the final output of the neural network,\n",
    "\n",
    "* **backprop():** the method responsible for performing backpropagation in the neural network. It uses the intermediate outputs stored in **HidemLayers** to calculate the gradients and update the weights of the layers, starting from the output layer and going back to the input layer. It returns the error between the output of the neural network and the expected value ($y$),\n",
    "\n",
    "* **train():** the method responsible for training the neural network. It iterates over the training data (**x_train** and **y_train**), performs prediction for each input, executes the backpropagation algorithm, and accumulates the mean error. It returns the mean training error.  \n",
    "    </div>"
   ]
  },
  {
   "cell_type": "code",
   "execution_count": 4,
   "metadata": {},
   "outputs": [],
   "source": [
    "class neuralNetWork:\n",
    "    def __init__(self, nInfo: list, lr = 0.5):\n",
    "        self.layers = []\n",
    "        nb = None\n",
    "        self.lr = lr\n",
    "        self.HidemLayers = []\n",
    "        for n in nInfo:\n",
    "            if nb is None:\n",
    "                nb = n\n",
    "                continue\n",
    "            self.layers.append(layer(n, nb))\n",
    "            nb = n\n",
    "    \n",
    "    def predict(self, X):\n",
    "        if X.shape[1] != 1:\n",
    "            print(\"X shape must be (n,1)!\")\n",
    "        self.HidemLayers = [X]\n",
    "        for layer in self.layers:\n",
    "            layer.forward(X)\n",
    "            X = layer.getExit()\n",
    "            self.HidemLayers.append(X)\n",
    "        return X\n",
    "    \n",
    "    def backprop(self, X, y):\n",
    "        Xs = self.HidemLayers\n",
    "        iX = len(Xs) - 1\n",
    "        layerant = None\n",
    "        er = 0\n",
    "        while iX > 0:\n",
    "            layer = self.layers[iX-1]\n",
    "            if iX == len(Xs) - 1:\n",
    "                er = np.array([[y]]) - Xs[iX]\n",
    "                e = er\n",
    "            else:\n",
    "                e = layerant.W.T.dot(e)\n",
    "\n",
    "            d_y_pred = d_sigmoid(Xs[iX])\n",
    "\n",
    "            grad = d_y_pred * e\n",
    "            grad = grad * self.lr\n",
    "\n",
    "            layer.addBias(grad)\n",
    "            W_d = grad.dot(Xs[iX-1].T)\n",
    "\n",
    "            layer.add(W_d)\n",
    "\n",
    "            iX -= 1\n",
    "            layerant = layer\n",
    "        return er\n",
    "    \n",
    "    def train(self, x_train, y_train):\n",
    "        errorMean = 0\n",
    "        count = 0\n",
    "        for X, y in zip(x_train, y_train):\n",
    "            X = np.array([X]).T\n",
    "            self.predict(X)\n",
    "            errorMean = self.backprop(X,y)\n",
    "            count += 1\n",
    "            \n",
    "        return errorMean"
   ]
  },
  {
   "cell_type": "markdown",
   "metadata": {
    "tags": []
   },
   "source": [
    "### ⊗ Create the samples\n",
    "Now that our network is created, we need to create a sample set to train our neural network. Let's create a set of $30$ rose samples and $30$ violet samples, and a `createSamples()` function where data from both flowers will be mixed and sent to training:"
   ]
  },
  {
   "cell_type": "code",
   "execution_count": 5,
   "metadata": {},
   "outputs": [],
   "source": [
    "def createSamples(list1, list2, label, bias = False):\n",
    "    random.shuffle(list1)\n",
    "    random.shuffle(list2)\n",
    "    tmp = []\n",
    "    for p1, p2 in zip(list1, list2):\n",
    "        if bias:\n",
    "            tmp.append([p1, p2, 1, label])\n",
    "        else:\n",
    "            tmp.append([p1, p2, label])\n",
    "    return tmp"
   ]
  },
  {
   "cell_type": "code",
   "execution_count": 6,
   "metadata": {},
   "outputs": [],
   "source": [
    "qte_sample = 30"
   ]
  },
  {
   "cell_type": "code",
   "execution_count": 7,
   "metadata": {},
   "outputs": [],
   "source": [
    "roses = []\n",
    "itemsx = []\n",
    "itemsy = []\n",
    "\n",
    "for i in range(qte_sample):\n",
    "    itemsx.append(round(random.uniform(0, 5)   ,3))\n",
    "    itemsy.append(round(random.uniform(16, 30) ,3))\n",
    "    \n",
    "roses = createSamples(itemsx, itemsy, 1)"
   ]
  },
  {
   "cell_type": "code",
   "execution_count": 8,
   "metadata": {},
   "outputs": [
    {
     "data": {
      "text/plain": [
       "[[3.987, 19.06, 1],\n",
       " [1.191, 21.699, 1],\n",
       " [3.483, 22.234, 1],\n",
       " [3.026, 26.768, 1],\n",
       " [2.363, 18.963, 1],\n",
       " [1.271, 26.863, 1],\n",
       " [4.36, 28.447, 1],\n",
       " [4.593, 26.928, 1],\n",
       " [1.229, 24.964, 1],\n",
       " [2.066, 29.212, 1],\n",
       " [3.805, 21.628, 1],\n",
       " [4.056, 29.087, 1],\n",
       " [1.116, 26.998, 1],\n",
       " [4.572, 24.888, 1],\n",
       " [1.219, 27.151, 1],\n",
       " [2.751, 17.709, 1],\n",
       " [0.12, 25.087, 1],\n",
       " [3.347, 27.523, 1],\n",
       " [1.384, 25.502, 1],\n",
       " [2.758, 26.081, 1],\n",
       " [4.354, 22.144, 1],\n",
       " [0.253, 18.09, 1],\n",
       " [4.858, 16.802, 1],\n",
       " [4.617, 28.189, 1],\n",
       " [2.489, 26.184, 1],\n",
       " [1.707, 17.913, 1],\n",
       " [3.99, 18.973, 1],\n",
       " [4.888, 24.579, 1],\n",
       " [3.465, 17.305, 1],\n",
       " [2.958, 21.945, 1]]"
      ]
     },
     "execution_count": 8,
     "metadata": {},
     "output_type": "execute_result"
    }
   ],
   "source": [
    "roses"
   ]
  },
  {
   "cell_type": "code",
   "execution_count": 9,
   "metadata": {},
   "outputs": [],
   "source": [
    "violets = []\n",
    "itemsx = []\n",
    "itemsy = []\n",
    "\n",
    "for i in range(qte_sample):\n",
    "    itemsx.append(round(random.uniform(6, 10) ,3))\n",
    "    itemsy.append(round(random.uniform(0, 15) ,3))\n",
    "\n",
    "violets = createSamples(itemsx, itemsy, 0)"
   ]
  },
  {
   "cell_type": "code",
   "execution_count": 10,
   "metadata": {},
   "outputs": [
    {
     "data": {
      "text/plain": [
       "[[7.041, 1.091, 0],\n",
       " [6.028, 14.667, 0],\n",
       " [6.685, 10.093, 0],\n",
       " [7.261, 13.393, 0],\n",
       " [9.142, 10.422, 0],\n",
       " [7.475, 4.296, 0],\n",
       " [6.835, 7.844, 0],\n",
       " [9.777, 5.895, 0],\n",
       " [9.065, 12.514, 0],\n",
       " [8.351, 4.728, 0],\n",
       " [6.846, 4.893, 0],\n",
       " [7.168, 11.671, 0],\n",
       " [6.474, 10.431, 0],\n",
       " [8.524, 3.973, 0],\n",
       " [9.408, 12.6, 0],\n",
       " [9.466, 9.226, 0],\n",
       " [7.05, 8.899, 0],\n",
       " [6.848, 13.635, 0],\n",
       " [6.169, 12.799, 0],\n",
       " [6.56, 6.211, 0],\n",
       " [9.863, 3.849, 0],\n",
       " [7.726, 11.458, 0],\n",
       " [6.788, 7.618, 0],\n",
       " [6.675, 6.091, 0],\n",
       " [7.325, 13.881, 0],\n",
       " [8.716, 11.354, 0],\n",
       " [6.129, 11.776, 0],\n",
       " [7.367, 1.304, 0],\n",
       " [8.141, 11.842, 0],\n",
       " [9.278, 4.957, 0]]"
      ]
     },
     "execution_count": 10,
     "metadata": {},
     "output_type": "execute_result"
    }
   ],
   "source": [
    "violets"
   ]
  },
  {
   "cell_type": "markdown",
   "metadata": {},
   "source": [
    "### ⊗ Normalizing the data"
   ]
  },
  {
   "cell_type": "markdown",
   "metadata": {},
   "source": [
    "<p style='text-align: justify;'>\n",
    "Now that the samples have been created, they need to be normalized. Normalization is a technique employed upon the data before it is used as input in a multilayer artificial neuron network model. It serves as a preprocessing stage to adjust the scale of the data to a specific range or desired distribution.\n",
    "</p>\n",
    "<p style='text-align: justify;'> \n",
    "Normalization is an important step in preparing the data for machine learning model training, as it aids in mitigating issues like data divergence during the training process.\n",
    "</p>\n",
    "<p style='text-align: justify;'> \n",
    "Various normalization techniques exist, such as <b>z-score</b> normalization, <b>min-max</b> normalization, and mean and standard deviation normalization, among others. In our particular case, we have employed the technique for data normalization.\n",
    "</p>\n",
    "\n",
    "<br>\n",
    "$$\\text{normalized_value} = \\frac{({\\text{data_point} - \\text{min_val})}}{({\\text{max_val} - \\text{min_val})}}$$\n",
    "<br>\n",
    "\n",
    "* **normalized_value:** The resulting normalized value after applying the formula,\n",
    "* **data_point:** Represents the original value you want to normalize,\n",
    "* **min_val:** Refers to the minimum value of the desired range or interval for normalization,\n",
    "* **max_val:** Corresponds to the maximum value of the desired range or interval for normalization.\n",
    "\n",
    "    "
   ]
  },
  {
   "cell_type": "markdown",
   "metadata": {},
   "source": [
    "Applying normalization using the max-min method to the roses and violets problem:"
   ]
  },
  {
   "cell_type": "code",
   "execution_count": 11,
   "metadata": {},
   "outputs": [],
   "source": [
    "points = np.array(roses + violets)\n",
    "\n",
    "input_samples  = points[:,[0,1]]\n",
    "target_outputs = points[:,2]\n",
    "\n",
    "#Normalize\n",
    "min_val = np.min(input_samples, axis=0)\n",
    "max_val = np.max(input_samples, axis=0)\n",
    "\n",
    "input_samples_normalized = (input_samples - min_val) / (max_val - min_val)"
   ]
  },
  {
   "cell_type": "code",
   "execution_count": 12,
   "metadata": {},
   "outputs": [
    {
     "data": {
      "text/plain": [
       "array([[0.39690034, 0.63898866],\n",
       "       [0.10992507, 0.73283311],\n",
       "       [0.34517089, 0.75185804],\n",
       "       [0.29826542, 0.91308986],\n",
       "       [0.23021657, 0.63553928],\n",
       "       [0.1181361 , 0.91646812],\n",
       "       [0.43518423, 0.97279613],\n",
       "       [0.45909884, 0.91877956],\n",
       "       [0.11382531, 0.84893852],\n",
       "       [0.19973314, 1.        ],\n",
       "       [0.37822026, 0.73030831],\n",
       "       [0.40398235, 0.99555492],\n",
       "       [0.10222724, 0.9212688 ],\n",
       "       [0.45694345, 0.84623591],\n",
       "       [0.11279893, 0.92670958],\n",
       "       [0.27004003, 0.59094627],\n",
       "       [0.        , 0.85331247],\n",
       "       [0.33121215, 0.93993812],\n",
       "       [0.12973417, 0.86807013],\n",
       "       [0.27075849, 0.88865972],\n",
       "       [0.43456841, 0.74865759],\n",
       "       [0.01365083, 0.60449486],\n",
       "       [0.48629785, 0.55869279],\n",
       "       [0.46156215, 0.96362149],\n",
       "       [0.24314893, 0.89232246],\n",
       "       [0.16288617, 0.59820063],\n",
       "       [0.39720825, 0.63589488],\n",
       "       [0.48937699, 0.83524768],\n",
       "       [0.34332341, 0.57657978],\n",
       "       [0.29128605, 0.74158102],\n",
       "       [0.71035615, 0.        ],\n",
       "       [0.60638407, 0.48277088],\n",
       "       [0.6738171 , 0.32011664],\n",
       "       [0.73293647, 0.43746666],\n",
       "       [0.92599815, 0.33181608],\n",
       "       [0.75490095, 0.11397176],\n",
       "       [0.68921277, 0.24014082],\n",
       "       [0.99117315, 0.17083319],\n",
       "       [0.91809504, 0.40620888],\n",
       "       [0.84481166, 0.12933395],\n",
       "       [0.69034178, 0.13520145],\n",
       "       [0.72339115, 0.37623129],\n",
       "       [0.65216053, 0.33213613],\n",
       "       [0.862568  , 0.10248569],\n",
       "       [0.9532998 , 0.4092671 ],\n",
       "       [0.9592528 , 0.28928559],\n",
       "       [0.71127989, 0.27765727],\n",
       "       [0.69054706, 0.44607233],\n",
       "       [0.620856  , 0.41634366],\n",
       "       [0.66098738, 0.18207034],\n",
       "       [1.        , 0.09807617],\n",
       "       [0.78066304, 0.36865688],\n",
       "       [0.68438879, 0.23210412],\n",
       "       [0.67279072, 0.17780307],\n",
       "       [0.73950529, 0.45482024],\n",
       "       [0.88227445, 0.36495857],\n",
       "       [0.61675049, 0.37996515],\n",
       "       [0.74381607, 0.00757441],\n",
       "       [0.82325772, 0.38231215],\n",
       "       [0.93995689, 0.13747733]])"
      ]
     },
     "execution_count": 12,
     "metadata": {},
     "output_type": "execute_result"
    }
   ],
   "source": [
    "input_samples_normalized"
   ]
  },
  {
   "cell_type": "code",
   "execution_count": 13,
   "metadata": {},
   "outputs": [
    {
     "data": {
      "text/plain": [
       "array([1., 1., 1., 1., 1., 1., 1., 1., 1., 1., 1., 1., 1., 1., 1., 1., 1.,\n",
       "       1., 1., 1., 1., 1., 1., 1., 1., 1., 1., 1., 1., 1., 0., 0., 0., 0.,\n",
       "       0., 0., 0., 0., 0., 0., 0., 0., 0., 0., 0., 0., 0., 0., 0., 0., 0.,\n",
       "       0., 0., 0., 0., 0., 0., 0., 0., 0.])"
      ]
     },
     "execution_count": 13,
     "metadata": {},
     "output_type": "execute_result"
    }
   ],
   "source": [
    "target_outputs"
   ]
  },
  {
   "cell_type": "markdown",
   "metadata": {
    "tags": []
   },
   "source": [
    "\n",
    "<p style='text-align: justify;'>\n",
    "Now that the data is normalized, we can actually create our multilayer artificial neuron network. In this example we will create an multilayer artificial neuron network with the following characteristics:\n",
    "\n",
    "</p>\n",
    "    \n",
    "<p style=\"text-align: center;\">\n",
    " <img src=\"./images/figure08_roses_and_violets.png\"  width=\"500\" height=\"500\">\n",
    "</p>\n",
    "\n",
    "\n",
    "* Two input neurons,\n",
    "\n",
    "* Six neurons in the hidden layer,\n",
    "\n",
    "* Two neurons in the output layer.\n",
    "\n",
    "<p style='text-align: justify;'>\n",
    "The construction of the network will take place as follows:\n",
    "</p>"
   ]
  },
  {
   "cell_type": "code",
   "execution_count": 14,
   "metadata": {},
   "outputs": [],
   "source": [
    "neurons = [2,6,2]\n",
    "\n",
    "net = neuralNetWork(neurons)"
   ]
  },
  {
   "cell_type": "markdown",
   "metadata": {},
   "source": [
    "### ⊗ Visualizing the data\n",
    "<p style='text-align: justify;'>\n",
    "    After training the neural network, we need to verify if the algorithm successfully separated the roses from the violets. For this, it is necessary to visualize the generated data using a specific chart for this purpose.\n",
    "</p>\n"
   ]
  },
  {
   "cell_type": "code",
   "execution_count": 15,
   "metadata": {},
   "outputs": [],
   "source": [
    "def visualize(input_samples_normalized, target_outputs, zero1=False):\n",
    "    img = np.ones((300, 400)) \n",
    "    w = img.shape[0]\n",
    "    h = img.shape[1]\n",
    "\n",
    "    if zero1:\n",
    "        for x in range(0, w):\n",
    "            for y in range(0, h):\n",
    "                if (predict([y/h, x/w]) > 0.5):\n",
    "                    img[x][y] = 1\n",
    "                else:\n",
    "                    img[x][y] = 0 \n",
    "    else:\n",
    "        for x in range(0, w):\n",
    "            for y in range(0, h):\n",
    "                img[x][y] = predict([y/h, x/w])\n",
    "    \n",
    "    plt.imshow(img, origin='lower')\n",
    "    plt.colorbar()\n",
    "    for x, y in zip(input_samples_normalized, target_outputs):\n",
    "        if y == 1:\n",
    "            plt.scatter(x=x[0]*h, y=x[1]*w, c='r', s=40)\n",
    "        else:\n",
    "            plt.scatter(x=x[0]*h, y=x[1]*w, c='b', s=40)\n",
    "    plt.show()  \n",
    "    \n",
    "def predict(X):    \n",
    "    X = np.array([X]).T \n",
    "    tmp = net.predict(X)\n",
    "    return tmp[0][0]\n",
    "\n",
    "for i in range(1000):\n",
    "    errorMean = net.train(input_samples_normalized, target_outputs)\n",
    "    mean = 0\n",
    "    for p, v in zip(input_samples_normalized, target_outputs):\n",
    "        prd = net.predict(np.array([p]).T)\n",
    "        if v == 1 and prd[0][0] > 0.5:\n",
    "            mean += 1\n",
    "        if v == 0 and prd[0][0] < 0.5:\n",
    "            mean += 1\n",
    "            \n",
    "    mean = mean/len(input_samples_normalized)"
   ]
  },
  {
   "cell_type": "markdown",
   "metadata": {},
   "source": [
    "<p style='text-align: justify;'>    \n",
    "The chart consists of a gradient, representing what is expected from the network. In other words, it is like a <b>template</b> where we can see the regions scheduled for each outcome. This allows us to verify if the trained data aligns with the expected results.\n",
    "\n",
    "The points representing the roses and violets are plotted over this gradient, with the roses represented by red dots and the violets represented by blue dots.\n",
    "</p>"
   ]
  },
  {
   "cell_type": "code",
   "execution_count": 16,
   "metadata": {},
   "outputs": [
    {
     "data": {
      "image/png": "[encoded data removed]",
      "text/plain": [
       "<Figure size 640x480 with 2 Axes>"
      ]
     },
     "metadata": {},
     "output_type": "display_data"
    },
    {
     "data": {
      "image/png": "[encoded data removed]",
      "text/plain": [
       "<Figure size 640x480 with 2 Axes>"
      ]
     },
     "metadata": {},
     "output_type": "display_data"
    }
   ],
   "source": [
    "visualize(input_samples_normalized, target_outputs)\n",
    "visualize(input_samples_normalized, target_outputs, True)"
   ]
  },
  {
   "cell_type": "markdown",
   "metadata": {},
   "source": [
    "<p style='text-align: justify;'>\n",
    "    In the first graph, we can observe a gradient region that varies from yellow to blue. This region is considered a <b> region of uncertainty</b>; that is, it is a region where the algorithm generalizes the data not knowing for sure whether the data contained therein is in fact a rose or a violet.\n",
    "</p>\n",
    "\n",
    "<p style=\"text-align: left;\">\n",
    " <img src=\"images/figure09_region_uncertainty.png\"  width=\"500\" height=\"500\">\n",
    "</p>\n",
    "\n",
    "\n",
    "<p style='text-align: justify;'>\n",
    "In the second graph, we can see the border region or <b>decision boundary</b> where the algorithm defines the class of roses within the yellow area and the purple region for the violets.\n",
    "</p>\n",
    "\n",
    "<p style=\"text-align: left;\">\n",
    " <img src=\"./images/figure10_decision_boundary.png\"  width=\"500\" height=\"500\">\n",
    "</p>\n"
   ]
  },
  {
   "cell_type": "markdown",
   "metadata": {},
   "source": [
    "## Summary"
   ]
  },
  {
   "cell_type": "markdown",
   "metadata": {},
   "source": [
    "<p style='text-align: justify;'>\n",
    "In this notebook we have shown: \n",
    "\n",
    "- Creating samples,\n",
    "- Defining a artificial neuron,\n",
    "- Training a model,\n",
    "- Visualization of model.\n",
    "</p>    "
   ]
  },
  {
   "cell_type": "markdown",
   "metadata": {},
   "source": [
    "## Clear the memory"
   ]
  },
  {
   "cell_type": "markdown",
   "metadata": {},
   "source": [
    "Before moving on, please execute the following cell to clear up the CPU memory. This is required to move on to the next notebook."
   ]
  },
  {
   "cell_type": "code",
   "execution_count": 17,
   "metadata": {},
   "outputs": [],
   "source": [
    "import IPython\n",
    "app = IPython.Application.instance()\n",
    "app.kernel.do_shutdown(True)"
   ]
  },
  {
   "cell_type": "markdown",
   "metadata": {},
   "source": [
    "## Next"
   ]
  },
  {
   "cell_type": "markdown",
   "metadata": {},
   "source": [
    "In this section you learned how to apply the multilayer artificial neuron network using Intel® Python for data classification. In the next section, you will see  how to implement multilayer artificial neuron network learning, and after many guesses and adjustments, the weights will be correct in the notebook [_02-multilayer-artificial-neuron-classification_](02-multilayer-artificial-neuron-classification.ipynb)."
   ]
  }
 ],
 "metadata": {
  "kernelspec": {
   "display_name": "Python 3 (ipykernel)",
   "language": "python",
   "name": "python3"
  },
  "language_info": {
   "codemirror_mode": {
    "name": "ipython",
    "version": 3
   },
   "file_extension": ".py",
   "mimetype": "text/x-python",
   "name": "python",
   "nbconvert_exporter": "python",
   "pygments_lexer": "ipython3",
   "version": "3.8.8"
  }
 },
 "nbformat": 4,
 "nbformat_minor": 4
}
