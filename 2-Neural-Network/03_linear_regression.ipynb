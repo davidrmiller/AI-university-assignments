{
  "cells": [
    {
      "cell_type": "markdown",
      "metadata": {
        "id": "yyUusMwY1bH-"
      },
      "source": [
        "#  Linear Regression Problems"
      ]
    },
    {
      "cell_type": "markdown",
      "metadata": {
        "id": "C3sf1oeN1bH_"
      },
      "source": [
        "<p style='text-align: justify;'> \n",
        "In this section, we will study solutions for Linear Regression Problems.\n",
        "</p>"
      ]
    },
    {
      "cell_type": "markdown",
      "metadata": {
        "id": "7wHXE1ij1bIA"
      },
      "source": [
        "## Objectives"
      ]
    },
    {
      "cell_type": "markdown",
      "metadata": {
        "id": "5ZLVbMKZ1bIA"
      },
      "source": [
        "* **Understand** the concept of Regression;\n",
        "* **Learn and Explore** about the mathematical principles behind Regression Problems;\n",
        "* **Create** a algorithm to for Regression Problems;\n",
        "* **Observe** the performance of the algorithm trained."
      ]
    },
    {
      "cell_type": "markdown",
      "metadata": {
        "id": "fmwBTXpn1bIA"
      },
      "source": [
        "\n",
        "#### ⊗ The Problem: Predict Values"
      ]
    },
    {
      "cell_type": "markdown",
      "metadata": {
        "id": "vP0wr4R51bIA"
      },
      "source": [
        "<p style='text-align: justify;'> \n",
        "So far, we have used all the knowledge of artificial intelligence solely for classification problems. Based on one or more variables, it is possible to classify an item into class X, Y, or Z.\n",
        "\n",
        "However, there are other types of problems that can be solved with the knowledge that artificial intelligence provides, such as regression problems. These are prediction problems characterized by situations where we need to forecast a value based on predefined variables, such as predicting wind speed based on air humidity or the value of a health insurance plan based on the beneficiary's age.\n",
        "</p>  "
      ]
    },
    {
      "cell_type": "markdown",
      "metadata": {
        "id": "OJ4Teb2m1bIA"
      },
      "source": [
        "#### ⊗ The Solution: Linear Regression"
      ]
    },
    {
      "cell_type": "markdown",
      "metadata": {
        "id": "ST3ronAy1bIA"
      },
      "source": [
        "<p style='text-align: justify;'> \n",
        "\n",
        "Linear regression is a statistical method used to model the relationship between a dependent variable (Y) and one or more independent variables (X). The goal is to find the best line that describes this relationship and can be used for predictions or inferences.\n",
        "\n",
        "There are two main types of linear regression: simple linear regression and multiple linear regression. Simple linear regression involves a single independent variable, while multiple linear regression deals with two or more independent variables.\n",
        "\n",
        "The linear regression function is based at the Mean Squared Error (MSE),it represents the distance between the points and the constructed line. To calculate MSE, take the predicted values from the regression model and subtract the corresponding actual values. Then, you square each difference, sum them up, and divide by the total number of data points. The result is the average squared difference, which gives an indication of how well the model fits the data.\n",
        "\n",
        "Once the linear regression model is fitted to the data, it can be used to predict values of Y based on new values of X that were not present in the original dataset.\n",
        "\n",
        "The Regression model is less efficient if the relationship between variables is not strictly proportional, such as in a linear function. This limitation arises from the simplistic nature of the method and its reliance on a strictly linear relationship between the variables.\n",
        "\n",
        "</p>  "
      ]
    },
    {
      "cell_type": "markdown",
      "metadata": {
        "id": "BMvo8TG2WWZE"
      },
      "source": [
        "\n",
        "## ☆ Challenger: Orange Prediction ☆\n"
      ]
    },
    {
      "cell_type": "markdown",
      "source": [
        "Suppose you are studying the relationship between the weight of oranges and their diameter. You collected data from different oranges, measuring their weight in grams and diameter in centimeters. Now, you want to use linear regression to predict the weight of an orange based on its diameter. Heres the data:\n",
        "\n",
        "| Diameter (cm) | Weight (g) |\n",
        "|--------------|----------|\n",
        "|     6        |    120   |\n",
        "|     7        |    150   |\n",
        "|     8        |    180   |\n",
        "|     9        |    200   |\n",
        "|    10        |    230   |\n"
      ],
      "metadata": {
        "id": "iTnSmI0SXYpm"
      }
    },
    {
      "cell_type": "markdown",
      "metadata": {
        "id": "8_Ch1ZPO1bIC"
      },
      "source": [
        "### ☆ Solution ☆ "
      ]
    },
    {
      "cell_type": "markdown",
      "source": [
        "First, given two arrays that describe the behavior of the variables, let's first plot the graph to better visualize the data.\n",
        "\n",
        "\n"
      ],
      "metadata": {
        "id": "ZEiIijxCTq5u"
      }
    },
    {
      "cell_type": "code",
      "source": [
        "import numpy as np\n",
        "import matplotlib.pyplot as plt\n",
        "\n",
        "# Training data\n",
        "x_train = np.array([6, 7, 8, 9, 10, 11, 12, 13, 14]) #Independent variable\n",
        "y_train = np.array([120, 160, 170, 200, 230, 270, 270, 320, 360]) #Dependent variable\n",
        "\n",
        "# Scatter plot\n",
        "plt.scatter(x_train, y_train)\n",
        "plt.xlabel('Independent variable')\n",
        "plt.ylabel('Dependent variable')\n",
        "plt.title('Relationship between variables')\n",
        "plt.show()"
      ],
      "metadata": {
        "colab": {
          "base_uri": "https://localhost:8080/",
          "height": 472
        },
        "id": "DUq3CYzWQ_ga",
        "outputId": "4cac8a23-c79a-4ab2-b41a-3f6083750b07"
      },
      "execution_count": 12,
      "outputs": [
        {
          "output_type": "display_data",
          "data": {
            "text/plain": [
              "<Figure size 640x480 with 1 Axes>"
            ],
            "image/png": "[encoded data removed]"
          },
          "metadata": {}
        }
      ]
    },
    {
      "cell_type": "markdown",
      "source": [
        "Observing the generated graph, it is noticeable that there is a linear behavior as the variables vary. To estimate the line that describes its behavior and predict the values of X, it is necessary to perform a linear regression."
      ],
      "metadata": {
        "id": "2DOyD98WVC8C"
      }
    },
    {
      "cell_type": "code",
      "source": [
        "\n",
        "# Function to calculate the regression line\n",
        "def linear_regression(x, y):\n",
        "    n = len(x)\n",
        "    sum_x = np.sum(x)\n",
        "    sum_y = np.sum(y)\n",
        "    sum_xy = np.sum(x * y)\n",
        "    sum_x_squared = np.sum(x**2)\n",
        "\n",
        "    # Regression Coeficients\n",
        "    slope = (n * sum_xy - sum_x * sum_y) / (n * sum_x_squared - sum_x**2)\n",
        "    intercept = (sum_y - slope * sum_x) / n\n",
        "\n",
        "    return slope, intercept \n",
        "\n",
        "def predict(x, slope, intercept):\n",
        "    return slope * x + intercept\n",
        "\n",
        "# Performs linear regression\n",
        "slope, intercept = linear_regression(x_train, y_train)\n",
        "\n",
        "# Makes a prediction for a new value\n",
        "\n",
        "x_new = 5\n",
        "y_new = predict(x_new, slope, intercept)\n",
        "\n",
        "print(f\"The prediction for x={x_new} is y={y_new}\")"
      ],
      "metadata": {
        "colab": {
          "base_uri": "https://localhost:8080/"
        },
        "id": "26FO3DVJO1q2",
        "outputId": "dd7ada8f-7533-4172-cf1b-d7895201e0fb"
      },
      "execution_count": 13,
      "outputs": [
        {
          "output_type": "stream",
          "name": "stdout",
          "text": [
            "The prediction for x=5 is y=90.83333333333334\n"
          ]
        }
      ]
    },
    {
      "cell_type": "markdown",
      "source": [
        "Next, we can use the slope  and the intercept value of the linear function to plot the graph of the samples again, this time with the line that best describes their behavior."
      ],
      "metadata": {
        "id": "ycB46AZpVEqW"
      }
    },
    {
      "cell_type": "code",
      "source": [
        "# Calculate linear regression line\n",
        "regression_line = slope * x_train + intercept\n",
        "\n",
        "# Scatter plot\n",
        "plt.scatter(x_train, y_train)\n",
        "plt.plot(x_train, regression_line, color='orange')\n",
        "plt.xlabel('Oranges Diameter')\n",
        "plt.ylabel('Oranges Weight')\n",
        "plt.title('Relationship between variables')\n",
        "plt.show()"
      ],
      "metadata": {
        "colab": {
          "base_uri": "https://localhost:8080/",
          "height": 472
        },
        "id": "am4p8dH1TZD1",
        "outputId": "7667f777-11a8-4210-9b48-6c8f39adc195"
      },
      "execution_count": 15,
      "outputs": [
        {
          "output_type": "display_data",
          "data": {
            "text/plain": [
              "<Figure size 640x480 with 1 Axes>"
            ],
            "image/png": "[encoded data removed]"
          },
          "metadata": {}
        }
      ]
    },
    {
      "cell_type": "markdown",
      "metadata": {
        "jp-MarkdownHeadingCollapsed": true,
        "tags": [],
        "id": "B5cLL8GS1bIC"
      },
      "source": [
        "##### Discussion: What happened?\n",
        "\n",
        "- ``How did the algorithm predicted the X value?``\n",
        "     \n",
        "- ``Did the plotted line on the graph match the behavior of the points?``"
      ]
    },
    {
      "cell_type": "markdown",
      "metadata": {
        "id": "ilcR9NWJ1bIC"
      },
      "source": [
        "## Summary"
      ]
    },
    {
      "cell_type": "markdown",
      "metadata": {
        "id": "oCCcZ7Q31bIC"
      },
      "source": [
        "<p style='text-align: justify;'>\n",
        "In this notebook, we learned the concept of linear regression in an approach to a new problem: predicting values based on a pattern. We also applied all the concepts in practice, in a simple data analysis problem. Despite its limitations, the linear regression model is highly effective in predicting values for proportional systems.\n",
        "</p>"
      ]
    },
    {
      "cell_type": "markdown",
      "metadata": {
        "id": "4FolLqE_1bID"
      },
      "source": [
        "## Clear the Memory"
      ]
    },
    {
      "cell_type": "markdown",
      "metadata": {
        "id": "tXiePpX31bID"
      },
      "source": [
        "Before moving on, please execute the following cell to clear up the CPU memory. This is required to move on to the next notebook."
      ]
    },
    {
      "cell_type": "code",
      "execution_count": null,
      "metadata": {
        "id": "kMB90WpX1bID",
        "outputId": "1df63f58-1161-495d-c481-2713ff31a7fa"
      },
      "outputs": [
        {
          "data": {
            "text/plain": [
              "{'status': 'ok', 'restart': True}"
            ]
          },
          "execution_count": 1,
          "metadata": {},
          "output_type": "execute_result"
        }
      ],
      "source": [
        "import IPython\n",
        "app = IPython.Application.instance()\n",
        "app.kernel.do_shutdown(True)"
      ]
    },
    {
      "cell_type": "markdown",
      "metadata": {
        "id": "EbgrxWUP1bIE"
      },
      "source": [
        "## Next"
      ]
    },
    {
      "cell_type": "markdown",
      "metadata": {
        "id": "RniCDPdQ1bIE"
      },
      "source": [
        "XXXXXXXXXXXXXXXXXXXXXXXxx [_02-percepetron-training.ipynb_](03-percepetron-training.ipynb)"
      ]
    }
  ],
  "metadata": {
    "kernelspec": {
      "display_name": "Python 3 (ipykernel)",
      "language": "python",
      "name": "python3"
    },
    "language_info": {
      "codemirror_mode": {
        "name": "ipython",
        "version": 3
      },
      "file_extension": ".py",
      "mimetype": "text/x-python",
      "name": "python",
      "nbconvert_exporter": "python",
      "pygments_lexer": "ipython3",
      "version": "3.8.8"
    },
    "colab": {
      "provenance": []
    }
  },
  "nbformat": 4,
  "nbformat_minor": 0
}