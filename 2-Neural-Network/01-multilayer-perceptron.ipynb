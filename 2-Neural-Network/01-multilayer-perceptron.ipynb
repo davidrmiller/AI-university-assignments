{
 "cells": [
  {
   "cell_type": "markdown",
   "metadata": {},
   "source": [
    "# Introduction to Multilayer Perceptron Network Architecture"
   ]
  },
  {
   "cell_type": "markdown",
   "metadata": {},
   "source": [
    "<p style='text-align: justify;'> \n",
    "In this section we will study the concepts of multilayer perceptron network architecture and how to build such a network.\n",
    "</p>"
   ]
  },
  {
   "cell_type": "markdown",
   "metadata": {},
   "source": [
    "## Objectives"
   ]
  },
  {
   "cell_type": "markdown",
   "metadata": {},
   "source": [
    "* **Understand** the concept of Multilayer Perceptron Network Architecture;\n",
    "* **Learn** about the TheMultilayer Perceptron Network Architecture;\n",
    "* **Create** a Multilayer Perceptron Network to data classification;\n",
    "* **Train** the Multilayer Perceptron Network Model;\n",
    "* **Observe** the performance of the trained Multilayer Perceptron Network Model."
   ]
  },
  {
   "cell_type": "markdown",
   "metadata": {},
   "source": [
    "##\n",
    "#### ⊗ The Problem: Image Classification"
   ]
  },
  {
   "cell_type": "markdown",
   "metadata": {},
   "source": [
    "<p style='text-align: justify;'> \n",
    "The main problem with using a single perceptron is that it is only capable of learning linearly separable decision functions, which means that it can only solve problems that can be linearly divided into two classes.\n",
    "More complex problems involving image classification or prediction with multiple classes or non-relationships.linear differences between variables can be difficult or impossible to resolve with just one perceptron.\n",
    "</p>  "
   ]
  },
  {
   "cell_type": "markdown",
   "metadata": {},
   "source": [
    "#\n",
    "#### ⊗ The Solution: Multilayer Perceptron Network (MLP)"
   ]
  },
  {
   "cell_type": "markdown",
   "metadata": {},
   "source": [
    "<p style='text-align: justify;'>\n",
    "    - O que é uma Multilayer Perceptron (MLP) e como funciona?\n",
    "</p>"
   ]
  },
  {
   "cell_type": "markdown",
   "metadata": {},
   "source": [
    "#\n",
    "#### ⊗ Architecture of an MLP: input layers, hidden layers and output layers"
   ]
  },
  {
   "cell_type": "markdown",
   "metadata": {},
   "source": [
    "<p style='text-align: justify;'>\n",
    "    - Falar sobre a arquitetura (camadas) da MLP: Input Layers, Hidden Layers, Output Layers\n",
    "</p>\n"
   ]
  },
  {
   "cell_type": "markdown",
   "metadata": {},
   "source": [
    "#\n",
    "#### ⊗ Activations and loss functions used in MLPs"
   ]
  },
  {
   "cell_type": "markdown",
   "metadata": {},
   "source": [
    "<p style='text-align: justify;'>\n",
    "    Apresentar as funções de ativação comumente utilizadas nas MLPs.\n",
    "    \n",
    "    FUNÇÕES DE ATIVAÇÃO\n",
    "    \n",
    "    - Sigmoid;\n",
    "    - Tangente Hiperbólica;\n",
    "    - ReLU (Unidade Linear Retificada);\n",
    "    - Softmax.\n",
    " \n",
    "</p>"
   ]
  },
  {
   "cell_type": "markdown",
   "metadata": {},
   "source": [
    "#\n",
    "#### ⊗ How to train an MLP: forward propagation and backpropagation (Conceito)"
   ]
  },
  {
   "cell_type": "markdown",
   "metadata": {},
   "source": [
    "<p style='text-align: justify;'>\n",
    "    Apresentar o conceito de treinamento da MLP utilizando forward progation e backpropagation\n",
    "</p>"
   ]
  },
  {
   "cell_type": "markdown",
   "metadata": {},
   "source": [
    "#\n",
    "#### ⊗ MLP algorithm (Código)"
   ]
  },
  {
   "cell_type": "markdown",
   "metadata": {},
   "source": [
    "<p style='text-align: justify;'>\n",
    "    Contruir um algoritmo MLP simples utilzando os conceitos estudados.\n",
    "    Mostrar cada uma das etapas do algoritmo como visto no notebook 01 perceptron;\n",
    "</p>\n"
   ]
  },
  {
   "cell_type": "markdown",
   "metadata": {
    "jp-MarkdownHeadingCollapsed": true,
    "tags": []
   },
   "source": [
    "##### Discussion: What happened?\n",
    "\n",
    "- ``xxxxxxxxxxxxxxxxxxxxxxx``\n",
    "     \n",
    "- ``xxxxxxxxxxxxxxxxxxxxxxxx``"
   ]
  },
  {
   "cell_type": "markdown",
   "metadata": {},
   "source": [
    "#\n",
    "## ☆ Challenger: Image Classification ☆"
   ]
  },
  {
   "cell_type": "markdown",
   "metadata": {},
   "source": [
    "Consider the following problem:\n",
    "\n",
    "<p style='text-align: justify;'>\n",
    "   Neste exercício, você irá treinar uma MLP para classificar imagens de números manuscritos. O conjunto de dados utilizado é o MNIST, que consiste em imagens de 16x16 pixels em escala de cinza de dígitos manuscritos. Cada imagem é representada como um vetor de 256 valores de pixel, e cada imagem é rotulada com o dígito que representa (0 a 9).\n",
    "</p>\n",
    "\n",
    "<p style='text-align: justify;'>\n",
    "Seu objetivo é treinar uma MLP para classificar esses números corretamente. Você deve utilizar uma camada de entrada com 256 neurônios (para representar os pixels da imagem), pelo menos uma camada oculta com uma quantidade de neurônios a sua escolha, e uma camada de saída com 10 neurônios (um para cada dígito). Utilize a função de ativação sigmoid em todas as camadas.\n",
    "</p>\n"
   ]
  },
  {
   "cell_type": "markdown",
   "metadata": {},
   "source": [
    "<img src=\"./images/mnist1.png\" style=\"width: 600px;\">"
   ]
  },
  {
   "cell_type": "markdown",
   "metadata": {},
   "source": [
    "### ☆ Solution ☆ "
   ]
  },
  {
   "cell_type": "markdown",
   "metadata": {},
   "source": [
    "<p style='text-align: justify;'>\n",
    "    Desenvolver a solução do problema aqui.\n",
    "</p>\n"
   ]
  },
  {
   "cell_type": "markdown",
   "metadata": {},
   "source": [
    "#\n",
    "## Summary"
   ]
  },
  {
   "cell_type": "markdown",
   "metadata": {},
   "source": [
    "<p style='text-align: justify;'>\n",
    "Escrever um resumo do que foi abordado neste notebook.\n",
    "</p>"
   ]
  },
  {
   "cell_type": "markdown",
   "metadata": {},
   "source": [
    "## Clear the Memory"
   ]
  },
  {
   "cell_type": "markdown",
   "metadata": {},
   "source": [
    "Before moving on, please execute the following cell to clear up the CPU memory. This is required to move on to the next notebook."
   ]
  },
  {
   "cell_type": "code",
   "execution_count": 1,
   "metadata": {},
   "outputs": [
    {
     "data": {
      "text/plain": [
       "{'status': 'ok', 'restart': True}"
      ]
     },
     "execution_count": 1,
     "metadata": {},
     "output_type": "execute_result"
    }
   ],
   "source": [
    "import IPython\n",
    "app = IPython.Application.instance()\n",
    "app.kernel.do_shutdown(True)"
   ]
  },
  {
   "cell_type": "markdown",
   "metadata": {},
   "source": [
    "## Next"
   ]
  },
  {
   "cell_type": "markdown",
   "metadata": {},
   "source": [
    "XXXXXXXXXXXXXXXXXXXXXXXxx [_02-percepetron-training.ipynb_](03-percepetron-training.ipynb)"
   ]
  }
 ],
 "metadata": {
  "kernelspec": {
   "display_name": "Python 3 (ipykernel)",
   "language": "python",
   "name": "python3"
  },
  "language_info": {
   "codemirror_mode": {
    "name": "ipython",
    "version": 3
   },
   "file_extension": ".py",
   "mimetype": "text/x-python",
   "name": "python",
   "nbconvert_exporter": "python",
   "pygments_lexer": "ipython3",
   "version": "3.8.8"
  }
 },
 "nbformat": 4,
 "nbformat_minor": 4
}
