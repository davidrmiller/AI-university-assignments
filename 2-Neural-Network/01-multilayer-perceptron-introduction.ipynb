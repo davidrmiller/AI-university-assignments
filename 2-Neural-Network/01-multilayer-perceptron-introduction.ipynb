{
 "cells": [
  {
   "cell_type": "markdown",
   "metadata": {},
   "source": [
    "# Introduction to Multilayer Perceptron"
   ]
  },
  {
   "cell_type": "markdown",
   "metadata": {},
   "source": [
    "<p style='text-align: justify;'> \n",
    "In this section, we will study the concepts of Multilayer Perceptron Network Architecture and how to build such a network.\n",
    "</p>"
   ]
  },
  {
   "cell_type": "markdown",
   "metadata": {
    "tags": []
   },
   "source": [
    "## Objectives"
   ]
  },
  {
   "cell_type": "markdown",
   "metadata": {},
   "source": [
    "* **Understand** what is a MLP,\n",
    "* **Learn** the basic concepts of MLP."
   ]
  },
  {
   "cell_type": "markdown",
   "metadata": {
    "tags": []
   },
   "source": [
    "## The Problem: Linearity"
   ]
  },
  {
   "cell_type": "markdown",
   "metadata": {},
   "source": [
    "<p style='text-align: justify;'> \n",
    "The main problem with using a single Perceptron is its limitations when dealing with more complex and non-linearly separable issues. A simple Perceptron can only learn linear decisions, which means that it can solve problems in which the classes can be divided by a line or plane.\n",
    "</p>  \n",
    "    \n",
    "<p style='text-align: justify;'> \n",
    "However, many real-world problems involve non-linear relationships and more complex patterns, such as multi-class image classification or prediction with variables that have non-linear differences between them. A single Perceptron is unsuitable in these cases, as it cannot accurately capture and represent these complex relationships.\n",
    "</p>  "
   ]
  },
  {
   "cell_type": "markdown",
   "metadata": {},
   "source": [
    "## The Solution: Multilayer Perceptron Network"
   ]
  },
  {
   "cell_type": "markdown",
   "metadata": {},
   "source": [
    "<p style='text-align: justify;'>\n",
    "A Multilayer Perceptron, or simply MLP, is an algorithm capable of handling problems where non-linearity is present, making it ideal for classification and regression problems where the relationship between inputs and desired outputs is not linear.\n",
    "</p>\n",
    "\n",
    "<p style='text-align: justify;'>\n",
    "The MLP can learn non-linear representations of data through hidden layers with non-linear activation functions, enabling the algorithm to capture complex patterns and relationships between input variables. This makes it a powerful tool for more challenging machine-learning problems. The structure of an MLP is shown below:\n",
    "</p>"
   ]
  },
  {
   "cell_type": "markdown",
   "metadata": {},
   "source": [
    "<div style=\"text-align:center\">\n",
    "<img src=\"./images/figure1_multilayer_perceptron.png\" style=\"width: 500px;\">\n",
    "</div>"
   ]
  },
  {
   "cell_type": "markdown",
   "metadata": {},
   "source": [
    "<p style='text-align: justify;'>\n",
    "An MLP is essentially composed of a set of neurons, where each of these neurons is a complete Perceptron, possessing its own inputs, weights, bias, and activation function, as demonstrated below:\n",
    "</p>\n",
    "\n",
    "<div style=\"text-align:center\">\n",
    "<img src=\"./images/figure2_perceptron_and_MLP.jpg\" style=\"width: 500px;\">\n",
    "</div>"
   ]
  },
  {
   "cell_type": "markdown",
   "metadata": {},
   "source": [
    "<p style='text-align: justify;'>\n",
    "An MLP is therefore formed by the interconnection of several Perceptrons, thereby creating a layered structure. Each of these layers performs a specific function within the MLP. The concepts related to the operation of each of them will be presented next.\n",
    "</p>"
   ]
  },
  {
   "cell_type": "markdown",
   "metadata": {
    "tags": []
   },
   "source": [
    "## Architecture of an MLP: Input, Hidden and Output Layers"
   ]
  },
  {
   "cell_type": "markdown",
   "metadata": {},
   "source": [
    "<p style='text-align: justify;'>\n",
    "The fundamental structure of the MLP consists of three main layers: the input layer, the hidden layer, and the output layer. Let us explore the function of each of them.\n",
    "</p>\n",
    "\n",
    "### ⊗ **Input Layer**: \n",
    "\n",
    "<p style='text-align: justify;'>\n",
    "The input layer, as the name suggests, is the layer responsible for receiving the input data of the model. Each neuron in this layer represents a feature or attribute of the input data. For example, in an image classification problem, each neuron in the input layer could represent a pixel of the image.\n",
    "</p>\n",
    "\n",
    "<div style=\"text-align:center\">\n",
    "<img src=\"./images/figure3_MLP_input.png\" style=\"width: 200px;\">\n",
    "</div>\n",
    "\n",
    "### ⊗ **Hidden Layer**:\n",
    "\n",
    "<p style='text-align: justify;'>\n",
    "The hidden layer is located between the input layer and the output layer. It is important to emphasize that there can be several hidden layers in the same MLP. They are called Hidden because their activities are not directly observable. Each Hidden Layer is composed of a set of various interconnected neurons. The number and size of the layers can vary depending on the complexity of the problem and the chosen architecture.\n",
    "</p>\n",
    "\n",
    "<div style=\"text-align:center\">\n",
    "<img src=\"./images/figure4_MLP_hidden_layer.png\" style=\"width: 200px;\">\n",
    "</div>\n",
    "\n",
    "### ⊗ **Output Layer**:\n",
    "\n",
    "<p style='text-align: justify;'>\n",
    "The output layer is the last layer of the MLP and produces the outputs of model final. The number of neurons in the output layer depends on the solved problem. For example, in a binary classification problem, only one output neuron may indicate the probability of belonging to one class or the other. Values close to 0 represent a high probability of belonging to a class, while values close to 1 represent a high probability of belonging to another category.\n",
    "</p>\n",
    "    \n",
    "<p style='text-align: justify;'>\n",
    "In multiclass classification problems, where there are more than two possible classes, we will have an output neuron for each category. The output of each neuron represents the probability of belonging to the respective class.\n",
    "</p>\n",
    "\n",
    "<div style=\"text-align:center\">\n",
    "<img src=\"./images/figure5_MLP_output_layer.png\" style=\"width: 200px;\">\n",
    "</div>"
   ]
  },
  {
   "cell_type": "markdown",
   "metadata": {
    "jp-MarkdownHeadingCollapsed": true,
    "tags": []
   },
   "source": [
    "## Roses or Violetes using MLP\n",
    "\n",
    "<p style='text-align: justify;'>\n",
    "We have already developed a Perceptron algorithm to identify whether a flower is a rose or a violet. However, you may have noticed that if some of the parameters are slightly out of the expected range (for example, a characteristic of a third type of flower), the current algorithm, as it only has a single Perceptron, will not be able to identify or state that that type of flower is neither a rose nor a violet, as it will inevitably tend towards one of the two possible responses for which it was programmed (rose or violet).\n",
    "</p>\n",
    "\n",
    "<p style='text-align: justify;'>\n",
    "To solve this problem, we can employ the principles of the MLP, allowing the algorithm to recognize whether a flower is a rose or a violet. If a different flower is presented, the algorithm will inform that it does not correspond to any previously mentioned options. See the following animation:\n",
    "</p>\n",
    "\n",
    "<div style=\"text-align:center\">\n",
    "<img src=\"./images/figure6_MLP_Works.gif\" style=\"width: 600px;\">\n",
    "</div>\n",
    "\n",
    "<p style='text-align: justify;'>\n",
    "Did you notice how creating a neural network capable of presenting several responses more efficiently than a simple Perceptron is now possible? Of course, for this MLP to work appropriately, it is necessary to know some of its parameters, such as activation functions and training methods.\n",
    "</p>"
   ]
  },
  {
   "cell_type": "markdown",
   "metadata": {},
   "source": [
    "## Activations Functions used in MLPs"
   ]
  },
  {
   "cell_type": "markdown",
   "metadata": {},
   "source": [
    "<p style='text-align: justify;'>\n",
    "The activation function, a topic we have previously delved into, serves the critical role of infusing non-linearity into the neuron outputs. This intrinsic feature of the activation function empowers the model to decipher and portray complex relationships nestled within the input data, guiding it towards the intended output. The MLP operates on the same conceptual framework as its simpler counterpart, the Perceptron, with the notable enhancement that each neuron in the multilayer model now boasts its own distinct activation function.\n",
    "</p>\n",
    "\n",
    "<p style='text-align: justify;'>\n",
    "It is essential to highlight that there is not just one activation function. There are several, each with characteristics such as linearity, non-linearity, and gradient representation capacity. Some of these activation functions are:\n",
    "</p>    \n",
    "\n",
    "* [*Linear,*](https://pytorch.org/docs/stable/generated/torch.nn.Linear.html)\n",
    "* [*Sigmoid,*](https://pytorch.org/docs/stable/generated/torch.nn.Sigmoid.html)\n",
    "* [*Softmax,*](https://pytorch.org/docs/stable/generated/torch.nn.Softmax.html)\n",
    "* [*Hyperbolic Tangent Function,*](https://pytorch.org/docs/stable/generated/torch.nn.Tanh.html)\n",
    "* [*Rectified Linear Unit (ReLU),*](https://pytorch.org/docs/stable/generated/torch.nn.ReLU.html)\n",
    "* [*Linear Exponential Function (ELU).*](https://pytorch.org/docs/stable/generated/torch.nn.ELU.html)\n",
    "\n",
    "<p style='text-align: justify;'>\n",
    "Each of these activation functions can be used to solve a specific problem in a neural network.\n",
    "</p>"
   ]
  },
  {
   "cell_type": "markdown",
   "metadata": {},
   "source": [
    "## ☆ Challenge: Classification of Roses and Violets  ☆"
   ]
  },
  {
   "cell_type": "markdown",
   "metadata": {},
   "source": [
    "Consider the following problem:\n",
    "\n",
    "**Roses are red, violets are blue, the stems of roses are tall, and violets are short.**\n",
    "\n",
    "Then:\n",
    "\n",
    "- Having the color spectrum between $red = 0$ and $blue = 10$.\n",
    "\n",
    "- Between $0$ and $10$, there is a mixture of the two colors, where the closer to $0$ is redder, and the closer to $10$ is bluer.\n",
    "\n",
    "- Given a set of pairs with (height and color) determine whether it is a rose or a violet.\n",
    "\n",
    "<p style=\"text-align: center;\">\n",
    " <img src=\"./images/figure3_rosesXviolets.png\"  width=\"500\" height=\"500\">\n",
    "</p>\n",
    "\n",
    "\n",
    "1. Create a MLP with Intel® Python.\n",
    "\n",
    "2. Formulate the labels (known data) for this problem.\n",
    "\n",
    "3. Use the MLP to classify whether they are rose or violet."
   ]
  },
  {
   "cell_type": "markdown",
   "metadata": {},
   "source": [
    "## ☆ Solution ☆ "
   ]
  },
  {
   "cell_type": "markdown",
   "metadata": {},
   "source": [
    "### ⊗ Import Python Packages "
   ]
  },
  {
   "cell_type": "markdown",
   "metadata": {},
   "source": [
    "Let us start by importing all the modules we will need:"
   ]
  },
  {
   "cell_type": "code",
   "execution_count": 1,
   "metadata": {},
   "outputs": [],
   "source": [
    "import numpy as np\n",
    "import matplotlib.pyplot as plt\n",
    "import random\n",
    "import math"
   ]
  },
  {
   "cell_type": "markdown",
   "metadata": {},
   "source": [
    "### ⊗ Set the Activation Function"
   ]
  },
  {
   "cell_type": "markdown",
   "metadata": {
    "tags": []
   },
   "source": [
    "<p style='text-align: justify;'>\n",
    "The sigmoid activation function, as we already know, is used to map the input values producing an output between $0$ and $1$. The derivative of the simoid function is used to calculate the gradient, that is, the rate of variation of the sigmoid function in relation to the weights of the network. It is used in the process called <b>Backpropagation</b> in order to adjust the weights in order to minimize the network error.\n",
    "</p>    \n",
    "\n",
    "If you used the sigmoid function and a derivative:\n",
    "\n",
    "$$\\sigma(x) = \\displaystyle \\frac{1}{1 + e^{-x}}$$\n",
    "    \n",
    "<br> \n",
    "$$\\sigma'(x) = \\sigma(x) * (1 - \\sigma(x))$$\n",
    "</br>"
   ]
  },
  {
   "cell_type": "code",
   "execution_count": 50,
   "metadata": {},
   "outputs": [],
   "source": [
    "def sigmoid(x):\n",
    "    #print(x)\n",
    "    try:\n",
    "        return 1 / (1 + math.exp(-x))\n",
    "    except Exception as e:\n",
    "        print(\"err \", x)\n",
    "        return None\n",
    "    \n",
    "def d_sigmoid(ox):\n",
    "    return ox * (1-ox)\n",
    "\n",
    "sigmoid = np.vectorize(sigmoid)\n",
    "d_sigmoid = np.vectorize(d_sigmoid)"
   ]
  },
  {
   "cell_type": "markdown",
   "metadata": {},
   "source": [
    "### ⊗ Create the Layers, Weights, Bias and Feed Forward functions"
   ]
  },
  {
   "cell_type": "markdown",
   "metadata": {},
   "source": [
    "<p style='text-align: justify;'>\n",
    "If one perceptron, calculate as $(\\sum_{i=0}^{n} (Xi+Wi)) + b$ two perceptron calculate $N_0 = (\\sum_{i=0}^{n} ( X_{0i}i+W_{0i})) + b_0$ and $N_1 = (\\sum_{i=0}^{n} (X_{1i}i+W_{1i})) + b_1$. That is a matrix multiplication, where each layer is a matrix of weights, where each line represents a neoronium. Since the bias corresponds to the amount of neorons.\n",
    "</p>"
   ]
  },
  {
   "cell_type": "markdown",
   "metadata": {},
   "source": [
    "<p style='text-align: justify;'>\n",
    "In order to make it possible to flow the data of the neural network from the inputs to the hidden layers and later the output, a mechanism capable of performing such a task is necessary. <b>Feed forward</b>, or direct propagation, is a mechanism that allows network data to flow in a single direction, going from the input layer to the output layer without feedback.\n",
    "Each neuron in a layer receives input signals, applies an activation function, and passes the result to neurons in the next layer.\n",
    "</p>\n",
    "    \n",
    "The Feed Forwart process is to calculate from input neorons to given input $X$ and weights $W$\n",
    "\n",
    "$$\n",
    "X = \n",
    "\\quad\n",
    "\\begin{bmatrix} \n",
    "a\\\\\n",
    "b\n",
    "\\end{bmatrix}\n",
    "\\quad\n",
    "$$\n",
    "</br>\n",
    "$$\n",
    "W = \n",
    "\\quad\n",
    "\\begin{bmatrix} \n",
    "c & d \\\\\n",
    "e & f \n",
    "\\end{bmatrix}\n",
    "\\quad\n",
    "$$\n",
    "\n",
    "<p style='text-align: justify;'>\n",
    "The feed forward process is given by $H = W \\times X$ then $H = \\sigma(H + b)$ between one layer and another. In the next layer the input is the output of the previous one.\n",
    "</p>"
   ]
  },
  {
   "cell_type": "markdown",
   "metadata": {},
   "source": [
    "<div style='text-align: justify;'>\n",
    "    Let's create a class called <b>layer</b> that will be responsible for creating the layers of a neural network. Each layer is composed of a number of neurons and a number of input synapses for each neuron. Within this class we will create functions that will be responsible for creating the weights and biases of the network. These functions are:\n",
    "\n",
    "  \n",
    "* **createLayerW(self, nin, nout):**  function responsible for creating the network weights randomly. The <b>nin</b> represents the number of input neurons, while the <b>nout</b> represents the number of output neurons,\n",
    "\n",
    "* **add(self, W):** method that adds a matrix of weights (W) to the matrix of weights (self.W) of the layer,\n",
    "\n",
    "* **addBias(self, W):** method is similar to the add(self, W) method, but it adds a matrix of bias (W) to the bias (self.bias) of the layer,\n",
    "\n",
    "* **forward(self, X):** layer propagation method takes an input (X), calculates the output by multiplying the weights by the input, adding the bias and applying the sigmoid activation function, \n",
    "\n",
    "* **getExit(self):** method that returns the exit (self.exit) of the layer. \n",
    "</div>"
   ]
  },
  {
   "cell_type": "code",
   "execution_count": 51,
   "metadata": {
    "tags": []
   },
   "outputs": [],
   "source": [
    "class layer:\n",
    "    def __init__(self, neurons, sinapces):\n",
    "        self.neurons = neurons\n",
    "        self.iNeurons = sinapces\n",
    "        self.W = self.createLayerW(self.neurons, self.iNeurons)\n",
    "        self.bias = self.createLayerW(self.neurons, 1)\n",
    "        self.exit = None\n",
    "        \n",
    "    def createLayerW(self,nin,nout):\n",
    "        tmp = []\n",
    "        for i in range(nin):\n",
    "            tmp.append([])\n",
    "            for j in range(nout):\n",
    "                tmp[i].append(random.random())\n",
    "        return np.array(tmp)\n",
    "      \n",
    "    def add(self, W):\n",
    "        if self.W.shape != W.shape:\n",
    "            print(\"Error 1\", self.W.shape, W.shape)\n",
    "        self.W = self.W + W\n",
    "        \n",
    "    def addBias(self, W):\n",
    "        if self.bias.shape != W.shape:\n",
    "            print(\"Error 2\", self.bias.shape, W.shape)\n",
    "        self.bias = self.bias + W\n",
    "    \n",
    "    def forward(self, X):\n",
    "        self.exit = self.W.dot(X)\n",
    "        self.exit = self.exit + self.bias\n",
    "        self.exit = sigmoid(self.exit)\n",
    "        \n",
    "    def getExit(self):\n",
    "        return self.exit\n",
    "    "
   ]
  },
  {
   "cell_type": "markdown",
   "metadata": {
    "tags": []
   },
   "source": [
    "### ⊗ Create the Neural Network"
   ]
  },
  {
   "cell_type": "markdown",
   "metadata": {},
   "source": [
    "\n",
    "Now it will be necessary to create the neural network itself. For the training of the network we will use the [*Backpropagation Technique*](https://developers.google.com/machine-learning/glossary?hl=pt-br). This technique is based on the gradient descent algorithm, and is used to adjust the weights of a neural network in order to minimize the error between the predicted output and the desired output.\n",
    "It propagates the error from the network output to the input layer."
   ]
  },
  {
   "cell_type": "markdown",
   "metadata": {},
   "source": [
    "How to visualize N dimensional problems?\n",
    "\n",
    "Trying to find the local minimum of the cost function.\n",
    "\n",
    "- `X_train` - is the training data\n",
    "- `Y_train` - is the expected class or response for `X_train`\n",
    "\n",
    "For Backpropagation, the feed forward is executed saving the intermediate responses. The error is calculated:\n",
    "\n",
    "$$\n",
    "e = y_{train} - y_{pred}\n",
    "$$\n",
    "\n",
    "Then the derivative of the activation function is calculated, using the result of the layer:\n",
    "\n",
    "$$\n",
    "d_{ypred} = \\sigma'(y_{pred})\n",
    "$$\n",
    "\n",
    "The gradient is then calculated as:\n",
    "\n",
    "$$\n",
    "\\nabla = d_{ypred} \\times e\n",
    "$$\n",
    "\n",
    "In this way, multiply $\\nabla$ by a learning rate ($lr$) to go slowly towards the minimum point:\n",
    "\n",
    "$$\n",
    "\\nabla = lr \\times \\nabla\n",
    "$$\n",
    "\n",
    "After these operations, the bias is adjusted directly with $\\nabla$ and then multiplied by the transpose of the layer result ($H$), forming a matrix of rows and columns equal to the weights of the network ($TWL$):\n",
    "\n",
    "$$\n",
    "bias = bias + \\nabla\n",
    "$$\n",
    "\n",
    "$$\n",
    "TWL = \\nabla \\cdot H^{T}\n",
    "$$\n",
    "\n",
    "Then, element by element is added to the resulting matrix in the weights of the layer:\n",
    "\n",
    "$$\n",
    "WL = WL + TWL\n",
    "$$\n",
    "\n",
    "To get the error of the previous layer (or hidden layers) just:\n",
    "\n",
    "$$\n",
    "e_{h} = WL^T \\cdot e_{h-1}\n",
    "$$"
   ]
  },
  {
   "cell_type": "markdown",
   "metadata": {},
   "source": [
    "<div style='text-align: justify;'>\n",
    "Let's then create the class responsible for our neural network. Within this class, we will define the necessary functions to perform the network prediction, run the backpropagation algorithm and perform the training itself.\n",
    "\n",
    "* **neuralNetwork():** class that contains methods to make it possible to perform neural network prediction,\n",
    "\n",
    "* **predict():**  the method responsible for making predictions of the neural network based on the input data ($X$). It performs the propagation through the layers, calculating the output of each layer and storing the intermediate outputs in **HidemLayers**. It returns the final output of the neural network,\n",
    "\n",
    "* **backprop():** the method responsible for performing backpropagation in the neural network. It uses the intermediate outputs stored in **HidemLayers** to calculate the gradients and update the weights of the layers, starting from the output layer and going back to the input layer. It returns the error between the output of the neural network and the expected value ($y$),\n",
    "\n",
    "* **train():** the method responsible for training the neural network. It iterates over the training data (**x_train** and **y_train**), performs prediction for each input, executes the backpropagation algorithm, and accumulates the mean error. It returns the mean training error.  \n",
    "    </div>"
   ]
  },
  {
   "cell_type": "code",
   "execution_count": 52,
   "metadata": {},
   "outputs": [],
   "source": [
    "class neuralNetWork:\n",
    "    def __init__(self, nInfo: list, lr = 0.5):\n",
    "        self.layers = []\n",
    "        nb = None\n",
    "        self.lr = lr\n",
    "        self.HidemLayers = []\n",
    "        for n in nInfo:\n",
    "            if nb is None:\n",
    "                nb = n\n",
    "                continue\n",
    "            self.layers.append(layer(n, nb))\n",
    "            nb = n\n",
    "    \n",
    "    def predict(self, X):\n",
    "        if X.shape[1] != 1:\n",
    "            print(\"X shape must be (n,1)!\")\n",
    "        self.HidemLayers = [X]\n",
    "        for layer in self.layers:\n",
    "            layer.forward(X)\n",
    "            X = layer.getExit()\n",
    "            self.HidemLayers.append(X)\n",
    "        return X\n",
    "    \n",
    "    def backprop(self, X, y):\n",
    "        Xs = self.HidemLayers\n",
    "        iX = len(Xs) - 1\n",
    "        layerant = None\n",
    "        er = 0\n",
    "        while iX > 0:\n",
    "            layer = self.layers[iX-1]\n",
    "            if iX == len(Xs) - 1:\n",
    "                er = np.array([[y]]) - Xs[iX]\n",
    "                e = er\n",
    "            else:\n",
    "                e = layerant.W.T.dot(e)\n",
    "\n",
    "            d_y_pred = d_sigmoid(Xs[iX])\n",
    "\n",
    "            grad = d_y_pred * e\n",
    "            grad = grad * self.lr\n",
    "\n",
    "            layer.addBias(grad)\n",
    "            W_d = grad.dot(Xs[iX-1].T)\n",
    "\n",
    "            layer.add(W_d)\n",
    "\n",
    "            iX -= 1\n",
    "            layerant = layer\n",
    "        return er\n",
    "    \n",
    "    def train(self, x_train, y_train):\n",
    "        errorMean = 0\n",
    "        count = 0\n",
    "        for X, y in zip(x_train, y_train):\n",
    "            X = np.array([X]).T\n",
    "            self.predict(X)\n",
    "            errorMean = self.backprop(X,y)\n",
    "            count += 1\n",
    "            \n",
    "        return errorMean"
   ]
  },
  {
   "cell_type": "markdown",
   "metadata": {
    "tags": []
   },
   "source": [
    "### ⊗ Create the Samples\n",
    "<p style='text-align: justify;'>\n",
    "Now that our network is created, we need to create a sample set to train our neural network. Let's create a set of $30$ rose samples and $30$ violet samples, and a <b>createSamples()</b> function where data from both flowers will be mixed and sent to training:\n",
    "    </p>"
   ]
  },
  {
   "cell_type": "code",
   "execution_count": 53,
   "metadata": {},
   "outputs": [],
   "source": [
    "def createSamples(list1, list2, label, bias = False):\n",
    "    random.shuffle(list1)\n",
    "    random.shuffle(list2)\n",
    "    tmp = []\n",
    "    for p1, p2 in zip(list1, list2):\n",
    "        if bias:\n",
    "            tmp.append([p1, p2, 1, label])\n",
    "        else:\n",
    "            tmp.append([p1, p2, label])\n",
    "    return tmp"
   ]
  },
  {
   "cell_type": "code",
   "execution_count": 54,
   "metadata": {},
   "outputs": [],
   "source": [
    "qte_sample = 30"
   ]
  },
  {
   "cell_type": "code",
   "execution_count": 55,
   "metadata": {},
   "outputs": [],
   "source": [
    "roses = []\n",
    "itemsx = []\n",
    "itemsy = []\n",
    "\n",
    "for i in range(qte_sample):\n",
    "    itemsx.append(round(random.uniform(0, 5)   ,3))\n",
    "    itemsy.append(round(random.uniform(16, 30) ,3))\n",
    "    \n",
    "roses = createSamples(itemsx, itemsy, 1)"
   ]
  },
  {
   "cell_type": "code",
   "execution_count": 56,
   "metadata": {},
   "outputs": [
    {
     "data": {
      "text/plain": [
       "[[2.945, 26.037, 1],\n",
       " [2.827, 20.158, 1],\n",
       " [0.085, 17.86, 1],\n",
       " [3.349, 29.064, 1],\n",
       " [3.938, 21.25, 1],\n",
       " [0.068, 19.553, 1],\n",
       " [0.116, 27.633, 1],\n",
       " [0.995, 20.937, 1],\n",
       " [4.797, 17.655, 1],\n",
       " [4.711, 22.052, 1],\n",
       " [3.956, 25.108, 1],\n",
       " [4.566, 18.924, 1],\n",
       " [4.822, 28.161, 1],\n",
       " [2.708, 24.951, 1],\n",
       " [4.015, 19.274, 1],\n",
       " [2.919, 23.511, 1],\n",
       " [2.571, 25.715, 1],\n",
       " [0.132, 23.164, 1],\n",
       " [3.689, 17.132, 1],\n",
       " [0.821, 28.825, 1],\n",
       " [3.458, 26.192, 1],\n",
       " [3.109, 17.903, 1],\n",
       " [0.671, 25.756, 1],\n",
       " [1.991, 22.629, 1],\n",
       " [3.403, 20.298, 1],\n",
       " [3.35, 19.337, 1],\n",
       " [3.978, 28.501, 1],\n",
       " [1.336, 23.674, 1],\n",
       " [4.025, 26.436, 1],\n",
       " [1.544, 19.877, 1]]"
      ]
     },
     "execution_count": 56,
     "metadata": {},
     "output_type": "execute_result"
    }
   ],
   "source": [
    "roses"
   ]
  },
  {
   "cell_type": "code",
   "execution_count": 57,
   "metadata": {},
   "outputs": [],
   "source": [
    "violets = []\n",
    "itemsx = []\n",
    "itemsy = []\n",
    "\n",
    "for i in range(qte_sample):\n",
    "    itemsx.append(round(random.uniform(6, 10) ,3))\n",
    "    itemsy.append(round(random.uniform(0, 15) ,3))\n",
    "\n",
    "violets = createSamples(itemsx, itemsy, 0)"
   ]
  },
  {
   "cell_type": "code",
   "execution_count": 58,
   "metadata": {},
   "outputs": [
    {
     "data": {
      "text/plain": [
       "[[7.872, 10.537, 0],\n",
       " [9.431, 5.31, 0],\n",
       " [8.655, 3.593, 0],\n",
       " [8.02, 12.797, 0],\n",
       " [6.114, 7.699, 0],\n",
       " [8.935, 8.233, 0],\n",
       " [9.758, 14.387, 0],\n",
       " [9.666, 8.952, 0],\n",
       " [6.042, 3.41, 0],\n",
       " [6.729, 6.484, 0],\n",
       " [8.44, 2.443, 0],\n",
       " [8.676, 7.181, 0],\n",
       " [8.437, 2.966, 0],\n",
       " [6.436, 5.265, 0],\n",
       " [9.088, 13.601, 0],\n",
       " [7.458, 0.183, 0],\n",
       " [6.473, 5.223, 0],\n",
       " [6.188, 9.49, 0],\n",
       " [7.955, 6.791, 0],\n",
       " [9.521, 0.367, 0],\n",
       " [7.438, 14.698, 0],\n",
       " [7.271, 13.109, 0],\n",
       " [8.269, 9.148, 0],\n",
       " [9.821, 12.716, 0],\n",
       " [9.703, 7.49, 0],\n",
       " [9.112, 6.164, 0],\n",
       " [8.113, 14.852, 0],\n",
       " [9.83, 7.856, 0],\n",
       " [8.658, 5.615, 0],\n",
       " [8.356, 13.976, 0]]"
      ]
     },
     "execution_count": 58,
     "metadata": {},
     "output_type": "execute_result"
    }
   ],
   "source": [
    "violets"
   ]
  },
  {
   "cell_type": "markdown",
   "metadata": {},
   "source": [
    "### ⊗ Normalizing the Data"
   ]
  },
  {
   "cell_type": "markdown",
   "metadata": {},
   "source": [
    "<p style='text-align: justify;'>\n",
    "Now that the samples have been created, they need to be normalized. Normalization is a technique employed upon the data before its utilization as input in a MLP model. It serves as a preprocessing stage to adjust the scale of the data to a specific range or desired distribution.\n",
    "</p>\n",
    "<p style='text-align: justify;'> \n",
    "Normalization is a significant facet in preparing the data for machine learning model training, as it aids in mitigating issues like data divergence during the training process.\n",
    "</p>\n",
    "<p style='text-align: justify;'> \n",
    "Various normalization techniques exist at disposal of one, such as <b>z-score</b> normalization, <b>min-max</b> normalization, and mean and standard deviation normalization, among others. In our particular case, we have employed the technique for data normalization.\n",
    "</p>\n",
    "\n",
    "<br>\n",
    "$$\\text{normalized_value} = \\frac{({\\text{data_point} - \\text{min_val})}}{({\\text{max_val} - \\text{min_val})}}$$\n",
    "<br>\n",
    "\n",
    "* **normalized_value:** The resulting normalized value after applying the formula,\n",
    "* **data_point:** Represents the original value you want to normalize,\n",
    "* **min_val:** Refers to the minimum value of the desired range or interval for normalization,\n",
    "* **max_val:** Corresponds to the maximum value of the desired range or interval for normalization.\n",
    "\n",
    "    "
   ]
  },
  {
   "cell_type": "markdown",
   "metadata": {},
   "source": [
    "Applying normalization using the max-min method to the roses and violets problem:"
   ]
  },
  {
   "cell_type": "code",
   "execution_count": 59,
   "metadata": {},
   "outputs": [],
   "source": [
    "points = np.array(roses + violets)\n",
    "\n",
    "input_samples  = points[:,[0,1]]\n",
    "target_outputs = points[:,2]\n",
    "\n",
    "#Normalize\n",
    "min_val = np.min(input_samples, axis=0)\n",
    "max_val = np.max(input_samples, axis=0)\n",
    "\n",
    "input_samples_normalized = (input_samples - min_val) / (max_val - min_val)"
   ]
  },
  {
   "cell_type": "code",
   "execution_count": 60,
   "metadata": {},
   "outputs": [
    {
     "data": {
      "text/plain": [
       "array([[0.2947142 , 0.89519061],\n",
       "       [0.28262651, 0.69163118],\n",
       "       [0.00174145, 0.61206329],\n",
       "       [0.33609916, 1.        ],\n",
       "       [0.39643516, 0.7294415 ],\n",
       "       [0.        , 0.67068315],\n",
       "       [0.00491703, 0.95045185],\n",
       "       [0.09496005, 0.71860393],\n",
       "       [0.48442942, 0.6049652 ],\n",
       "       [0.47561975, 0.75721062],\n",
       "       [0.39827904, 0.86302413],\n",
       "       [0.46076624, 0.64890412],\n",
       "       [0.48699037, 0.96873377],\n",
       "       [0.27043639, 0.85758803],\n",
       "       [0.40432288, 0.66102282],\n",
       "       [0.29205081, 0.80772826],\n",
       "       [0.25640238, 0.88404141],\n",
       "       [0.00655603, 0.79571344],\n",
       "       [0.37092809, 0.58685641],\n",
       "       [0.07713583, 0.99172466],\n",
       "       [0.3472649 , 0.90055746],\n",
       "       [0.31151403, 0.61355216],\n",
       "       [0.06177013, 0.88546103],\n",
       "       [0.19698832, 0.77718916],\n",
       "       [0.34163081, 0.69647865],\n",
       "       [0.3362016 , 0.66320418],\n",
       "       [0.40053268, 0.98050622],\n",
       "       [0.12989142, 0.81337211],\n",
       "       [0.40534726, 0.90900592],\n",
       "       [0.15119852, 0.6819016 ],\n",
       "       [0.79942635, 0.35850559],\n",
       "       [0.95912723, 0.17752155],\n",
       "       [0.87963532, 0.1180707 ],\n",
       "       [0.81458717, 0.43675773],\n",
       "       [0.6193403 , 0.2602403 ],\n",
       "       [0.90831797, 0.27872996],\n",
       "       [0.99262446, 0.49181123],\n",
       "       [0.98320016, 0.30362522],\n",
       "       [0.61196476, 0.11173436],\n",
       "       [0.68233968, 0.21817112],\n",
       "       [0.85761115, 0.07825214],\n",
       "       [0.88178652, 0.24230463],\n",
       "       [0.85730383, 0.09636093],\n",
       "       [0.65232534, 0.17596344],\n",
       "       [0.92399099, 0.4645961 ],\n",
       "       [0.757017  , 0.        ],\n",
       "       [0.65611555, 0.17450919],\n",
       "       [0.62692071, 0.32225338],\n",
       "       [0.8079287 , 0.22880094],\n",
       "       [0.96834665, 0.00637097],\n",
       "       [0.75496824, 0.50257955],\n",
       "       [0.73786109, 0.44756068],\n",
       "       [0.84009424, 0.31041169],\n",
       "       [0.99907806, 0.43395312],\n",
       "       [0.98699037, 0.2530037 ],\n",
       "       [0.9264495 , 0.20709117],\n",
       "       [0.82411391, 0.50791178],\n",
       "       [1.        , 0.2656764 ],\n",
       "       [0.87994263, 0.18808213],\n",
       "       [0.84900635, 0.47758042]])"
      ]
     },
     "execution_count": 60,
     "metadata": {},
     "output_type": "execute_result"
    }
   ],
   "source": [
    "input_samples_normalized"
   ]
  },
  {
   "cell_type": "code",
   "execution_count": 61,
   "metadata": {},
   "outputs": [
    {
     "data": {
      "text/plain": [
       "array([1., 1., 1., 1., 1., 1., 1., 1., 1., 1., 1., 1., 1., 1., 1., 1., 1.,\n",
       "       1., 1., 1., 1., 1., 1., 1., 1., 1., 1., 1., 1., 1., 0., 0., 0., 0.,\n",
       "       0., 0., 0., 0., 0., 0., 0., 0., 0., 0., 0., 0., 0., 0., 0., 0., 0.,\n",
       "       0., 0., 0., 0., 0., 0., 0., 0., 0.])"
      ]
     },
     "execution_count": 61,
     "metadata": {},
     "output_type": "execute_result"
    }
   ],
   "source": [
    "target_outputs"
   ]
  },
  {
   "cell_type": "markdown",
   "metadata": {},
   "source": [
    "\n",
    "<p style='text-align: justify;'>\n",
    "Now that the data is normalized we can actually create our MLP. In this example we will create an MLP with the following characteristics:\n",
    "\n",
    "</p>\n",
    "    \n",
    "<p style=\"text-align: center;\">\n",
    " <img src=\"./images/figure_07_MLP_roses_and_violets.png\"  width=\"500\" height=\"500\">\n",
    "</p>\n",
    "\n",
    "\n",
    "* Two input neurons,\n",
    "\n",
    "* Six neurons in the hidden layer,\n",
    "\n",
    "* Two neurons in the output layer.\n",
    "\n",
    "<p style='text-align: justify;'>\n",
    "The construction of the network will take place as follows:\n",
    "</p>"
   ]
  },
  {
   "cell_type": "code",
   "execution_count": 62,
   "metadata": {},
   "outputs": [],
   "source": [
    "neurons = [2,6,2]\n",
    "\n",
    "net = neuralNetWork(neurons)"
   ]
  },
  {
   "cell_type": "markdown",
   "metadata": {},
   "source": [
    "### ⊗ Visualization Data\n",
    "<p style='text-align: justify;'>\n",
    "    After training the neural network, we need to verify if the algorithm successfully separated the roses from the violets. For this, it is necessary to visualize the generated data using a specific chart for this purpose.\n",
    "</p>\n"
   ]
  },
  {
   "cell_type": "code",
   "execution_count": 63,
   "metadata": {},
   "outputs": [],
   "source": [
    "def visualize(input_samples_normalized, target_outputs, zero1=False):\n",
    "    img = np.ones((300, 400)) \n",
    "    w = img.shape[0]\n",
    "    h = img.shape[1]\n",
    "\n",
    "    if zero1:\n",
    "        for x in range(0, w):\n",
    "            for y in range(0, h):\n",
    "                if (predict([y/h, x/w]) > 0.5):\n",
    "                    img[x][y] = 1\n",
    "                else:\n",
    "                    img[x][y] = 0 \n",
    "    else:\n",
    "        for x in range(0, w):\n",
    "            for y in range(0, h):\n",
    "                img[x][y] = predict([y/h, x/w])\n",
    "    \n",
    "    plt.imshow(img, origin='lower')\n",
    "    plt.colorbar()\n",
    "    for x, y in zip(input_samples_normalized, target_outputs):\n",
    "        if y == 1:\n",
    "            plt.scatter(x=x[0]*h, y=x[1]*w, c='r', s=40)\n",
    "        else:\n",
    "            plt.scatter(x=x[0]*h, y=x[1]*w, c='b', s=40)\n",
    "    plt.show()  \n",
    "    \n",
    "def predict(X):    \n",
    "    X = np.array([X]).T \n",
    "    tmp = net.predict(X)\n",
    "    return tmp[0][0]\n",
    "\n",
    "for i in range(1000):\n",
    "    errorMean = net.train(input_samples_normalized, target_outputs)\n",
    "    mean = 0\n",
    "    for p, v in zip(input_samples_normalized, target_outputs):\n",
    "        prd = net.predict(np.array([p]).T)\n",
    "        if v == 1 and prd[0][0] > 0.5:\n",
    "            mean += 1\n",
    "        if v == 0 and prd[0][0] < 0.5:\n",
    "            mean += 1\n",
    "            \n",
    "    mean = mean/len(input_samples_normalized)"
   ]
  },
  {
   "cell_type": "markdown",
   "metadata": {},
   "source": [
    "<p style='text-align: justify;'>    \n",
    "The chart consists of a gradient, representing what is expected from the network. In other words, it is like a <b>template</b> where we can see the regions scheduled for each outcome. This allows us to verify if the trained data aligns with the expected results.\n",
    "\n",
    "The points representing the roses and violets are plotted over this gradient, with the roses represented by red dots and the violets represented by blue dots.\n",
    "</p>"
   ]
  },
  {
   "cell_type": "code",
   "execution_count": 64,
   "metadata": {},
   "outputs": [
    {
     "data": {
      "image/png": "[encoded data removed]",
      "text/plain": [
       "<Figure size 640x480 with 2 Axes>"
      ]
     },
     "metadata": {},
     "output_type": "display_data"
    },
    {
     "data": {
      "image/png": "[encoded data removed]",
      "text/plain": [
       "<Figure size 640x480 with 2 Axes>"
      ]
     },
     "metadata": {},
     "output_type": "display_data"
    }
   ],
   "source": [
    "visualize(input_samples_normalized, target_outputs)\n",
    "visualize(input_samples_normalized, target_outputs, True)"
   ]
  },
  {
   "cell_type": "markdown",
   "metadata": {},
   "source": [
    "<p style='text-align: justify;'>\n",
    "    In the first graph we can observe a gradient region that varies from yellow to blue. This region is considered a <b> region of uncertainty</b> that is, it is a region where the algorithm generalizes the data not knowing for sure whether the data contained therein is in fact a rose or a violet.\n",
    "</p>\n",
    "\n",
    "<p style=\"text-align: center;\">\n",
    " <img src=\"images/figure8_region_uncertainty.png\"  width=\"500\" height=\"500\">\n",
    "</p>\n",
    "\n",
    "\n",
    "<p style='text-align: justify;'>\n",
    "In the second graph, we can see the border region or <b>decision boundary</b> where the algorithm defines the class of roses within the yellow area and the purple region for the violets.\n",
    "</p>\n",
    "\n",
    "<p style=\"text-align: center;\">\n",
    " <img src=\"./images/figure9_decision_boundary.png\"  width=\"500\" height=\"500\">\n",
    "</p>\n"
   ]
  },
  {
   "cell_type": "markdown",
   "metadata": {},
   "source": [
    "## Summary"
   ]
  },
  {
   "cell_type": "markdown",
   "metadata": {},
   "source": [
    "<p style='text-align: justify;'>\n",
    "In this notebook we have shown: \n",
    "\n",
    "- Creating samples,\n",
    "- Defining a MLP,\n",
    "- Training a model,\n",
    "- Visualization of model.\n",
    "</p>    "
   ]
  },
  {
   "cell_type": "markdown",
   "metadata": {},
   "source": [
    "## Clear the Memory"
   ]
  },
  {
   "cell_type": "markdown",
   "metadata": {},
   "source": [
    "Before moving on, please execute the following cell to clear up the CPU memory. This is required to move on to the next notebook."
   ]
  },
  {
   "cell_type": "code",
   "execution_count": 65,
   "metadata": {},
   "outputs": [],
   "source": [
    "#import IPython\n",
    "#app = IPython.Application.instance()\n",
    "#app.kernel.do_shutdown(True)"
   ]
  },
  {
   "cell_type": "markdown",
   "metadata": {},
   "source": [
    "## Next"
   ]
  },
  {
   "cell_type": "markdown",
   "metadata": {},
   "source": [
    "In this section you learned how to apply the MLP using Intel® Python for data classification. In the next section, you will see  how to the MLP learning, and after many guesses and adjustments, the weights will be correct in the notebook [_02-multilayer-perceptron-classification_](02-multilayer-perceptron-classification.ipynb)."
   ]
  }
 ],
 "metadata": {
  "kernelspec": {
   "display_name": "Python 3 (ipykernel)",
   "language": "python",
   "name": "python3"
  },
  "language_info": {
   "codemirror_mode": {
    "name": "ipython",
    "version": 3
   },
   "file_extension": ".py",
   "mimetype": "text/x-python",
   "name": "python",
   "nbconvert_exporter": "python",
   "pygments_lexer": "ipython3",
   "version": "3.8.8"
  }
 },
 "nbformat": 4,
 "nbformat_minor": 4
}
