{
 "cells": [
  {
   "cell_type": "markdown",
   "metadata": {},
   "source": [
    "# Introduction to Multilayer Perceptron"
   ]
  },
  {
   "cell_type": "markdown",
   "metadata": {},
   "source": [
    "<p style='text-align: justify;'> \n",
    "In this section, we will study the concepts of Multilayer Perceptron Network Architecture and how to build such a network.\n",
    "</p>"
   ]
  },
  {
   "cell_type": "markdown",
   "metadata": {},
   "source": [
    "## Objectives"
   ]
  },
  {
   "cell_type": "markdown",
   "metadata": {
    "tags": []
   },
   "source": [
    "## The Problem: Linearity"
   ]
  },
  {
   "cell_type": "markdown",
   "metadata": {},
   "source": [
    "<p style='text-align: justify;'> \n",
    "The main problem with using a single Perceptron is that it has limitations when dealing with more complex and non-linearly separable problems. A simple Perceptron is only capable of learning linear decisions, which means that it can solve problems in which the classes can be divided by a line or plane.\n",
    "</p>\n",
    "    \n",
    "<p style='text-align: justify;'> \n",
    "However, many real-world problems involve non-linear relationships and more complex patterns, such as multi-class image classification or prediction with variables that have non-linear differences between them. In these cases, a single Perceptron is not suitable, as it cannot accurately capture and represent these complex relationships.\n",
    "</p>  "
   ]
  },
  {
   "cell_type": "markdown",
   "metadata": {},
   "source": [
    "## The Solution: Multilayer Perceptron Network"
   ]
  },
  {
   "cell_type": "markdown",
   "metadata": {},
   "source": [
    "<p style='text-align: justify;'>\n",
    "A Multilayer Perceptron, or simply MLP, is an algorithm capable of handling problems where non-linearity is present, making it ideal for classification and regression problems where the relationship between inputs and desired outputs is not linear.\n",
    "</p>\n",
    "\n",
    "<p style='text-align: justify;'>\n",
    "The MLP can learn non-linear representations of data through hidden layers with non-linear activation functions, enabling the algorithm to capture complex patterns and relationships between input variables. This makes it a powerful tool for more challenging machine-learning problems. The structure of an MLP is shown below:\n",
    "</p>"
   ]
  },
  {
   "cell_type": "markdown",
   "metadata": {},
   "source": [
    "<div style=\"text-align:center\">\n",
    "<img src=\"./images/figure1_multilayer_perceptron.png\" style=\"width: 500px;\">\n",
    "</div>"
   ]
  },
  {
   "cell_type": "markdown",
   "metadata": {},
   "source": [
    "<p style='text-align: justify;'>\n",
    "A MLP is essentially composed of a set of neurons, where each of these neurons is in fact a complete Perceptron, possessing its own inputs, weights, bias, and activation function, as demonstrated below:\n",
    "</p>\n",
    "\n",
    "<div style=\"text-align:center\">\n",
    "<img src=\"./images/figure2_perceptron_and_MLP.jpg\" style=\"width: 500px;\">\n",
    "</div>"
   ]
  },
  {
   "cell_type": "markdown",
   "metadata": {},
   "source": [
    "<p style='text-align: justify;'>\n",
    "A MLP is therefore formed by the interconnection of several Perceptrons, thereby creating a layered structure. Each of these layers performs a specific function within the MLP. The concepts related to the operation of each of them will be presented next.\n",
    "</p>"
   ]
  },
  {
   "cell_type": "markdown",
   "metadata": {
    "tags": []
   },
   "source": [
    "## Architecture of an MLP: Input, Hidden and Output Layers"
   ]
  },
  {
   "cell_type": "markdown",
   "metadata": {},
   "source": [
    "<p style='text-align: justify;'>\n",
    "The fundamental structure of the MLP consists of three main layers: the input layer, the hidden layer, and the output layer. Let is explore the function of each of them.\n",
    "</p>\n",
    "\n",
    "### ⊗ **Input Layer**: \n",
    "\n",
    "<p style='text-align: justify;'>\n",
    "The input layer, as the name suggests, is the layer responsible for receiving the input data of the model. Each neuron in this layer represents a feature or attribute of the input data. For example, in an image classification problem, each neuron in the input layer could represent a pixel of the image.\n",
    "</p>\n",
    "\n",
    "<div style=\"text-align:center\">\n",
    "<img src=\"./images/figure3_MLP_input.png\" style=\"width: 200px;\">\n",
    "</div>\n",
    "\n",
    "### ⊗ **Hidden Layer**:\n",
    "\n",
    "<p style='text-align: justify;'>\n",
    "The hidden layer is located between the input layer and the output layer. It is important to emphasize that there can be several hidden layers in the same MLP. They are called Hidden because their activities are not directly observable. Each Hidden Layer is composed of a set of various interconnected neurons. The number and size of the layers can vary depending on the complexity of the problem and the chosen architecture.\n",
    "</p>\n",
    "\n",
    "<div style=\"text-align:center\">\n",
    "<img src=\"./images/figure4_MLP_hidden_layer.png\" style=\"width: 200px;\">\n",
    "</div>\n",
    "\n",
    "### ⊗ **Output Layer**:\n",
    "\n",
    "<p style='text-align: justify;'>\n",
    "The output layer is the last layer of the MLP and produces the outputs of model final. The number of neurons in the output layer depends on the solved problem. For example, in a binary classification problem, only one output neuron may indicate the probability of belonging to one class or the other. Values close to 0 represent a high probability of belonging to a class, while values close to 1 represent a high probability of belonging to another category.\n",
    "</p>\n",
    "    \n",
    "<p style='text-align: justify;'>\n",
    "In multiclass classification problems, where there are more than two possible classes, we will have an output neuron for each category. The output of each neuron represents the probability of belonging to the respective class.\n",
    "</p>\n",
    "\n",
    "<div style=\"text-align:center\">\n",
    "<img src=\"./images/figure5_MLP_output_layer.png\" style=\"width: 200px;\">\n",
    "</div>"
   ]
  },
  {
   "cell_type": "markdown",
   "metadata": {
    "jp-MarkdownHeadingCollapsed": true,
    "tags": []
   },
   "source": [
    "## Roses or Violetes using MLP\n",
    "\n",
    "<p style='text-align: justify;'>\n",
    "We have already developed a Perceptron algorithm to identify whether a flower is a rose or a violet. However, you may have noticed that if some of the parameters are slightly out of the expected range (for example, a characteristic of a third type of flower), the current algorithm, as it only has a single Perceptron, will not be able to identify or state that that type of flower is neither a rose nor a violet, as it will inevitably tend towards one of the two possible responses for which it was programmed (rose or violet).\n",
    "</p>\n",
    "\n",
    "<p style='text-align: justify;'>\n",
    "To solve this problem, we can employ the principles of the MLP, allowing the algorithm to recognize whether a flower is a rose or a violet. If a different flower is presented, the algorithm will inform that it does not correspond to any previously mentioned options. See the following animation:\n",
    "</p>\n",
    "\n",
    "<div style=\"text-align:center\">\n",
    "<img src=\"./images/figure6_MLP_Works.gif\" style=\"width: 600px;\">\n",
    "</div>\n",
    "\n",
    "<p style='text-align: justify;'>\n",
    "Did you notice how creating a neural network capable of presenting several responses more efficiently than a simple Perceptron is now possible? Of course, for this MLP to work appropriately, it is necessary to know some of its parameters, such as activation functions and training methods.\n",
    "</p>"
   ]
  },
  {
   "cell_type": "markdown",
   "metadata": {},
   "source": [
    "## Activations Functions used in MLPs"
   ]
  },
  {
   "cell_type": "markdown",
   "metadata": {},
   "source": [
    "<p style='text-align: justify;'>\n",
    "The activation function, a topic we have previously delved into, serves the critical role of infusing non-linearity into the neuron outputs. This intrinsic feature of the activation function empowers the model to decipher and portray complex relationships nestled within the input data, guiding it towards the intended output. The MLP operates on the same conceptual framework as its simpler counterpart, the Perceptron, with the notable enhancement that each neuron in the multilayer model now boasts its own distinct activation function.\n",
    "</p>\n",
    "\n",
    "<p style='text-align: justify;'>\n",
    "It is essential to highlight that there is not just one activation function. There are several, each with characteristics such as linearity, non-linearity, and gradient representation capacity. Some of these activation functions are:\n",
    "</p>    \n",
    "\n",
    "* Sigmoid,\n",
    "* Step Function,\n",
    "* Hyperbolic Tangent Function,\n",
    "* Rectified Linear Unit,\n",
    "* Softmax,\n",
    "* Linear,\n",
    "* Linear Exponential Function (ELU),\n",
    "* Rectified Linear Unit (ReLU),\n",
    "* Gaussian activation function,\n",
    "* Linear saturation activation function (LIS),\n",
    "* Adaptive Threshold Unit (ATU).\n",
    "\n",
    "<p style='text-align: justify;'>\n",
    "Each of these activation functions can be used to solve a specific problem in a neural network.\n",
    "</p>"
   ]
  },
  {
   "cell_type": "markdown",
   "metadata": {},
   "source": [
    "## ☆ Challenge: Classification of Roses and Violets  ☆"
   ]
  },
  {
   "cell_type": "markdown",
   "metadata": {},
   "source": [
    "Consider the following problem:\n",
    "\n",
    "**Roses are red, violets are blue, the stems of roses are tall, and violets are short.**\n",
    "\n",
    "Then:\n",
    "\n",
    "- Having the color spectrum between $red = 0$ and $blue = 10$.\n",
    "\n",
    "- Between $0$ and $10$, there is a mixture of the two colors, where the closer to $0$ is redder, and the closer to $10$ is bluer.\n",
    "\n",
    "- Given a set of pairs with (height and color) determine whether it is a rose or a violet.\n",
    "\n",
    "<p style=\"text-align: center;\">\n",
    " <img src=\"./images/figure3_rosesXviolets.png\"  width=\"500\" height=\"500\">\n",
    "</p>\n",
    "\n",
    "\n",
    "1. Create a MLP with Intel® Python.\n",
    "\n",
    "2. Formulate the labels (known data) for this problem.\n",
    "\n",
    "3. Use the MLP to classify whether they are rose or violet."
   ]
  },
  {
   "cell_type": "markdown",
   "metadata": {},
   "source": [
    "### ☆ Solution ☆ "
   ]
  },
  {
   "cell_type": "markdown",
   "metadata": {},
   "source": [
    "### ⊗ Import Python Packages "
   ]
  },
  {
   "cell_type": "code",
   "execution_count": 1,
   "metadata": {},
   "outputs": [],
   "source": [
    "import numpy as np\n",
    "import matplotlib.pyplot as plt\n",
    "import random\n",
    "import math"
   ]
  },
  {
   "cell_type": "markdown",
   "metadata": {},
   "source": [
    "### ⊗ Create the Layers, Weights and Bias "
   ]
  },
  {
   "cell_type": "markdown",
   "metadata": {},
   "source": [
    "<p style='text-align: justify;'>\n",
    "If one perceptron, calculate as $(\\sum_{i=0}^{n} (Xi+Wi)) + b$ two perceptron calculate $N_0 = (\\sum_{i=0}^{n} ( X_{0i}i+W_{0i})) + b_0$ and $N_1 = (\\sum_{i=0}^{n} (X_{1i}i+W_{1i})) + b_1$. That is a matrix multiplication, where each layer is a matrix of weights, where each line represents a neoronium. Since the bias corresponds to the amount of neorons.\n",
    "</p>\n",
    "\n",
    "<p style='text-align: justify;'>\n",
    "Our MLP consists of two layers (WL1 and WL2), where WL1 is composed of two inputs and two outputs. On the other hand, WL2 is composed of one input and two outputs, which will indicate whether the flower is a rose or a violet. Please see the following illustration:\n",
    "</p>\n",
    "    \n",
    "<p style=\"text-align: center;\">\n",
    " <img src=\"./images/figure_07_MLP_roses_and_violets.jpg\"  width=\"500\" height=\"500\">\n",
    "</p>\n"
   ]
  },
  {
   "cell_type": "code",
   "execution_count": 2,
   "metadata": {
    "tags": []
   },
   "outputs": [
    {
     "name": "stdout",
     "output_type": "stream",
     "text": [
      "WL1: \n",
      " [[0.68271507 0.18261591]\n",
      " [0.43391116 0.25092605]]\n",
      "WL2: \n",
      " [[0.92306229 0.59923043]]\n",
      "Bias1: \n",
      " [[0.351574  ]\n",
      " [0.29558986]]\n",
      "Bias2: \n",
      " [[0.10103134]]\n"
     ]
    }
   ],
   "source": [
    "def createLayer(n_input,n_output):\n",
    "    tmp = []\n",
    "    for i in range(n_input):\n",
    "        tmp.append([])\n",
    "        for j in range(n_output):\n",
    "            tmp[i].append(random.random())\n",
    "    return np.array(tmp)\n",
    "\n",
    "WL1 = createLayer(2,2)\n",
    "\n",
    "WL2 = createLayer(1,2)\n",
    "\n",
    "bias1 = createLayer(2,1)\n",
    "\n",
    "bias2 = createLayer(1,1)\n",
    "\n",
    "print(f\"WL1: \\n {WL1}\\nWL2: \\n {WL2}\\nBias1: \\n {bias1}\\nBias2: \\n {bias2}\")"
   ]
  },
  {
   "cell_type": "markdown",
   "metadata": {},
   "source": [
    "### ⊗ Activation Function"
   ]
  },
  {
   "cell_type": "markdown",
   "metadata": {},
   "source": [
    "<p style='text-align: justify;'>\n",
    "The sigmoid activation function, as we already know, is used to map the input values producing an output between 0 and 1. The derivative of the simoid function is used to calculate the gradient, that is, the rate of variation of the sigmoid function in relation to the weights of the network.\n",
    "It is used in the process called <b>Backpropagation</b> in order to adjust the weights in order to minimize the network error.\n",
    "</p>    \n",
    "\n",
    "If you used the sigmoid function and a derivative:\n",
    "\n",
    "$$\\sigma(x) = \\displaystyle \\frac{1}{1 + e^{-x}}$$\n",
    "    \n",
    "<br> \n",
    "$$\\sigma'(x) = \\sigma(x) * (1 - \\sigma(x))$$ "
   ]
  },
  {
   "cell_type": "code",
   "execution_count": 3,
   "metadata": {},
   "outputs": [],
   "source": [
    "def sigmoid(x):\n",
    "    #print(x)\n",
    "    try:\n",
    "        return 1 / (1 + math.exp(-x))\n",
    "    except:\n",
    "        print(\"err \",x)\n",
    "        return None\n",
    "    \n",
    "def d_sigmoid(ox):\n",
    "    return ox * (1-ox)\n",
    "\n",
    "sigmoid = np.vectorize(sigmoid)\n",
    "d_sigmoid = np.vectorize(d_sigmoid)"
   ]
  },
  {
   "cell_type": "markdown",
   "metadata": {},
   "source": [
    "### ⊗ Create the Samples\n",
    "\n",
    "Here we will create a set of samples to train our neural network. We will create a set of $10$ rose samples and $10$ violet samples, and a `createSamples()` function where the data from both flowers will be mixed and sent for training:"
   ]
  },
  {
   "cell_type": "code",
   "execution_count": 4,
   "metadata": {},
   "outputs": [],
   "source": [
    "def createSamples(list1, list2, label, bias = False):\n",
    "    random.shuffle(list1)\n",
    "    random.shuffle(list2)\n",
    "    tmp = []\n",
    "    for p1, p2 in zip(list1, list2):\n",
    "        if bias:\n",
    "            tmp.append([p1, p2, 1, label])\n",
    "        else:\n",
    "            tmp.append([p1, p2, label])\n",
    "    return tmp"
   ]
  },
  {
   "cell_type": "code",
   "execution_count": 5,
   "metadata": {},
   "outputs": [],
   "source": [
    "qte_sample = 30"
   ]
  },
  {
   "cell_type": "code",
   "execution_count": 6,
   "metadata": {},
   "outputs": [],
   "source": [
    "roses = []\n",
    "itemsx = []\n",
    "itemsy = []\n",
    "\n",
    "for i in range(qte_sample):\n",
    "    itemsx.append(round(random.uniform(0, 5)   ,3))\n",
    "    itemsy.append(round(random.uniform(16, 30) ,3))\n",
    "    \n",
    "roses = createSamples(itemsx, itemsy, 1)"
   ]
  },
  {
   "cell_type": "code",
   "execution_count": 7,
   "metadata": {},
   "outputs": [
    {
     "data": {
      "text/plain": [
       "[[0.75, 17.604, 1],\n",
       " [0.277, 22.546, 1],\n",
       " [1.093, 23.156, 1],\n",
       " [3.467, 26.86, 1],\n",
       " [4.396, 27.184, 1],\n",
       " [3.503, 21.685, 1],\n",
       " [0.942, 27.592, 1],\n",
       " [0.855, 27.788, 1],\n",
       " [1.42, 21.017, 1],\n",
       " [0.098, 23.825, 1],\n",
       " [2.701, 18.5, 1],\n",
       " [0.414, 28.662, 1],\n",
       " [4.747, 18.929, 1],\n",
       " [4.907, 26.394, 1],\n",
       " [2.037, 26.475, 1],\n",
       " [4.886, 19.495, 1],\n",
       " [4.087, 16.425, 1],\n",
       " [0.719, 18.327, 1],\n",
       " [2.074, 18.928, 1],\n",
       " [3.81, 29.958, 1],\n",
       " [3.065, 20.861, 1],\n",
       " [4.15, 24.846, 1],\n",
       " [0.22, 21.981, 1],\n",
       " [1.983, 27.956, 1],\n",
       " [0.713, 19.727, 1],\n",
       " [3.172, 17.781, 1],\n",
       " [2.967, 26.446, 1],\n",
       " [0.077, 20.248, 1],\n",
       " [4.086, 16.704, 1],\n",
       " [4.753, 25.045, 1]]"
      ]
     },
     "execution_count": 7,
     "metadata": {},
     "output_type": "execute_result"
    }
   ],
   "source": [
    "roses"
   ]
  },
  {
   "cell_type": "code",
   "execution_count": 8,
   "metadata": {},
   "outputs": [],
   "source": [
    "violets = []\n",
    "itemsx = []\n",
    "itemsy = []\n",
    "\n",
    "for i in range(qte_sample):\n",
    "    itemsx.append(round(random.uniform(6, 10) ,3))\n",
    "    itemsy.append(round(random.uniform(0, 15) ,3))\n",
    "\n",
    "violets = createSamples(itemsx, itemsy, 0)"
   ]
  },
  {
   "cell_type": "code",
   "execution_count": 9,
   "metadata": {},
   "outputs": [
    {
     "data": {
      "text/plain": [
       "[[9.17, 10.895, 0],\n",
       " [9.528, 3.535, 0],\n",
       " [8.719, 6.333, 0],\n",
       " [7.622, 11.834, 0],\n",
       " [8.379, 0.954, 0],\n",
       " [7.047, 0.107, 0],\n",
       " [7.79, 7.377, 0],\n",
       " [6.185, 9.315, 0],\n",
       " [7.045, 9.458, 0],\n",
       " [8.312, 14.718, 0],\n",
       " [8.086, 13.539, 0],\n",
       " [6.24, 11.934, 0],\n",
       " [8.523, 7.15, 0],\n",
       " [9.075, 7.366, 0],\n",
       " [8.232, 14.838, 0],\n",
       " [9.2, 6.666, 0],\n",
       " [8.411, 5.256, 0],\n",
       " [7.7, 13.391, 0],\n",
       " [7.118, 9.444, 0],\n",
       " [7.698, 3.643, 0],\n",
       " [7.696, 0.62, 0],\n",
       " [6.668, 12.172, 0],\n",
       " [6.093, 10.631, 0],\n",
       " [7.998, 4.086, 0],\n",
       " [7.518, 11.134, 0],\n",
       " [8.93, 14.994, 0],\n",
       " [9.63, 13.192, 0],\n",
       " [9.308, 1.524, 0],\n",
       " [7.553, 7.774, 0],\n",
       " [7.894, 0.126, 0]]"
      ]
     },
     "execution_count": 9,
     "metadata": {},
     "output_type": "execute_result"
    }
   ],
   "source": [
    "violets"
   ]
  },
  {
   "cell_type": "code",
   "execution_count": 10,
   "metadata": {},
   "outputs": [],
   "source": [
    "points = np.array(roses + violets)\n",
    "\n",
    "input_samples  = points[:,[0,1]]\n",
    "target_outputs = points[:,2]\n",
    "\n",
    "#Normalize\n",
    "min_val = np.min(input_samples, axis=0)\n",
    "max_val = np.max(input_samples, axis=0)\n",
    "input_samples_normalized = (input_samples - min_val) / (max_val - min_val)"
   ]
  },
  {
   "cell_type": "code",
   "execution_count": 11,
   "metadata": {},
   "outputs": [
    {
     "data": {
      "text/plain": [
       "array([[7.04490736e-02, 5.86144518e-01],\n",
       "       [2.09358317e-02, 7.51700111e-01],\n",
       "       [1.06354025e-01, 7.72134937e-01],\n",
       "       [3.54862347e-01, 8.96217882e-01],\n",
       "       [4.52109285e-01, 9.07071790e-01],\n",
       "       [3.58630797e-01, 7.22856856e-01],\n",
       "       [9.05474720e-02, 9.20739674e-01],\n",
       "       [8.14403852e-02, 9.27305618e-01],\n",
       "       [1.40584110e-01, 7.00479046e-01],\n",
       "       [2.19826233e-03, 7.94546246e-01],\n",
       "       [2.74678112e-01, 6.16160263e-01],\n",
       "       [3.52768764e-02, 9.56584369e-01],\n",
       "       [4.88851670e-01, 6.30531640e-01],\n",
       "       [5.05600335e-01, 8.80607015e-01],\n",
       "       [2.05171150e-01, 8.83320492e-01],\n",
       "       [5.03402073e-01, 6.49492479e-01],\n",
       "       [4.19763425e-01, 5.46648353e-01],\n",
       "       [6.72040197e-02, 6.10364812e-01],\n",
       "       [2.09044279e-01, 6.30498141e-01],\n",
       "       [3.90767298e-01, 1.00000000e+00],\n",
       "       [3.12781325e-01, 6.95253090e-01],\n",
       "       [4.26358212e-01, 8.28749456e-01],\n",
       "       [1.49691196e-02, 7.32772771e-01],\n",
       "       [1.99518476e-01, 9.32933570e-01],\n",
       "       [6.65759447e-02, 6.57264413e-01],\n",
       "       [3.23981995e-01, 5.92073967e-01],\n",
       "       [3.02522768e-01, 8.82349000e-01],\n",
       "       [0.00000000e+00, 6.74717765e-01],\n",
       "       [4.19658746e-01, 5.55994774e-01],\n",
       "       [4.89479745e-01, 8.35415899e-01],\n",
       "       [9.51847587e-01, 3.61394928e-01],\n",
       "       [9.89322726e-01, 1.14837024e-01],\n",
       "       [9.04637287e-01, 2.08569227e-01],\n",
       "       [7.89804250e-01, 3.92851161e-01],\n",
       "       [8.69046373e-01, 2.83742588e-02],\n",
       "       [7.29613734e-01, 0.00000000e+00],\n",
       "       [8.07390349e-01, 2.43542930e-01],\n",
       "       [6.39380299e-01, 3.08465378e-01],\n",
       "       [7.29404376e-01, 3.13255837e-01],\n",
       "       [8.62032869e-01, 4.89464340e-01],\n",
       "       [8.38375379e-01, 4.49968175e-01],\n",
       "       [6.45137653e-01, 3.96201132e-01],\n",
       "       [8.84120172e-01, 2.35938495e-01],\n",
       "       [9.41903067e-01, 2.43174433e-01],\n",
       "       [8.53658537e-01, 4.93484305e-01],\n",
       "       [9.54987962e-01, 2.19724632e-01],\n",
       "       [8.72396106e-01, 1.72490034e-01],\n",
       "       [7.97969224e-01, 4.45010217e-01],\n",
       "       [7.37045954e-01, 3.12786841e-01],\n",
       "       [7.97759866e-01, 1.18454993e-01],\n",
       "       [7.97550508e-01, 1.71853539e-02],\n",
       "       [6.89940333e-01, 4.04174065e-01],\n",
       "       [6.29749817e-01, 3.52551003e-01],\n",
       "       [8.29163614e-01, 1.33295367e-01],\n",
       "       [7.78917618e-01, 3.69401360e-01],\n",
       "       [9.26724589e-01, 4.98710261e-01],\n",
       "       [1.00000000e+00, 4.38343774e-01],\n",
       "       [9.66293311e-01, 4.74690965e-02],\n",
       "       [7.82581388e-01, 2.56842317e-01],\n",
       "       [8.18276981e-01, 6.36494590e-04]])"
      ]
     },
     "execution_count": 11,
     "metadata": {},
     "output_type": "execute_result"
    }
   ],
   "source": [
    "input_samples_normalized"
   ]
  },
  {
   "cell_type": "code",
   "execution_count": 12,
   "metadata": {},
   "outputs": [
    {
     "data": {
      "text/plain": [
       "array([1., 1., 1., 1., 1., 1., 1., 1., 1., 1., 1., 1., 1., 1., 1., 1., 1.,\n",
       "       1., 1., 1., 1., 1., 1., 1., 1., 1., 1., 1., 1., 1., 0., 0., 0., 0.,\n",
       "       0., 0., 0., 0., 0., 0., 0., 0., 0., 0., 0., 0., 0., 0., 0., 0., 0.,\n",
       "       0., 0., 0., 0., 0., 0., 0., 0., 0.])"
      ]
     },
     "execution_count": 12,
     "metadata": {},
     "output_type": "execute_result"
    }
   ],
   "source": [
    "target_outputs"
   ]
  },
  {
   "cell_type": "markdown",
   "metadata": {},
   "source": [
    "### ⊗ Feed Forward"
   ]
  },
  {
   "cell_type": "markdown",
   "metadata": {},
   "source": [
    "<p style='text-align: justify;'>\n",
    "Now we will perform the calculation of the hidden layer in the feed-forward process. This step involves processing the input data and obtaining the activations of the hidden layer, which are essential for the continuous flow of information in the neural network.\n",
    "</p>\n",
    "    \n",
    "The Feed Forwart process is to calculate from input neorons to given input $X$ and weights $W$\n",
    "\n",
    "$$\n",
    "X = \n",
    "\\quad\n",
    "\\begin{bmatrix} \n",
    "a\\\\\n",
    "b\n",
    "\\end{bmatrix}\n",
    "\\quad\n",
    "$$\n",
    "</br>\n",
    "$$\n",
    "W = \n",
    "\\quad\n",
    "\\begin{bmatrix} \n",
    "c & d \\\\\n",
    "e & f \n",
    "\\end{bmatrix}\n",
    "\\quad\n",
    "$$\n",
    "\n",
    "<p style='text-align: justify;'>\n",
    "The feed forward process is given by $H = W \\times X$ then $H = \\sigma(H + b)$ between one layer and another. In the next layer the input is the output of the previous one.\n",
    "</p>"
   ]
  },
  {
   "cell_type": "code",
   "execution_count": 13,
   "metadata": {},
   "outputs": [
    {
     "name": "stdout",
     "output_type": "stream",
     "text": [
      "WL1: \n",
      " [[0.68271507 0.18261591]\n",
      " [0.43391116 0.25092605]]\n",
      "WL2: \n",
      " [[0.92306229 0.59923043]]\n",
      "Bias1: \n",
      " [[0.351574  ]\n",
      " [0.29558986]]\n",
      "Bias2: \n",
      " [[0.10103134]]\n"
     ]
    },
    {
     "data": {
      "text/plain": [
       "0.7806579791488001"
      ]
     },
     "execution_count": 13,
     "metadata": {},
     "output_type": "execute_result"
    }
   ],
   "source": [
    "def predict(X):\n",
    "    X = np.array(X).T \n",
    "    W = WL1    \n",
    "\n",
    "    hidem = W.dot(X)\n",
    "    hidem = hidem + bias1\n",
    "    hidems = sigmoid(hidem)\n",
    "\n",
    "    X = hidems\n",
    "    W = WL2  \n",
    "\n",
    "    exitr = W.dot(X)\n",
    "    exitr = exitr + bias2\n",
    "    return sigmoid(exitr)[0][0]\n",
    "\n",
    "print(f\"WL1: \\n {WL1}\\nWL2: \\n {WL2}\\nBias1: \\n {bias1}\\nBias2: \\n {bias2}\")\n",
    "\n",
    "predict(np.array([1,1]))"
   ]
  },
  {
   "cell_type": "markdown",
   "metadata": {},
   "source": [
    "### ⊗ Training (Backpropagation)\n",
    "\n",
    "<p style='text-align: justify;'>\n",
    "The training of the neural network involves using the <b>Backpropagation</b> technique, a gradient descent-based algorithm used to adjust the weights of a neural network, aiming to minimize the error between the predicted output and the desired output. It propagates the error from the output of network to the input layer.\n",
    "</p>"
   ]
  },
  {
   "cell_type": "markdown",
   "metadata": {},
   "source": [
    "How to visualize N dimensional problems?\n",
    "\n",
    "Trying to find the local minimum of the cost function.\n",
    "\n",
    "- `X_train` - is the training data\n",
    "- `Y_train` - is the expected class or response for `X_train`\n",
    "\n",
    "For Backpropagation, the feed forward is executed saving the intermediate responses. The error is calculated:\n",
    "\n",
    "$$\n",
    "e = y_{train} - y_{pred}\n",
    "$$\n",
    "\n",
    "Then the derivative of the activation function is calculated, using the result of the layer:\n",
    "\n",
    "$$\n",
    "d_{ypred} = \\sigma'(y_{pred})\n",
    "$$\n",
    "\n",
    "The gradient is then calculated as:\n",
    "\n",
    "$$\n",
    "\\nabla = d_{ypred} \\times e\n",
    "$$\n",
    "\n",
    "In this way, multiply $\\nabla$ by a learning rate $lr$ to go slowly towards the minimum point:\n",
    "\n",
    "$$\n",
    "\\nabla = lr \\times \\nabla\n",
    "$$\n",
    "\n",
    "After these operations, the bias is adjusted directly with $\\nabla$ and then multiplied by the transpose of the layer result ($H$), forming a matrix of rows and columns equal to the weights of the network ($TWL$):\n",
    "\n",
    "$$\n",
    "bias = bias + \\nabla\n",
    "$$\n",
    "\n",
    "$$\n",
    "TWL = \\nabla \\cdot H^{T}\n",
    "$$\n",
    "\n",
    "Then, element by element is added to the resulting matrix in the weights of the layer:\n",
    "\n",
    "$$\n",
    "WL = WL + TWL\n",
    "$$\n",
    "\n",
    "To get the error of the previous layer (or hidden layers) just:\n",
    "\n",
    "$$\n",
    "e_{h} = WL^T \\cdot e_{h-1}\n",
    "$$"
   ]
  },
  {
   "cell_type": "code",
   "execution_count": 14,
   "metadata": {},
   "outputs": [
    {
     "name": "stdout",
     "output_type": "stream",
     "text": [
      "WL1: \n",
      " [[0.39501971 0.18481791]\n",
      " [0.23784474 0.25302853]]\n",
      "WL2: \n",
      " [[0.71117011 0.40337704]]\n",
      "Bias1: \n",
      " [[0.10415943]\n",
      " [0.12764293]]\n",
      "Bias2: \n",
      " [[-0.20506946]]\n"
     ]
    }
   ],
   "source": [
    "lr = 0.1\n",
    "\n",
    "def trainingPerceptron(input_samples_normalized, target_outputs):\n",
    "    global WL1, WL2, bias1, bias2\n",
    "    for x_train, y_train in zip(input_samples_normalized, target_outputs):\n",
    "\n",
    "        X = np.array([x_train]).T \n",
    "        W = WL1    \n",
    "        \n",
    "        hidem = W.dot(X)\n",
    "        if hidem.shape != bias1.shape:\n",
    "            print(\"erro1\") \n",
    "            return\n",
    "        \n",
    "        hidem = hidem + bias1\n",
    "        hidem = sigmoid(hidem)\n",
    "        \n",
    "        X = hidem\n",
    "        W = WL2  \n",
    "        \n",
    "        exitr = W.dot(X)\n",
    "        if exitr.shape != bias2.shape:\n",
    "            print(\"erro2\")\n",
    "           \n",
    "            return\n",
    "        exitr = exitr + bias2\n",
    "        \n",
    "        y_pred = sigmoid(exitr)     \n",
    "# -------------------------------------    \n",
    "        e = (y_train - y_pred)\n",
    "\n",
    "        d_y_pred = d_sigmoid(y_pred)\n",
    "        grad = d_y_pred * e\n",
    "        grad = grad * lr\n",
    "        \n",
    "        if grad.shape != bias2.shape:\n",
    "            print(\"erro3\")\n",
    "            print(grad.shape)\n",
    "            print(bias1.shape)\n",
    "            return\n",
    "        \n",
    "        bias2 = bias2 + grad\n",
    "        WL2_D = grad.dot(hidem.T)\n",
    "        WL2 = WL2 + WL2_D\n",
    "        \n",
    "        h_e = WL2.T.dot(e)\n",
    "        d_h_e = d_sigmoid(hidem)\n",
    "        \n",
    "        grad = d_h_e * h_e\n",
    "        grad = grad * lr\n",
    "        \n",
    "        if grad.shape != bias1.shape:\n",
    "            print(\"erro4\")\n",
    "            return\n",
    "        \n",
    "        bias1 = bias1 + grad\n",
    "        WL1_D = grad.dot(np.array([x_train]))\n",
    "        WL1 = WL1 + WL1_D\n",
    "             \n",
    "trainingPerceptron(input_samples_normalized, target_outputs)\n",
    "\n",
    "print(f\"WL1: \\n {WL1}\\nWL2: \\n {WL2}\\nBias1: \\n {bias1}\\nBias2: \\n {bias2}\")"
   ]
  },
  {
   "cell_type": "markdown",
   "metadata": {},
   "source": [
    "### ⊗ Visualization\n",
    "<p style='text-align: justify;'>\n",
    "Here we will visualize the training result of the multilayer perceptron that we created:\n",
    "</p>"
   ]
  },
  {
   "cell_type": "code",
   "execution_count": 15,
   "metadata": {},
   "outputs": [],
   "source": [
    "def visualize(input_samples_normalized, target_outputs, zero1=False):\n",
    "    img = np.ones((300, 400)) \n",
    "    # grab the image dimensions\n",
    "    w = img.shape[0]\n",
    "    h = img.shape[1]\n",
    "\n",
    "    if zero1:\n",
    "        for x in range(0, w):\n",
    "            for y in range(0, h):\n",
    "                # threshold the pixel\n",
    "                #print(predict([x/w, y/h]), (predict([x/w, y/h]) > 0.5))\n",
    "                if (predict([x/w, y/h]) > 0.5):\n",
    "                    img[x][y] = 1\n",
    "                else:\n",
    "                    img[x][y] = 0 \n",
    "    else:\n",
    "        # loop over the image, pixel by pixel\n",
    "        for x in range(0, w):\n",
    "            for y in range(0, h):\n",
    "                # threshold the pixel\n",
    "                img[x][y] = predict([x/w, y/h])\n",
    "    \n",
    "    plt.imshow(img, origin='lower')\n",
    "    plt.colorbar()\n",
    "    for x, y in zip(input_samples_normalized, target_outputs):\n",
    "        if y == 1:\n",
    "            plt.scatter(x=x[0]*h, y=x[1]*w, c='r', s=40)\n",
    "        else:\n",
    "            plt.scatter(x=x[0]*h, y=x[1]*w, c='b', s=40)\n",
    "    plt.show()"
   ]
  },
  {
   "cell_type": "code",
   "execution_count": 16,
   "metadata": {},
   "outputs": [
    {
     "data": {
      "image/png": "[encoded data removed]",
      "text/plain": [
       "<Figure size 432x288 with 2 Axes>"
      ]
     },
     "metadata": {
      "needs_background": "light"
     },
     "output_type": "display_data"
    }
   ],
   "source": [
    "visualize(input_samples_normalized, target_outputs)"
   ]
  },
  {
   "cell_type": "markdown",
   "metadata": {},
   "source": [
    "## Summary"
   ]
  },
  {
   "cell_type": "markdown",
   "metadata": {},
   "source": [
    "<p style='text-align: justify;'>\n",
    "In this notebook we have shown: \n",
    "\n",
    "- Creating samples,\n",
    "- Defining a MLP,\n",
    "- Training a model,\n",
    "- Visualization of model.\n",
    "</p>    "
   ]
  },
  {
   "cell_type": "markdown",
   "metadata": {},
   "source": [
    "## Clear the Memory"
   ]
  },
  {
   "cell_type": "markdown",
   "metadata": {},
   "source": [
    "Before moving on, please execute the following cell to clear up the CPU memory. This is required to move on to the next notebook."
   ]
  },
  {
   "cell_type": "code",
   "execution_count": 17,
   "metadata": {},
   "outputs": [],
   "source": [
    "import IPython\n",
    "app = IPython.Application.instance()\n",
    "app.kernel.do_shutdown(True)"
   ]
  },
  {
   "cell_type": "markdown",
   "metadata": {},
   "source": [
    "## Next"
   ]
  },
  {
   "cell_type": "markdown",
   "metadata": {},
   "source": [
    "In this section you learned how to apply the MLP using Intel® Python for data classification. In the next section, you will see  how to the MLP learning, and after many guesses and adjustments, the weights will be correct in the notebook [_02-multilayer-perceptron-classification_](02-multilayer-perceptron-classification.ipynb)."
   ]
  }
 ],
 "metadata": {
  "kernelspec": {
   "display_name": "Python 3 (ipykernel)",
   "language": "python",
   "name": "python3"
  },
  "language_info": {
   "codemirror_mode": {
    "name": "ipython",
    "version": 3
   },
   "file_extension": ".py",
   "mimetype": "text/x-python",
   "name": "python",
   "nbconvert_exporter": "python",
   "pygments_lexer": "ipython3",
   "version": "3.8.8"
  }
 },
 "nbformat": 4,
 "nbformat_minor": 4
}
