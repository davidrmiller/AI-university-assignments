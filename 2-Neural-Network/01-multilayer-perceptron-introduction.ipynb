{
 "cells": [
  {
   "cell_type": "markdown",
   "metadata": {},
   "source": [
    "# Introduction to Multilayer Perceptron"
   ]
  },
  {
   "cell_type": "markdown",
   "metadata": {},
   "source": [
    "<p style='text-align: justify;'> \n",
    "In this section, we will study the concepts of Multilayer Perceptron Network Architecture and how to build such a network.\n",
    "</p>"
   ]
  },
  {
   "cell_type": "markdown",
   "metadata": {
    "tags": []
   },
   "source": [
    "## Objectives"
   ]
  },
  {
   "cell_type": "markdown",
   "metadata": {},
   "source": [
    "* **Understand** what is a MLP,\n",
    "* **Learn** the basic concepts of MLP."
   ]
  },
  {
   "cell_type": "markdown",
   "metadata": {
    "tags": []
   },
   "source": [
    "## The Problem: Linearity"
   ]
  },
  {
   "cell_type": "markdown",
   "metadata": {},
   "source": [
    "<p style='text-align: justify;'> \n",
    "The main problem with using a single Perceptron is its limitations when dealing with more complex and non-linearly separable issues. A simple Perceptron can only learn linear decisions, which means that it can solve problems in which the classes can be divided by a line or plane.\n",
    "</p>  \n",
    "    \n",
    "<p style='text-align: justify;'> \n",
    "However, many real-world problems involve non-linear relationships and more complex patterns, such as multi-class image classification or prediction with variables that have non-linear differences between them. A single Perceptron is unsuitable in these cases, as it cannot accurately capture and represent these complex relationships.\n",
    "</p>  "
   ]
  },
  {
   "cell_type": "markdown",
   "metadata": {},
   "source": [
    "## The Solution: Multilayer Perceptron Network"
   ]
  },
  {
   "cell_type": "markdown",
   "metadata": {},
   "source": [
    "<p style='text-align: justify;'>\n",
    "A Multilayer Perceptron, or simply MLP, is an algorithm capable of handling problems where non-linearity is present, making it ideal for classification and regression problems where the relationship between inputs and desired outputs is not linear.\n",
    "</p>\n",
    "\n",
    "<p style='text-align: justify;'>\n",
    "The MLP can learn non-linear representations of data through hidden layers with non-linear activation functions, enabling the algorithm to capture complex patterns and relationships between input variables. This makes it a powerful tool for more challenging machine-learning problems. The structure of an MLP is shown below:\n",
    "</p>"
   ]
  },
  {
   "cell_type": "markdown",
   "metadata": {},
   "source": [
    "<div style=\"text-align:center\">\n",
    "<img src=\"./images/figure1_multilayer_perceptron.png\" style=\"width: 500px;\">\n",
    "</div>"
   ]
  },
  {
   "cell_type": "markdown",
   "metadata": {},
   "source": [
    "<p style='text-align: justify;'>\n",
    "A MLP is essentially composed of a set of neurons, where each of these neurons is in fact a complete Perceptron, possessing its own inputs, weights, bias, and activation function, as demonstrated below:\n",
    "</p>\n",
    "\n",
    "<div style=\"text-align:center\">\n",
    "<img src=\"./images/figure2_perceptron_and_MLP.jpg\" style=\"width: 500px;\">\n",
    "</div>"
   ]
  },
  {
   "cell_type": "markdown",
   "metadata": {},
   "source": [
    "<p style='text-align: justify;'>\n",
    "A MLP is therefore formed by the interconnection of several Perceptrons, thereby creating a layered structure. Each of these layers performs a specific function within the MLP. The concepts related to the operation of each of them will be presented next.\n",
    "</p>"
   ]
  },
  {
   "cell_type": "markdown",
   "metadata": {
    "tags": []
   },
   "source": [
    "## Architecture of an MLP: Input, Hidden and Output Layers"
   ]
  },
  {
   "cell_type": "markdown",
   "metadata": {},
   "source": [
    "<p style='text-align: justify;'>\n",
    "The fundamental structure of the MLP consists of three main layers: the input layer, the hidden layer, and the output layer. Let is explore the function of each of them.\n",
    "</p>\n",
    "\n",
    "### ⊗ **Input Layer**: \n",
    "\n",
    "<p style='text-align: justify;'>\n",
    "The input layer, as the name suggests, is the layer responsible for receiving the input data of the model. Each neuron in this layer represents a feature or attribute of the input data. For example, in an image classification problem, each neuron in the input layer could represent a pixel of the image.\n",
    "</p>\n",
    "\n",
    "<div style=\"text-align:center\">\n",
    "<img src=\"./images/figure3_MLP_input.png\" style=\"width: 200px;\">\n",
    "</div>\n",
    "\n",
    "### ⊗ **Hidden Layer**:\n",
    "\n",
    "<p style='text-align: justify;'>\n",
    "The hidden layer is located between the input layer and the output layer. It is important to emphasize that there can be several hidden layers in the same MLP. They are called Hidden because their activities are not directly observable. Each Hidden Layer is composed of a set of various interconnected neurons. The number and size of the layers can vary depending on the complexity of the problem and the chosen architecture.\n",
    "</p>\n",
    "\n",
    "<div style=\"text-align:center\">\n",
    "<img src=\"./images/figure4_MLP_hidden_layer.png\" style=\"width: 200px;\">\n",
    "</div>\n",
    "\n",
    "### ⊗ **Output Layer**:\n",
    "\n",
    "<p style='text-align: justify;'>\n",
    "The output layer is the last layer of the MLP and produces the outputs of model final. The number of neurons in the output layer depends on the solved problem. For example, in a binary classification problem, only one output neuron may indicate the probability of belonging to one class or the other. Values close to 0 represent a high probability of belonging to a class, while values close to 1 represent a high probability of belonging to another category.\n",
    "</p>\n",
    "    \n",
    "<p style='text-align: justify;'>\n",
    "In multiclass classification problems, where there are more than two possible classes, we will have an output neuron for each category. The output of each neuron represents the probability of belonging to the respective class.\n",
    "</p>\n",
    "\n",
    "<div style=\"text-align:center\">\n",
    "<img src=\"./images/figure5_MLP_output_layer.png\" style=\"width: 200px;\">\n",
    "</div>"
   ]
  },
  {
   "cell_type": "markdown",
   "metadata": {
    "jp-MarkdownHeadingCollapsed": true,
    "tags": []
   },
   "source": [
    "## Roses or Violetes using MLP\n",
    "\n",
    "<p style='text-align: justify;'>\n",
    "We have already developed a Perceptron algorithm to identify whether a flower is a rose or a violet. However, you may have noticed that if some of the parameters are slightly out of the expected range (for example, a characteristic of a third type of flower), the current algorithm, as it only has a single Perceptron, will not be able to identify or state that that type of flower is neither a rose nor a violet, as it will inevitably tend towards one of the two possible responses for which it was programmed (rose or violet).\n",
    "</p>\n",
    "\n",
    "<p style='text-align: justify;'>\n",
    "To solve this problem, we can employ the principles of the MLP, allowing the algorithm to recognize whether a flower is a rose or a violet. If a different flower is presented, the algorithm will inform that it does not correspond to any previously mentioned options. See the following animation:\n",
    "</p>\n",
    "\n",
    "<div style=\"text-align:center\">\n",
    "<img src=\"./images/figure6_MLP_Works.gif\" style=\"width: 600px;\">\n",
    "</div>\n",
    "\n",
    "<p style='text-align: justify;'>\n",
    "Did you notice how creating a neural network capable of presenting several responses more efficiently than a simple Perceptron is now possible? Of course, for this MLP to work appropriately, it is necessary to know some of its parameters, such as activation functions and training methods.\n",
    "</p>"
   ]
  },
  {
   "cell_type": "markdown",
   "metadata": {},
   "source": [
    "## Activations Functions used in MLPs"
   ]
  },
  {
   "cell_type": "markdown",
   "metadata": {},
   "source": [
    "<p style='text-align: justify;'>\n",
    "The activation function, a topic we have previously delved into, serves the critical role of infusing non-linearity into the neuron outputs. This intrinsic feature of the activation function empowers the model to decipher and portray complex relationships nestled within the input data, guiding it towards the intended output. The MLP operates on the same conceptual framework as its simpler counterpart, the Perceptron, with the notable enhancement that each neuron in the multilayer model now boasts its own distinct activation function.\n",
    "</p>\n",
    "\n",
    "<p style='text-align: justify;'>\n",
    "It is essential to highlight that there is not just one activation function. There are several, each with characteristics such as linearity, non-linearity, and gradient representation capacity. Some of these activation functions are:\n",
    "</p>    \n",
    "\n",
    "* Sigmoid,\n",
    "* Step Function,\n",
    "* Hyperbolic Tangent Function,\n",
    "* Rectified Linear Unit,\n",
    "* Softmax,\n",
    "* Linear,\n",
    "* Linear Exponential Function (ELU),\n",
    "* Rectified Linear Unit (ReLU),\n",
    "* Gaussian activation function,\n",
    "* Linear saturation activation function (LIS),\n",
    "* Adaptive Threshold Unit (ATU).\n",
    "\n",
    "<p style='text-align: justify;'>\n",
    "Each of these activation functions can be used to solve a specific problem in a neural network.\n",
    "</p>"
   ]
  },
  {
   "cell_type": "markdown",
   "metadata": {},
   "source": [
    "## ☆ Challenge: Classification of Roses and Violets  ☆"
   ]
  },
  {
   "cell_type": "markdown",
   "metadata": {},
   "source": [
    "Consider the following problem:\n",
    "\n",
    "**Roses are red, violets are blue, the stems of roses are tall, and violets are short.**\n",
    "\n",
    "Then:\n",
    "\n",
    "- Having the color spectrum between $red = 0$ and $blue = 10$.\n",
    "\n",
    "- Between $0$ and $10$, there is a mixture of the two colors, where the closer to $0$ is redder, and the closer to $10$ is bluer.\n",
    "\n",
    "- Given a set of pairs with (height and color) determine whether it is a rose or a violet.\n",
    "\n",
    "<p style=\"text-align: center;\">\n",
    " <img src=\"./images/figure3_rosesXviolets.png\"  width=\"500\" height=\"500\">\n",
    "</p>\n",
    "\n",
    "\n",
    "1. Create a MLP with Intel® Python.\n",
    "\n",
    "2. Formulate the labels (known data) for this problem.\n",
    "\n",
    "3. Use the MLP to classify whether they are rose or violet."
   ]
  },
  {
   "cell_type": "markdown",
   "metadata": {},
   "source": [
    "## ☆ Solution ☆ "
   ]
  },
  {
   "cell_type": "markdown",
   "metadata": {},
   "source": [
    "### ⊗ Import Python Packages "
   ]
  },
  {
   "cell_type": "markdown",
   "metadata": {},
   "source": [
    "Let is start by importing all the modules we will need:"
   ]
  },
  {
   "cell_type": "code",
   "execution_count": 748,
   "metadata": {},
   "outputs": [],
   "source": [
    "import numpy as np\n",
    "import matplotlib.pyplot as plt\n",
    "import random\n",
    "import math"
   ]
  },
  {
   "cell_type": "markdown",
   "metadata": {},
   "source": [
    "### ⊗ Create the Layers, Weights and Bias "
   ]
  },
  {
   "cell_type": "markdown",
   "metadata": {},
   "source": [
    "<p style='text-align: justify;'>\n",
    "If one perceptron, calculate as $(\\sum_{i=0}^{n} (Xi+Wi)) + b$ two perceptron calculate $N_0 = (\\sum_{i=0}^{n} ( X_{0i}i+W_{0i})) + b_0$ and $N_1 = (\\sum_{i=0}^{n} (X_{1i}i+W_{1i})) + b_1$. That is a matrix multiplication, where each layer is a matrix of weights, where each line represents a neoronium. Since the bias corresponds to the amount of neorons.\n",
    "</p>\n",
    "\n",
    "<p style='text-align: justify;'>\n",
    "Our MLP consists of two layers (WL1 and WL2), where WL1 is composed of two inputs and two outputs. On the other hand, WL2 is composed of one input and two outputs, which will indicate whether the flower is a rose or a violet. Please see the following illustration:\n",
    "</p>\n",
    "    \n",
    "<p style=\"text-align: center;\">\n",
    " <img src=\"./images/figure_07_MLP_roses_and_violets.jpg\"  width=\"500\" height=\"500\">\n",
    "</p>\n"
   ]
  },
  {
   "cell_type": "code",
   "execution_count": 749,
   "metadata": {
    "tags": []
   },
   "outputs": [
    {
     "name": "stdout",
     "output_type": "stream",
     "text": [
      "WL1: \n",
      " [[0.45822231 0.99911713]\n",
      " [0.78393891 0.63803741]]\n",
      "WL2: \n",
      " [[0.60754626 0.32692965]]\n",
      "Bias1: \n",
      " [[0.04883398]\n",
      " [0.98225655]]\n",
      "Bias2: \n",
      " [[0.59623233]]\n"
     ]
    }
   ],
   "source": [
    "def createLayer(n_input,n_output):\n",
    "    tmp = []\n",
    "    for i in range(n_input):\n",
    "        tmp.append([])\n",
    "        for j in range(n_output):\n",
    "            tmp[i].append(random.random())\n",
    "    return np.array(tmp)\n",
    "\n",
    "WL1 = createLayer(2,2)\n",
    "\n",
    "WL2 = createLayer(1,2)\n",
    "\n",
    "bias1 = createLayer(2,1)\n",
    "\n",
    "bias2 = createLayer(1,1)\n",
    "\n",
    "print(f\"WL1: \\n {WL1}\\nWL2: \\n {WL2}\\nBias1: \\n {bias1}\\nBias2: \\n {bias2}\")"
   ]
  },
  {
   "cell_type": "markdown",
   "metadata": {},
   "source": [
    "### ⊗ Activation Function"
   ]
  },
  {
   "cell_type": "markdown",
   "metadata": {},
   "source": [
    "<p style='text-align: justify;'>\n",
    "The sigmoid activation function, as we already know, is used to map the input values producing an output between $0$ and $1$. The derivative of the simoid function is used to calculate the gradient, that is, the rate of variation of the sigmoid function in relation to the weights of the network. It is used in the process called <b>Backpropagation</b> in order to adjust the weights in order to minimize the network error.\n",
    "</p>    \n",
    "\n",
    "If you used the sigmoid function and a derivative:\n",
    "\n",
    "$$\\sigma(x) = \\displaystyle \\frac{1}{1 + e^{-x}}$$\n",
    "    \n",
    "<br> \n",
    "$$\\sigma'(x) = \\sigma(x) * (1 - \\sigma(x))$$\n",
    "</br>"
   ]
  },
  {
   "cell_type": "code",
   "execution_count": 750,
   "metadata": {},
   "outputs": [],
   "source": [
    "def sigmoid(x):\n",
    "    #print(x)\n",
    "    try:\n",
    "        return 1 / (1 + math.exp(-x))\n",
    "    except Exception as e:\n",
    "        print(\"err \", x)\n",
    "        return None\n",
    "    \n",
    "def d_sigmoid(ox):\n",
    "    return ox * (1-ox)\n",
    "\n",
    "sigmoid = np.vectorize(sigmoid)\n",
    "d_sigmoid = np.vectorize(d_sigmoid)"
   ]
  },
  {
   "cell_type": "markdown",
   "metadata": {},
   "source": [
    "### ⊗ Create the Samples\n",
    "\n",
    "Here we will create a set of samples to train our neural network. We will create a set of $10$ rose samples and $10$ violet samples, and a `createSamples()` function where the data from both flowers will be mixed and sent for training:"
   ]
  },
  {
   "cell_type": "code",
   "execution_count": 751,
   "metadata": {},
   "outputs": [],
   "source": [
    "def createSamples(list1, list2, label, bias = False):\n",
    "    random.shuffle(list1)\n",
    "    random.shuffle(list2)\n",
    "    tmp = []\n",
    "    for p1, p2 in zip(list1, list2):\n",
    "        if bias:\n",
    "            tmp.append([p1, p2, 1, label])\n",
    "        else:\n",
    "            tmp.append([p1, p2, label])\n",
    "    return tmp"
   ]
  },
  {
   "cell_type": "code",
   "execution_count": 752,
   "metadata": {},
   "outputs": [],
   "source": [
    "qte_sample = 30"
   ]
  },
  {
   "cell_type": "code",
   "execution_count": 753,
   "metadata": {},
   "outputs": [],
   "source": [
    "roses = []\n",
    "itemsx = []\n",
    "itemsy = []\n",
    "\n",
    "for i in range(qte_sample):\n",
    "    itemsx.append(round(random.uniform(0, 5)   ,3))\n",
    "    itemsy.append(round(random.uniform(16, 30) ,3))\n",
    "    \n",
    "roses = createSamples(itemsx, itemsy, 1)"
   ]
  },
  {
   "cell_type": "code",
   "execution_count": 754,
   "metadata": {},
   "outputs": [
    {
     "data": {
      "text/plain": [
       "[[4.643, 17.287, 1],\n",
       " [2.958, 21.605, 1],\n",
       " [0.151, 25.758, 1],\n",
       " [3.384, 21.206, 1],\n",
       " [2.953, 24.322, 1],\n",
       " [4.338, 27.405, 1],\n",
       " [2.203, 23.155, 1],\n",
       " [1.363, 28.806, 1],\n",
       " [0.251, 22.616, 1],\n",
       " [4.851, 17.811, 1],\n",
       " [4.477, 28.08, 1],\n",
       " [2.011, 25.098, 1],\n",
       " [2.55, 25.603, 1],\n",
       " [2.603, 17.256, 1],\n",
       " [0.233, 29.017, 1],\n",
       " [0.083, 17.99, 1],\n",
       " [2.417, 21.802, 1],\n",
       " [0.33, 19.329, 1],\n",
       " [4.398, 27.122, 1],\n",
       " [0.438, 19.152, 1],\n",
       " [4.785, 21.343, 1],\n",
       " [1.631, 23.041, 1],\n",
       " [0.23, 25.08, 1],\n",
       " [0.224, 27.842, 1],\n",
       " [4.988, 20.131, 1],\n",
       " [0.604, 24.64, 1],\n",
       " [2.82, 20.052, 1],\n",
       " [2.079, 16.029, 1],\n",
       " [2.762, 29.947, 1],\n",
       " [2.036, 16.695, 1]]"
      ]
     },
     "execution_count": 754,
     "metadata": {},
     "output_type": "execute_result"
    }
   ],
   "source": [
    "roses"
   ]
  },
  {
   "cell_type": "code",
   "execution_count": 755,
   "metadata": {},
   "outputs": [],
   "source": [
    "violets = []\n",
    "itemsx = []\n",
    "itemsy = []\n",
    "\n",
    "for i in range(qte_sample):\n",
    "    itemsx.append(round(random.uniform(6, 10) ,3))\n",
    "    itemsy.append(round(random.uniform(0, 15) ,3))\n",
    "\n",
    "violets = createSamples(itemsx, itemsy, 0)"
   ]
  },
  {
   "cell_type": "code",
   "execution_count": 756,
   "metadata": {},
   "outputs": [
    {
     "data": {
      "text/plain": [
       "[[6.812, 1.878, 0],\n",
       " [9.431, 11.98, 0],\n",
       " [7.008, 5.125, 0],\n",
       " [6.403, 13.249, 0],\n",
       " [7.199, 1.206, 0],\n",
       " [8.304, 8.943, 0],\n",
       " [8.055, 5.459, 0],\n",
       " [7.138, 10.901, 0],\n",
       " [6.172, 6.6, 0],\n",
       " [9.038, 0.973, 0],\n",
       " [6.171, 13.119, 0],\n",
       " [8.909, 12.207, 0],\n",
       " [7.093, 4.395, 0],\n",
       " [7.63, 1.733, 0],\n",
       " [7.651, 1.477, 0],\n",
       " [8.333, 13.795, 0],\n",
       " [8.26, 5.843, 0],\n",
       " [7.574, 10.261, 0],\n",
       " [9.41, 3.466, 0],\n",
       " [6.567, 1.874, 0],\n",
       " [6.429, 11.143, 0],\n",
       " [9.863, 4.784, 0],\n",
       " [9.361, 7.535, 0],\n",
       " [6.786, 3.677, 0],\n",
       " [8.143, 14.106, 0],\n",
       " [9.983, 12.549, 0],\n",
       " [7.918, 1.704, 0],\n",
       " [6.922, 6.994, 0],\n",
       " [6.276, 6.349, 0],\n",
       " [9.644, 1.809, 0]]"
      ]
     },
     "execution_count": 756,
     "metadata": {},
     "output_type": "execute_result"
    }
   ],
   "source": [
    "violets"
   ]
  },
  {
   "cell_type": "markdown",
   "metadata": {},
   "source": [
    "### ⊗ Normalizing the Data"
   ]
  },
  {
   "cell_type": "markdown",
   "metadata": {},
   "source": [
    "<p style='text-align: justify;'>\n",
    "Normalization is a technique employed upon the data before its utilization as input in a MLP model. It serves as a preprocessing stage to adjust the scale of the data to a specific range or desired distribution.\n",
    "\n",
    "Normalization is a significant facet in preparing the data for machine learning model training, as it aids in mitigating issues like data divergence during the training process.\n",
    "\n",
    "Various normalization techniques exist at disposal of one, such as <b>z-score</b> normalization, min-max normalization, and mean and standard deviation normalization, among others. In our particular case, we have employed the technique for data normalization.\n",
    "</p>\n",
    "\n",
    "<br>\n",
    "$$\\text{normalized_value} = \\frac{({\\text{data_point} - \\text{min_val})}}{({\\text{max_val} - \\text{min_val})}}$$\n",
    "<br>\n",
    "\n",
    "* **normalized_value:** The resulting normalized value after applying the formula,\n",
    "* **data_point:** Represents the original value you want to normalize,\n",
    "* **min_val:** Refers to the minimum value of the desired range or interval for normalization,\n",
    "* **max_val:** Corresponds to the maximum value of the desired range or interval for normalization.\n",
    "\n",
    "    "
   ]
  },
  {
   "cell_type": "markdown",
   "metadata": {},
   "source": [
    "Applying normalization using the max-min method to the roses and violets problem:"
   ]
  },
  {
   "cell_type": "code",
   "execution_count": 757,
   "metadata": {},
   "outputs": [],
   "source": [
    "points = np.array(roses + violets)\n",
    "\n",
    "input_samples  = points[:,[0,1]]\n",
    "target_outputs = points[:,2]\n",
    "\n",
    "#Normalize\n",
    "min_val = np.min(input_samples, axis=0)\n",
    "max_val = np.max(input_samples, axis=0)\n",
    "\n",
    "input_samples_normalized = (input_samples - min_val) / (max_val - min_val)"
   ]
  },
  {
   "cell_type": "code",
   "execution_count": 758,
   "metadata": {},
   "outputs": [
    {
     "data": {
      "text/plain": [
       "array([[0.46060606, 0.56305653],\n",
       "       [0.29040404, 0.7120867 ],\n",
       "       [0.00686869, 0.8554221 ],\n",
       "       [0.33343434, 0.69831573],\n",
       "       [0.28989899, 0.80586043],\n",
       "       [0.42979798, 0.91226617],\n",
       "       [0.21414141, 0.76558294],\n",
       "       [0.12929293, 0.96061987],\n",
       "       [0.0169697 , 0.74698005],\n",
       "       [0.48161616, 0.58114171],\n",
       "       [0.44383838, 0.93556292],\n",
       "       [0.19474747, 0.83264306],\n",
       "       [0.24919192, 0.85007248],\n",
       "       [0.25454545, 0.56198661],\n",
       "       [0.01515152, 0.96790226],\n",
       "       [0.        , 0.58731967],\n",
       "       [0.23575758, 0.7188859 ],\n",
       "       [0.02494949, 0.63353351],\n",
       "       [0.43585859, 0.90249879],\n",
       "       [0.03585859, 0.62742459],\n",
       "       [0.47494949, 0.70304411],\n",
       "       [0.15636364, 0.76164837],\n",
       "       [0.01484848, 0.83202181],\n",
       "       [0.01424242, 0.92734866],\n",
       "       [0.49545455, 0.6612135 ],\n",
       "       [0.05262626, 0.81683578],\n",
       "       [0.27646465, 0.65848692],\n",
       "       [0.20161616, 0.5196383 ],\n",
       "       [0.27060606, 1.        ],\n",
       "       [0.19727273, 0.54262442],\n",
       "       [0.67969697, 0.0312349 ],\n",
       "       [0.94424242, 0.37989232],\n",
       "       [0.69949495, 0.14330089],\n",
       "       [0.63838384, 0.42369021],\n",
       "       [0.71878788, 0.00804169],\n",
       "       [0.83040404, 0.2750742 ],\n",
       "       [0.80525253, 0.15482847],\n",
       "       [0.71262626, 0.34265203],\n",
       "       [0.61505051, 0.1942086 ],\n",
       "       [0.90454545, 0.        ],\n",
       "       [0.61494949, 0.41920342],\n",
       "       [0.89151515, 0.38772693],\n",
       "       [0.70808081, 0.11810589],\n",
       "       [0.76232323, 0.02623041],\n",
       "       [0.76444444, 0.01739491],\n",
       "       [0.83333333, 0.44253469],\n",
       "       [0.8259596 , 0.16808173],\n",
       "       [0.75666667, 0.32056326],\n",
       "       [0.94212121, 0.08604266],\n",
       "       [0.65494949, 0.03109685],\n",
       "       [0.6410101 , 0.35100435],\n",
       "       [0.98787879, 0.13153172],\n",
       "       [0.93717172, 0.22647891],\n",
       "       [0.67707071, 0.09332505],\n",
       "       [0.81414141, 0.45326845],\n",
       "       [1.        , 0.39953061],\n",
       "       [0.79141414, 0.02522952],\n",
       "       [0.69080808, 0.207807  ],\n",
       "       [0.62555556, 0.18554566],\n",
       "       [0.96575758, 0.02885345]])"
      ]
     },
     "execution_count": 758,
     "metadata": {},
     "output_type": "execute_result"
    }
   ],
   "source": [
    "input_samples_normalized"
   ]
  },
  {
   "cell_type": "code",
   "execution_count": 759,
   "metadata": {},
   "outputs": [
    {
     "data": {
      "text/plain": [
       "array([1., 1., 1., 1., 1., 1., 1., 1., 1., 1., 1., 1., 1., 1., 1., 1., 1.,\n",
       "       1., 1., 1., 1., 1., 1., 1., 1., 1., 1., 1., 1., 1., 0., 0., 0., 0.,\n",
       "       0., 0., 0., 0., 0., 0., 0., 0., 0., 0., 0., 0., 0., 0., 0., 0., 0.,\n",
       "       0., 0., 0., 0., 0., 0., 0., 0., 0.])"
      ]
     },
     "execution_count": 759,
     "metadata": {},
     "output_type": "execute_result"
    }
   ],
   "source": [
    "target_outputs"
   ]
  },
  {
   "cell_type": "markdown",
   "metadata": {},
   "source": [
    "### ⊗ Feed Forward"
   ]
  },
  {
   "cell_type": "markdown",
   "metadata": {},
   "source": [
    "<p style='text-align: justify;'>\n",
    "Now we will perform the calculation of the hidden layer in the feed-forward process. This step involves processing the input data and obtaining the activations of the hidden layer, which are essential for the continuous flow of information in the neural network.\n",
    "</p>\n",
    "    \n",
    "The Feed Forwart process is to calculate from input neorons to given input $X$ and weights $W$\n",
    "\n",
    "$$\n",
    "X = \n",
    "\\quad\n",
    "\\begin{bmatrix} \n",
    "a\\\\\n",
    "b\n",
    "\\end{bmatrix}\n",
    "\\quad\n",
    "$$\n",
    "</br>\n",
    "$$\n",
    "W = \n",
    "\\quad\n",
    "\\begin{bmatrix} \n",
    "c & d \\\\\n",
    "e & f \n",
    "\\end{bmatrix}\n",
    "\\quad\n",
    "$$\n",
    "\n",
    "<p style='text-align: justify;'>\n",
    "The feed forward process is given by $H = W \\times X$ then $H = \\sigma(H + b)$ between one layer and another. In the next layer the input is the output of the previous one.\n",
    "</p>"
   ]
  },
  {
   "cell_type": "code",
   "execution_count": 760,
   "metadata": {},
   "outputs": [
    {
     "name": "stdout",
     "output_type": "stream",
     "text": [
      "WL1: \n",
      " [[0.45822231 0.99911713]\n",
      " [0.78393891 0.63803741]]\n",
      "WL2: \n",
      " [[0.60754626 0.32692965]]\n",
      "Bias1: \n",
      " [[0.04883398]\n",
      " [0.98225655]]\n",
      "Bias2: \n",
      " [[0.59623233]]\n"
     ]
    },
    {
     "data": {
      "text/plain": [
       "0.8012641245608364"
      ]
     },
     "execution_count": 760,
     "metadata": {},
     "output_type": "execute_result"
    }
   ],
   "source": [
    "def predict(X):\n",
    "    X = np.array(X).T \n",
    "    W = WL1    \n",
    "\n",
    "    hidem = W.dot(X)\n",
    "    hidem = hidem + bias1\n",
    "    hidems = sigmoid(hidem)\n",
    "\n",
    "    X = hidems\n",
    "    W = WL2  \n",
    "\n",
    "    exitr = W.dot(X)\n",
    "    exitr = exitr + bias2\n",
    "    return sigmoid(exitr)[0][0]\n",
    "\n",
    "print(f\"WL1: \\n {WL1}\\nWL2: \\n {WL2}\\nBias1: \\n {bias1}\\nBias2: \\n {bias2}\")\n",
    "\n",
    "predict(np.array([1,1]))\n"
   ]
  },
  {
   "cell_type": "markdown",
   "metadata": {},
   "source": [
    "### ⊗ Train and Test Data\n",
    "\n",
    "The training of the neural network involves using the [*Backpropagation Technique*](https://developers.google.com/machine-learning/glossary?hl=pt-br), a gradient descent-based algorithm used to adjust the weights of a neural network, aiming to minimize the error between the predicted output and the desired output. It propagates the error from the output of network to the input layer.\n"
   ]
  },
  {
   "cell_type": "markdown",
   "metadata": {},
   "source": [
    "How to visualize N dimensional problems?\n",
    "\n",
    "Trying to find the local minimum of the cost function.\n",
    "\n",
    "- `X_train` - is the training data\n",
    "- `Y_train` - is the expected class or response for `X_train`\n",
    "\n",
    "For Backpropagation, the feed forward is executed saving the intermediate responses. The error is calculated:\n",
    "\n",
    "$$\n",
    "e = y_{train} - y_{pred}\n",
    "$$\n",
    "\n",
    "Then the derivative of the activation function is calculated, using the result of the layer:\n",
    "\n",
    "$$\n",
    "d_{ypred} = \\sigma'(y_{pred})\n",
    "$$\n",
    "\n",
    "The gradient is then calculated as:\n",
    "\n",
    "$$\n",
    "\\nabla = d_{ypred} \\times e\n",
    "$$\n",
    "\n",
    "In this way, multiply $\\nabla$ by a learning rate ($lr$) to go slowly towards the minimum point:\n",
    "\n",
    "$$\n",
    "\\nabla = lr \\times \\nabla\n",
    "$$\n",
    "\n",
    "After these operations, the bias is adjusted directly with $\\nabla$ and then multiplied by the transpose of the layer result ($H$), forming a matrix of rows and columns equal to the weights of the network ($TWL$):\n",
    "\n",
    "$$\n",
    "bias = bias + \\nabla\n",
    "$$\n",
    "\n",
    "$$\n",
    "TWL = \\nabla \\cdot H^{T}\n",
    "$$\n",
    "\n",
    "Then, element by element is added to the resulting matrix in the weights of the layer:\n",
    "\n",
    "$$\n",
    "WL = WL + TWL\n",
    "$$\n",
    "\n",
    "To get the error of the previous layer (or hidden layers) just:\n",
    "\n",
    "$$\n",
    "e_{h} = WL^T \\cdot e_{h-1}\n",
    "$$"
   ]
  },
  {
   "cell_type": "code",
   "execution_count": 761,
   "metadata": {},
   "outputs": [
    {
     "name": "stdout",
     "output_type": "stream",
     "text": [
      "WL1: \n",
      " [[0.25624371 0.99920904]\n",
      " [0.73862398 0.64647345]]\n",
      "WL2: \n",
      " [[0.41822524 0.05045193]]\n",
      "Bias1: \n",
      " [[-0.15745156]\n",
      " [ 0.94397027]]\n",
      "Bias2: \n",
      " [[0.26898101]]\n"
     ]
    }
   ],
   "source": [
    "learning_rate = 0.1\n",
    "\n",
    "def trainingPerceptron(input_samples_normalized, target_outputs):\n",
    "    global WL1, WL2, bias1, bias2\n",
    "    for x_train, y_train in zip(input_samples_normalized, target_outputs):\n",
    "\n",
    "        X = np.array([x_train]).T \n",
    "        W = WL1    \n",
    "        \n",
    "        hidem = W.dot(X)\n",
    "        if hidem.shape != bias1.shape:\n",
    "            print(\"Error1\") \n",
    "            return\n",
    "        \n",
    "        hidem = hidem + bias1\n",
    "        hidem = sigmoid(hidem)\n",
    "        \n",
    "        X = hidem\n",
    "        W = WL2  \n",
    "        \n",
    "        exitr = W.dot(X)\n",
    "        if exitr.shape != bias2.shape:\n",
    "            print(\"Error2\")\n",
    "           \n",
    "            return\n",
    "        exitr = exitr + bias2\n",
    "        \n",
    "        y_pred = sigmoid(exitr)     \n",
    "# -------------------------------------    \n",
    "        e = (y_train - y_pred)\n",
    "\n",
    "        d_y_pred = d_sigmoid(y_pred)\n",
    "        grad = d_y_pred * e\n",
    "        grad = grad * learning_rate\n",
    "        \n",
    "        if grad.shape != bias2.shape:\n",
    "            print(\"Error3\")\n",
    "            print(grad.shape)\n",
    "            print(bias1.shape)\n",
    "            return\n",
    "        \n",
    "        bias2 = bias2 + grad\n",
    "        WL2_D = grad.dot(hidem.T)\n",
    "        WL2 = WL2 + WL2_D\n",
    "        \n",
    "        h_e = WL2.T.dot(e)\n",
    "        d_h_e = d_sigmoid(hidem)\n",
    "        \n",
    "        grad = d_h_e * h_e\n",
    "        grad = grad * learning_rate\n",
    "        \n",
    "        if grad.shape != bias1.shape:\n",
    "            print(\"Error4\")\n",
    "            return\n",
    "        \n",
    "        bias1 = bias1 + grad\n",
    "        WL1_D = grad.dot(np.array([x_train]))\n",
    "        WL1 = WL1 + WL1_D\n",
    "             \n",
    "trainingPerceptron(input_samples_normalized, target_outputs)\n",
    "\n",
    "print(f\"WL1: \\n {WL1}\\nWL2: \\n {WL2}\\nBias1: \\n {bias1}\\nBias2: \\n {bias2}\")"
   ]
  },
  {
   "cell_type": "markdown",
   "metadata": {},
   "source": [
    "### ⊗ Visualization Data\n",
    "<p style='text-align: justify;'>\n",
    "    After training the neural network, we need to verify if the algorithm successfully separated the roses from the violets. For this, it is necessary to visualize the generated data using a specific chart for this purpose.\n",
    "</p>\n"
   ]
  },
  {
   "cell_type": "code",
   "execution_count": 769,
   "metadata": {},
   "outputs": [],
   "source": [
    "def visualize(input_samples_normalized, target_outputs, zero1=False):\n",
    "    img = np.ones((300, 400)) \n",
    "    # grab the image dimensions\n",
    "    w = img.shape[0]\n",
    "    h = img.shape[1]\n",
    "\n",
    "    if zero1:\n",
    "        for x in range(0, w):\n",
    "            for y in range(0, h):\n",
    "                # threshold the pixel\n",
    "                #print(predict([x/w, y/h]), (predict([x/w, y/h]) > 0.5))\n",
    "                if (predict([x/w, y/h]) > 0.5):\n",
    "                    img[x][y] = 1\n",
    "                else:\n",
    "                    img[x][y] = 0 \n",
    "    else:\n",
    "        # loop over the image, pixel by pixel\n",
    "        for x in range(0, w):\n",
    "            for y in range(0, h):\n",
    "                # threshold the pixel\n",
    "                img[x][y] = predict([x/w, y/h])\n",
    "    \n",
    "    plt.imshow(img, origin='lower')\n",
    "    plt.colorbar()\n",
    "    for x, y in zip(input_samples_normalized, target_outputs):\n",
    "        if y == 1:\n",
    "            plt.scatter(x=x[0]*h, y=x[1]*w, c='r', s=40)\n",
    "        else:\n",
    "            plt.scatter(x=x[0]*h, y=x[1]*w, c='b', s=40)\n",
    "    plt.show()"
   ]
  },
  {
   "cell_type": "markdown",
   "metadata": {},
   "source": [
    "<p style='text-align: justify;'>    \n",
    "The chart consists of a gradient, representing what is expected from the network. In other words, it is like a <b>template</b> where we can see the regions scheduled for each outcome. This allows us to verify if the trained data aligns with the expected results.\n",
    "\n",
    "The points representing the roses and violets are plotted over this gradient, with the roses represented by red dots and the violets represented by blue dots.\n",
    "</p>"
   ]
  },
  {
   "cell_type": "code",
   "execution_count": 771,
   "metadata": {},
   "outputs": [
    {
     "data": {
      "image/png": "[encoded data removed]",
      "text/plain": [
       "<Figure size 640x480 with 2 Axes>"
      ]
     },
     "metadata": {},
     "output_type": "display_data"
    },
    {
     "data": {
      "image/png": "[encoded data removed]",
      "text/plain": [
       "<Figure size 640x480 with 2 Axes>"
      ]
     },
     "metadata": {},
     "output_type": "display_data"
    }
   ],
   "source": [
    "visualize(input_samples_normalized, target_outputs)\n",
    "visualize(input_samples_normalized, target_outputs, True)"
   ]
  },
  {
   "cell_type": "markdown",
   "metadata": {},
   "source": [
    "## Summary"
   ]
  },
  {
   "cell_type": "markdown",
   "metadata": {},
   "source": [
    "<p style='text-align: justify;'>\n",
    "In this notebook we have shown: \n",
    "\n",
    "- Creating samples,\n",
    "- Defining a MLP,\n",
    "- Training a model,\n",
    "- Visualization of model.\n",
    "</p>    "
   ]
  },
  {
   "cell_type": "markdown",
   "metadata": {},
   "source": [
    "## Clear the Memory"
   ]
  },
  {
   "cell_type": "markdown",
   "metadata": {},
   "source": [
    "Before moving on, please execute the following cell to clear up the CPU memory. This is required to move on to the next notebook."
   ]
  },
  {
   "cell_type": "code",
   "execution_count": 764,
   "metadata": {},
   "outputs": [],
   "source": [
    "#import IPython\n",
    "#app = IPython.Application.instance()\n",
    "#app.kernel.do_shutdown(True)"
   ]
  },
  {
   "cell_type": "markdown",
   "metadata": {},
   "source": [
    "## Next"
   ]
  },
  {
   "cell_type": "markdown",
   "metadata": {},
   "source": [
    "In this section you learned how to apply the MLP using Intel® Python for data classification. In the next section, you will see  how to the MLP learning, and after many guesses and adjustments, the weights will be correct in the notebook [_02-multilayer-perceptron-classification_](02-multilayer-perceptron-classification.ipynb)."
   ]
  }
 ],
 "metadata": {
  "kernelspec": {
   "display_name": "Python 3 (ipykernel)",
   "language": "python",
   "name": "python3"
  },
  "language_info": {
   "codemirror_mode": {
    "name": "ipython",
    "version": 3
   },
   "file_extension": ".py",
   "mimetype": "text/x-python",
   "name": "python",
   "nbconvert_exporter": "python",
   "pygments_lexer": "ipython3",
   "version": "3.8.8"
  }
 },
 "nbformat": 4,
 "nbformat_minor": 4
}
