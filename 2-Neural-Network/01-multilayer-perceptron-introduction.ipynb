{
 "cells": [
  {
   "cell_type": "markdown",
   "metadata": {},
   "source": [
    "# Introduction to Multilayer Perceptron"
   ]
  },
  {
   "cell_type": "markdown",
   "metadata": {},
   "source": [
    "<p style='text-align: justify;'> \n",
    "In this section, we will study the concepts of Multilayer Perceptron Network Architecture and how to build such a network.\n",
    "</p>"
   ]
  },
  {
   "cell_type": "markdown",
   "metadata": {
    "tags": []
   },
   "source": [
    "## Objectives"
   ]
  },
  {
   "cell_type": "markdown",
   "metadata": {},
   "source": [
    "* **Understand** what is a MLP,\n",
    "* **Learn** the basic concepts of MLP."
   ]
  },
  {
   "cell_type": "markdown",
   "metadata": {
    "tags": []
   },
   "source": [
    "## The Problem: Linearity"
   ]
  },
  {
   "cell_type": "markdown",
   "metadata": {},
   "source": [
    "<p style='text-align: justify;'> \n",
    "The main problem with using a single Perceptron is its limitations when dealing with more complex and non-linearly separable issues. A simple Perceptron can only learn linear decisions, which means that it can solve problems in which the classes can be divided by a line or plane.\n",
    "</p>  \n",
    "    \n",
    "<p style='text-align: justify;'> \n",
    "However, many real-world problems involve non-linear relationships and more complex patterns, such as multi-class image classification or prediction with variables that have non-linear differences between them. A single Perceptron is unsuitable in these cases, as it cannot accurately capture and represent these complex relationships.\n",
    "</p>  "
   ]
  },
  {
   "cell_type": "markdown",
   "metadata": {},
   "source": [
    "## The Solution: Multilayer Perceptron Network"
   ]
  },
  {
   "cell_type": "markdown",
   "metadata": {},
   "source": [
    "<p style='text-align: justify;'>\n",
    "A Multilayer Perceptron, or simply MLP, is an algorithm capable of handling problems where non-linearity is present, making it ideal for classification and regression problems where the relationship between inputs and desired outputs is not linear.\n",
    "</p>\n",
    "\n",
    "<p style='text-align: justify;'>\n",
    "The MLP can learn non-linear representations of data through hidden layers with non-linear activation functions, enabling the algorithm to capture complex patterns and relationships between input variables. This makes it a powerful tool for more challenging machine-learning problems. The structure of an MLP is shown below:\n",
    "</p>"
   ]
  },
  {
   "cell_type": "markdown",
   "metadata": {},
   "source": [
    "<div style=\"text-align:center\">\n",
    "<img src=\"./images/figure1_multilayer_perceptron.png\" style=\"width: 500px;\">\n",
    "</div>"
   ]
  },
  {
   "cell_type": "markdown",
   "metadata": {},
   "source": [
    "<p style='text-align: justify;'>\n",
    "A MLP is essentially composed of a set of neurons, where each of these neurons is in fact a complete Perceptron, possessing its own inputs, weights, bias, and activation function, as demonstrated below:\n",
    "</p>\n",
    "\n",
    "<div style=\"text-align:center\">\n",
    "<img src=\"./images/figure2_perceptron_and_MLP.jpg\" style=\"width: 500px;\">\n",
    "</div>"
   ]
  },
  {
   "cell_type": "markdown",
   "metadata": {},
   "source": [
    "<p style='text-align: justify;'>\n",
    "A MLP is therefore formed by the interconnection of several Perceptrons, thereby creating a layered structure. Each of these layers performs a specific function within the MLP. The concepts related to the operation of each of them will be presented next.\n",
    "</p>"
   ]
  },
  {
   "cell_type": "markdown",
   "metadata": {
    "tags": []
   },
   "source": [
    "## Architecture of an MLP: Input, Hidden and Output Layers"
   ]
  },
  {
   "cell_type": "markdown",
   "metadata": {},
   "source": [
    "<p style='text-align: justify;'>\n",
    "The fundamental structure of the MLP consists of three main layers: the input layer, the hidden layer, and the output layer. Let is explore the function of each of them.\n",
    "</p>\n",
    "\n",
    "### ⊗ **Input Layer**: \n",
    "\n",
    "<p style='text-align: justify;'>\n",
    "The input layer, as the name suggests, is the layer responsible for receiving the input data of the model. Each neuron in this layer represents a feature or attribute of the input data. For example, in an image classification problem, each neuron in the input layer could represent a pixel of the image.\n",
    "</p>\n",
    "\n",
    "<div style=\"text-align:center\">\n",
    "<img src=\"./images/figure3_MLP_input.png\" style=\"width: 200px;\">\n",
    "</div>\n",
    "\n",
    "### ⊗ **Hidden Layer**:\n",
    "\n",
    "<p style='text-align: justify;'>\n",
    "The hidden layer is located between the input layer and the output layer. It is important to emphasize that there can be several hidden layers in the same MLP. They are called Hidden because their activities are not directly observable. Each Hidden Layer is composed of a set of various interconnected neurons. The number and size of the layers can vary depending on the complexity of the problem and the chosen architecture.\n",
    "</p>\n",
    "\n",
    "<div style=\"text-align:center\">\n",
    "<img src=\"./images/figure4_MLP_hidden_layer.png\" style=\"width: 200px;\">\n",
    "</div>\n",
    "\n",
    "### ⊗ **Output Layer**:\n",
    "\n",
    "<p style='text-align: justify;'>\n",
    "The output layer is the last layer of the MLP and produces the outputs of model final. The number of neurons in the output layer depends on the solved problem. For example, in a binary classification problem, only one output neuron may indicate the probability of belonging to one class or the other. Values close to 0 represent a high probability of belonging to a class, while values close to 1 represent a high probability of belonging to another category.\n",
    "</p>\n",
    "    \n",
    "<p style='text-align: justify;'>\n",
    "In multiclass classification problems, where there are more than two possible classes, we will have an output neuron for each category. The output of each neuron represents the probability of belonging to the respective class.\n",
    "</p>\n",
    "\n",
    "<div style=\"text-align:center\">\n",
    "<img src=\"./images/figure5_MLP_output_layer.png\" style=\"width: 200px;\">\n",
    "</div>"
   ]
  },
  {
   "cell_type": "markdown",
   "metadata": {
    "jp-MarkdownHeadingCollapsed": true,
    "tags": []
   },
   "source": [
    "## Roses or Violetes using MLP\n",
    "\n",
    "<p style='text-align: justify;'>\n",
    "We have already developed a Perceptron algorithm to identify whether a flower is a rose or a violet. However, you may have noticed that if some of the parameters are slightly out of the expected range (for example, a characteristic of a third type of flower), the current algorithm, as it only has a single Perceptron, will not be able to identify or state that that type of flower is neither a rose nor a violet, as it will inevitably tend towards one of the two possible responses for which it was programmed (rose or violet).\n",
    "</p>\n",
    "\n",
    "<p style='text-align: justify;'>\n",
    "To solve this problem, we can employ the principles of the MLP, allowing the algorithm to recognize whether a flower is a rose or a violet. If a different flower is presented, the algorithm will inform that it does not correspond to any previously mentioned options. See the following animation:\n",
    "</p>\n",
    "\n",
    "<div style=\"text-align:center\">\n",
    "<img src=\"./images/figure6_MLP_Works.gif\" style=\"width: 600px;\">\n",
    "</div>\n",
    "\n",
    "<p style='text-align: justify;'>\n",
    "Did you notice how creating a neural network capable of presenting several responses more efficiently than a simple Perceptron is now possible? Of course, for this MLP to work appropriately, it is necessary to know some of its parameters, such as activation functions and training methods.\n",
    "</p>"
   ]
  },
  {
   "cell_type": "markdown",
   "metadata": {},
   "source": [
    "## Activations Functions used in MLPs"
   ]
  },
  {
   "cell_type": "markdown",
   "metadata": {},
   "source": [
    "<p style='text-align: justify;'>\n",
    "The activation function, a topic we have previously delved into, serves the critical role of infusing non-linearity into the neuron outputs. This intrinsic feature of the activation function empowers the model to decipher and portray complex relationships nestled within the input data, guiding it towards the intended output. The MLP operates on the same conceptual framework as its simpler counterpart, the Perceptron, with the notable enhancement that each neuron in the multilayer model now boasts its own distinct activation function.\n",
    "</p>\n",
    "\n",
    "<p style='text-align: justify;'>\n",
    "It is essential to highlight that there is not just one activation function. There are several, each with characteristics such as linearity, non-linearity, and gradient representation capacity. Some of these activation functions are:\n",
    "</p>    \n",
    "\n",
    "* Sigmoid,\n",
    "* Step Function,\n",
    "* Hyperbolic Tangent Function,\n",
    "* Rectified Linear Unit,\n",
    "* Softmax,\n",
    "* Linear,\n",
    "* Linear Exponential Function (ELU),\n",
    "* Rectified Linear Unit (ReLU),\n",
    "* Gaussian activation function,\n",
    "* Linear saturation activation function (LIS),\n",
    "* Adaptive Threshold Unit (ATU).\n",
    "\n",
    "<p style='text-align: justify;'>\n",
    "Each of these activation functions can be used to solve a specific problem in a neural network.\n",
    "</p>"
   ]
  },
  {
   "cell_type": "markdown",
   "metadata": {},
   "source": [
    "## ☆ Challenge: Classification of Roses and Violets  ☆"
   ]
  },
  {
   "cell_type": "markdown",
   "metadata": {},
   "source": [
    "Consider the following problem:\n",
    "\n",
    "**Roses are red, violets are blue, the stems of roses are tall, and violets are short.**\n",
    "\n",
    "Then:\n",
    "\n",
    "- Having the color spectrum between $red = 0$ and $blue = 10$.\n",
    "\n",
    "- Between $0$ and $10$, there is a mixture of the two colors, where the closer to $0$ is redder, and the closer to $10$ is bluer.\n",
    "\n",
    "- Given a set of pairs with (height and color) determine whether it is a rose or a violet.\n",
    "\n",
    "<p style=\"text-align: center;\">\n",
    " <img src=\"./images/figure3_rosesXviolets.png\"  width=\"500\" height=\"500\">\n",
    "</p>\n",
    "\n",
    "\n",
    "1. Create a MLP with Intel® Python.\n",
    "\n",
    "2. Formulate the labels (known data) for this problem.\n",
    "\n",
    "3. Use the MLP to classify whether they are rose or violet."
   ]
  },
  {
   "cell_type": "markdown",
   "metadata": {},
   "source": [
    "## ☆ Solution ☆ "
   ]
  },
  {
   "cell_type": "markdown",
   "metadata": {},
   "source": [
    "### ⊗ Import Python Packages "
   ]
  },
  {
   "cell_type": "markdown",
   "metadata": {},
   "source": [
    "Let is start by importing all the modules we will need:"
   ]
  },
  {
   "cell_type": "code",
   "execution_count": 1,
   "metadata": {},
   "outputs": [],
   "source": [
    "import numpy as np\n",
    "import matplotlib.pyplot as plt\n",
    "import random\n",
    "import math"
   ]
  },
  {
   "cell_type": "markdown",
   "metadata": {},
   "source": [
    "### ⊗ Create the Layers, Weights and Bias "
   ]
  },
  {
   "cell_type": "markdown",
   "metadata": {},
   "source": [
    "<p style='text-align: justify;'>\n",
    "If one perceptron, calculate as $(\\sum_{i=0}^{n} (Xi+Wi)) + b$ two perceptron calculate $N_0 = (\\sum_{i=0}^{n} ( X_{0i}i+W_{0i})) + b_0$ and $N_1 = (\\sum_{i=0}^{n} (X_{1i}i+W_{1i})) + b_1$. That is a matrix multiplication, where each layer is a matrix of weights, where each line represents a neoronium. Since the bias corresponds to the amount of neorons.\n",
    "</p>\n",
    "\n",
    "<p style='text-align: justify;'>\n",
    "Our MLP consists of two layers (WL1 and WL2), where WL1 is composed of two inputs and two outputs. On the other hand, WL2 is composed of one input and two outputs, which will indicate whether the flower is a rose or a violet. Please see the following illustration:\n",
    "</p>\n",
    "    \n",
    "<p style=\"text-align: center;\">\n",
    " <img src=\"./images/figure_07_MLP_roses_and_violets.jpg\"  width=\"500\" height=\"500\">\n",
    "</p>\n"
   ]
  },
  {
   "cell_type": "code",
   "execution_count": 2,
   "metadata": {
    "tags": []
   },
   "outputs": [
    {
     "name": "stdout",
     "output_type": "stream",
     "text": [
      "WL1: \n",
      " [[0.77024513 0.15336085]\n",
      " [0.65061587 0.92267928]]\n",
      "WL2: \n",
      " [[0.55085307 0.43717349]]\n",
      "Bias1: \n",
      " [[0.31834076]\n",
      " [0.80411967]]\n",
      "Bias2: \n",
      " [[0.31952486]]\n"
     ]
    }
   ],
   "source": [
    "def createLayer(n_input,n_output):\n",
    "    tmp = []\n",
    "    for i in range(n_input):\n",
    "        tmp.append([])\n",
    "        for j in range(n_output):\n",
    "            tmp[i].append(random.random())\n",
    "    return np.array(tmp)\n",
    "\n",
    "WL1 = createLayer(2,2)\n",
    "\n",
    "WL2 = createLayer(1,2)\n",
    "\n",
    "bias1 = createLayer(2,1)\n",
    "\n",
    "bias2 = createLayer(1,1)\n",
    "\n",
    "print(f\"WL1: \\n {WL1}\\nWL2: \\n {WL2}\\nBias1: \\n {bias1}\\nBias2: \\n {bias2}\")"
   ]
  },
  {
   "cell_type": "markdown",
   "metadata": {},
   "source": [
    "### ⊗ Activation Function"
   ]
  },
  {
   "cell_type": "markdown",
   "metadata": {},
   "source": [
    "<p style='text-align: justify;'>\n",
    "The sigmoid activation function, as we already know, is used to map the input values producing an output between 0 and 1. The derivative of the simoid function is used to calculate the gradient, that is, the rate of variation of the sigmoid function in relation to the weights of the network.\n",
    "It is used in the process called <b>Backpropagation</b> in order to adjust the weights in order to minimize the network error.\n",
    "</p>    \n",
    "\n",
    "If you used the sigmoid function and a derivative:\n",
    "\n",
    "$$\\sigma(x) = \\displaystyle \\frac{1}{1 + e^{-x}}$$\n",
    "    \n",
    "<br> \n",
    "$$\\sigma'(x) = \\sigma(x) * (1 - \\sigma(x))$$ "
   ]
  },
  {
   "cell_type": "code",
   "execution_count": 3,
   "metadata": {},
   "outputs": [],
   "source": [
    "def sigmoid(x):\n",
    "    #print(x)\n",
    "    try:\n",
    "        return 1 / (1 + math.exp(-x))\n",
    "    except Exception as e:\n",
    "        print(\"err \", x)\n",
    "        return None\n",
    "    \n",
    "def d_sigmoid(ox):\n",
    "    return ox * (1-ox)\n",
    "\n",
    "sigmoid = np.vectorize(sigmoid)\n",
    "d_sigmoid = np.vectorize(d_sigmoid)"
   ]
  },
  {
   "cell_type": "markdown",
   "metadata": {},
   "source": [
    "### ⊗ Create the Samples\n",
    "\n",
    "Here we will create a set of samples to train our neural network. We will create a set of $10$ rose samples and $10$ violet samples, and a `createSamples()` function where the data from both flowers will be mixed and sent for training:"
   ]
  },
  {
   "cell_type": "code",
   "execution_count": 4,
   "metadata": {},
   "outputs": [],
   "source": [
    "def createSamples(list1, list2, label, bias = False):\n",
    "    random.shuffle(list1)\n",
    "    random.shuffle(list2)\n",
    "    tmp = []\n",
    "    for p1, p2 in zip(list1, list2):\n",
    "        if bias:\n",
    "            tmp.append([p1, p2, 1, label])\n",
    "        else:\n",
    "            tmp.append([p1, p2, label])\n",
    "    return tmp"
   ]
  },
  {
   "cell_type": "code",
   "execution_count": 5,
   "metadata": {},
   "outputs": [],
   "source": [
    "qte_sample = 30"
   ]
  },
  {
   "cell_type": "code",
   "execution_count": 6,
   "metadata": {},
   "outputs": [],
   "source": [
    "roses = []\n",
    "itemsx = []\n",
    "itemsy = []\n",
    "\n",
    "for i in range(qte_sample):\n",
    "    itemsx.append(round(random.uniform(0, 5)   ,3))\n",
    "    itemsy.append(round(random.uniform(16, 30) ,3))\n",
    "    \n",
    "roses = createSamples(itemsx, itemsy, 1)"
   ]
  },
  {
   "cell_type": "code",
   "execution_count": 7,
   "metadata": {},
   "outputs": [
    {
     "data": {
      "text/plain": [
       "[[3.92, 29.459, 1],\n",
       " [2.108, 23.856, 1],\n",
       " [4.167, 23.956, 1],\n",
       " [4.811, 18.714, 1],\n",
       " [4.738, 25.263, 1],\n",
       " [2.11, 27.942, 1],\n",
       " [0.924, 26.227, 1],\n",
       " [1.926, 18.104, 1],\n",
       " [0.402, 24.253, 1],\n",
       " [4.438, 24.81, 1],\n",
       " [4.277, 29.65, 1],\n",
       " [4.428, 23.554, 1],\n",
       " [3.25, 23.217, 1],\n",
       " [2.041, 18.132, 1],\n",
       " [4.428, 21.595, 1],\n",
       " [1.331, 26.624, 1],\n",
       " [0.945, 27.817, 1],\n",
       " [4.449, 28.154, 1],\n",
       " [1.321, 18.942, 1],\n",
       " [2.313, 28.58, 1],\n",
       " [4.198, 19.865, 1],\n",
       " [4.558, 24.095, 1],\n",
       " [4.406, 19.908, 1],\n",
       " [2.458, 20.022, 1],\n",
       " [1.85, 20.558, 1],\n",
       " [3.142, 27.978, 1],\n",
       " [3.361, 24.288, 1],\n",
       " [1.235, 28.673, 1],\n",
       " [1.547, 27.756, 1],\n",
       " [4.51, 23.326, 1]]"
      ]
     },
     "execution_count": 7,
     "metadata": {},
     "output_type": "execute_result"
    }
   ],
   "source": [
    "roses"
   ]
  },
  {
   "cell_type": "code",
   "execution_count": 8,
   "metadata": {},
   "outputs": [],
   "source": [
    "violets = []\n",
    "itemsx = []\n",
    "itemsy = []\n",
    "\n",
    "for i in range(qte_sample):\n",
    "    itemsx.append(round(random.uniform(6, 10) ,3))\n",
    "    itemsy.append(round(random.uniform(0, 15) ,3))\n",
    "\n",
    "violets = createSamples(itemsx, itemsy, 0)"
   ]
  },
  {
   "cell_type": "code",
   "execution_count": 9,
   "metadata": {},
   "outputs": [
    {
     "data": {
      "text/plain": [
       "[[8.663, 11.89, 0],\n",
       " [8.692, 3.793, 0],\n",
       " [9.443, 1.02, 0],\n",
       " [6.58, 10.194, 0],\n",
       " [9.632, 4.309, 0],\n",
       " [7.766, 1.44, 0],\n",
       " [7.653, 11.315, 0],\n",
       " [9.143, 0.356, 0],\n",
       " [6.172, 0.29, 0],\n",
       " [6.01, 5.311, 0],\n",
       " [8.115, 5.867, 0],\n",
       " [8.521, 13.576, 0],\n",
       " [8.072, 11.767, 0],\n",
       " [6.916, 7.141, 0],\n",
       " [6.403, 5.885, 0],\n",
       " [9.642, 2.799, 0],\n",
       " [9.458, 1.023, 0],\n",
       " [7.781, 10.451, 0],\n",
       " [8.069, 10.077, 0],\n",
       " [7.249, 1.085, 0],\n",
       " [8.899, 14.24, 0],\n",
       " [7.951, 1.247, 0],\n",
       " [8.748, 6.863, 0],\n",
       " [9.736, 6.495, 0],\n",
       " [9.158, 11.611, 0],\n",
       " [6.178, 9.381, 0],\n",
       " [9.904, 2.468, 0],\n",
       " [8.705, 0.23, 0],\n",
       " [7.351, 2.698, 0],\n",
       " [6.143, 8.283, 0]]"
      ]
     },
     "execution_count": 9,
     "metadata": {},
     "output_type": "execute_result"
    }
   ],
   "source": [
    "violets"
   ]
  },
  {
   "cell_type": "markdown",
   "metadata": {},
   "source": [
    "### ⊗ Normalizing the Data"
   ]
  },
  {
   "cell_type": "markdown",
   "metadata": {},
   "source": [
    "It is important to note that normalization is typically applied separately to the training, validation, and testing sets using the maximum and minimum values from the training set. This ensures that the normalization process is consistent across all data subsets. Following the general example, where for each data point, subtract the minimum value and divide by the range between the maximum and minimum values:\n",
    "\n",
    "\n",
    "```python\n",
    "normalized_value = (data_point - min_val) / (max_val - min_val)\n",
    "```"
   ]
  },
  {
   "cell_type": "markdown",
   "metadata": {},
   "source": [
    "Applying normalization using the max-min method to the roses and violets problem:"
   ]
  },
  {
   "cell_type": "code",
   "execution_count": 10,
   "metadata": {},
   "outputs": [],
   "source": [
    "points = np.array(roses + violets)\n",
    "\n",
    "input_samples  = points[:,[0,1]]\n",
    "target_outputs = points[:,2]\n",
    "\n",
    "#Normalize\n",
    "min_val = np.min(input_samples, axis=0)\n",
    "max_val = np.max(input_samples, axis=0)\n",
    "input_samples_normalized = (input_samples - min_val) / (max_val - min_val)"
   ]
  },
  {
   "cell_type": "code",
   "execution_count": 11,
   "metadata": {},
   "outputs": [
    {
     "data": {
      "text/plain": [
       "array([[0.37023784, 0.99350782],\n",
       "       [0.17954115, 0.80305914],\n",
       "       [0.39623237, 0.80645819],\n",
       "       [0.46400758, 0.62828008],\n",
       "       [0.45632498, 0.85088375],\n",
       "       [0.17975163, 0.94194426],\n",
       "       [0.0549358 , 0.88365058],\n",
       "       [0.16038729, 0.60754589],\n",
       "       [0.        , 0.81655337],\n",
       "       [0.42475268, 0.83548606],\n",
       "       [0.40780888, 1.        ],\n",
       "       [0.42370027, 0.79279402],\n",
       "       [0.29972637, 0.78133923],\n",
       "       [0.17249   , 0.60849762],\n",
       "       [0.42370027, 0.72620666],\n",
       "       [0.09776889, 0.8971448 ],\n",
       "       [0.05714586, 0.93769545],\n",
       "       [0.42591033, 0.94915024],\n",
       "       [0.09671648, 0.63602991],\n",
       "       [0.20111555, 0.96363018],\n",
       "       [0.39949484, 0.66740313],\n",
       "       [0.4373816 , 0.81118287],\n",
       "       [0.42138497, 0.66886472],\n",
       "       [0.2163755 , 0.67273963],\n",
       "       [0.15238897, 0.69095853],\n",
       "       [0.28836035, 0.94316791],\n",
       "       [0.31140812, 0.81774303],\n",
       "       [0.08766575, 0.9667913 ],\n",
       "       [0.12050095, 0.93562203],\n",
       "       [0.43233004, 0.78504419],\n",
       "       [0.86939592, 0.39632903],\n",
       "       [0.87244791, 0.12110809],\n",
       "       [0.9514839 , 0.02685248],\n",
       "       [0.65017891, 0.33868117],\n",
       "       [0.97137445, 0.13864718],\n",
       "       [0.77499474, 0.04112848],\n",
       "       [0.7631025 , 0.3767845 ],\n",
       "       [0.9199116 , 0.0042828 ],\n",
       "       [0.60724058, 0.00203943],\n",
       "       [0.59019154, 0.17270564],\n",
       "       [0.81172385, 0.19160435],\n",
       "       [0.85445169, 0.45363698],\n",
       "       [0.80719848, 0.3921482 ],\n",
       "       [0.68553989, 0.23490823],\n",
       "       [0.63155125, 0.19221618],\n",
       "       [0.97242686, 0.08732155],\n",
       "       [0.95306251, 0.02695445],\n",
       "       [0.77657335, 0.34741672],\n",
       "       [0.80688276, 0.33470428],\n",
       "       [0.72058514, 0.02906186],\n",
       "       [0.89423279, 0.47620666],\n",
       "       [0.79446432, 0.03456832],\n",
       "       [0.8783414 , 0.22545887],\n",
       "       [0.98231951, 0.21295037],\n",
       "       [0.92149021, 0.38684568],\n",
       "       [0.60787203, 0.31104691],\n",
       "       [1.        , 0.0760707 ],\n",
       "       [0.87381604, 0.        ],\n",
       "       [0.73131972, 0.08388851],\n",
       "       [0.60418859, 0.27372536]])"
      ]
     },
     "execution_count": 11,
     "metadata": {},
     "output_type": "execute_result"
    }
   ],
   "source": [
    "input_samples_normalized"
   ]
  },
  {
   "cell_type": "code",
   "execution_count": 12,
   "metadata": {},
   "outputs": [
    {
     "data": {
      "text/plain": [
       "array([1., 1., 1., 1., 1., 1., 1., 1., 1., 1., 1., 1., 1., 1., 1., 1., 1.,\n",
       "       1., 1., 1., 1., 1., 1., 1., 1., 1., 1., 1., 1., 1., 0., 0., 0., 0.,\n",
       "       0., 0., 0., 0., 0., 0., 0., 0., 0., 0., 0., 0., 0., 0., 0., 0., 0.,\n",
       "       0., 0., 0., 0., 0., 0., 0., 0., 0.])"
      ]
     },
     "execution_count": 12,
     "metadata": {},
     "output_type": "execute_result"
    }
   ],
   "source": [
    "target_outputs"
   ]
  },
  {
   "cell_type": "markdown",
   "metadata": {},
   "source": [
    "### ⊗ Feed Forward"
   ]
  },
  {
   "cell_type": "markdown",
   "metadata": {},
   "source": [
    "<p style='text-align: justify;'>\n",
    "Now we will perform the calculation of the hidden layer in the feed-forward process. This step involves processing the input data and obtaining the activations of the hidden layer, which are essential for the continuous flow of information in the neural network.\n",
    "</p>\n",
    "    \n",
    "The Feed Forwart process is to calculate from input neorons to given input $X$ and weights $W$\n",
    "\n",
    "$$\n",
    "X = \n",
    "\\quad\n",
    "\\begin{bmatrix} \n",
    "a\\\\\n",
    "b\n",
    "\\end{bmatrix}\n",
    "\\quad\n",
    "$$\n",
    "</br>\n",
    "$$\n",
    "W = \n",
    "\\quad\n",
    "\\begin{bmatrix} \n",
    "c & d \\\\\n",
    "e & f \n",
    "\\end{bmatrix}\n",
    "\\quad\n",
    "$$\n",
    "\n",
    "<p style='text-align: justify;'>\n",
    "The feed forward process is given by $H = W \\times X$ then $H = \\sigma(H + b)$ between one layer and another. In the next layer the input is the output of the previous one.\n",
    "</p>"
   ]
  },
  {
   "cell_type": "code",
   "execution_count": 13,
   "metadata": {},
   "outputs": [
    {
     "name": "stdout",
     "output_type": "stream",
     "text": [
      "WL1: \n",
      " [[0.77024513 0.15336085]\n",
      " [0.65061587 0.92267928]]\n",
      "WL2: \n",
      " [[0.55085307 0.43717349]]\n",
      "Bias1: \n",
      " [[0.31834076]\n",
      " [0.80411967]]\n",
      "Bias2: \n",
      " [[0.31952486]]\n"
     ]
    },
    {
     "data": {
      "text/plain": [
       "0.7536447590370157"
      ]
     },
     "execution_count": 13,
     "metadata": {},
     "output_type": "execute_result"
    }
   ],
   "source": [
    "def predict(X):\n",
    "    X = np.array(X).T \n",
    "    W = WL1    \n",
    "\n",
    "    hidem = W.dot(X)\n",
    "    hidem = hidem + bias1\n",
    "    hidems = sigmoid(hidem)\n",
    "\n",
    "    X = hidems\n",
    "    W = WL2  \n",
    "\n",
    "    exitr = W.dot(X)\n",
    "    exitr = exitr + bias2\n",
    "    return sigmoid(exitr)[0][0]\n",
    "\n",
    "print(f\"WL1: \\n {WL1}\\nWL2: \\n {WL2}\\nBias1: \\n {bias1}\\nBias2: \\n {bias2}\")\n",
    "\n",
    "predict(np.array([1,1]))"
   ]
  },
  {
   "cell_type": "markdown",
   "metadata": {},
   "source": [
    "### ⊗ Train and Test Data\n",
    "\n",
    "The training of the neural network involves using the [*Backpropagation Technique*](https://developers.google.com/machine-learning/glossary?hl=pt-br), a gradient descent-based algorithm used to adjust the weights of a neural network, aiming to minimize the error between the predicted output and the desired output. It propagates the error from the output of network to the input layer.\n"
   ]
  },
  {
   "cell_type": "markdown",
   "metadata": {},
   "source": [
    "How to visualize N dimensional problems?\n",
    "\n",
    "Trying to find the local minimum of the cost function.\n",
    "\n",
    "- `X_train` - is the training data\n",
    "- `Y_train` - is the expected class or response for `X_train`\n",
    "\n",
    "For Backpropagation, the feed forward is executed saving the intermediate responses. The error is calculated:\n",
    "\n",
    "$$\n",
    "e = y_{train} - y_{pred}\n",
    "$$\n",
    "\n",
    "Then the derivative of the activation function is calculated, using the result of the layer:\n",
    "\n",
    "$$\n",
    "d_{ypred} = \\sigma'(y_{pred})\n",
    "$$\n",
    "\n",
    "The gradient is then calculated as:\n",
    "\n",
    "$$\n",
    "\\nabla = d_{ypred} \\times e\n",
    "$$\n",
    "\n",
    "In this way, multiply $\\nabla$ by a learning rate ($lr$) to go slowly towards the minimum point:\n",
    "\n",
    "$$\n",
    "\\nabla = lr \\times \\nabla\n",
    "$$\n",
    "\n",
    "After these operations, the bias is adjusted directly with $\\nabla$ and then multiplied by the transpose of the layer result ($H$), forming a matrix of rows and columns equal to the weights of the network ($TWL$):\n",
    "\n",
    "$$\n",
    "bias = bias + \\nabla\n",
    "$$\n",
    "\n",
    "$$\n",
    "TWL = \\nabla \\cdot H^{T}\n",
    "$$\n",
    "\n",
    "Then, element by element is added to the resulting matrix in the weights of the layer:\n",
    "\n",
    "$$\n",
    "WL = WL + TWL\n",
    "$$\n",
    "\n",
    "To get the error of the previous layer (or hidden layers) just:\n",
    "\n",
    "$$\n",
    "e_{h} = WL^T \\cdot e_{h-1}\n",
    "$$"
   ]
  },
  {
   "cell_type": "code",
   "execution_count": 14,
   "metadata": {},
   "outputs": [
    {
     "name": "stdout",
     "output_type": "stream",
     "text": [
      "WL1: \n",
      " [[0.62683233 0.18557732]\n",
      " [0.56506816 0.93458062]]\n",
      "WL2: \n",
      " [[0.32986566 0.19597471]]\n",
      "Bias1: \n",
      " [[0.20106951]\n",
      " [0.72688737]]\n",
      "Bias2: \n",
      " [[0.01495025]]\n"
     ]
    }
   ],
   "source": [
    "learning_rate = 0.1\n",
    "\n",
    "def trainingPerceptron(input_samples_normalized, target_outputs):\n",
    "    global WL1, WL2, bias1, bias2\n",
    "    for x_train, y_train in zip(input_samples_normalized, target_outputs):\n",
    "\n",
    "        X = np.array([x_train]).T \n",
    "        W = WL1    \n",
    "        \n",
    "        hidem = W.dot(X)\n",
    "        if hidem.shape != bias1.shape:\n",
    "            print(\"Error1\") \n",
    "            return\n",
    "        \n",
    "        hidem = hidem + bias1\n",
    "        hidem = sigmoid(hidem)\n",
    "        \n",
    "        X = hidem\n",
    "        W = WL2  \n",
    "        \n",
    "        exitr = W.dot(X)\n",
    "        if exitr.shape != bias2.shape:\n",
    "            print(\"Error2\")\n",
    "           \n",
    "            return\n",
    "        exitr = exitr + bias2\n",
    "        \n",
    "        y_pred = sigmoid(exitr)     \n",
    "# -------------------------------------    \n",
    "        e = (y_train - y_pred)\n",
    "\n",
    "        d_y_pred = d_sigmoid(y_pred)\n",
    "        grad = d_y_pred * e\n",
    "        grad = grad * learning_rate\n",
    "        \n",
    "        if grad.shape != bias2.shape:\n",
    "            print(\"Error3\")\n",
    "            print(grad.shape)\n",
    "            print(bias1.shape)\n",
    "            return\n",
    "        \n",
    "        bias2 = bias2 + grad\n",
    "        WL2_D = grad.dot(hidem.T)\n",
    "        WL2 = WL2 + WL2_D\n",
    "        \n",
    "        h_e = WL2.T.dot(e)\n",
    "        d_h_e = d_sigmoid(hidem)\n",
    "        \n",
    "        grad = d_h_e * h_e\n",
    "        grad = grad * learning_rate\n",
    "        \n",
    "        if grad.shape != bias1.shape:\n",
    "            print(\"Error4\")\n",
    "            return\n",
    "        \n",
    "        bias1 = bias1 + grad\n",
    "        WL1_D = grad.dot(np.array([x_train]))\n",
    "        WL1 = WL1 + WL1_D\n",
    "             \n",
    "trainingPerceptron(input_samples_normalized, target_outputs)\n",
    "\n",
    "print(f\"WL1: \\n {WL1}\\nWL2: \\n {WL2}\\nBias1: \\n {bias1}\\nBias2: \\n {bias2}\")"
   ]
  },
  {
   "cell_type": "markdown",
   "metadata": {},
   "source": [
    "### ⊗ Visualization Data\n",
    "<p style='text-align: justify;'>\n",
    "Here we will visualize the training result of the MLP that we created:\n",
    "</p>"
   ]
  },
  {
   "cell_type": "code",
   "execution_count": 15,
   "metadata": {},
   "outputs": [],
   "source": [
    "def visualize(input_samples_normalized, target_outputs):\n",
    "    img = np.ones((300, 400)) \n",
    "    # grab the image dimensions\n",
    "    w = img.shape[0]\n",
    "    h = img.shape[1]\n",
    "\n",
    "    # loop over the image, pixel by pixel\n",
    "    for x in range(0, w):\n",
    "        for y in range(0, h):\n",
    "            # threshold the pixel\n",
    "            img[x][y] = predict([x/w, y/h])\n",
    "    \n",
    "    plt.imshow(img, origin='lower')\n",
    "    plt.colorbar()\n",
    "    for x, y in zip(input_samples_normalized, target_outputs):\n",
    "        if y == 1:\n",
    "            plt.scatter(x=x[0]*h, y=x[1]*w, c='r', s=40)\n",
    "        else:\n",
    "            plt.scatter(x=x[0]*h, y=x[1]*w, c='b', s=40)\n",
    "    plt.show()"
   ]
  },
  {
   "cell_type": "code",
   "execution_count": 16,
   "metadata": {},
   "outputs": [
    {
     "data": {
      "image/png": "[encoded data removed]",
      "text/plain": [
       "<Figure size 432x288 with 2 Axes>"
      ]
     },
     "metadata": {
      "needs_background": "light"
     },
     "output_type": "display_data"
    }
   ],
   "source": [
    "visualize(input_samples_normalized, target_outputs)"
   ]
  },
  {
   "cell_type": "markdown",
   "metadata": {},
   "source": [
    "## Summary"
   ]
  },
  {
   "cell_type": "markdown",
   "metadata": {},
   "source": [
    "<p style='text-align: justify;'>\n",
    "In this notebook we have shown: \n",
    "\n",
    "- Creating samples,\n",
    "- Defining a MLP,\n",
    "- Training a model,\n",
    "- Visualization of model.\n",
    "</p>    "
   ]
  },
  {
   "cell_type": "markdown",
   "metadata": {},
   "source": [
    "## Clear the Memory"
   ]
  },
  {
   "cell_type": "markdown",
   "metadata": {},
   "source": [
    "Before moving on, please execute the following cell to clear up the CPU memory. This is required to move on to the next notebook."
   ]
  },
  {
   "cell_type": "code",
   "execution_count": 17,
   "metadata": {},
   "outputs": [],
   "source": [
    "#import IPython\n",
    "#app = IPython.Application.instance()\n",
    "#app.kernel.do_shutdown(True)"
   ]
  },
  {
   "cell_type": "markdown",
   "metadata": {},
   "source": [
    "## Next"
   ]
  },
  {
   "cell_type": "markdown",
   "metadata": {},
   "source": [
    "In this section you learned how to apply the MLP using Intel® Python for data classification. In the next section, you will see  how to the MLP learning, and after many guesses and adjustments, the weights will be correct in the notebook [_02-multilayer-perceptron-classification_](02-multilayer-perceptron-classification.ipynb)."
   ]
  }
 ],
 "metadata": {
  "kernelspec": {
   "display_name": "Python 3 (ipykernel)",
   "language": "python",
   "name": "python3"
  },
  "language_info": {
   "codemirror_mode": {
    "name": "ipython",
    "version": 3
   },
   "file_extension": ".py",
   "mimetype": "text/x-python",
   "name": "python",
   "nbconvert_exporter": "python",
   "pygments_lexer": "ipython3",
   "version": "3.8.8"
  }
 },
 "nbformat": 4,
 "nbformat_minor": 4
}
