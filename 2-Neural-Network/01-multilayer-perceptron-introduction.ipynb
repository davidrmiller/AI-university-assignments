{
 "cells": [
  {
   "cell_type": "markdown",
   "metadata": {},
   "source": [
    "# Introduction to Multilayer Perceptron"
   ]
  },
  {
   "cell_type": "markdown",
   "metadata": {},
   "source": [
    "<p style='text-align: justify;'> \n",
    "In this section we will study the concepts of Multilayer Perceptron Network Architecture and how to build such a network.\n",
    "</p>"
   ]
  },
  {
   "cell_type": "markdown",
   "metadata": {},
   "source": [
    "## Objectives"
   ]
  },
  {
   "cell_type": "markdown",
   "metadata": {},
   "source": [
    "* **Understand** the concept of Multilayer Perceptron Network Architecture (MLP);\n",
    "* **Simulate** the simple Multilayer Perceptron Network Architecture in Python;\n"
   ]
  },
  {
   "cell_type": "markdown",
   "metadata": {
    "tags": []
   },
   "source": [
    "## The Problem: Linearity"
   ]
  },
  {
   "cell_type": "markdown",
   "metadata": {},
   "source": [
    "<p style='text-align: justify;'> \n",
    "The main problem with using a single Perceptron is that it has limitations when dealing with more complex and non-linearly separable problems. A simple Perceptron is only capable of learning linear decisions, which means that it can solve problems in which the classes can be divided by a line or plane.\n",
    "</p>\n",
    "    \n",
    "<p style='text-align: justify;'> \n",
    "However, many real-world problems involve non-linear relationships and more complex patterns, such as multi-class image classification or prediction with variables that have non-linear differences between them. In these cases, a single Perceptron is not suitable, as it cannot accurately capture and represent these complex relationships.\n",
    "</p>  "
   ]
  },
  {
   "cell_type": "markdown",
   "metadata": {},
   "source": [
    "## The Solution: Multilayer Perceptron Network (MLP)"
   ]
  },
  {
   "cell_type": "markdown",
   "metadata": {},
   "source": [
    "<p style='text-align: justify;'>\n",
    "A Multilayer Perceptron, or simply MLP, is an algorithm capable of handling problems where non-linearity is present, making it ideal for classification and regression problems, where the relationship between inputs and desired outputs is not linear.\n",
    "</p>\n",
    "\n",
    "<p style='text-align: justify;'>\n",
    "Through hidden layers with non-linear activation functions, the MLP can learn non-linear representations of data, enabling the algorithm to capture complex patterns and relationships between input variables. This makes it a powerful tool when dealing with more challenging machine learning problems. The structure of a MLP is shown below:\n",
    "</p>\n",
    "\n"
   ]
  },
  {
   "cell_type": "markdown",
   "metadata": {},
   "source": [
    "<div style=\"text-align:center\">\n",
    "<img src=\"./images/figure1_multilayer_perceptron.png\" style=\"width: 500px;\">\n",
    "</div>"
   ]
  },
  {
   "cell_type": "markdown",
   "metadata": {},
   "source": [
    "<p style='text-align: justify;'>\n",
    "A MLP is essentially composed of a set of neurons, where each of these neurons is in fact a complete Perceptron, possessing its own inputs, weights, bias, and activation function, as demonstrated below:\n",
    "</p>\n",
    "\n",
    "<div style=\"text-align:center\">\n",
    "<img src=\"./images/figure2_perceptron_and_MLP.jpg\" style=\"width: 500px;\">\n",
    "</div>"
   ]
  },
  {
   "cell_type": "markdown",
   "metadata": {},
   "source": [
    "<p style='text-align: justify;'>\n",
    "A MLP is therefore formed by the interconnection of several Perceptrons, thereby creating a layered structure. Each of these layers performs a specific function within the MLP. The concepts related to the operation of each of them will be presented next.\n",
    "</p>"
   ]
  },
  {
   "cell_type": "markdown",
   "metadata": {
    "tags": []
   },
   "source": [
    "## Architecture of an MLP: Input, Hidden and Output Layers"
   ]
  },
  {
   "cell_type": "markdown",
   "metadata": {},
   "source": [
    "<p style='text-align: justify;'>\n",
    "The fundamental structure of the MLP consists of three main layers: the input layer, the hidden layer, and the output layer. Let's explore the function of each of them.\n",
    "</p>\n",
    "\n",
    "### ⊗ **Input Layer**: \n",
    "\n",
    "<p style='text-align: justify;'>\n",
    "The input layer, as the name suggests, is the layer responsible for receiving the input data of the model. Each neuron in this layer represents a feature or attribute of the input data. For example, in an image classification problem, each neuron in the input layer could represent a pixel of the image.\n",
    "</p>\n",
    "\n",
    "<div style=\"text-align:center\">\n",
    "<img src=\"./images/figure3_MLP_input.png\" style=\"width: 200px;\">\n",
    "</div>\n",
    "\n",
    "### ⊗ **Hidden Layer**:\n",
    "\n",
    "<p style='text-align: justify;'>\n",
    "The hidden layer is located between the input layer and the output layer. It's important to emphasize that there can be several hidden layers in the same MLP. They are called \"hidden\" because their activities are not directly observable. Each hidden layer is composed of a set of various interconnected neurons. The number and size of the hidden layers can vary depending on the complexity of the problem and the chosen architecture.\n",
    "</p>\n",
    "\n",
    "<div style=\"text-align:center\">\n",
    "<img src=\"./images/figure4_MLP_hidden_layer.png\" style=\"width: 200px;\">\n",
    "</div>\n",
    "\n",
    "### ⊗ **Output Layer**:\n",
    "\n",
    "<p style='text-align: justify;'>\n",
    "The output layer is the last layer of the MLP and produces the model's final outputs. The number of neurons in the output layer depends on the solved problem. For example, in a binary classification problem, only one output neuron may indicate the probability of belonging to one class or the other. Values close to 0 represent a high probability of belonging to a class, while values close to 1 represent a high probability of belonging to another category.\n",
    "</p>\n",
    "    \n",
    "<p style='text-align: justify;'>\n",
    "In multiclass classification problems, where there are more than two possible classes, we will have an output neuron for each category. The output of each neuron represents the probability of belonging to the respective class.\n",
    "</p>\n",
    "\n",
    "<div style=\"text-align:center\">\n",
    "<img src=\"./images/figure5_MLP_output_layer.png\" style=\"width: 200px;\">\n",
    "</div>"
   ]
  },
  {
   "cell_type": "markdown",
   "metadata": {
    "jp-MarkdownHeadingCollapsed": true,
    "tags": []
   },
   "source": [
    "## Roses or Violetes using MLP\n",
    "\n",
    "<p style='text-align: justify;'>\n",
    "We have already developed a Perceptron algorithm to identify whether a flower is a rose or a violet. However, you may have noticed that if some of the parameters are slightly out of the expected range (for example, a characteristic of a third type of flower), the current algorithm, as it only has a single Perceptron, will not be able to identify or state that that type of flower is neither a rose nor a violet, as it will inevitably tend towards one of the two possible responses for which it was programmed (rose or violet).\n",
    "</p>\n",
    "\n",
    "<p style='text-align: justify;'>\n",
    "To solve this problem, we can employ the principles of the MLP, allowing the algorithm to recognize whether a flower is a rose or a violet. If a different flower is presented, the algorithm will inform that it does not correspond to any previously mentioned options. See the following animation:\n",
    "</p>\n",
    "\n",
    "<div style=\"text-align:center\">\n",
    "<img src=\"./images/figure6_MLP_Works.gif\" style=\"width: 500px;\">\n",
    "</div>\n",
    "\n",
    "<p style='text-align: justify;'>\n",
    "Did you notice how creating a neural network capable of presenting several responses more efficiently than a simple Perceptron is now possible? Of course, for this MLP to work appropriately, it is necessary to know some of its parameters, such as activation functions and training methods.\n",
    "</p>"
   ]
  },
  {
   "cell_type": "markdown",
   "metadata": {},
   "source": [
    "## Activations Functions used in MLPs"
   ]
  },
  {
   "cell_type": "markdown",
   "metadata": {},
   "source": [
    "<p style='text-align: justify;'>\n",
    "The activation function, a topic we've previously delved into, serves the critical role of infusing non-linearity into the neuron outputs. This intrinsic feature of the activation function empowers the model to decipher and portray complex relationships nestled within the input data, guiding it towards the intended output. The MLP operates on the same conceptual framework as its simpler counterpart, the Perceptron, with the notable enhancement that each neuron in the multilayer model now boasts its own distinct activation function.\n",
    "</p>\n",
    "\n",
    "<p style='text-align: justify;'>\n",
    "It is important to highlight that there isn't just one single activation function. In fact, there are several, each with its own characteristics such as linearity, non-linearity, gradient representation capacity, among others. Some of these activation functions are:\n",
    "</p>    \n",
    "\n",
    "* Sigmoid;\n",
    "* Step Function;\n",
    "* Hyperbolic Tangent Function;\n",
    "* Rectified Linear Unit;\n",
    "* Softmax;\n",
    "* Linear;\n",
    "* Linear Exponential Function (ELU);\n",
    "* Rectified Linear Unit (ReLU);\n",
    "* Gaussian activation function;\n",
    "* Linear saturation activation function (LIS);\n",
    "* Adaptive Threshold Unit (ATU).\n",
    "\n",
    "<p style='text-align: justify;'>\n",
    "Each of these activation functions can be used to solve a specific problem in a neural network.\n",
    "</p>"
   ]
  },
  {
   "cell_type": "markdown",
   "metadata": {},
   "source": [
    "## ☆ Challenger: Classification of Roses and Violets  ☆"
   ]
  },
  {
   "cell_type": "markdown",
   "metadata": {},
   "source": [
    "Consider the following problem:\n",
    "\n",
    "**Roses are red, violets are blue, the stems of roses are tall, and violets are short.**\n",
    "\n",
    "Then:\n",
    "\n",
    "- Having the color spectrum between $red = 0$ and $blue = 10$.\n",
    "\n",
    "- Between $0$ and $10$, there is a mixture of the two colors, where the closer to $0$ is redder, and the closer to $10$ is bluer.\n",
    "\n",
    "- Given a set of pairs with (height and color) determine whether it is a rose or a violet.\n",
    "\n",
    "<p style=\"text-align: center;\">\n",
    " <img src=\"./images/figure3_rosesXviolets.png\"  width=\"500\" height=\"500\">\n",
    "</p>\n",
    "\n",
    "\n",
    "1. Create a Multi-Perceptron Neural Network with Intel® Python.\n",
    "\n",
    "2. Formulate the labels (known data) for this problem.\n",
    "\n",
    "3. Use the Multi-Perceptron to classify whether they are pink or violet."
   ]
  },
  {
   "cell_type": "markdown",
   "metadata": {},
   "source": [
    "### ☆ Solution ☆ "
   ]
  },
  {
   "cell_type": "markdown",
   "metadata": {},
   "source": [
    "### ⊗ Import Python Packages "
   ]
  },
  {
   "cell_type": "code",
   "execution_count": 1,
   "metadata": {},
   "outputs": [],
   "source": [
    "import numpy as np\n",
    "import matplotlib.pyplot as plt\n",
    "import random\n",
    "import math"
   ]
  },
  {
   "cell_type": "markdown",
   "metadata": {},
   "source": [
    "### ⊗ Create the Layers"
   ]
  },
  {
   "cell_type": "markdown",
   "metadata": {},
   "source": [
    "If one perceptron, calculate as $(\\sum_{i=0}^{n} (Xi+Wi)) + b$ two perceptron calculate $N_0 = (\\sum_{i=0}^{n} ( X_{0i}i+W_{0i})) + b_0$ and $N_1 = (\\sum_{i=0}^{n} (X_{1i}i+W_{1i})) + b_1$. That is a matrix multiplication, where each layer is a matrix of weights, where each line represents a neoronium. Since the bias corresponds to the amount of neorons."
   ]
  },
  {
   "cell_type": "code",
   "execution_count": 2,
   "metadata": {},
   "outputs": [
    {
     "data": {
      "text/plain": [
       "(1, 2)"
      ]
     },
     "execution_count": 2,
     "metadata": {},
     "output_type": "execute_result"
    }
   ],
   "source": [
    "def createLayer(nin,nout):\n",
    "    tmp = []\n",
    "    for i in range(nin):\n",
    "        tmp.append([])\n",
    "        for j in range(nout):\n",
    "            tmp[i].append(random.random())\n",
    "    return np.array(tmp)\n",
    "\n",
    "WL1 = createLayer(2,2)\n",
    "\n",
    "WL2 = createLayer(1,2)\n",
    "\n",
    "bias1 = createLayer(2,1)\n",
    "\n",
    "bias2 = createLayer(1,1)\n",
    "\n",
    "WL2.shape"
   ]
  },
  {
   "cell_type": "markdown",
   "metadata": {},
   "source": [
    "### ⊗ Activation Function"
   ]
  },
  {
   "cell_type": "markdown",
   "metadata": {},
   "source": [
    "If you used the sigmoid function and a derivative:\n",
    "\n",
    "$\\sigma(x) = \\frac{1}{1 + e^{-x}}$\n",
    "\n",
    "$\\sigma'(x) = \\sigma(x) * (1 - \\sigma(x))$"
   ]
  },
  {
   "cell_type": "code",
   "execution_count": 4,
   "metadata": {},
   "outputs": [],
   "source": [
    "def sigmoid(x):\n",
    "    #print(x)\n",
    "    try:\n",
    "        return 1 / (1 + math.exp(-x))\n",
    "    except:\n",
    "        print(\"err \",x)\n",
    "        return None\n",
    "    \n",
    "def d_sigmoid(ox):\n",
    "    return ox * (1-ox)\n",
    "\n",
    "sigmoid = np.vectorize(sigmoid)\n",
    "d_sigmoid = np.vectorize(d_sigmoid)"
   ]
  },
  {
   "cell_type": "markdown",
   "metadata": {},
   "source": [
    "### ⊗ Create the Samples"
   ]
  },
  {
   "cell_type": "code",
   "execution_count": 5,
   "metadata": {},
   "outputs": [],
   "source": [
    "#def createSamples(list1, list2, label, bias = False):\n",
    "#    random.shuffle(list1)\n",
    "#    random.shuffle(list2)\n",
    "#    tmp = []\n",
    "#    for p1, p2 in zip(list1, list2):\n",
    "#        if bias:\n",
    "#            tmp.append([p1, p2, 1, label])\n",
    "#        else:\n",
    "#            tmp.append([p1, p2, label])\n",
    "#    return tmp"
   ]
  },
  {
   "cell_type": "code",
   "execution_count": 6,
   "metadata": {},
   "outputs": [],
   "source": [
    "#qte_sample = 10\n",
    "#itemsx = []\n",
    "#itemsy = []\n",
    "\n",
    "#for i in range(qte_sample):\n",
    "#    itemsy.append(random.random()*5+5)\n",
    "#    itemsx.append(random.random()*15)\n",
    "#\n",
    "#violetas = createSamples(itemsx, itemsy, 0, True)"
   ]
  },
  {
   "cell_type": "code",
   "execution_count": 7,
   "metadata": {},
   "outputs": [],
   "source": [
    "#qte_sample = 10\n",
    "#itemsx = []\n",
    "#itemsy = []\n",
    "\n",
    "#for i in range(qte_sample):\n",
    "#    itemsy.append(random.random()*5)\n",
    "#    itemsx.append(random.random()*15+15)\n",
    "    \n",
    "#rosas = createSamples(itemsx, itemsy, 1, True)"
   ]
  },
  {
   "cell_type": "code",
   "execution_count": 8,
   "metadata": {},
   "outputs": [],
   "source": [
    "#points = np.array(rosas + violetas)\n",
    "\n",
    "#np.take(points,np.random.permutation(points.shape[0]),axis=0,out=points)\n",
    "\n",
    "# 2 is bias\n",
    "#valor = points[:,3]\n",
    "#points = points[:,[0,1]]\n",
    "# Normalize\n",
    "#points[:,0] *= 1/10\n",
    "#points[:,1] *= 1/10"
   ]
  },
  {
   "cell_type": "markdown",
   "metadata": {},
   "source": [
    "### ⊗ XOR"
   ]
  },
  {
   "cell_type": "code",
   "execution_count": 18,
   "metadata": {},
   "outputs": [],
   "source": [
    "# XOR\n",
    "#points = [[1,0],[0,0],[0,1],[1,1]]\n",
    "#valor = [1,0,1,0]\n",
    "\n",
    "points = np.array([\n",
    "             [ 1, 10 ],  # Rose\n",
    "             [ 2, 25 ],  # Rose\n",
    "             [ 3, 22 ],  # Rose\n",
    "             [ 4, 20 ],  # Rose\n",
    "             [ 5, 23 ],  # Rose\n",
    "             [ 6, 1 ],   # Violet\n",
    "             [ 7, 8 ],   # Violet\n",
    "             [ 8, 1 ],   # Violet\n",
    "             [ 9, 10 ],  # Violet\n",
    "             [ 10, 8 ],  # Violet                                \n",
    "])\n",
    "\n",
    "valor = [1, 1, 1, 1, 1, 0, 0, 0, 0, 0]"
   ]
  },
  {
   "cell_type": "markdown",
   "metadata": {},
   "source": [
    "### ⊗ Feed Forward"
   ]
  },
  {
   "cell_type": "markdown",
   "metadata": {},
   "source": [
    "The Feed Forwart process is to calculate from input neorons to given input $X$ and weights $W$\n",
    "\n",
    "$$\n",
    "X = \n",
    "\\quad\n",
    "\\begin{bmatrix} \n",
    "a\\\\\n",
    "b\n",
    "\\end{bmatrix}\n",
    "\\quad\n",
    "$$\n",
    "$$\n",
    "W = \n",
    "\\quad\n",
    "\\begin{bmatrix} \n",
    "c & d \\\\\n",
    "e & f \n",
    "\\end{bmatrix}\n",
    "\\quad\n",
    "$$\n",
    "\n",
    "\n",
    "The feed forward process is given by $H = W \\times X$ then $H = \\sigma(H + b)$ between one layer and another. In the next layer the input is the output of the previous one."
   ]
  },
  {
   "cell_type": "code",
   "execution_count": 10,
   "metadata": {},
   "outputs": [
    {
     "name": "stdout",
     "output_type": "stream",
     "text": [
      "[[0.78468129 0.65937135]\n",
      " [0.38820158 0.44142188]]\n",
      "------------------------\n",
      "[[0.62285787 0.99059746]]\n",
      "------------------------\n",
      "[[0.35412012]\n",
      " [0.64987446]]\n",
      "------------------------\n",
      "[[0.19822682]]\n",
      "------------------------\n"
     ]
    },
    {
     "data": {
      "text/plain": [
       "0.8340398302819995"
      ]
     },
     "execution_count": 10,
     "metadata": {},
     "output_type": "execute_result"
    }
   ],
   "source": [
    "def predict(X):\n",
    "    X = np.array(X).T \n",
    "    W = WL1    \n",
    "\n",
    "    hidem = W.dot(X)\n",
    "    hidem = hidem + bias1\n",
    "    hidems = sigmoid(hidem)\n",
    "\n",
    "    X = hidems\n",
    "    W = WL2  \n",
    "\n",
    "    exitr = W.dot(X)\n",
    "    exitr = exitr + bias2\n",
    "    return sigmoid(exitr)[0][0]\n",
    "\n",
    "print(WL1)\n",
    "print(\"------------------------\")\n",
    "print(WL2)\n",
    "print(\"------------------------\")\n",
    "print(bias1)\n",
    "print(\"------------------------\")\n",
    "print(bias2)\n",
    "print(\"------------------------\")\n",
    "predict(np.array([1,1]))"
   ]
  },
  {
   "cell_type": "markdown",
   "metadata": {},
   "source": [
    "### ⊗ Training (Backpropagation)"
   ]
  },
  {
   "cell_type": "markdown",
   "metadata": {},
   "source": [
    "How to visualize Ndimensional problems?\n",
    "\n",
    "Trying to find the local minimum of the cost function.\n",
    "\n",
    "`X_train` - is the training data.\n",
    "\n",
    "`Y_train` - is the expected class or response for `X_train`.\n",
    "\n",
    "For backpropagation, the feed forward is executed saving the “intermediate responses”. The error is calculated:\n",
    "\n",
    "$$\n",
    "e = y_{train} - y_{pred}\n",
    "$$\n",
    "\n",
    "Then the derivative of the activation function is calculated, using the result of the layer.\n",
    "\n",
    "$$\n",
    "d_{ypred} = \\sigma'(y_{pred})\n",
    "$$\n",
    "\n",
    "The gradient is then calculated as:\n",
    "\n",
    "$$\n",
    "\\nabla = d_{ypred} \\times e\n",
    "$$\n",
    "\n",
    "In this way, multiply $\\nabla$ by a learning rate $lr$ to go slowly towards the minimum point.\n",
    "\n",
    "$$\n",
    "\\nabla = lr \\times \\nabla\n",
    "$$\n",
    "\n",
    "After these operations, the bias is adjusted directly with $\\nabla$ and then multiplied by the transpose of the layer result ($H$), forming a matrix of rows and columns equal to the weights of the network ($TWL$).\n",
    "\n",
    "$$\n",
    "bias = bias + \\nabla\n",
    "$$\n",
    "\n",
    "$$\n",
    "TWL = \\nabla \\cdot H^{T}\n",
    "$$\n",
    "\n",
    "Then, element by element is added to the resulting matrix in the weights of the layer.\n",
    "\n",
    "$$\n",
    "WL = WL + TWL\n",
    "$$\n",
    "\n",
    "To get the error of the previous layer (or hidden layers) just:\n",
    "\n",
    "$$\n",
    "e_{h} = WL^T \\cdot e_{h-1}\n",
    "$$"
   ]
  },
  {
   "cell_type": "code",
   "execution_count": 11,
   "metadata": {},
   "outputs": [
    {
     "data": {
      "text/plain": [
       "3"
      ]
     },
     "execution_count": 11,
     "metadata": {},
     "output_type": "execute_result"
    }
   ],
   "source": [
    "import numpy as np\n",
    "A = np.array([[1,2]])\n",
    "B = np.array([[1,2]])\n",
    "B.sum()"
   ]
  },
  {
   "cell_type": "code",
   "execution_count": 12,
   "metadata": {},
   "outputs": [
    {
     "name": "stdout",
     "output_type": "stream",
     "text": [
      "-----------------------\n",
      "[[0.78335735 0.6591942 ]\n",
      " [0.36046639 0.43679884]]\n",
      "-----------------------\n",
      "[[0.57793155 0.94615334]]\n",
      "-----------------------\n",
      "[[0.35391459]\n",
      " [0.645809  ]]\n",
      "-----------------------\n",
      "[[0.15325968]]\n",
      "-----------------------\n"
     ]
    }
   ],
   "source": [
    "lr = 0.1\n",
    "\n",
    "def treinaPerceptron(points, valor):\n",
    "    global WL1, WL2, bias1, bias2\n",
    "    for x_train, y_train in zip(points, valor):\n",
    "\n",
    "        X = np.array([x_train]).T \n",
    "        W = WL1    \n",
    "        \n",
    "        hidem = W.dot(X)\n",
    "        if hidem.shape != bias1.shape:\n",
    "            print(\"erro1\") \n",
    "            return\n",
    "        \n",
    "        hidem = hidem + bias1\n",
    "        hidem = sigmoid(hidem)\n",
    "        \n",
    "        X = hidem\n",
    "        W = WL2  \n",
    "        \n",
    "        exitr = W.dot(X)\n",
    "        if exitr.shape != bias2.shape:\n",
    "            print(\"erro2\")\n",
    "           \n",
    "            return\n",
    "        exitr = exitr + bias2\n",
    "        \n",
    "        y_pred = sigmoid(exitr) \n",
    "        \n",
    "# -------------------------------------\n",
    "        \n",
    "        e = (y_train - y_pred)\n",
    "\n",
    "        d_y_pred = d_sigmoid(y_pred)\n",
    "        grad = d_y_pred * e\n",
    "        grad = grad * lr\n",
    "        \n",
    "        if grad.shape != bias2.shape:\n",
    "            print(\"erro3\")\n",
    "            print(grad.shape)\n",
    "            print(bias1.shape)\n",
    "            return\n",
    "        \n",
    "        bias2 = bias2 + grad\n",
    "        WL2_D = grad.dot(hidem.T)\n",
    "        WL2 = WL2 + WL2_D\n",
    "        \n",
    "        h_e = WL2.T.dot(e)\n",
    "        d_h_e = d_sigmoid(hidem)\n",
    "        \n",
    "        grad = d_h_e * h_e\n",
    "        grad = grad * lr\n",
    "        \n",
    "        if grad.shape != bias1.shape:\n",
    "            print(\"erro4\")\n",
    "            return\n",
    "        \n",
    "        bias1 = bias1 + grad\n",
    "        WL1_D = grad.dot(np.array([x_train]))\n",
    "        WL1 = WL1 + WL1_D\n",
    "        \n",
    "       \n",
    "        \n",
    "treinaPerceptron(points, valor)\n",
    "print(\"-----------------------\")\n",
    "print(WL1)\n",
    "print(\"-----------------------\")\n",
    "print(WL2)\n",
    "print(\"-----------------------\")\n",
    "print(bias1)\n",
    "print(\"-----------------------\")\n",
    "print(bias2)\n",
    "print(\"-----------------------\")"
   ]
  },
  {
   "cell_type": "markdown",
   "metadata": {},
   "source": [
    "### ⊗ Visualization"
   ]
  },
  {
   "cell_type": "code",
   "execution_count": 13,
   "metadata": {},
   "outputs": [],
   "source": [
    "def visualiza(points, valor, zero1=False):\n",
    "    img = np.ones((300, 400)) \n",
    "    # grab the image dimensions\n",
    "    w = img.shape[0]\n",
    "    h = img.shape[1]\n",
    "\n",
    "    if zero1:\n",
    "        for x in range(0, w):\n",
    "            for y in range(0, h):\n",
    "                # threshold the pixel\n",
    "                #print(predict([x/w, y/h]), (predict([x/w, y/h]) > 0.5))\n",
    "                if (predict([x/w, y/h]) > 0.5):\n",
    "                    img[x][y] = 1\n",
    "                else:\n",
    "                    img[x][y] = 0 \n",
    "    else:\n",
    "        # loop over the image, pixel by pixel\n",
    "        for x in range(0, w):\n",
    "            for y in range(0, h):\n",
    "                # threshold the pixel\n",
    "                img[x][y] = predict([x/w, y/h])\n",
    "    \n",
    "    plt.imshow(img, origin='lower')\n",
    "    plt.colorbar()\n",
    "    for x, y in zip(points,valor):\n",
    "        if y == 1:\n",
    "            plt.scatter(x=x[0]*h, y=x[1]*w, c='r', s=40)\n",
    "        else:\n",
    "            plt.scatter(x=x[0]*h, y=x[1]*w, c='b', s=40)\n",
    "    plt.show()### ⊗ Visualization"
   ]
  },
  {
   "cell_type": "code",
   "execution_count": 14,
   "metadata": {},
   "outputs": [],
   "source": [
    "def visualiza(points, valor, zero1=False):\n",
    "    img = np.ones((300, 400)) \n",
    "    # grab the image dimensions\n",
    "    w = img.shape[0]\n",
    "    h = img.shape[1]\n",
    "\n",
    "    if zero1:\n",
    "        for x in range(0, w):\n",
    "            for y in range(0, h):\n",
    "                # threshold the pixel\n",
    "                # print(predict([x/w, y/h]), (predict([x/w, y/h]) > 0.5))\n",
    "                if (predict([x/w, y/h]) > 0.5):\n",
    "                    img[x][y] = 1\n",
    "                else:\n",
    "                    img[x][y] = 0 \n",
    "    else:\n",
    "        # loop over the image, pixel by pixel\n",
    "        for x in range(0, w):\n",
    "            for y in range(0, h):\n",
    "                # threshold the pixel\n",
    "                img[x][y] = predict([x/w, y/h])\n",
    "    \n",
    "    plt.imshow(img, origin='lower')\n",
    "    plt.colorbar()\n",
    "    for x, y in zip(points,valor):\n",
    "        if y == 1:\n",
    "            plt.scatter(x=x[0]*h, y=x[1]*w, c='r', s=40)\n",
    "        else:\n",
    "            plt.scatter(x=x[0]*h, y=x[1]*w, c='b', s=40)\n",
    "    plt.show()"
   ]
  },
  {
   "cell_type": "code",
   "execution_count": 15,
   "metadata": {},
   "outputs": [
    {
     "data": {
      "image/png": "[encoded data removed]",
      "text/plain": [
       "<Figure size 432x288 with 2 Axes>"
      ]
     },
     "metadata": {
      "needs_background": "light"
     },
     "output_type": "display_data"
    },
    {
     "data": {
      "image/png": "[encoded data removed]",
      "text/plain": [
       "<Figure size 432x288 with 2 Axes>"
      ]
     },
     "metadata": {
      "needs_background": "light"
     },
     "output_type": "display_data"
    },
    {
     "data": {
      "text/plain": [
       "array([[0.78335735, 0.6591942 ],\n",
       "       [0.36046639, 0.43679884]])"
      ]
     },
     "execution_count": 15,
     "metadata": {},
     "output_type": "execute_result"
    }
   ],
   "source": [
    "visualiza(points, valor)\n",
    "visualiza(points, valor, True)\n",
    "WL1"
   ]
  },
  {
   "cell_type": "code",
   "execution_count": 16,
   "metadata": {},
   "outputs": [
    {
     "name": "stdout",
     "output_type": "stream",
     "text": [
      "[[0.78335735 0.6591942 ]\n",
      " [0.36046639 0.43679884]]\n",
      "------------------------\n",
      "[[ 0.78865138  0.65839034]\n",
      " [-1.4903955   0.61262679]]\n",
      "------------------------\n",
      "[[-0.47214895  2.87060143]]\n"
     ]
    },
    {
     "data": {
      "image/png": "[encoded data removed]",
      "text/plain": [
       "<Figure size 432x288 with 2 Axes>"
      ]
     },
     "metadata": {
      "needs_background": "light"
     },
     "output_type": "display_data"
    },
    {
     "data": {
      "image/png": "[encoded data removed]",
      "text/plain": [
       "<Figure size 432x288 with 2 Axes>"
      ]
     },
     "metadata": {
      "needs_background": "light"
     },
     "output_type": "display_data"
    }
   ],
   "source": [
    "# print(WL1.dot(np.matrix([[1],[1],[1]])))\n",
    "# print(predict([0,1,1]))\n",
    "# def predict(var):\n",
    "#     return 1.0\n",
    "print(WL1)\n",
    "for i in range(100):\n",
    "    treinaPerceptron(points, valor)\n",
    "print(\"------------------------\")\n",
    "print(WL1)\n",
    "print(\"------------------------\")\n",
    "print(WL2)\n",
    "    \n",
    "visualiza(points, valor)\n",
    "visualiza(points, valor, True)"
   ]
  },
  {
   "cell_type": "markdown",
   "metadata": {},
   "source": [
    "## Summary"
   ]
  },
  {
   "cell_type": "markdown",
   "metadata": {},
   "source": [
    "<p style='text-align: justify;'>\n",
    "In this notebook we have shown: \n",
    "\n",
    "- Creating samples,\n",
    "- Defining a MLP,\n",
    "- Training a model, \n",
    "- Visualization of model.\n",
    "    \n",
    "</p>    "
   ]
  },
  {
   "cell_type": "markdown",
   "metadata": {},
   "source": [
    "## Clear the Memory"
   ]
  },
  {
   "cell_type": "markdown",
   "metadata": {},
   "source": [
    "Before moving on, please execute the following cell to clear up the CPU memory. This is required to move on to the next notebook."
   ]
  },
  {
   "cell_type": "code",
   "execution_count": null,
   "metadata": {},
   "outputs": [],
   "source": [
    "#import IPython\n",
    "#app = IPython.Application.instance()\n",
    "#app.kernel.do_shutdown(True)"
   ]
  },
  {
   "cell_type": "markdown",
   "metadata": {},
   "source": [
    "## Next"
   ]
  },
  {
   "cell_type": "markdown",
   "metadata": {},
   "source": [
    "In this section you learned how to apply the Multilayer Perceptron using Intel® Python for data classification. In the next section, you will see  how to the Multilayer Perceptron learning, and after many guesses and adjustments, the weights will be correct in the notebook [_02-multilayer-perceptron-classification_](02-multilayer-perceptron-classification.ipynb)."
   ]
  }
 ],
 "metadata": {
  "kernelspec": {
   "display_name": "Python 3 (ipykernel)",
   "language": "python",
   "name": "python3"
  },
  "language_info": {
   "codemirror_mode": {
    "name": "ipython",
    "version": 3
   },
   "file_extension": ".py",
   "mimetype": "text/x-python",
   "name": "python",
   "nbconvert_exporter": "python",
   "pygments_lexer": "ipython3",
   "version": "3.8.8"
  }
 },
 "nbformat": 4,
 "nbformat_minor": 4
}
