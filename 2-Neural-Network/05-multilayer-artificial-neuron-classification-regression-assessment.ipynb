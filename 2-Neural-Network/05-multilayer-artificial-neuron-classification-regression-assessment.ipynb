{
 "cells": [
  {
   "cell_type": "markdown",
   "metadata": {},
   "source": [
    "# Assessments"
   ]
  },
  {
   "cell_type": "markdown",
   "metadata": {},
   "source": [
    "<p style='text-align: justify;'>\n",
    "    Congratulations on finishing the MPL course!! Hopefully, you learned some valuable skills along the way and had fun doing it. Now it is time to put those skills to the test. In this assessment, we have two problems: First, you will train a new model capable of classifying the $10$ different classes all included in the database known as \n",
    "    <a href=\"https://www.cs.toronto.edu/~kriz/cifar.html\">CIFAR-10</a>.\n",
    "    You will need to get the model to a validation to pass the assessment, although we challenge you to do even better if you can. You will have to use the skills you learned in the previous exercises. Second, you will solve \n",
    "    <a href=\"https://www.kaggle.com/competitions/titanic\">Kaggle's Titanic</a> challenge. The task consists of processing the data, generating the model, and doing a deploy. Let's get started!\n",
    "</p>\n",
    " "
   ]
  },
  {
   "cell_type": "markdown",
   "metadata": {},
   "source": [
    "## Problem #1: CIFAR-10 classification"
   ]
  },
  {
   "cell_type": "markdown",
   "metadata": {},
   "source": [
    "<p style='text-align: justify;'>\n",
    "To start studying neural networks, it is necessary to understand and be able to apply the most basic concepts of recognition to your model. A good way to test and train your model is to use the CIFAR-10 database which is a set of $60,000$ images for $10$ different classes (planes, cars, birds, cats, deer, dogs, frogs, horses, ships, and trucks) which are identified from $0$ to $9$ respectively. With that in mind, you will train your model on top of this base, making it possible to correctly recognize each element of these classes.\n",
    "</p>    "
   ]
  },
  {
   "cell_type": "markdown",
   "metadata": {},
   "source": [
    "<p style=\"text-align: center;\">\n",
    " <img src=\"images/figure15_CIFAR10.png\">\n",
    "</p>"
   ]
  },
  {
   "cell_type": "markdown",
   "metadata": {
    "tags": []
   },
   "source": [
    "### Characteristics of images from the CIFAR-10 database\n",
    "<p style='text-align: justify;'>\n",
    "Each image has dimensions of $32$x$32$ pixels, so remember to adjust your image when making a prediction with the model. For each class, there are $6,000$ images related to its type, so you must adjust the number of training epochs as well as the learning rate.\n",
    "    </p>"
   ]
  },
  {
   "cell_type": "markdown",
   "metadata": {},
   "source": [
    "Then:\n",
    "\n",
    "1. Create an multilyer artificial neuron,\n",
    "\n",
    "2. Import the CIFAR-10 database from the torchvision library,\n",
    "\n",
    "3. Train your model so that it correctly performs predictions, paying attention to the input parameters,\n",
    "\n",
    "4. Perform the prediction with some image."
   ]
  },
  {
   "cell_type": "markdown",
   "metadata": {},
   "source": [
    "## Problem #2: Titanic"
   ]
  },
  {
   "cell_type": "markdown",
   "metadata": {},
   "source": [
    "<p style='text-align: justify;'>\n",
    "The sinking of the Titanic is one of the most infamous shipwrecks in history. On April 15, 1912, during her maiden voyage, the widely considered “unsinkable” RMS Titanic sank after colliding with an iceberg. Unfortunately, there weren’t enough lifeboats for everyone onboard, resulting in 1502 deaths out of the 2224 passengers and crew.\n",
    "</p>\n",
    "While some element of luck was involved in surviving, some groups were more likely to survive than others.\n",
    "<p style='text-align: justify;'>\n",
    "In this problem, we ask you to build a predictive model that answers the question: \"What sorts of people were more likely to survive?\" using passenger data (i.e., name, age, gender, socio-economic class, etc.).\n",
    "    </p>"
   ]
  },
  {
   "cell_type": "markdown",
   "metadata": {},
   "source": [
    "In this competition, you will gain access to two similar datasets that include passenger information like name, age, gender, socio-economic class, etc. One dataset is titled `train.csv`, and the other is titled `test.csv`.\n",
    "\n",
    "`train.csv` will contain the details of a subset of the passengers on board ($891$ to be exact) and, importantly, will reveal whether they survived, also known as the _ground truth_.\n",
    "\n",
    "The `test.csv` dataset contains similar information but does not disclose the _ground truth_ for each passenger. It is your job to predict these outcomes.\n",
    "\n",
    "Using the patterns in the `train.csv` data, predict whether the other $418$ passengers on board (found in `test.csv`) survived.\n",
    "\n",
    "Check out the *Data* tab to explore the datasets even further. Once you feel you have created a competitive model, please submit it to [Kaggle](https://www.kaggle.com/) to see where your model stands on our leaderboard against other Kagglers."
   ]
  },
  {
   "cell_type": "markdown",
   "metadata": {},
   "source": [
    "### Data Dictionary\n",
    "\n",
    "| Variable | Definition | \tKey |\n",
    "| :-:      | :-:        | :-:   |\n",
    "| survival | Survival\t| 0 = No, 1 = Yes|\n",
    "| pclass   | Ticket class | 1 = 1st, 2 = 2nd, 3 = 3rd |\n",
    "| sex\t   | Sex\t| |\n",
    "| Age\t   | Age in years\t| |\n",
    "| sibsp\t   | # of siblings / spouses aboard the Titanic\t| |\n",
    "| parch\t   | # of parents / children aboard the Titanic\t| |\n",
    "| ticket   | Ticket number\t| |\n",
    "| fare\t   | Passenger fare\t| |\n",
    "| cabin\t   | Cabin number\t| |\n",
    "| embarked | Port of embarkation |\tC = Cherbourg, Q = Queenstown, S = Southampton |\n",
    "\n",
    "#### Variable Notes\n",
    "\n",
    "**pclass**: A proxy for socio-economic status (SES)\n",
    "\n",
    "* 1st = Upper\n",
    "* 2nd = Middle\n",
    "* 3rd = Lower\n",
    "\n",
    "---\n",
    "\n",
    "**age**: Age is fractional if less than 1. If the age is estimated, is it in the form of xx.5\n",
    "\n",
    "----\n",
    "\n",
    "**sibsp**: The dataset defines family relations in this way...\n",
    "\n",
    "* Sibling = brother, sister, stepbrother, stepsister\n",
    "* Spouse = husband, wife (mistresses and fiancés were ignored)\n",
    "\n",
    "----\n",
    "**parch**: The dataset defines family relations in this way...\n",
    "\n",
    "* Parent = mother, father\n",
    "* Child = daughter, son, stepdaughter, stepson\n",
    "* Some children travelled only with a nanny, therefore parch=0 for them."
   ]
  }
 ],
 "metadata": {
  "kernelspec": {
   "display_name": "Python 3 (ipykernel)",
   "language": "python",
   "name": "python3"
  },
  "language_info": {
   "codemirror_mode": {
    "name": "ipython",
    "version": 3
   },
   "file_extension": ".py",
   "mimetype": "text/x-python",
   "name": "python",
   "nbconvert_exporter": "python",
   "pygments_lexer": "ipython3",
   "version": "3.8.8"
  }
 },
 "nbformat": 4,
 "nbformat_minor": 4
}
