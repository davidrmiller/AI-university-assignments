{
 "cells": [
  {
   "cell_type": "markdown",
   "metadata": {},
   "source": [
    "# Training the Perceptron Neural Network"
   ]
  },
  {
   "cell_type": "markdown",
   "metadata": {},
   "source": [
    "In this section, we will discuss about training neural networks based on perceptron. The training process is crucial for the accuracy of an artificial intelligence."
   ]
  },
  {
   "cell_type": "markdown",
   "metadata": {},
   "source": [
    "## Training"
   ]
  },
  {
   "cell_type": "markdown",
   "metadata": {},
   "source": [
    "<p style='text-align: justify;'> \n",
    "Training a perceptron neural network is essential for those who wish to work with machine learning. This technique teaches a machine to recognize patterns and perform specific tasks such as image classification, voice recognition, and data analysis.\n",
    " \n",
    "\n",
    "* The training process involves adjusting the weights of the connections between the neurons in the network to minimize the error in the network's output. The learning algorithm is responsible for updating the weights at each iteration of the training process.\n",
    "\n",
    "* With proper training, it is possible to create perceptron neural network models capable of performing complex tasks with great accuracy, which can be very useful in various fields, such as healthcare, finance, and technology.\n",
    "    \n",
    "In summary, the training of a perceptron is done by updating the weights. But to update the weights, it is necessary to \"inform\" what the error is. Mathematically the training can be expressed by: \n",
    "</p> \n",
    "$$\n",
    "e = (y - y_{pred})\n",
    "$$\n",
    "<br>   \n",
    "$$\n",
    "err = lr*e*X_i\n",
    "$$\n",
    "<br>    \n",
    "$$\n",
    "W_i = W_i + err\n",
    "$$\n",
    "\n",
    "Where:\n",
    "  - $lr$ is the learning rate or Learning Rate,\n",
    "  - $e$ is the Network Error, usually the desired value minus the actual value,\n",
    "  - $X_i$ is the input value associated with the weight,\n",
    "  - $W_i$ is the weight."
   ]
  },
  {
   "cell_type": "markdown",
   "metadata": {},
   "source": [
    "## The Weights"
   ]
  },
  {
   "cell_type": "markdown",
   "metadata": {},
   "source": [
    "<p style='text-align: justify;'>\n",
    "Obtaining a neural network with a high level of accuracy implies having a network with well-defined parameter weights. Within a neural network, the essential components for decision-making are precisely the weights each parameter will possess. The weights will be how relevant each parameter will be in that decision-making.\n",
    "</p>    "
   ]
  },
  {
   "cell_type": "markdown",
   "metadata": {},
   "source": [
    "## ☆ Challenger: Classification of Roses and Violets  ☆"
   ]
  },
  {
   "cell_type": "markdown",
   "metadata": {},
   "source": [
    "Consider the following problem:\n",
    "\n",
    "**Roses are red, violets are blue, the stems of roses are tall, and violets are short.**\n",
    "\n",
    "Then:\n",
    "\n",
    "- Having the color spectrum between $red = 0$ and $blue = 10$.\n",
    "\n",
    "- Between $0$ and $10$, there is a mixture of the two colors, where the closer to $0$ is redder, and the closer to $10$ is bluer.\n",
    "\n",
    "- Given a set of pairs with (height and color) determine whether it is a rose or a violet.\n",
    "\n",
    "<p style=\"text-align: center;\">\n",
    " <img src=\"images/figure3_rosesXviolets.png\"  width=\"500\" height=\"500\">\n",
    "</p>\n",
    "\n",
    "1. Create a Training the Perceptron Neural Network with Intel® Python.\n",
    "\n",
    "2. Formulate the labels (known data) for this problem.\n",
    "\n",
    "3. Use the Trained Perceptron to classify whether they are pink or violet, and answer:\n",
    "    \n",
    "    - ``How many did she get right and wrong?``\n",
    "    \n",
    "    - ``What is the difference with and without training?``"
   ]
  },
  {
   "cell_type": "markdown",
   "metadata": {},
   "source": [
    "### ☆ Solution ☆ "
   ]
  },
  {
   "cell_type": "markdown",
   "metadata": {},
   "source": [
    "Having understood the basic concepts of neural network training, now is the time to implement code capable of training a network."
   ]
  },
  {
   "cell_type": "markdown",
   "metadata": {},
   "source": [
    "#### ⊗ Import Python Packages"
   ]
  },
  {
   "cell_type": "markdown",
   "metadata": {},
   "source": [
    "&emsp;First of all, we need to import the libraries that we will use for training."
   ]
  },
  {
   "cell_type": "code",
   "execution_count": 2,
   "metadata": {},
   "outputs": [],
   "source": [
    "# Python packages\n",
    "import numpy as np\n",
    "import math\n",
    "import random\n",
    "from matplotlib import pyplot as plt"
   ]
  },
  {
   "cell_type": "markdown",
   "metadata": {},
   "source": [
    "#### ⊗ Create the perceptron class"
   ]
  },
  {
   "cell_type": "markdown",
   "metadata": {},
   "source": [
    "<p style='text-align: justify;'>\n",
    "The next step is to create a class that will be responsible for representing the perceptron in our model. This class will have the attributes that characterize our perceptron and also the functions that will represent the actions it will be performing. Among the existing attributes, we have:\n",
    "</p>    "
   ]
  },
  {
   "cell_type": "markdown",
   "metadata": {},
   "source": [
    "* **input_size** - the number of parameters that the input data will have;\n",
    "* **learning_rate** - the value at which the weights will be changed;\n",
    "* **activation_fn** - the activation function of the neural network;\n",
    "* **W** - the weights of each parameter within our network."
   ]
  },
  {
   "cell_type": "markdown",
   "metadata": {},
   "source": [
    "In the Perceptron class, we also have two functions, predict and fit."
   ]
  },
  {
   "cell_type": "markdown",
   "metadata": {},
   "source": [
    "<p style='text-align: justify;'>\n",
    "The predict function aims to make the final prediction for a given input. That is, this is the function responsible for the final response of the model to a given input data. The other function is fit, which in turn is responsible for training the neural network by adjusting its weight every time it makes a prediction.\n",
    "</p>"
   ]
  },
  {
   "cell_type": "code",
   "execution_count": 3,
   "metadata": {},
   "outputs": [],
   "source": [
    "# Perceptron class with it's own functions and attributes\n",
    "# Activation function: sigmoid\n",
    "def sig(x):\n",
    " return 1 / (1 + math.exp(-x))\n",
    "\n",
    "class Perceptron:\n",
    "    def __init__(self, input_size=2, learning_rate=0.1, activation_fn = sig):\n",
    "        self.input_size = input_size \n",
    "        self.learning_rate = learning_rate \n",
    "        self.activation_fn = activation_fn \n",
    "        self.W = np.random.uniform(-1, 1, size=(input_size)) # Initializes the weights with random values.\n",
    "\n",
    "    # Prediction function, receives an input and returns 1 (pink) or 0 (violet)\n",
    "    def predict(self, x): \n",
    "        z = self.W.dot(x)  # Dot product between self.W transpose and x\n",
    "        a = self.activation_fn(z) # Insert z into the activation function to obtain the final prediction result: > 0.5 (rose) or <= 0.5 (violet)\n",
    "  \n",
    "        if(a > 0.5):\n",
    "            return 1 #rose\n",
    "        else:\n",
    "            return 0 # violet\n",
    "\n",
    "    # Perceptron training function, X = input, y = expected output, epochs = number of times it will train\n",
    "    def fit(self, X, y, epochs):  \n",
    "        for epoch in range(epochs):\n",
    "            for i in range(len(X)): \n",
    "                x = X[i]            \n",
    "                y_true = y[i]\n",
    "                y_pred = self.predict(x) \n",
    "                error = y_true - y_pred  # Calculate if there was an error in the prediction or not, 1 (had an error) or 0 (had no error\n",
    "                self.W += self.learning_rate * error * x # Update the weights, if the result is correct the weights are not changed"
   ]
  },
  {
   "cell_type": "markdown",
   "metadata": {},
   "source": [
    "<p style='text-align: justify;'>\n",
    "After creating the class to represent a perceptron we need to develop a function to test the prediction results. To do this, we can use the logic below present in the function test_plant, where its objective is to test the plants individually, receiving as input parameters their height and color and returning as output whether the plant is closer to a violet or a rose.\n",
    "</p>"
   ]
  },
  {
   "cell_type": "code",
   "execution_count": 4,
   "metadata": {},
   "outputs": [],
   "source": [
    "# Test individual plants\n",
    "def test_plant(color, steam): \n",
    "    plant = np.array([color, steam]) # Create an instance of the plant\n",
    "    result = perceptron.predict(plant)\n",
    "    return result"
   ]
  },
  {
   "cell_type": "markdown",
   "metadata": {},
   "source": [
    "To facilitate the task of testing all plants, we can create a function that has this objective. Therefore, the function that will test all existing plants in the test cases is shown below."
   ]
  },
  {
   "cell_type": "code",
   "execution_count": 5,
   "metadata": {},
   "outputs": [],
   "source": [
    "# Test all plants\n",
    "def test_all_plants(X): \n",
    "    result_array = []\n",
    "    for i in range(len(X)):        \n",
    "        x = X[i]          \n",
    "        result_array.append(test_plant(x[0], x[1]))\n",
    "    return result_array"
   ]
  },
  {
   "cell_type": "markdown",
   "metadata": {},
   "source": [
    "Before starting the training, we need to instantiate the perceptron so that we can use the functionalities we created for it. To do this, just execute the code below where we will be initializing a perceptron with known values in its parameters."
   ]
  },
  {
   "cell_type": "code",
   "execution_count": 6,
   "metadata": {},
   "outputs": [],
   "source": [
    "# Create an instance of Perceptron to classify roses and violets\n",
    "perceptron = Perceptron(input_size=2, learning_rate=0.1, activation_fn=sig )"
   ]
  },
  {
   "cell_type": "markdown",
   "metadata": {},
   "source": [
    "<p style='text-align: justify;'>\n",
    "Now with all the functions developed, we can move on to the training and accuracy testing stage of our neural network. First, we must establish some training data. The variable $X$ is a vector of plants, where $X_1$ represents the height and $X_2$ represents the color of that plant. All values present in the vector were randomly chosen only to train the neural network. Just a reminder that $X_1$ represents the height of the plants, not having a defined limit by the problem, while $X_2$ represents the color, which has a limit of $0$ to $10$ previously established.\n",
    "</p>"
   ]
  },
  {
   "cell_type": "code",
   "execution_count": 7,
   "metadata": {},
   "outputs": [],
   "source": [
    "# X = ([[color, stem], [color, stem] ...]) = np.array([\n",
    "X = np.array([\n",
    "             [ 0, 5 ],  # Rose\n",
    "             [ 1, 12 ], # Rose\n",
    "             [ 2, 11 ], # Rose\n",
    "             [ 2, 10 ], # Rose\n",
    "             [ 2, 18 ], # Rose\n",
    "             [ 3, 11 ], # Rose\n",
    "             [ 5, 1 ],  # Rose\n",
    "             [ 6, 4 ],  # Violet\n",
    "             [ 7, 1 ],  # Violet \n",
    "             [ 8, 9 ],  # Violet\n",
    "             [ 9, 4 ]   # Violet                              \n",
    "])"
   ]
  },
  {
   "cell_type": "markdown",
   "metadata": {},
   "source": [
    "<p style='text-align: justify;'>\n",
    "After creating the test plants, we need to tell what is expected for each test input so that it is possible to train our neural network. To do this, just specify the result for each test case ($X_1$ and $X_2$) present in the example above. Below is an example of expected outputs for the inputs.\n",
    "</p>"
   ]
  },
  {
   "cell_type": "code",
   "execution_count": 8,
   "metadata": {},
   "outputs": [],
   "source": [
    "# Define the expected outputs for each input, 1 = Rose, 0 = Violet\n",
    "y = np.array([1, 1, 1, 1, 1, 1, 0, 0, 0, 0, 0])"
   ]
  },
  {
   "cell_type": "markdown",
   "metadata": {},
   "source": [
    "<p style='text-align: justify;'>\n",
    "After determining the training data for each plant, we will plot a graph for better visualization. The graph representation will have two values, $[X,Y]$, where $X$ represents the height and $Y$ represents the color. Remembering that all values chosen for height and color were chosen randomly.\n",
    "</p>"
   ]
  },
  {
   "cell_type": "code",
   "execution_count": 9,
   "metadata": {},
   "outputs": [
    {
     "data": {
      "image/png": "[encoded data removed]",
      "text/plain": [
       "<Figure size 640x480 with 1 Axes>"
      ]
     },
     "metadata": {},
     "output_type": "display_data"
    }
   ],
   "source": [
    "# Visualization - Plot the samples\n",
    "for result, input in zip(y, X):\n",
    "    if result == 1: # rose\n",
    "        plt.scatter(input[0], input[1], s=120, marker='+', linewidths=2, color=\"red\")\n",
    "    else: # violet\n",
    "        plt.scatter(input[0], input[1], s=120, marker='_', linewidths=2, color=\"blue\")\n",
    "\n",
    "# Print a possible hyperplane, that is seperating the two classes\n",
    "plt.xlabel('Color')\n",
    "plt.ylabel('Stem')\n",
    "plt.title('Roses (+) x Violets (-)')\n",
    "plt.plot([0,10],[0,30])\n",
    "plt.show()"
   ]
  },
  {
   "cell_type": "markdown",
   "metadata": {},
   "source": [
    "<p style='text-align: justify;'>\n",
    "After declaring both the training cases and the expected outputs, just use the fit function to train the neural network. In the parameter of the function, we have the epochs attribute, which is the number of times we will repeat the process of training our neural network. Below is an example of training our network.\n",
    "</p>    "
   ]
  },
  {
   "cell_type": "code",
   "execution_count": 10,
   "metadata": {},
   "outputs": [],
   "source": [
    "perceptron.fit(X, y, epochs=1000) # Trains the Perceptron with the training data"
   ]
  },
  {
   "cell_type": "markdown",
   "metadata": {},
   "source": [
    "<p style='text-align: justify;'>\n",
    "Before moving on to the next step, we need to define some plants that will be used as test cases to validate the accuracy of our neural network. This can be done as follows. Again, the values for heights and colors were chosen randomly.\n",
    "</p>    "
   ]
  },
  {
   "cell_type": "code",
   "execution_count": 11,
   "metadata": {},
   "outputs": [],
   "source": [
    "# Tests the model and returns the results\n",
    "X_test = np.array([\n",
    "             [ 1, 10 ],  # Rose\n",
    "             [ 2, 25 ],  # Rose\n",
    "             [ 3, 22 ],  # Rose\n",
    "             [ 4, 20 ],  # Rose\n",
    "             [ 5, 23 ],  # Rose\n",
    "             [ 6, 1 ],   # Violet\n",
    "             [ 7, 8 ],   # Violet\n",
    "             [ 8, 1 ],   # Violet\n",
    "             [ 9, 10 ],  # Violet\n",
    "             [ 10, 8 ],  # Violet                             \n",
    "])"
   ]
  },
  {
   "cell_type": "markdown",
   "metadata": {},
   "source": [
    "<p style='text-align: justify;'>\n",
    "With the neural network properly trained, we just need to collect the test results using the test_all_plants function and passing the chosen test cases as a parameter.\n",
    "</p>    "
   ]
  },
  {
   "cell_type": "code",
   "execution_count": 12,
   "metadata": {},
   "outputs": [],
   "source": [
    "# Gets the results obtained by passing all tests\n",
    "yResult = test_all_plants(X_test)"
   ]
  },
  {
   "cell_type": "markdown",
   "metadata": {},
   "source": [
    "<p style='text-align: justify;'>\n",
    "After doing this, we will have the final outputs for the obtained test cases. To determine the accuracy of our network, we just need to compare the results obtained at the end of the training with the expected results. \n",
    "</p>"
   ]
  },
  {
   "cell_type": "code",
   "execution_count": 13,
   "metadata": {},
   "outputs": [
    {
     "data": {
      "image/png": "[encoded data removed]",
      "text/plain": [
       "<Figure size 640x480 with 1 Axes>"
      ]
     },
     "metadata": {},
     "output_type": "display_data"
    }
   ],
   "source": [
    "# Visualization - Plot the samples\n",
    "for result, input in zip(yResult, X_test):\n",
    "    if result == 1: # Rose\n",
    "        plt.scatter(input[0], input[1], s=120, marker='+', linewidths=2, color=\"red\")\n",
    "    else: # Violet\n",
    "        plt.scatter(input[0], input[1], s=120, marker='_', linewidths=2, color=\"blue\")\n",
    "\n",
    "# Print a possible hyperplane, that is seperating the two classes.\n",
    "plt.xlabel('Color')\n",
    "plt.ylabel('Stem')\n",
    "plt.title('Roses (+) x Violets (-)')\n",
    "plt.plot([0,10],[0,30])\n",
    "plt.show()"
   ]
  },
  {
   "cell_type": "markdown",
   "metadata": {},
   "source": [
    "## Summary"
   ]
  },
  {
   "cell_type": "markdown",
   "metadata": {},
   "source": [
    "<p style='text-align: justify;'>\n",
    "Training the Perceptron Neural Network is necessary in order to increase assertiveness\n",
    "of the classification.  This notebook discussed the concepts of train the Perceptron and how use this in a good classification.\n",
    "</p>"
   ]
  },
  {
   "cell_type": "markdown",
   "metadata": {},
   "source": [
    "## Clear the Memory"
   ]
  },
  {
   "cell_type": "markdown",
   "metadata": {},
   "source": [
    "Before moving on, please execute the following cell to clear up the CPU memory. This is required to move on to the next notebook."
   ]
  },
  {
   "cell_type": "code",
   "execution_count": 14,
   "metadata": {},
   "outputs": [
    {
     "data": {
      "text/plain": [
       "{'status': 'ok', 'restart': True}"
      ]
     },
     "execution_count": 14,
     "metadata": {},
     "output_type": "execute_result"
    },
    {
     "ename": "",
     "evalue": "",
     "output_type": "error",
     "traceback": [
      "\u001b[1;31mThe Kernel crashed while executing code in the the current cell or a previous cell. Please review the code in the cell(s) to identify a possible cause of the failure. Click <a href='https://aka.ms/vscodeJupyterKernelCrash'>here</a> for more info. View Jupyter <a href='command:jupyter.viewOutput'>log</a> for further details."
     ]
    }
   ],
   "source": [
    "import IPython\n",
    "app = IPython.Application.instance()\n",
    "app.kernel.do_shutdown(True)"
   ]
  },
  {
   "cell_type": "markdown",
   "metadata": {},
   "source": [
    "## Next"
   ]
  },
  {
   "cell_type": "markdown",
   "metadata": {},
   "source": [
    "In this section you learned how to build a simple Perceptron Neural Network with Python for data classification. In the next section, you will be asked to build your own Perceptron with perform data preparation to solve a different data classification with the concepts of BIAS in the notebook [_03-percepetron-bias.ipynb_](03-percepetron-bias.ipynb)."
   ]
  }
 ],
 "metadata": {
  "kernelspec": {
   "display_name": "Python 3 (ipykernel)",
   "language": "python",
   "name": "python3"
  },
  "language_info": {
   "codemirror_mode": {
    "name": "ipython",
    "version": 3
   },
   "file_extension": ".py",
   "mimetype": "text/x-python",
   "name": "python",
   "nbconvert_exporter": "python",
   "pygments_lexer": "ipython3",
   "version": "3.10.6"
  }
 },
 "nbformat": 4,
 "nbformat_minor": 4
}
