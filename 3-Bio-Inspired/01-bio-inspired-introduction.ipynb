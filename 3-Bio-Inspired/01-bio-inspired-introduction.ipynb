{
 "cells": [
  {
   "cell_type": "markdown",
   "metadata": {
    "tags": []
   },
   "source": [
    "# Bio-inspired Algorithms"
   ]
  },
  {
   "cell_type": "markdown",
   "metadata": {
    "tags": []
   },
   "source": [
    "<p style='text-align: justify;'> \n",
    "Bio-inspired algorithms are computational techniques designed to solve complex problems by mimicking biological processes and behaviors found in nature. Drawing inspiration from phenomena such as genetic evolution, the swarming of birds, or the human immune system, these algorithms have been developed to address tasks often related to optimization, search, and learning. By capturing the adaptability, efficiency, and robustness of natural systems, bio-inspired algorithms have found applications in diverse fields ranging from engineering and finance to artificial intelligence. Their unique approach represents a blend of biology and computer science, leading to innovative solutions for some of the most challenging computational problems. \n",
    "</p>"
   ]
  },
  {
   "cell_type": "markdown",
   "metadata": {
    "tags": []
   },
   "source": [
    "## Types of bio-inspired algorithms"
   ]
  },
  {
   "cell_type": "markdown",
   "metadata": {},
   "source": [
    "There are several types of bio-inspired algorithms, each modeled after different natural phenomena:\n",
    "\n",
    "<div style=\"text-align: justify;\">\n",
    "    <p><strong>Swarm algorithms:</strong> these algorithms are inspired by the collective behavior of social organisms, such as ants, bees, birds, and fish, which work together to achieve common goals.</p>\n",
    "    <p><strong>Ant colony optimization:</strong> inspired by the behavior of ants searching for shorter paths to a food source, leaving pheromone trails to communicate with other ants. The algorithm simulates this process to find optimal solutions for optimization problems.</p>\n",
    "    <p><strong>Simulated annealing:</strong> inspired by the physical process of metal annealing, the algorithm allows accepting worse solutions with a certain probability to escape local minima and explore the search space more effectively in optimization problems.</p>\n",
    "    <p><strong>Evolution strategies:</strong> these are evolutionary algorithms that aim to find optimal solutions through mutation and selection mechanisms, similar to genetic algorithms, but with some differences in their approaches.</p>\n",
    "</div>\n",
    "\n",
    "\n",
    "<p style='text-align: justify;'>\n",
    "The primary reason for the development and use of bio-inspired algorithms is that they have proven effective at solving problems that are complex, dynamic, and uncertain, particularly in areas like optimization, scheduling, and machine learning. They often do this by balancing the exploration and exploitation of the search space, which can help to avoid getting stuck in local optima. These algorithms offer a variety of potential advantages, including robustness, adaptability, and the ability to deal with complex and dynamic problems. They are used in various applications, from engineering design to financial modeling to artificial intelligence and beyond.\n",
    "</p>"
   ]
  },
  {
   "cell_type": "markdown",
   "metadata": {},
   "source": [
    "## Table of contents"
   ]
  },
  {
   "cell_type": "markdown",
   "metadata": {},
   "source": [
    "During this topic course today you will work through each of the following notebooks:\n",
    "\n",
    "- [_Genetic algorithms_](02-bio-inspired-genetic-algorithm.ipynb): In this notebook you will introduced the the concepts of genetic algorithms and your applications.\n",
    "\n",
    "- [_Ant colony optimization_](03-bio-inspired-ant-colony-algorithm.ipynb): You will begin by familiarizing with the concepts of ant colony optimization.\n",
    "\n",
    "- [_Particle swarm optimization_](04-bio-inspired-particle-swarm-optimization.ipynb): You will begin by starting yourself with a particle swarm optimization.\n",
    "\n",
    "- [_Intel Sig Opt_](05-bio-inspired-intelSigOpt.ipynb): In this notebook you will extend the bio-inspired application in the Intel® SigOpt."
   ]
  }
 ],
 "metadata": {
  "kernelspec": {
   "display_name": "Python 3 (ipykernel)",
   "language": "python",
   "name": "python3"
  },
  "language_info": {
   "codemirror_mode": {
    "name": "ipython",
    "version": 3
   },
   "file_extension": ".py",
   "mimetype": "text/x-python",
   "name": "python",
   "nbconvert_exporter": "python",
   "pygments_lexer": "ipython3",
   "version": "3.8.8"
  },
  "toc-autonumbering": false,
  "toc-showtags": false
 },
 "nbformat": 4,
 "nbformat_minor": 4
}
