{
 "cells": [
  {
   "cell_type": "markdown",
   "metadata": {},
   "source": [
    "# Assessment"
   ]
  },
  {
   "cell_type": "markdown",
   "metadata": {},
   "source": [
    "<p style='text-align: justify;'>\n",
    "Congratulations on finishing the bio-inspired course!! Hopefully, you learned some valuable skills along the way and had fun doing it. Now it is time to put those skills to the test. In this assessment, we have the follow problem: Soccer passing strategies. First, you will make the effectiveness of this approach depends on technical skill, tactical understanding, and coordination between players. Let's get started!\n",
    "</p>"
   ]
  },
  {
   "cell_type": "markdown",
   "metadata": {},
   "source": [
    "## Problem: Soccer passing strategies"
   ]
  },
  {
   "cell_type": "markdown",
   "metadata": {},
   "source": [
    "<p style='text-align: justify;'>\n",
    "Soccer passing strategies, especially those that move the ball from goalkeeper to striker quickly and efficiently without a long shot or <i>hot link</i>, are critical in the modern game. The idea is to maintain possession of the ball, moving it across the pitch with a series of short, controlled passes, often involving midfielders and defenders. From the following graph, find the most efficient passing path leaving the goalkeeper (1) and arriving at the last attacker (11), considering the possible connections and distances between players on the same team.\n",
    "</p>    \n",
    "\n",
    "<p style=\"text-align: center;\">\n",
    " <img src=\"./../images/figure16_soccer_assessment.jpg\">\n",
    "</p>\n"
   ]
  },
  {
   "cell_type": "markdown",
   "metadata": {},
   "source": [
    "### Characteristics of the connections and distances\n",
    "\n",
    "We encourage you to start with a model pretrained from the following table. Load the model with the correct values. Remember that the features have two dimensions: **Player origin**, **Player destination**, and **distance**. In summary, your model will require an output layer of one bio-inspired algorithm. "
   ]
  },
  {
   "cell_type": "markdown",
   "metadata": {},
   "source": [
    "| Player origin | Player destination  | Distance (m)\n",
    "| :-:           | :-:                 | :-: \n",
    "|1 \t\t\t\t| 3  \t\t\t\t  | 4\n",
    "|1 \t\t\t\t| 5  \t\t\t\t  | 6\n",
    "|1 \t\t\t\t| 4  \t\t\t\t  | 4\n",
    "|1 \t\t\t\t| 7  \t\t\t\t  | 20\n",
    "|3 \t\t\t\t| 2  \t\t\t\t  | 4\n",
    "|4 \t\t\t\t| 2  \t\t\t\t  | 6\n",
    "|4 \t\t\t\t| 5  \t\t\t\t  | 4\n",
    "|2 \t\t\t\t| 5  \t\t\t\t  | 5\n",
    "|5 \t\t\t\t| 6  \t\t\t\t  | 4\n",
    "|5 \t\t\t\t| 7  \t\t\t\t  | 8\n",
    "|6 \t\t\t\t| 9  \t\t\t\t  | 5\n",
    "|7 \t\t\t\t| 8  \t\t\t\t  | 6\n",
    "|7 \t\t\t\t| 11 \t\t\t\t  | 15\n",
    "|7 \t\t\t\t| 9  \t\t\t\t  | 7\n",
    "|8 \t\t\t\t| 10 \t\t\t\t  | 7\n",
    "|8 \t\t\t\t| 9  \t\t\t\t  | 15 \n",
    "|9 \t\t\t\t| 10 \t\t\t\t  | 10\n",
    "|9 \t\t\t\t| 11 \t\t\t\t  | 8  \n",
    "|10             | 11 \t\t\t\t  | 6"
   ]
  },
  {
   "cell_type": "markdown",
   "metadata": {},
   "source": [
    "`Its mission is to help the coach to create the best pass-to-goal strategy, that is, to find the ideal order, with the shortest path, to pass the ball between the players until it reaches the opposing goal`. To do that, answer the following item: \n",
    "\n",
    "a) Implement a bio-inspired algorithm to find the best route between the players using soccer passing strategie."
   ]
  },
  {
   "cell_type": "markdown",
   "metadata": {},
   "source": [
    "### ☆ Solution ☆ "
   ]
  },
  {
   "cell_type": "markdown",
   "metadata": {},
   "source": [
    "### `GA`"
   ]
  },
  {
   "cell_type": "markdown",
   "metadata": {},
   "source": [
    "### ⊗ **Importing libraries into our algorithm**"
   ]
  },
  {
   "cell_type": "code",
   "execution_count": 6,
   "metadata": {},
   "outputs": [],
   "source": [
    "import random"
   ]
  },
  {
   "cell_type": "markdown",
   "metadata": {
    "tags": []
   },
   "source": [
    "### ⊗ **Players connections**: "
   ]
  },
  {
   "cell_type": "markdown",
   "metadata": {},
   "source": [
    "Let's define all possible connections between players"
   ]
  },
  {
   "cell_type": "code",
   "execution_count": 7,
   "metadata": {},
   "outputs": [],
   "source": [
    "player_connections = {\n",
    "    \"Player 1\": {\"Player 3\": 4, \"Player 4\": 4, \"Player 5\": 6, \"Player 7\": 20},\n",
    "    \"Player 2\": {\"Player 4\": 6, \"Player 5\": 5},\n",
    "    \"Player 3\": {\"Player 1\": 4, \"Player 2\": 4},\n",
    "    \"Player 4\": {\"Player 1\": 4, \"Player 2\": 6, \"Player 5\": 4},\n",
    "    \"Player 5\": {\"Player 1\": 6, \"Player 2\": 5, \"Player 4\": 4, \"Player 6\": 4,\"Player 7\": 8},\n",
    "    \"Player 6\": {\"Player 5\": 4, \"Player 9\": 5},\n",
    "    \"Player 7\": {\"Player 1\": 20, \"Player 5\": 8, \"Player 8\": 6, \"Player 9\": 7, \"Player 11\": 15},\n",
    "    \"Player 8\": {\"Player 7\": 6, \"Player 9\": 15, \"Player 10\": 7},\n",
    "    \"Player 9\": {\"Player 6\": 5, \"Player 7\": 7, \"Player 8\": 15, \"Player 10\": 10, \"Player 11\": 8},\n",
    "    \"Player 10\": {\"Player 8\": 7, \"Player 9\": 10, \"Player 11\": 6},\n",
    "    \"Player 11\": {\"Player 7\": 15, \"Player 9\": 8, \"Player 10\": 6}\n",
    "}"
   ]
  },
  {
   "cell_type": "markdown",
   "metadata": {
    "tags": []
   },
   "source": [
    "### ⊗ **Parameters**: "
   ]
  },
  {
   "cell_type": "markdown",
   "metadata": {},
   "source": [
    "Here we will define the initial parameters for our genetic algorithm"
   ]
  },
  {
   "cell_type": "code",
   "execution_count": 8,
   "metadata": {},
   "outputs": [],
   "source": [
    "population_size = 500\n",
    "num_generations = 1000\n",
    "mutation_rate = 0.2"
   ]
  },
  {
   "cell_type": "markdown",
   "metadata": {
    "tags": []
   },
   "source": [
    "### ⊗ **Fitness**: "
   ]
  },
  {
   "cell_type": "markdown",
   "metadata": {},
   "source": [
    "At this point we will create our fitness function that will evaluate the best routes among players"
   ]
  },
  {
   "cell_type": "code",
   "execution_count": 9,
   "metadata": {},
   "outputs": [],
   "source": [
    "def calculate_fitness(route):\n",
    "    total_distance = 0\n",
    "    for i in range(len(route) - 1):\n",
    "        current_player = route[i]\n",
    "        next_player = route[i+1]\n",
    "        if next_player in player_connections[current_player]:\n",
    "            total_distance += player_connections[current_player][next_player]\n",
    "        else:\n",
    "            return 0  \n",
    "    return 1 / total_distance"
   ]
  },
  {
   "cell_type": "markdown",
   "metadata": {},
   "source": [
    "### ⊗ **Crossover**: "
   ]
  },
  {
   "cell_type": "markdown",
   "metadata": {},
   "source": [
    "Now we are going to perform the crossing between the best passes (routes) between the players."
   ]
  },
  {
   "cell_type": "code",
   "execution_count": 10,
   "metadata": {},
   "outputs": [],
   "source": [
    "def crossover(parent1, parent2):\n",
    "    crossover_point = random.randint(1, len(parent1) - 2) \n",
    "    child1 = parent1[:crossover_point] + parent2[crossover_point:]\n",
    "    child2 = parent2[:crossover_point] + parent1[crossover_point:]\n",
    "    return child1, child2"
   ]
  },
  {
   "cell_type": "markdown",
   "metadata": {},
   "source": [
    "### ⊗ **Mutate**: "
   ]
  },
  {
   "cell_type": "markdown",
   "metadata": {},
   "source": [
    "Here a small change will be made in the moves in order to vary some indexes of the routes in order to introduce variability."
   ]
  },
  {
   "cell_type": "code",
   "execution_count": 11,
   "metadata": {},
   "outputs": [],
   "source": [
    "def mutate(route):\n",
    "    index1, index2 = random.sample(range(1, len(route) - 1), 2) \n",
    "    route[index1], route[index2] = route[index2], route[index1]\n",
    "    return route"
   ]
  },
  {
   "cell_type": "markdown",
   "metadata": {},
   "source": [
    "### ⊗ **Population**: "
   ]
  },
  {
   "cell_type": "markdown",
   "metadata": {},
   "source": [
    "Here we will generate a set of passes between players starting on player 1 and ending on player 11"
   ]
  },
  {
   "cell_type": "code",
   "execution_count": 12,
   "metadata": {},
   "outputs": [],
   "source": [
    "population = []\n",
    "for _ in range(population_size):\n",
    "    shuffled_players = [\"Player 1\"] + random.sample(list(player_connections.keys())[1:-1], len(player_connections) - 2) + [\"Player 11\"] \n",
    "    while len(set(shuffled_players)) < len(player_connections):\n",
    "        shuffled_players = [\"Player 1\"] + random.sample(list(player_connections.keys())[1:-1], len(player_connections) - 2) + [\"Player 11\"]\n",
    "    population.append(shuffled_players)"
   ]
  },
  {
   "cell_type": "markdown",
   "metadata": {},
   "source": [
    "### ⊗ **Run genetic algorithm**: "
   ]
  },
  {
   "cell_type": "markdown",
   "metadata": {},
   "source": [
    "Let's run the genetic algorithm so we can figure out the best move to make."
   ]
  },
  {
   "cell_type": "code",
   "execution_count": 13,
   "metadata": {
    "tags": []
   },
   "outputs": [
    {
     "name": "stdout",
     "output_type": "stream",
     "text": [
      "Best Route: ['Player 1', 'Player 5', 'Player 6', 'Player 5', 'Player 6', 'Player 5', 'Player 6', 'Player 5', 'Player 6', 'Player 9', 'Player 11']\n",
      "Best Distance: 47\n"
     ]
    }
   ],
   "source": [
    "for generation in range(num_generations):\n",
    "    population = sorted(population, key=lambda route: calculate_fitness(route), reverse=True)\n",
    "\n",
    "    new_population = [population[0]]\n",
    "\n",
    "    while len(new_population) < population_size:\n",
    "        parent1 = random.choice(population)\n",
    "        parent2 = random.choice(population)\n",
    "        \n",
    "        child1, child2 = crossover(parent1, parent2)\n",
    "        \n",
    "        if random.random() < mutation_rate:\n",
    "            child1 = mutate(child1)\n",
    "        if random.random() < mutation_rate:\n",
    "            child2 = mutate(child2)\n",
    "        \n",
    "        new_population.append(child1)\n",
    "        new_population.append(child2)\n",
    "\n",
    "    population = new_population\n",
    "\n",
    "best_route = population[0]\n",
    "\n",
    "print(\"Best Route:\", best_route)\n",
    "\n",
    "total_distance = 0\n",
    "for i in range(len(best_route) - 1):\n",
    "    current_player = best_route[i]\n",
    "    next_player = best_route[i + 1]\n",
    "    distance = player_connections[current_player][next_player]\n",
    "    total_distance += distance\n",
    "    #print(f\"{current_player} -> {next_player}: {distance}\")\n",
    "\n",
    "print(\"Best Distance:\", total_distance)\n"
   ]
  },
  {
   "cell_type": "markdown",
   "metadata": {},
   "source": [
    "### ⊗ **Optimizing GA algorithm using Intel® SigOpt**: "
   ]
  },
  {
   "cell_type": "code",
   "execution_count": null,
   "metadata": {},
   "outputs": [],
   "source": []
  },
  {
   "cell_type": "markdown",
   "metadata": {},
   "source": [
    "### `ACO`"
   ]
  },
  {
   "cell_type": "markdown",
   "metadata": {},
   "source": [
    "### ⊗ **Import libraries**: "
   ]
  },
  {
   "cell_type": "code",
   "execution_count": 14,
   "metadata": {},
   "outputs": [],
   "source": [
    "import numpy as np"
   ]
  },
  {
   "cell_type": "markdown",
   "metadata": {},
   "source": [
    "### ⊗ **Define the connections from match**: "
   ]
  },
  {
   "cell_type": "code",
   "execution_count": 26,
   "metadata": {},
   "outputs": [],
   "source": [
    "# Origin Destiny Distance\n",
    "# (1,      3,       4)\n",
    "connections = {\n",
    "    (1, 3): 4, (1, 5): 6, (1, 4): 4, (1, 7): 20,\n",
    "    (3, 2): 4,\n",
    "    (4, 2): 6, (4, 5): 4,\n",
    "    (2, 5): 5,\n",
    "    (5, 7): 8, (5, 6): 4,\n",
    "    (6, 9): 5,\n",
    "    (7, 8): 6, (7, 11): 15, (7, 9): 7,\n",
    "    (8, 10): 7, (8, 9): 15,\n",
    "    (9, 10): 10, (9, 11): 8,\n",
    "    (10, 11): 6\n",
    "}\n",
    "\n",
    "unique_players = set([1, 2, 3, 4, 5, 6, 7, 8, 9, 10, 11])"
   ]
  },
  {
   "cell_type": "markdown",
   "metadata": {},
   "source": [
    "### ⊗ **Calculate the distance**: "
   ]
  },
  {
   "cell_type": "code",
   "execution_count": 27,
   "metadata": {},
   "outputs": [],
   "source": [
    "def distance(player1, player2):\n",
    "    if (player1, player2) in connections:\n",
    "        return connections[(player1, player2)]\n",
    "    elif (player2, player1) in connections:\n",
    "        return connections[(player2, player1)]\n",
    "    elif player1 == player2:\n",
    "        return 0\n",
    "    else:\n",
    "        return float('inf')  # Return a large value for non-connected connections\n",
    "    \n",
    "def total_distance(route):\n",
    "    total_distance = 0\n",
    "    for i in range(len(route) - 1):\n",
    "        total_distance += distance(route[i], route[i + 1])\n",
    "    return total_distance"
   ]
  },
  {
   "cell_type": "code",
   "execution_count": 28,
   "metadata": {},
   "outputs": [],
   "source": [
    "class Ant:\n",
    "    def __init__(self, players, alpha, beta):\n",
    "\n",
    "        self.players = players\n",
    "        self.alpha = alpha\n",
    "        self.beta = beta\n",
    "        self.path = []  # Stores the path taken by the ant (list of players)\n",
    "        self.visited = set()  # Set to keep track of visited players\n",
    "        self.current_player = None  # The current player the ant is in\n",
    "        self.unique_players = unique_players  # Set of unique player names\n",
    "\n",
    "    def select_next_player(self, pheromone_matrix):\n",
    "        unvisited_players = [player for player in self.unique_players if player not in self.visited and player != self.current_player]\n",
    "\n",
    "        probabilities = []\n",
    "        total = 0\n",
    "\n",
    "        for player in unvisited_players:\n",
    "            distance_to_player = distance(self.current_player, player)\n",
    "\n",
    "            if(distance_to_player > 0):  # Two different players             \n",
    "                pheromone = pheromone_matrix[self.current_player][player]\n",
    "                probabilities.append((pheromone ** self.alpha) * (1.0 / distance_to_player) ** self.beta)\n",
    "            else:\n",
    "                probabilities.append(0)\n",
    "\n",
    "            total += probabilities[-1]\n",
    "\n",
    "        if(total > 0):\n",
    "            probabilities = [p / total for p in probabilities]\n",
    "        else:\n",
    "            probabilities = [0 for p in probabilities]\n",
    "        \n",
    "        if(sum(probabilities) > 0.9):\n",
    "            selected_player = np.random.choice(unvisited_players, size=1, p=probabilities)[0]\n",
    "            self.path.append(selected_player)\n",
    "            \n",
    "            self.visited.add(selected_player)\n",
    "            self.current_player = selected_player\n"
   ]
  },
  {
   "cell_type": "code",
   "execution_count": 29,
   "metadata": {},
   "outputs": [],
   "source": [
    "def ant_colony_optimization(connections, num_ants, num_iterations, alpha=1.0, beta=5.0, evaporation=0.5):\n",
    "    num_players = len(unique_players)\n",
    "    pheromone_matrix = {player1: {player2: 1.0 for player2 in unique_players if player1 != player2} for player1 in unique_players}\n",
    "\n",
    "    best_route = None\n",
    "    best_distance = float('inf')  # Set an initial value for best_distance\n",
    "\n",
    "    for _ in range(num_iterations):\n",
    "        ants = [Ant(unique_players, alpha, beta) for _ in range(num_ants)]\n",
    "\n",
    "        # Initialize each ant's current player 1\n",
    "        for i, ant in enumerate(ants):\n",
    "            ant.current_player = 1\n",
    "            ant.path.append(1)\n",
    "            ant.visited.add(ant.current_player)\n",
    "\n",
    "        # Construct the tour for each ant\n",
    "        for _ in range(num_players):\n",
    "            for ant in ants:\n",
    "                if ant.current_player != 11:\n",
    "                    ant.select_next_player(pheromone_matrix)\n",
    "\n",
    "        # Calculate the total distance of each ant's tour\n",
    "        for ant in ants:\n",
    "            ant_total_distance = total_distance(ant.path)\n",
    "            if ant_total_distance < best_distance:  \n",
    "                if ant.path[-1] == 11:        \n",
    "                    best_route = ant.path.copy()\n",
    "                    best_distance = ant_total_distance\n",
    "                \n",
    "        # Update pheromone levels\n",
    "        for player1 in unique_players:\n",
    "            for player2 in unique_players:\n",
    "                if player1 != player2:\n",
    "                    pheromone_matrix[player1][player2] *= (1 - evaporation)\n",
    "\n",
    "        for ant in ants:\n",
    "            if len(ant.path) >= 2:\n",
    "                if(best_distance > 0):\n",
    "                    pheromone_delta = 1.0 / best_distance\n",
    "                    for i in range(len(ant.path) - 1):\n",
    "                        player1, player2 = ant.path[i], ant.path[i + 1]                                     \n",
    "                        pheromone_matrix[player1][player2] += pheromone_delta\n",
    "\n",
    "    return best_route, best_distance"
   ]
  },
  {
   "cell_type": "code",
   "execution_count": 30,
   "metadata": {},
   "outputs": [
    {
     "name": "stdout",
     "output_type": "stream",
     "text": [
      "Best Route: [1, 4, 5, 6, 9, 11]\n",
      "Best Distance: 25\n"
     ]
    }
   ],
   "source": [
    "# Example usage:\n",
    "num_ants = 50\n",
    "num_iterations = 10\n",
    "\n",
    "best_route, best_distance = ant_colony_optimization(connections, num_ants, num_iterations)\n",
    "\n",
    "print(\"Best Route:\", best_route)\n",
    "print(\"Best Distance:\", best_distance)"
   ]
  },
  {
   "cell_type": "markdown",
   "metadata": {},
   "source": [
    "### ⊗ **Optimizing ACO algorithm using Intel® SigOpt**: "
   ]
  },
  {
   "cell_type": "code",
   "execution_count": 493,
   "metadata": {},
   "outputs": [],
   "source": [
    "import numpy as np\n",
    "import sigopt"
   ]
  },
  {
   "cell_type": "code",
   "execution_count": 494,
   "metadata": {},
   "outputs": [],
   "source": [
    "# Origin Destiny Distance\n",
    "# (1,      3,       4)\n",
    "connections = {\n",
    "    (1, 3): 4, (1, 5): 6, (1, 4): 4, (1, 7): 20,\n",
    "    (3, 2): 4,\n",
    "    (4, 2): 6, (4, 5): 4,\n",
    "    (2, 5): 5,\n",
    "    (5, 7): 8, (5, 6): 4,\n",
    "    (6, 9): 5,\n",
    "    (7, 8): 6, (7, 11): 15, (7, 9): 7,\n",
    "    (8, 10): 7, (8, 9): 15,\n",
    "    (9, 10): 10, (9, 11): 8,\n",
    "    (10, 11): 6\n",
    "}\n",
    "\n",
    "\n",
    "unique_players = set([1, 2, 3, 4, 5, 6, 7, 8, 9, 10, 11])"
   ]
  },
  {
   "cell_type": "code",
   "execution_count": 495,
   "metadata": {},
   "outputs": [],
   "source": [
    "def distance(player1, player2):\n",
    "    if (player1, player2) in connections:\n",
    "        return connections[(player1, player2)]\n",
    "    elif (player2, player1) in connections:\n",
    "        return connections[(player2, player1)]\n",
    "    elif player1 == player2:\n",
    "        return 0\n",
    "    else:\n",
    "        return float('inf')  # Return a large value for non-connected connections\n",
    "    \n",
    "def total_distance(route):\n",
    "    total_distance = 0\n",
    "    for i in range(len(route) - 1):\n",
    "        total_distance += distance(route[i], route[i + 1])\n",
    "    return total_distance"
   ]
  },
  {
   "cell_type": "code",
   "execution_count": 496,
   "metadata": {},
   "outputs": [],
   "source": [
    "class Ant:\n",
    "    def __init__(self, players, alpha, beta):\n",
    "\n",
    "        self.players = players\n",
    "        self.alpha = alpha\n",
    "        self.beta = beta\n",
    "        self.path = []  # Stores the path taken by the ant (list of players)\n",
    "        self.visited = set()  # Set to keep track of visited players\n",
    "        self.current_player = None  # The current player the ant is in\n",
    "        self.unique_players = unique_players  # Set of unique player names\n",
    "\n",
    "    def select_next_player(self, pheromone_matrix):\n",
    "        unvisited_players = [player for player in self.unique_players if player not in self.visited and player != self.current_player]\n",
    "\n",
    "        probabilities = []\n",
    "        total = 0\n",
    "\n",
    "        for player in unvisited_players:\n",
    "            distance_to_player = distance(self.current_player, player)\n",
    "\n",
    "            if(distance_to_player > 0):  # Two different players             \n",
    "                pheromone = pheromone_matrix[self.current_player][player]\n",
    "                probabilities.append((pheromone ** self.alpha) * (1.0 / distance_to_player) ** self.beta)\n",
    "            else:\n",
    "                probabilities.append(0)\n",
    "\n",
    "            total += probabilities[-1]\n",
    "\n",
    "        if(total > 0):\n",
    "            probabilities = [p / total for p in probabilities]\n",
    "        else:\n",
    "            probabilities = [0 for p in probabilities]\n",
    "        \n",
    "        if(sum(probabilities) > 0.9):\n",
    "            selected_player = np.random.choice(unvisited_players, size=1, p=probabilities)[0]\n",
    "            self.path.append(selected_player)\n",
    "            \n",
    "            self.visited.add(selected_player)\n",
    "            self.current_player = selected_player\n"
   ]
  },
  {
   "cell_type": "code",
   "execution_count": 497,
   "metadata": {},
   "outputs": [],
   "source": [
    "def ant_colony_optimization(connections, num_ants, num_iterations, alpha, beta, evaporation):\n",
    "    num_players = len(unique_players)\n",
    "    pheromone_matrix = {player1: {player2: 1.0 for player2 in unique_players if player1 != player2} for player1 in unique_players}\n",
    "\n",
    "    best_route = None\n",
    "    best_distance = float('inf')  # Set an initial value for best_distance\n",
    "\n",
    "    for _ in range(num_iterations):\n",
    "        ants = [Ant(unique_players, alpha, beta) for _ in range(num_ants)]\n",
    "\n",
    "        # Initialize each ant's current player 1\n",
    "        for i, ant in enumerate(ants):\n",
    "            ant.current_player = 1\n",
    "            ant.path.append(1)\n",
    "            ant.visited.add(ant.current_player)\n",
    "\n",
    "        # Construct the tour for each ant\n",
    "        for _ in range(num_players):\n",
    "            for ant in ants:\n",
    "                if ant.current_player != 11:\n",
    "                    ant.select_next_player(pheromone_matrix)\n",
    "\n",
    "        # Calculate the total distance of each ant's tour\n",
    "        for ant in ants:\n",
    "            ant_total_distance = total_distance(ant.path)\n",
    "            if ant_total_distance < best_distance:  \n",
    "                if ant.path[-1] == 11:        \n",
    "                    best_route = ant.path.copy()\n",
    "                    best_distance = ant_total_distance\n",
    "                \n",
    "        # Update pheromone levels\n",
    "        for player1 in unique_players:\n",
    "            for player2 in unique_players:\n",
    "                if player1 != player2:\n",
    "                    pheromone_matrix[player1][player2] *= (1 - evaporation)\n",
    "\n",
    "        for ant in ants:\n",
    "            if len(ant.path) >= 2:\n",
    "                if(best_distance > 0):\n",
    "                    pheromone_delta = 1.0 / best_distance\n",
    "                    for i in range(len(ant.path) - 1):\n",
    "                        player1, player2 = ant.path[i], ant.path[i + 1]                                     \n",
    "                        pheromone_matrix[player1][player2] += pheromone_delta\n",
    "\n",
    "    return best_route, best_distance"
   ]
  },
  {
   "cell_type": "code",
   "execution_count": null,
   "metadata": {},
   "outputs": [],
   "source": [
    "def evaluate_ant_colony(params):\n",
    "    num_ants = params['num_ants']\n",
    "    num_iterations = params['num_iterations']\n",
    "    alpha = params['alpha']\n",
    "    beta = params['beta']\n",
    "    evaporation = params['evaporation']\n",
    "    \n",
    "    # Call the ant_colony_optimization function and return the result you want to optimize\n",
    "    best_route, best_distance = ant_colony_optimization(connections, num_ants, num_iterations, alpha, beta, evaporation)\n",
    "    \n",
    "    return best_distance\n",
    "\n",
    "def sigopt_optimization():\n",
    "    # Set your SigOpt API TOKEN or use generic API TOKEN\n",
    "    SIGOPT_API_TOKEN = 'MJZRDBRNTMOPVYPCTTMRAMDIQDUEDTDJGOUMPFSIQTRKLYJJ'\n",
    "\n",
    "    # Configure the SigOpt client\n",
    "    conn = sigopt.Connection(client_token=SIGOPT_API_TOKEN)\n",
    "\n",
    "    # Define the variables to be optimized and their ranges\n",
    "    param_space = [\n",
    "        {'name': 'num_ants', 'type': 'int', 'bounds': {'min': 5, 'max': 50}},\n",
    "        {'name': 'num_iterations', 'type': 'int', 'bounds': {'min': 10, 'max': 500}},\n",
    "        {'name': 'alpha', 'type': 'double', 'bounds': {'min': 0.1, 'max': 2.0}},\n",
    "        {'name': 'beta', 'type': 'double', 'bounds': {'min': 0.1, 'max': 2.0}},\n",
    "        {'name': 'evaporation', 'type': 'double', 'bounds': {'min': 0.1, 'max': 0.9}},\n",
    "    ]\n",
    "\n",
    "    # Create an experiment on SigOpt\n",
    "    experiment = conn.experiments().create(\n",
    "        name='Robots ACO Optimization',\n",
    "        parameters=param_space,\n",
    "        metrics=[{'name': 'best_distance', 'objective': 'minimize'}]\n",
    "    )\n",
    "\n",
    "    # Run the optimization for a number of iterations\n",
    "    for _ in range(30):\n",
    "        suggestion = conn.experiments(experiment.id).suggestions().create()\n",
    "        suggestion_id = suggestion.id\n",
    "        \n",
    "        # Get the suggested hyperparameters\n",
    "        suggested_params = suggestion.assignments\n",
    "        \n",
    "        # Evaluate the performance with the suggested hyperparameters\n",
    "        result = evaluate_ant_colony(suggested_params)\n",
    "        \n",
    "        # Report the results to SigOpt\n",
    "        conn.experiments(experiment.id).observations().create(\n",
    "            suggestion=suggestion_id,\n",
    "            value=result,\n",
    "        )\n",
    "\n",
    "    # Get the best optimization results\n",
    "    best_assignments = conn.experiments(experiment.id).best_assignments().fetch()\n",
    "\n",
    "    # Print the best-found hyperparameters\n",
    "    print(\"Best hyperparameters found:\")\n",
    "    print(best_assignments.data[0].assignments)\n",
    "\n",
    "    # Run the ACO with the best-found hyperparameters\n",
    "    best_params = best_assignments.data[0].assignments\n",
    "    best_route, best_distance = ant_colony_optimization(connections, best_params['num_ants'], best_params['num_iterations'], best_params['alpha'], best_params['beta'], best_params['evaporation'])\n",
    "\n",
    "    # Print the best route and distance found\n",
    "    print(\"Best route:\", best_route)\n",
    "    print(\"Total distance of the best route:\", best_distance)"
   ]
  },
  {
   "cell_type": "code",
   "execution_count": null,
   "metadata": {},
   "outputs": [],
   "source": [
    "sigopt_optimization()"
   ]
  }
 ],
 "metadata": {
  "kernelspec": {
   "display_name": "Python 3 (ipykernel)",
   "language": "python",
   "name": "python3"
  },
  "language_info": {
   "codemirror_mode": {
    "name": "ipython",
    "version": 3
   },
   "file_extension": ".py",
   "mimetype": "text/x-python",
   "name": "python",
   "nbconvert_exporter": "python",
   "pygments_lexer": "ipython3",
   "version": "3.8.8"
  }
 },
 "nbformat": 4,
 "nbformat_minor": 4
}
