{
 "cells": [
  {
   "cell_type": "markdown",
   "metadata": {},
   "source": [
    "# Assessment"
   ]
  },
  {
   "cell_type": "markdown",
   "metadata": {},
   "source": [
    "<p style='text-align: justify;'>\n",
    "Congratulations on finishing the bio-inspired course!! Hopefully, you learned some valuable skills along the way and had fun doing it. Now it is time to put those skills to the test. In this assessment, we have the following problem: Soccer passing strategies. First, you will make the effectiveness of this approach depends on technical skill, tactical understanding, and coordination between players. Let's get started!\n",
    "</p>"
   ]
  },
  {
   "cell_type": "markdown",
   "metadata": {},
   "source": [
    "## Problem: Soccer passing strategies"
   ]
  },
  {
   "cell_type": "markdown",
   "metadata": {},
   "source": [
    "<p style='text-align: justify;'>\n",
    "Soccer passing strategies, especially those that move the ball from goalkeeper to striker quickly and efficiently without a long shot or <i>hot link</i>, are critical in the modern game. The idea is to maintain possession of the ball, moving it across the pitch with a series of short, controlled passes, often involving midfielders and defenders. From the following graph, find the most efficient passing path leaving the goalkeeper (1) and arriving at the last attacker (11), considering the possible connections and distances between players on the same team.\n",
    "</p>    \n",
    "\n",
    "<p style=\"text-align: center;\">\n",
    "<img src=\"./../images/figure16_soccer_assessment.jpg\" style=\"width: 500px;\">        \n",
    "</p>\n"
   ]
  },
  {
   "cell_type": "markdown",
   "metadata": {},
   "source": [
    "### Characteristics of the connections and distances\n",
    "\n",
    "We encourage you to start with a model pretrained from the following table. Load the model with the correct values. Remember that the features have two dimensions: **player origin**, **player destination**, and **distance**. In summary, your model will require an output layer of one bio-inspired algorithm. "
   ]
  },
  {
   "cell_type": "markdown",
   "metadata": {},
   "source": [
    "| Player origin | Player destination  | Distance (m)\n",
    "| :-:           | :-:                 | :-: \n",
    "|1 \t\t\t\t| 3  \t\t\t\t  | 4\n",
    "|1 \t\t\t\t| 5  \t\t\t\t  | 6\n",
    "|1 \t\t\t\t| 4  \t\t\t\t  | 4\n",
    "|1 \t\t\t\t| 7  \t\t\t\t  | 20\n",
    "|3 \t\t\t\t| 2  \t\t\t\t  | 4\n",
    "|4 \t\t\t\t| 2  \t\t\t\t  | 6\n",
    "|4 \t\t\t\t| 5  \t\t\t\t  | 4\n",
    "|2 \t\t\t\t| 5  \t\t\t\t  | 5\n",
    "|5 \t\t\t\t| 6  \t\t\t\t  | 4\n",
    "|5 \t\t\t\t| 7  \t\t\t\t  | 8\n",
    "|6 \t\t\t\t| 9  \t\t\t\t  | 5\n",
    "|7 \t\t\t\t| 8  \t\t\t\t  | 6\n",
    "|7 \t\t\t\t| 11 \t\t\t\t  | 15\n",
    "|7 \t\t\t\t| 9  \t\t\t\t  | 7\n",
    "|8 \t\t\t\t| 10 \t\t\t\t  | 7\n",
    "|8 \t\t\t\t| 9  \t\t\t\t  | 15 \n",
    "|9 \t\t\t\t| 10 \t\t\t\t  | 10\n",
    "|9 \t\t\t\t| 11 \t\t\t\t  | 8  \n",
    "|10             | 11 \t\t\t\t  | 6"
   ]
  },
  {
   "cell_type": "markdown",
   "metadata": {},
   "source": [
    "`Our mission is to help the coach create the best pass-to-goal strategy, that is, to find the ideal order, with the shortest path, to pass the ball between the players until it reaches the opposing goal`. To do that, answer the following item: \n",
    "\n",
    "a) Implement a bio-inspired algorithm to find the best route between the players using soccer passing strategy."
   ]
  },
  {
   "cell_type": "markdown",
   "metadata": {},
   "source": [
    "## ☆ Solutions ☆ "
   ]
  },
  {
   "cell_type": "markdown",
   "metadata": {},
   "source": [
    "### `GA`"
   ]
  },
  {
   "cell_type": "markdown",
   "metadata": {},
   "source": [
    "### ⊗ **Importing libraries into our algorithm**"
   ]
  },
  {
   "cell_type": "code",
   "execution_count": 73,
   "metadata": {
    "tags": []
   },
   "outputs": [],
   "source": [
    "import random"
   ]
  },
  {
   "cell_type": "markdown",
   "metadata": {
    "tags": []
   },
   "source": [
    "### ⊗ **Players connections**: "
   ]
  },
  {
   "cell_type": "markdown",
   "metadata": {},
   "source": [
    "Let's define all possible connections between players"
   ]
  },
  {
   "cell_type": "code",
   "execution_count": 74,
   "metadata": {
    "tags": []
   },
   "outputs": [],
   "source": [
    "player_connections = {\n",
    "    \"1\": {\"3\": 4, \"4\": 4, \"5\": 6, \"7\": 20},\n",
    "    \"2\": {\"4\": 6, \"5\": 5},\n",
    "    \"3\": {\"1\": 4, \"2\": 4},\n",
    "    \"4\": {\"1\": 4, \"2\": 6, \"5\": 4},\n",
    "    \"5\": {\"1\": 6, \"2\": 5, \"4\": 4, \"6\": 4, \"7\": 8},\n",
    "    \"6\": {\"5\": 4, \"9\": 5},\n",
    "    \"7\": {\"1\": 20, \"5\": 8, \"8\": 6, \"9\": 7, \"11\": 15},\n",
    "    \"8\": {\"7\": 6, \"9\": 15, \"10\": 7},\n",
    "    \"9\": {\"6\": 5, \"7\": 7, \"8\": 15, \"10\": 10, \"11\": 8},\n",
    "    \"10\": {\"8\": 7, \"9\": 10, \"11\": 6},\n",
    "    \"11\": {\"7\": 15, \"9\": 8, \"10\": 6}\n",
    "}"
   ]
  },
  {
   "cell_type": "markdown",
   "metadata": {
    "tags": []
   },
   "source": [
    "### ⊗ **Parameters**: "
   ]
  },
  {
   "cell_type": "markdown",
   "metadata": {},
   "source": [
    "Here we will define the initial parameters for our genetic algorithm"
   ]
  },
  {
   "cell_type": "code",
   "execution_count": 75,
   "metadata": {
    "tags": []
   },
   "outputs": [],
   "source": [
    "POPULATION_SIZE = 500\n",
    "NUM_GENERATIONS = 10000\n",
    "MUTATION_RATE = 0.3"
   ]
  },
  {
   "cell_type": "markdown",
   "metadata": {
    "tags": []
   },
   "source": [
    "### ⊗ **Fitness**: "
   ]
  },
  {
   "cell_type": "markdown",
   "metadata": {},
   "source": [
    "At this point we will create our fitness function that will evaluate the best routes among players"
   ]
  },
  {
   "cell_type": "code",
   "execution_count": 76,
   "metadata": {
    "tags": []
   },
   "outputs": [],
   "source": [
    "def calculate_fitness(route):\n",
    "    total_distance = 0\n",
    "    for i in range(len(route) - 1):\n",
    "        current_player = route[i]\n",
    "        next_player = route[i+1]\n",
    "        if current_player in player_connections and next_player in player_connections[current_player]:\n",
    "            total_distance += player_connections[current_player][next_player]\n",
    "        else:\n",
    "            return float('inf')\n",
    "    return total_distance"
   ]
  },
  {
   "cell_type": "markdown",
   "metadata": {},
   "source": [
    "### ⊗ **Population**: "
   ]
  },
  {
   "cell_type": "code",
   "execution_count": 77,
   "metadata": {
    "tags": []
   },
   "outputs": [],
   "source": [
    "def create_initial_population(players, size):\n",
    "    population = []\n",
    "    for _ in range(size):\n",
    "        route = [\"1\"] + random.sample(players[1:-1], random.randint(2, len(players) - 3)) + [\"11\"]\n",
    "        population.append(route)\n",
    "    return population"
   ]
  },
  {
   "cell_type": "markdown",
   "metadata": {},
   "source": [
    "### ⊗ **Crossover**: "
   ]
  },
  {
   "cell_type": "markdown",
   "metadata": {},
   "source": [
    "Now we are going to perform the crossing between the best passes (routes) between the players."
   ]
  },
  {
   "cell_type": "code",
   "execution_count": 78,
   "metadata": {
    "tags": []
   },
   "outputs": [],
   "source": [
    "def crossover(parent1, parent2):\n",
    "    crossover_point = random.randint(1, len(parent1) - 2)\n",
    "    child1 = parent1[:crossover_point] + [player for player in parent2 if player not in parent1[:crossover_point]]\n",
    "    child2 = parent2[:crossover_point] + [player for player in parent1 if player not in parent2[:crossover_point]]\n",
    "    return child1, child2"
   ]
  },
  {
   "cell_type": "markdown",
   "metadata": {},
   "source": [
    "### ⊗ **Mutate**: "
   ]
  },
  {
   "cell_type": "markdown",
   "metadata": {},
   "source": [
    "Here a small change will be made in the moves in order to vary some indexes of the routes in order to introduce variability."
   ]
  },
  {
   "cell_type": "code",
   "execution_count": 79,
   "metadata": {
    "tags": []
   },
   "outputs": [],
   "source": [
    "def mutate(individual):\n",
    "    if random.random() < MUTATION_RATE:\n",
    "        idx1, idx2 = random.sample(range(1, len(individual) - 1), 2)\n",
    "        individual[idx1], individual[idx2] = individual[idx2], individual[idx1]"
   ]
  },
  {
   "cell_type": "markdown",
   "metadata": {},
   "source": [
    "### ⊗ **Run genetic algorithm**: "
   ]
  },
  {
   "cell_type": "markdown",
   "metadata": {},
   "source": [
    "Let's run the genetic algorithm so we can figure out the best move to make."
   ]
  },
  {
   "cell_type": "code",
   "execution_count": 80,
   "metadata": {
    "tags": []
   },
   "outputs": [
    {
     "name": "stdout",
     "output_type": "stream",
     "text": [
      "Best route: ['1', '5', '6', '9', '11']\n",
      "Best distance: 23\n"
     ]
    }
   ],
   "source": [
    "def genetic_algorithm():\n",
    "    players = list(player_connections.keys())\n",
    "    population = create_initial_population(players, POPULATION_SIZE)\n",
    "\n",
    "    for generation in range(NUM_GENERATIONS):\n",
    "        population = sorted(population, key=lambda x: calculate_fitness(x))\n",
    "        new_population = population[:POPULATION_SIZE // 2]\n",
    "        \n",
    "        while len(new_population) < POPULATION_SIZE:\n",
    "            parent1, parent2 = random.choices(population, k=2)\n",
    "            child1, child2 = crossover(parent1, parent2)\n",
    "            mutate(child1)\n",
    "            mutate(child2)\n",
    "            new_population.extend([child1, child2])\n",
    "\n",
    "        population = new_population\n",
    "\n",
    "    best_route = min(population, key=lambda x: calculate_fitness(x))\n",
    "    shortest_distance = calculate_fitness(best_route)\n",
    "    \n",
    "    return best_route, shortest_distance\n",
    "\n",
    "best_route, shortest_distance = genetic_algorithm()\n",
    "print(\"Best route:\", best_route)\n",
    "print(\"Best distance:\", shortest_distance)"
   ]
  },
  {
   "cell_type": "markdown",
   "metadata": {},
   "source": [
    "### ⊗ **Optimizing the genetic algorithm using Intel® SigOpt**: "
   ]
  },
  {
   "cell_type": "code",
   "execution_count": 81,
   "metadata": {
    "tags": []
   },
   "outputs": [],
   "source": [
    "import random\n",
    "import sigopt\n",
    "\n",
    "player_connections = {\n",
    "    \"1\": {\"3\": 4, \"4\": 4, \"5\": 6, \"7\": 20},\n",
    "    \"2\": {\"4\": 6, \"5\": 5},\n",
    "    \"3\": {\"1\": 4, \"2\": 4},\n",
    "    \"4\": {\"1\": 4, \"2\": 6, \"5\": 4},\n",
    "    \"5\": {\"1\": 6, \"2\": 5, \"4\": 4, \"6\": 4, \"7\": 8},\n",
    "    \"6\": {\"5\": 4, \"9\": 5},\n",
    "    \"7\": {\"1\": 20, \"5\": 8, \"8\": 6, \"9\": 7, \"11\": 15},\n",
    "    \"8\": {\"7\": 6, \"9\": 15, \"10\": 7},\n",
    "    \"9\": {\"6\": 5, \"7\": 7, \"8\": 15, \"10\": 10, \"11\": 8},\n",
    "    \"10\": {\"8\": 7, \"9\": 10, \"11\": 6},\n",
    "    \"11\": {\"7\": 15, \"9\": 8, \"10\": 6}\n",
    "}\n",
    "\n",
    "def calculate_fitness(route):\n",
    "    total_distance = 0\n",
    "    for i in range(len(route) - 1):\n",
    "        current_player = route[i]\n",
    "        next_player = route[i+1]\n",
    "        if current_player in player_connections and next_player in player_connections[current_player]:\n",
    "            total_distance += player_connections[current_player][next_player]\n",
    "        else:\n",
    "            return float(999999)\n",
    "    return total_distance\n",
    "\n",
    "def create_initial_population(players, size):\n",
    "    population = []\n",
    "    for _ in range(size):\n",
    "        route = [\"1\"] + random.sample(players[1:-1], random.randint(2, len(players) - 3)) + [\"11\"]\n",
    "        population.append(route)\n",
    "    return population\n",
    "\n",
    "def crossover(parent1, parent2):\n",
    "    crossover_point = random.randint(1, len(parent1) - 2)\n",
    "    child1 = parent1[:crossover_point] + [player for player in parent2 if player not in parent1[:crossover_point]]\n",
    "    child2 = parent2[:crossover_point] + [player for player in parent1 if player not in parent2[:crossover_point]]\n",
    "    return child1, child2\n",
    "\n",
    "def mutate(individual,mutation_rate):\n",
    "    if random.random() < mutation_rate:\n",
    "        idx1, idx2 = random.sample(range(1, len(individual) - 1), 2)\n",
    "        individual[idx1], individual[idx2] = individual[idx2], individual[idx1]\n",
    "\n",
    "def genetic_algorithm(pop_size, num_generations, mutation_rate):\n",
    "    players = list(player_connections.keys())\n",
    "    population = create_initial_population(players, pop_size)\n",
    "\n",
    "    for generation in range(num_generations):\n",
    "        population = sorted(population, key=lambda x: calculate_fitness(x))\n",
    "        new_population = population[:pop_size // 2]\n",
    "        \n",
    "        while len(new_population) < pop_size:\n",
    "            parent1, parent2 = random.choices(population, k=2)\n",
    "            child1, child2 = crossover(parent1, parent2)\n",
    "            mutate(child1,mutation_rate)\n",
    "            mutate(child2,mutation_rate)\n",
    "            new_population.extend([child1, child2])\n",
    "\n",
    "        population = new_population\n",
    "\n",
    "    best_route = min(population, key=lambda x: calculate_fitness(x))\n",
    "    shortest_distance = calculate_fitness(best_route)\n",
    "    \n",
    "    return best_route, shortest_distance"
   ]
  },
  {
   "cell_type": "code",
   "execution_count": 82,
   "metadata": {
    "tags": []
   },
   "outputs": [],
   "source": [
    "def evaluate_genetic_algorithm(params):\n",
    "    pop_size = params['pop_size']\n",
    "    num_generations = params['num_generations']\n",
    "    mutation_rate = params['mutation_rate']\n",
    "\n",
    "    best_route, shortest_distance = genetic_algorithm(pop_size, num_generations, mutation_rate)\n",
    "    return shortest_distance\n",
    "\n",
    "def sigopt_optimization():\n",
    "    SIGOPT_API_TOKEN = 'MJZRDBRNTMOPVYPCTTMRAMDIQDUEDTDJGOUMPFSIQTRKLYJJ'\n",
    "\n",
    "    conn = sigopt.Connection(client_token=SIGOPT_API_TOKEN)\n",
    "\n",
    "    param_space = [\n",
    "        {'name': 'pop_size', 'type': 'int', 'bounds': {'min': 100, 'max': 1000}},\n",
    "        {'name': 'num_generations', 'type': 'int', 'bounds': {'min': 100, 'max': 4000}},\n",
    "        {'name': 'mutation_rate', 'type': 'double', 'bounds': {'min': 0.01, 'max': 0.5}},\n",
    "    ]\n",
    "\n",
    "    experiment = conn.experiments().create(\n",
    "        name='GA Optimization',\n",
    "        parameters=param_space,\n",
    "        metrics=[{'name': 'shortest_distance', 'objective': 'minimize'}]\n",
    "    )\n",
    "\n",
    "    for _ in range(30):\n",
    "        suggestion = conn.experiments(experiment.id).suggestions().create()\n",
    "        suggestion_id = suggestion.id\n",
    "        suggested_params = suggestion.assignments\n",
    "        result = evaluate_genetic_algorithm(suggested_params)\n",
    "        conn.experiments(experiment.id).observations().create(\n",
    "            suggestion=suggestion_id,\n",
    "            value=result,\n",
    "        )\n",
    "\n",
    "    best_assignments = conn.experiments(experiment.id).best_assignments().fetch()\n",
    "\n",
    "    print(\"Best hyperparameters found:\")\n",
    "    print(best_assignments.data[0].assignments)\n",
    "\n",
    "    best_params = best_assignments.data[0].assignments\n",
    "    best_route, shortest_distance = genetic_algorithm(best_params['pop_size'], best_params['num_generations'], best_params['mutation_rate'])\n",
    "\n",
    "    print(\"Best route:\", best_route)\n",
    "    print(\"Best distance:\", shortest_distance)\n",
    "    "
   ]
  },
  {
   "cell_type": "code",
   "execution_count": 83,
   "metadata": {
    "tags": []
   },
   "outputs": [
    {
     "name": "stdout",
     "output_type": "stream",
     "text": [
      "Best hyperparameters found:\n",
      "Assignments({\n",
      "  \"mutation_rate\": 0.2780458192949944,\n",
      "  \"num_generations\": 235,\n",
      "  \"pop_size\": 941\n",
      "})\n",
      "Best route: ['1', '5', '6', '9', '11']\n",
      "Best distance: 23\n"
     ]
    }
   ],
   "source": [
    "sigopt_optimization()"
   ]
  },
  {
   "cell_type": "markdown",
   "metadata": {},
   "source": [
    "### `ACO`"
   ]
  },
  {
   "cell_type": "markdown",
   "metadata": {},
   "source": [
    "### ⊗ **Import libraries**: "
   ]
  },
  {
   "cell_type": "code",
   "execution_count": 16,
   "metadata": {
    "tags": []
   },
   "outputs": [],
   "source": [
    "import numpy as np"
   ]
  },
  {
   "cell_type": "markdown",
   "metadata": {},
   "source": [
    "### ⊗ **Define the connections from match**: "
   ]
  },
  {
   "cell_type": "code",
   "execution_count": 17,
   "metadata": {
    "tags": []
   },
   "outputs": [],
   "source": [
    "# Origin Destiny Distance\n",
    "# (1,      3,       4)\n",
    "connections = {\n",
    "    (1, 3): 4, (1, 5): 6, (1, 4): 4, (1, 7): 20,\n",
    "    (3, 2): 4,\n",
    "    (4, 2): 6, (4, 5): 4,\n",
    "    (2, 5): 5,\n",
    "    (5, 7): 8, (5, 6): 4,\n",
    "    (6, 9): 5,\n",
    "    (7, 8): 6, (7, 11): 15, (7, 9): 7,\n",
    "    (8, 10): 7, (8, 9): 15,\n",
    "    (9, 10): 10, (9, 11): 8,\n",
    "    (10, 11): 6\n",
    "}\n",
    "\n",
    "unique_players = set([1, 2, 3, 4, 5, 6, 7, 8, 9, 10, 11])"
   ]
  },
  {
   "cell_type": "markdown",
   "metadata": {},
   "source": [
    "### ⊗ **Calculate the distance**: "
   ]
  },
  {
   "cell_type": "code",
   "execution_count": 18,
   "metadata": {
    "tags": []
   },
   "outputs": [],
   "source": [
    "def distance(player1, player2):\n",
    "    if (player1, player2) in connections:\n",
    "        return connections[(player1, player2)]\n",
    "    elif (player2, player1) in connections:\n",
    "        return connections[(player2, player1)]\n",
    "    elif player1 == player2:\n",
    "        return 0\n",
    "    else:\n",
    "        return float('inf')  # Return a large value for non-connected connections\n",
    "    \n",
    "def total_distance(route):\n",
    "    total_distance = 0\n",
    "    for i in range(len(route) - 1):\n",
    "        total_distance += distance(route[i], route[i + 1])\n",
    "    return total_distance"
   ]
  },
  {
   "cell_type": "code",
   "execution_count": 19,
   "metadata": {
    "tags": []
   },
   "outputs": [],
   "source": [
    "class Ant:\n",
    "    def __init__(self, players, alpha, beta):\n",
    "\n",
    "        self.players = players\n",
    "        self.alpha = alpha\n",
    "        self.beta = beta\n",
    "        self.path = []  # Stores the path taken by the ant (list of players)\n",
    "        self.visited = set()  # Set to keep track of visited players\n",
    "        self.current_player = None  # The current player the ant is in\n",
    "        self.unique_players = unique_players  # Set of unique player names\n",
    "\n",
    "    def select_next_player(self, pheromone_matrix):\n",
    "        unvisited_players = [player for player in self.unique_players if player not in self.visited and player != self.current_player]\n",
    "\n",
    "        probabilities = []\n",
    "        total = 0\n",
    "\n",
    "        for player in unvisited_players:\n",
    "            distance_to_player = distance(self.current_player, player)\n",
    "\n",
    "            if(distance_to_player > 0):  # Two different players             \n",
    "                pheromone = pheromone_matrix[self.current_player][player]\n",
    "                probabilities.append((pheromone ** self.alpha) * (1.0 / distance_to_player) ** self.beta)\n",
    "            else:\n",
    "                probabilities.append(0)\n",
    "\n",
    "            total += probabilities[-1]\n",
    "\n",
    "        if(total > 0):\n",
    "            probabilities = [p / total for p in probabilities]\n",
    "        else:\n",
    "            probabilities = [0 for p in probabilities]\n",
    "        \n",
    "        if(sum(probabilities) > 0.9):\n",
    "            selected_player = np.random.choice(unvisited_players, size=1, p=probabilities)[0]\n",
    "            self.path.append(selected_player)\n",
    "            \n",
    "            self.visited.add(selected_player)\n",
    "            self.current_player = selected_player\n"
   ]
  },
  {
   "cell_type": "code",
   "execution_count": 20,
   "metadata": {
    "tags": []
   },
   "outputs": [],
   "source": [
    "def ant_colony_optimization(connections, num_ants, num_iterations, alpha=1.0, beta=5.0, evaporation=0.5):\n",
    "    num_players = len(unique_players)\n",
    "    pheromone_matrix = {player1: {player2: 1.0 for player2 in unique_players if player1 != player2} for player1 in unique_players}\n",
    "\n",
    "    best_route = None\n",
    "    best_distance = float('inf')  # Set an initial value for best_distance\n",
    "\n",
    "    for _ in range(num_iterations):\n",
    "        ants = [Ant(unique_players, alpha, beta) for _ in range(num_ants)]\n",
    "\n",
    "        # Initialize each ant's current player 1\n",
    "        for i, ant in enumerate(ants):\n",
    "            ant.current_player = 1\n",
    "            ant.path.append(1)\n",
    "            ant.visited.add(ant.current_player)\n",
    "\n",
    "        # Construct the tour for each ant\n",
    "        for _ in range(num_players):\n",
    "            for ant in ants:\n",
    "                if ant.current_player != 11:\n",
    "                    ant.select_next_player(pheromone_matrix)\n",
    "\n",
    "        # Calculate the total distance of each ant's tour\n",
    "        for ant in ants:\n",
    "            ant_total_distance = total_distance(ant.path)\n",
    "            if ant_total_distance < best_distance:  \n",
    "                if ant.path[-1] == 11:        \n",
    "                    best_route = ant.path.copy()\n",
    "                    best_distance = ant_total_distance\n",
    "                \n",
    "        # Update pheromone levels\n",
    "        for player1 in unique_players:\n",
    "            for player2 in unique_players:\n",
    "                if player1 != player2:\n",
    "                    pheromone_matrix[player1][player2] *= (1 - evaporation)\n",
    "\n",
    "        for ant in ants:\n",
    "            if len(ant.path) >= 2:\n",
    "                if(best_distance > 0):\n",
    "                    pheromone_delta = 1.0 / best_distance\n",
    "                    for i in range(len(ant.path) - 1):\n",
    "                        player1, player2 = ant.path[i], ant.path[i + 1]                                     \n",
    "                        pheromone_matrix[player1][player2] += pheromone_delta\n",
    "\n",
    "    return best_route, best_distance"
   ]
  },
  {
   "cell_type": "code",
   "execution_count": 21,
   "metadata": {
    "tags": []
   },
   "outputs": [
    {
     "name": "stdout",
     "output_type": "stream",
     "text": [
      "Best route: [1, 5, 6, 9, 11]\n",
      "Best distance: 23\n"
     ]
    }
   ],
   "source": [
    "# Example usage:\n",
    "num_ants = 50\n",
    "num_iterations = 10\n",
    "\n",
    "best_route, best_distance = ant_colony_optimization(connections, num_ants, num_iterations)\n",
    "\n",
    "print(\"Best route:\", best_route)\n",
    "print(\"Best distance:\", best_distance)"
   ]
  },
  {
   "cell_type": "markdown",
   "metadata": {},
   "source": [
    "### ⊗ **Optimizing ACO algorithm using Intel® SigOpt**: "
   ]
  },
  {
   "cell_type": "code",
   "execution_count": 33,
   "metadata": {
    "tags": []
   },
   "outputs": [],
   "source": [
    "import numpy as np\n",
    "import sigopt"
   ]
  },
  {
   "cell_type": "code",
   "execution_count": 34,
   "metadata": {
    "tags": []
   },
   "outputs": [],
   "source": [
    "# Origin Destiny Distance\n",
    "# (1,      3,       4)\n",
    "connections = {\n",
    "    (1, 3): 4, (1, 5): 6, (1, 4): 4, (1, 7): 20,\n",
    "    (3, 2): 4,\n",
    "    (4, 2): 6, (4, 5): 4,\n",
    "    (2, 5): 5,\n",
    "    (5, 7): 8, (5, 6): 4,\n",
    "    (6, 9): 5,\n",
    "    (7, 8): 6, (7, 11): 15, (7, 9): 7,\n",
    "    (8, 10): 7, (8, 9): 15,\n",
    "    (9, 10): 10, (9, 11): 8,\n",
    "    (10, 11): 6\n",
    "}\n",
    "\n",
    "\n",
    "unique_players = set([1, 2, 3, 4, 5, 6, 7, 8, 9, 10, 11])"
   ]
  },
  {
   "cell_type": "code",
   "execution_count": 35,
   "metadata": {
    "tags": []
   },
   "outputs": [],
   "source": [
    "def distance(player1, player2):\n",
    "    if (player1, player2) in connections:\n",
    "        return connections[(player1, player2)]\n",
    "    elif (player2, player1) in connections:\n",
    "        return connections[(player2, player1)]\n",
    "    elif player1 == player2:\n",
    "        return 0\n",
    "    else:\n",
    "        return float('inf')  # Return a large value for non-connected connections\n",
    "    \n",
    "def total_distance(route):\n",
    "    total_distance = 0\n",
    "    for i in range(len(route) - 1):\n",
    "        total_distance += distance(route[i], route[i + 1])\n",
    "    return total_distance"
   ]
  },
  {
   "cell_type": "code",
   "execution_count": 36,
   "metadata": {
    "tags": []
   },
   "outputs": [],
   "source": [
    "class Ant:\n",
    "    def __init__(self, players, alpha, beta):\n",
    "\n",
    "        self.players = players\n",
    "        self.alpha = alpha\n",
    "        self.beta = beta\n",
    "        self.path = []  # Stores the path taken by the ant (list of players)\n",
    "        self.visited = set()  # Set to keep track of visited players\n",
    "        self.current_player = None  # The current player the ant is in\n",
    "        self.unique_players = unique_players  # Set of unique player names\n",
    "\n",
    "    def select_next_player(self, pheromone_matrix):\n",
    "        unvisited_players = [player for player in self.unique_players if player not in self.visited and player != self.current_player]\n",
    "\n",
    "        probabilities = []\n",
    "        total = 0\n",
    "\n",
    "        for player in unvisited_players:\n",
    "            distance_to_player = distance(self.current_player, player)\n",
    "\n",
    "            if(distance_to_player > 0):  # Two different players             \n",
    "                pheromone = pheromone_matrix[self.current_player][player]\n",
    "                probabilities.append((pheromone ** self.alpha) * (1.0 / distance_to_player) ** self.beta)\n",
    "            else:\n",
    "                probabilities.append(0)\n",
    "\n",
    "            total += probabilities[-1]\n",
    "\n",
    "        if(total > 0):\n",
    "            probabilities = [p / total for p in probabilities]\n",
    "        else:\n",
    "            probabilities = [0 for p in probabilities]\n",
    "        \n",
    "        if(sum(probabilities) > 0.9):\n",
    "            selected_player = np.random.choice(unvisited_players, size=1, p=probabilities)[0]\n",
    "            self.path.append(selected_player)\n",
    "            \n",
    "            self.visited.add(selected_player)\n",
    "            self.current_player = selected_player\n"
   ]
  },
  {
   "cell_type": "code",
   "execution_count": 37,
   "metadata": {
    "tags": []
   },
   "outputs": [],
   "source": [
    "def ant_colony_optimization(connections, num_ants, num_iterations, alpha, beta, evaporation):\n",
    "    num_players = len(unique_players)\n",
    "    pheromone_matrix = {player1: {player2: 1.0 for player2 in unique_players if player1 != player2} for player1 in unique_players}\n",
    "\n",
    "    best_route = None\n",
    "    best_distance = float('inf')  # Set an initial value for best_distance\n",
    "\n",
    "    for _ in range(num_iterations):\n",
    "        ants = [Ant(unique_players, alpha, beta) for _ in range(num_ants)]\n",
    "\n",
    "        # Initialize each ant's current player 1\n",
    "        for i, ant in enumerate(ants):\n",
    "            ant.current_player = 1\n",
    "            ant.path.append(1)\n",
    "            ant.visited.add(ant.current_player)\n",
    "\n",
    "        # Construct the tour for each ant\n",
    "        for _ in range(num_players):\n",
    "            for ant in ants:\n",
    "                if ant.current_player != 11:\n",
    "                    ant.select_next_player(pheromone_matrix)\n",
    "\n",
    "        # Calculate the total distance of each ant's tour\n",
    "        for ant in ants:\n",
    "            ant_total_distance = total_distance(ant.path)\n",
    "            if ant_total_distance < best_distance:  \n",
    "                if ant.path[-1] == 11:        \n",
    "                    best_route = ant.path.copy()\n",
    "                    best_distance = ant_total_distance\n",
    "                \n",
    "        # Update pheromone levels\n",
    "        for player1 in unique_players:\n",
    "            for player2 in unique_players:\n",
    "                if player1 != player2:\n",
    "                    pheromone_matrix[player1][player2] *= (1 - evaporation)\n",
    "\n",
    "        for ant in ants:\n",
    "            if len(ant.path) >= 2:\n",
    "                if(best_distance > 0):\n",
    "                    pheromone_delta = 1.0 / best_distance\n",
    "                    for i in range(len(ant.path) - 1):\n",
    "                        player1, player2 = ant.path[i], ant.path[i + 1]                                     \n",
    "                        pheromone_matrix[player1][player2] += pheromone_delta\n",
    "\n",
    "    return best_route, best_distance"
   ]
  },
  {
   "cell_type": "code",
   "execution_count": 38,
   "metadata": {
    "tags": []
   },
   "outputs": [],
   "source": [
    "def evaluate_ant_colony(params):\n",
    "    num_ants = params['num_ants']\n",
    "    num_iterations = params['num_iterations']\n",
    "    alpha = params['alpha']\n",
    "    beta = params['beta']\n",
    "    evaporation = params['evaporation']\n",
    "    \n",
    "    # Call the ant_colony_optimization function and return the result you want to optimize\n",
    "    best_route, best_distance = ant_colony_optimization(connections, num_ants, num_iterations, alpha, beta, evaporation)\n",
    "    \n",
    "    return best_distance\n",
    "\n",
    "def sigopt_optimization():\n",
    "    # Set your SigOpt API TOKEN or use generic API TOKEN\n",
    "    SIGOPT_API_TOKEN = 'MJZRDBRNTMOPVYPCTTMRAMDIQDUEDTDJGOUMPFSIQTRKLYJJ'\n",
    "\n",
    "    # Configure the SigOpt client\n",
    "    conn = sigopt.Connection(client_token=SIGOPT_API_TOKEN)\n",
    "\n",
    "    # Define the variables to be optimized and their ranges\n",
    "    param_space = [\n",
    "        {'name': 'num_ants', 'type': 'int', 'bounds': {'min': 5, 'max': 50}},\n",
    "        {'name': 'num_iterations', 'type': 'int', 'bounds': {'min': 10, 'max': 500}},\n",
    "        {'name': 'alpha', 'type': 'double', 'bounds': {'min': 0.1, 'max': 2.0}},\n",
    "        {'name': 'beta', 'type': 'double', 'bounds': {'min': 0.1, 'max': 2.0}},\n",
    "        {'name': 'evaporation', 'type': 'double', 'bounds': {'min': 0.1, 'max': 0.9}},\n",
    "    ]\n",
    "\n",
    "    # Create an experiment on SigOpt\n",
    "    experiment = conn.experiments().create(\n",
    "        name='Robots ACO Optimization',\n",
    "        parameters=param_space,\n",
    "        metrics=[{'name': 'best_distance', 'objective': 'minimize'}]\n",
    "    )\n",
    "\n",
    "    # Run the optimization for a number of iterations\n",
    "    for _ in range(30):\n",
    "        suggestion = conn.experiments(experiment.id).suggestions().create()\n",
    "        suggestion_id = suggestion.id\n",
    "        \n",
    "        # Get the suggested hyperparameters\n",
    "        suggested_params = suggestion.assignments\n",
    "        \n",
    "        # Evaluate the performance with the suggested hyperparameters\n",
    "        result = evaluate_ant_colony(suggested_params)\n",
    "        \n",
    "        # Report the results to SigOpt\n",
    "        conn.experiments(experiment.id).observations().create(\n",
    "            suggestion=suggestion_id,\n",
    "            value=result,\n",
    "        )\n",
    "\n",
    "    # Get the best optimization results\n",
    "    best_assignments = conn.experiments(experiment.id).best_assignments().fetch()\n",
    "\n",
    "    # Print the best-found hyperparameters\n",
    "    print(\"Best hyperparameters found:\")\n",
    "    print(best_assignments.data[0].assignments)\n",
    "\n",
    "    # Run the ACO with the best-found hyperparameters\n",
    "    best_params = best_assignments.data[0].assignments\n",
    "    best_route, best_distance = ant_colony_optimization(connections, best_params['num_ants'], best_params['num_iterations'], best_params['alpha'], best_params['beta'], best_params['evaporation'])\n",
    "\n",
    "    # Print the best route and distance found\n",
    "    print(\"Best route:\", best_route)\n",
    "    print(\"Best distance:\", best_distance)"
   ]
  },
  {
   "cell_type": "code",
   "execution_count": 39,
   "metadata": {
    "tags": []
   },
   "outputs": [
    {
     "name": "stdout",
     "output_type": "stream",
     "text": [
      "Best hyperparameters found:\n",
      "Assignments({\n",
      "  \"alpha\": 1.209943535489275,\n",
      "  \"beta\": 0.19761079490970704,\n",
      "  \"evaporation\": 0.1,\n",
      "  \"num_ants\": 5,\n",
      "  \"num_iterations\": 352\n",
      "})\n",
      "Best route: [1, 5, 6, 9, 11]\n",
      "Best distance: 23\n"
     ]
    }
   ],
   "source": [
    "sigopt_optimization()"
   ]
  },
  {
   "cell_type": "markdown",
   "metadata": {},
   "source": [
    "### `PSO`"
   ]
  },
  {
   "cell_type": "code",
   "execution_count": 1,
   "metadata": {
    "tags": []
   },
   "outputs": [],
   "source": [
    "import numpy as np\n",
    "import random\n",
    "import copy\n",
    "import sigopt\n",
    "\n",
    "# Define as conexões dos jogadores\n",
    "player_connections = {\n",
    "    1: {3: 4, 5: 6, 4: 4, 7: 20},\n",
    "    2: {5: 5},\n",
    "    3: {2: 4},\n",
    "    4: {2: 6, 5: 4},\n",
    "    5: {6: 4, 7: 8},\n",
    "    6: {9: 5},\n",
    "    7: {8: 6, 11: 15, 9: 7},\n",
    "    8: {10: 7, 9: 15},\n",
    "    9: {10: 10, 11: 8},\n",
    "    10: {11: 6}\n",
    "}"
   ]
  },
  {
   "cell_type": "code",
   "execution_count": 2,
   "metadata": {
    "tags": []
   },
   "outputs": [],
   "source": [
    "class Particle:\n",
    "    def __init__(self, player_connections):\n",
    "        # Generate random route, starting with 1 and finishing with 11.\n",
    "        players = list(player_connections.keys())\n",
    "        players.remove(1)\n",
    "        players = players + [11]\n",
    "        random.shuffle(players)\n",
    "        self.position = [1] + players\n",
    "        self.best_position = self.position\n",
    "        self.best_fitness = fitness(self.position, player_connections)"
   ]
  },
  {
   "cell_type": "code",
   "execution_count": 3,
   "metadata": {
    "tags": []
   },
   "outputs": [],
   "source": [
    "def fitness(route, connections):\n",
    "    total_distance = 0\n",
    "    for i in range(len(route)):\n",
    "        # If route[i] is 11, the route has already finished\n",
    "        if route[i] == 11:\n",
    "            return total_distance\n",
    "        if route[i+1] in connections[route[i]]:\n",
    "            total_distance += connections[route[i]][route[i+1]]\n",
    "        else:\n",
    "            # If the connection does not exist, we can set it to infinite.\n",
    "            total_distance += float('inf')\n",
    "            \n",
    "def distance(city1, city2, connections):\n",
    "    if city1 == 11:\n",
    "      return 1\n",
    "    if city2 in connections[city1]:\n",
    "        return connections[city1][city2]\n",
    "    else:\n",
    "        # If the connection does not exist, we can set it to infinite.\n",
    "        return float('inf')\n",
    "\n",
    "def heuristic_crossover(x1, x2, player_connections):\n",
    "    n = len(x1) - 1\n",
    "\n",
    "    # Select players randomly who can receive the ball from the starting player.\n",
    "    v = random.choice(list(player_connections.get(1, {}).keys()))\n",
    "\n",
    "    # Insert first player with the randomly choosen.\n",
    "    x = [1] + [v]\n",
    "\n",
    "    x1.remove(v)\n",
    "    x1.insert(1, v)\n",
    "    x2.remove(v)\n",
    "    x2.insert(1, v)\n",
    "    i = 2\n",
    "    j = 2\n",
    "\n",
    "    while i <= n and j <= n:\n",
    "\n",
    "        if x1[i] in x and x2[j] in x:\n",
    "            i += 1\n",
    "            j += 1\n",
    "        elif x1[i] in x:\n",
    "            x.append(x2[j])\n",
    "            j += 1\n",
    "        elif x2[j] in x:\n",
    "            x.append(x1[i])\n",
    "            i += 1\n",
    "        else:\n",
    "            u = x[-1]\n",
    "            dist_1 = distance(u, x1[i], player_connections)\n",
    "            dist_2 = distance(u, x2[j], player_connections)\n",
    "            if dist_1 < dist_2:\n",
    "                x.append(x1[i])\n",
    "                i += 1\n",
    "            else:\n",
    "                x.append(x2[j])\n",
    "                j += 1\n",
    "    return x"
   ]
  },
  {
   "cell_type": "code",
   "execution_count": 4,
   "metadata": {
    "tags": []
   },
   "outputs": [],
   "source": [
    "def PSO(connections, n_particles, n_iterations):\n",
    "    # Creating particles\n",
    "    particles = [Particle(connections) for _ in range(n_particles)]\n",
    "\n",
    "    # Initializing global_best_position and global_best_fitness\n",
    "    global_best_position = particles[0].position\n",
    "    global_best_fitness = particles[0].best_fitness\n",
    "    aha = global_best_position\n",
    "    for _ in range(n_iterations):\n",
    "        # Checking each route\n",
    "        for particle in particles:\n",
    "            current_fitness = fitness(particle.position, connections)\n",
    "\n",
    "            # Update pbest\n",
    "            if current_fitness < particle.best_fitness:\n",
    "                particle.best_fitness = current_fitness\n",
    "                particle.best_position = particle.position\n",
    "            # Update gbest\n",
    "            if current_fitness < global_best_fitness:\n",
    "                global_best_fitness = current_fitness\n",
    "                global_best_position = particle.position\n",
    "                tome = global_best_position\n",
    "\n",
    "        # Update each route, using heuristic crossover (HC)\n",
    "        for particle in particles:\n",
    "            # Calculate new route using heuristic crossover with pbest and gbest\n",
    "            particle.position = heuristic_crossover(copy.deepcopy(particle.best_position), copy.deepcopy(global_best_position), connections)\n",
    "    return global_best_position, global_best_fitness\n"
   ]
  },
  {
   "cell_type": "code",
   "execution_count": 5,
   "metadata": {
    "tags": []
   },
   "outputs": [
    {
     "name": "stdout",
     "output_type": "stream",
     "text": [
      "Best route: 1 5 7 9 11 \n",
      "Best distance: 29\n"
     ]
    }
   ],
   "source": [
    "n_particles = 200\n",
    "n_iterations = 1000\n",
    "best_route, best_fitness = PSO(player_connections, n_particles, n_iterations)\n",
    "\n",
    "print(\"Best route:\", end=' ')\n",
    "for i in best_route:\n",
    "  print(i, end=' ')\n",
    "  if i == 11:\n",
    "    break\n",
    "print(\"\\nBest distance:\", best_fitness)"
   ]
  },
  {
   "cell_type": "markdown",
   "metadata": {},
   "source": [
    "### ⊗ **Optimizing PSO algorithm using Intel® SigOpt**: "
   ]
  },
  {
   "cell_type": "code",
   "execution_count": 6,
   "metadata": {},
   "outputs": [],
   "source": [
    "import numpy as np\n",
    "import random\n",
    "import copy\n",
    "import sigopt\n",
    "\n",
    "# Define connections\n",
    "player_connections = {\n",
    "    1: {3: 4, 5: 6, 4: 4, 7: 20},\n",
    "    2: {5: 5},\n",
    "    3: {2: 4},\n",
    "    4: {2: 6, 5: 4},\n",
    "    5: {6: 4, 7: 8},\n",
    "    6: {9: 5},\n",
    "    7: {8: 6, 11: 15, 9: 7},\n",
    "    8: {10: 7, 9: 15},\n",
    "    9: {10: 10, 11: 8},\n",
    "    10: {11: 6}\n",
    "}"
   ]
  },
  {
   "cell_type": "code",
   "execution_count": 7,
   "metadata": {},
   "outputs": [],
   "source": [
    "class Particle:\n",
    "    def __init__(self, player_connections):\n",
    "        # Generate random route, starting with 1 and finishing with 11.\n",
    "        players = list(player_connections.keys())\n",
    "        players.remove(1)\n",
    "        players = players + [11]\n",
    "        random.shuffle(players)\n",
    "        self.position = [1] + players\n",
    "        self.best_position = self.position\n",
    "        self.best_fitness = fitness(self.position, player_connections)\n",
    "\n",
    "def fitness(route, connections):\n",
    "    total_distance = 0\n",
    "    for i in range(len(route)):\n",
    "        # If route[i] is 11, the route has already finished\n",
    "        if route[i] == 11:\n",
    "            return total_distance\n",
    "        if route[i+1] in connections[route[i]]:\n",
    "            total_distance += connections[route[i]][route[i+1]]\n",
    "        else:\n",
    "            # If the connection does not exist, we can set it to infinite.\n",
    "            total_distance += float('inf')\n",
    "\n",
    "def distance(city1, city2, connections):\n",
    "    if city1 == 11:\n",
    "        return 1\n",
    "    if city2 in connections[city1]:\n",
    "        return connections[city1][city2]\n",
    "    else:\n",
    "        # If the connection does not exist, we can set it to infinite.\n",
    "        return float('inf')\n",
    "\n",
    "def heuristic_crossover(x1, x2, player_connections):\n",
    "    n = len(x1) - 1\n",
    "\n",
    "    # Select players randomly who can receive the ball from the starting player.\n",
    "    v = random.choice(list(player_connections.get(1, {}).keys()))\n",
    "\n",
    "    # Insert first player with the randomly chosen.\n",
    "    x = [1] + [v]\n",
    "\n",
    "    x1.remove(v)\n",
    "    x1.insert(1, v)\n",
    "    x2.remove(v)\n",
    "    x2.insert(1, v)\n",
    "    i = 2\n",
    "    j = 2\n",
    "\n",
    "    while i <= n and j <= n:\n",
    "\n",
    "        if x1[i] in x and x2[j] in x:\n",
    "            i += 1\n",
    "            j += 1\n",
    "        elif x1[i] in x:\n",
    "            x.append(x2[j])\n",
    "            j += 1\n",
    "        elif x2[j] in x:\n",
    "            x.append(x1[i])\n",
    "            i += 1\n",
    "        else:\n",
    "            u = x[-1]\n",
    "            dist_1 = distance(u, x1[i], player_connections)\n",
    "            dist_2 = distance(u, x2[j], player_connections)\n",
    "            if dist_1 < dist_2:\n",
    "                x.append(x1[i])\n",
    "                i += 1\n",
    "            else:\n",
    "                x.append(x2[j])\n",
    "                j += 1\n",
    "    return x"
   ]
  },
  {
   "cell_type": "code",
   "execution_count": 8,
   "metadata": {},
   "outputs": [],
   "source": [
    "def PSO(connections, n_particles, n_iterations):\n",
    "    # Creating particles\n",
    "    particles = [Particle(connections) for _ in range(n_particles)]\n",
    "\n",
    "    # Initializing global_best_position and global_best_fitness\n",
    "    global_best_position = particles[0].position\n",
    "    global_best_fitness = particles[0].best_fitness\n",
    "    aha = global_best_position\n",
    "    for _ in range(n_iterations):\n",
    "        # Checking each route\n",
    "        for particle in particles:\n",
    "            current_fitness = fitness(particle.position, connections)\n",
    "\n",
    "            # Update pbest\n",
    "            if current_fitness < particle.best_fitness:\n",
    "                particle.best_fitness = current_fitness\n",
    "                particle.best_position = particle.position\n",
    "            # Update gbest\n",
    "            if current_fitness < global_best_fitness:\n",
    "                global_best_fitness = current_fitness\n",
    "                global_best_position = particle.position\n",
    "                tome = global_best_position\n",
    "\n",
    "        # Update each route, using heuristic crossover (HC)\n",
    "        for particle in particles:\n",
    "            # Calculate new route using heuristic crossover with pbest and gbest\n",
    "            particle.position = heuristic_crossover(copy.deepcopy(particle.best_position), copy.deepcopy(global_best_position), connections)\n",
    "    \n",
    "    # Extract the best route\n",
    "    best_route = global_best_position\n",
    "    return best_route\n",
    "\n",
    "def evaluate_route(params):\n",
    "    n_particles = params['n_particles']\n",
    "    n_iterations = params['n_iterations']\n",
    "    best_route = PSO(player_connections, n_particles, n_iterations)\n",
    "    return fitness(best_route, player_connections)\n"
   ]
  },
  {
   "cell_type": "code",
   "execution_count": null,
   "metadata": {},
   "outputs": [],
   "source": [
    "def sigopt_optimization():\n",
    "    # Set your SigOpt API TOKEN here\n",
    "    SIGOPT_API_TOKEN = 'YOUR_SIGOPT_API_TOKEN'\n",
    "\n",
    "    # Configure the SigOpt client\n",
    "    conn = sigopt.Connection(client_token=\"MJZRDBRNTMOPVYPCTTMRAMDIQDUEDTDJGOUMPFSIQTRKLYJJ\")\n",
    "\n",
    "    # Define the optimization parameters and their ranges\n",
    "    param_space = [\n",
    "        {'name': 'n_particles', 'type': 'int', 'bounds': {'min': 100, 'max': 300}},\n",
    "        {'name': 'n_iterations', 'type': 'int', 'bounds': {'min': 500, 'max': 1500}}\n",
    "    ]\n",
    "\n",
    "    # Create an experiment on SigOpt\n",
    "    experiment = conn.experiments().create(\n",
    "        name='PSO Optimization',\n",
    "        parameters=param_space,\n",
    "        metrics=[{'name': 'best_distance', 'objective': 'minimize'}]\n",
    "    )\n",
    "\n",
    "    # Run the optimization for a number of iterations\n",
    "    for _ in range(30):\n",
    "        suggestion = conn.experiments(experiment.id).suggestions().create()\n",
    "        suggestion_id = suggestion.id\n",
    "\n",
    "        # Get the suggested hyperparameters\n",
    "        suggested_params = suggestion.assignments\n",
    "\n",
    "        # Evaluate the performance with the suggested hyperparameters\n",
    "        result = evaluate_route(suggested_params)\n",
    "\n",
    "        # Report the results to SigOpt\n",
    "        conn.experiments(experiment.id).observations().create(\n",
    "            suggestion=suggestion_id,\n",
    "            value=result\n",
    "        )\n",
    "\n",
    "    # Get the best optimization results\n",
    "    best_assignments = conn.experiments(experiment.id).best_assignments().fetch()\n",
    "\n",
    "    # Print the best-found hyperparameters\n",
    "    print(\"Best hyperparameters found:\")\n",
    "    print(best_assignments.data[0].assignments)\n",
    "\n",
    "    # Run the PSO with the best-found hyperparameters\n",
    "    best_params = best_assignments.data[0].assignments\n",
    "    best_route = PSO(player_connections, best_params['n_particles'], best_params['n_iterations'])\n",
    "\n",
    "    # Print the best route and distance found\n",
    "    print(\"Best route:\", end=' ')\n",
    "    for i in best_route:\n",
    "        print(i, end=' ')\n",
    "        if i == 11:\n",
    "            break\n",
    "    print(\"\\nBest distance:\", fitness(best_route, player_connections))\n",
    "\n",
    "# Run the SigOpt optimization\n",
    "sigopt_optimization()"
   ]
  }
 ],
 "metadata": {
  "kernelspec": {
   "display_name": "Python 3 (ipykernel)",
   "language": "python",
   "name": "python3"
  },
  "language_info": {
   "codemirror_mode": {
    "name": "ipython",
    "version": 3
   },
   "file_extension": ".py",
   "mimetype": "text/x-python",
   "name": "python",
   "nbconvert_exporter": "python",
   "pygments_lexer": "ipython3",
   "version": "3.8.8"
  }
 },
 "nbformat": 4,
 "nbformat_minor": 4
}
