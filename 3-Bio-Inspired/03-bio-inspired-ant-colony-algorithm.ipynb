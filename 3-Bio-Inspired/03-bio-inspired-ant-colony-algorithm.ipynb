{
 "cells": [
  {
   "cell_type": "markdown",
   "metadata": {},
   "source": [
    "# Ant Colony Optimization Algorithm"
   ]
  },
  {
   "cell_type": "markdown",
   "metadata": {},
   "source": [
    "<p style='text-align: justify;'> \n",
    "In this section, we will study the concepts inspired by the behavior of ants searching for shorter paths to a food source, leaving pheromone trails to communicate with other ants.\n",
    "</p>"
   ]
  },
  {
   "cell_type": "markdown",
   "metadata": {},
   "source": [
    "## Objectives"
   ]
  },
  {
   "cell_type": "markdown",
   "metadata": {},
   "source": [
    "* **Understand** how ant colony optimization works,\n",
    "* **Learn** how to implement an ant colony optimization, \n",
    "* **Explore** the different ways to resolve the traveling salesman problem."
   ]
  },
  {
   "cell_type": "markdown",
   "metadata": {},
   "source": [
    "## The problem: Find the best route between cities effectively"
   ]
  },
  {
   "cell_type": "markdown",
   "metadata": {},
   "source": [
    "Finding the best route maybe a huge problem if the number of cities is large. This problem has a factorial complexity, $O(n!)$, where $n$ is the number of cities."
   ]
  },
  {
   "cell_type": "markdown",
   "metadata": {},
   "source": [
    "## The solution: Ant colony optimization (ACO)"
   ]
  },
  {
   "cell_type": "markdown",
   "metadata": {},
   "source": [
    "In nature, ants have their own way to find the best path to find food. Their natural behavior stands on the use of their own pheromone to keep the track of the best route."
   ]
  },
  {
   "cell_type": "markdown",
   "metadata": {},
   "source": [
    "## What is ACO?\n",
    "\n",
    "ACO, acronym of ant colony optimization, is a metaheuristic optimization algorithm inspired by the foraging behavior of ants. Marco Dorigo originally proposed it in the early $1990$s. The algorithm is used to solve combinatorial optimization problems, which involve finding the best solution from a finite set of possible solutions."
   ]
  },
  {
   "cell_type": "markdown",
   "metadata": {},
   "source": [
    "## How do ants do it?\n",
    "    \n",
    "In nature, ants can find the shortest path between their nest and a food source by laying down pheromone trails. The more ants use a particular path, the stronger the pheromone trail. Ants are more likely to follow paths with more robust pheromone trails, leading to a self-reinforcing effect where shorter routes get reinforced and more extended ways fade away.\n"
   ]
  },
  {
   "cell_type": "markdown",
   "metadata": {},
   "source": [
    "## Travelling salesman problem (TSP)\n",
    "\n",
    "### What is it?\n",
    "\n",
    "The Traveling Salesman Problem (TSP) is a classic and well-known optimization problem in computer science, mathematics, and operations research. The problem can be described as follows:\n",
    "\n",
    "- Given a list of cities and the distances between each pair of cities, the task is to find the shortest possible route that visits each city exactly once and returns to the starting city. The objective is to minimize the total distance traveled by the salesman during the entire journey.\n",
    "\n",
    "### Where is used?\n",
    "\n",
    "- **Vehicle Routing and Delivery Services**: In logistics and transportation, companies often face the challenge of efficiently routing their vehicles to deliver goods to multiple destinations. The TSP can be applied to find the shortest and most optimal routes for delivery trucks, saving time, fuel, and overall operational costs. By solving the TSP, delivery service providers can optimize their routes, ensuring that each customer is served while minimizing the distance traveled.\n",
    "\n",
    "- **Printed Circuit Board Manufacturing**: When designing printed circuit boards (PCBs) for electronic devices, engineers must determine the most efficient path for automated drilling machines to connect components. The TSP can be used to find the shortest way to drill all the necessary holes, thus reducing manufacturing time and improving the overall quality of the PCB.\n",
    "\n",
    "- **DNA Sequencing and Genome Assembly**: In bioinformatics, DNA sequencing involves determining the order of nucleotides in a DNA molecule. When dealing with large-scale genome sequencing projects, scientists encounter the problem of assembling fragments of DNA into the original genome. The TSP can be used to order these fragments and find the most likely arrangement, helping researchers piece together the complete genetic sequence more accurately and efficiently.\n",
    "\n",
    "\n",
    "### What are the limitations of the method?\n",
    "\n",
    "The TSP is an NP-hard problem, making it increasingly difficult to find optimal solutions as the number of cities increases. As the TSP grows, the number of possible permutations of cities grows exponentially, making it computationally infeasible to explore all possible solutions in a reasonable amount of time.\n",
    "\n",
    "The limitations of traditional exact algorithms for solving the TSP, such as brute-force or dynamic programming, include:\n",
    "\n",
    "- **High computational complexity**: As the number of cities increases, the time required to find the optimal solution grows exponentially. For large instances of the TSP, finding the best solution becomes practically impossible.\n",
    "\n",
    "- **Infeasible for large instances**: Exact algorithms may work well for small TSP instances with a handful of cities, but they quickly become unmanageable when the number of towns exceeds a certain threshold.\n",
    "\n",
    "- **No guarantee of finding the global optimum**: Heuristic algorithms, like the nearest neighbor or genetic algorithms, can provide reasonable approximate solutions for large TSP instances, but they do not guarantee to find the globally optimal solution.\n",
    "\n",
    "### ACO comes into play\n",
    "\n",
    "ACO leverages this natural process to find near-optimal solutions for complex optimization problems, including the TSP. How ACO helps overcome the limitations of traditional algorithms:\n",
    "\n",
    "- **Exploitation and exploration**: ACO combines exploitation (reinforcement of strong paths) and exploration (discovery of new paths) during the solution construction. This allows the algorithm to focus on promising areas of the solution while still exploring other possibilities, increasing the chances of finding reasonable solutions.\n",
    "\n",
    "- **Scalability**: ACO performs well even for large TSP instances due to its probabilistic nature and parallelism. The algorithm searches for solutions through multiple artificial ants, and as the iterations progress, the pheromone trails guide the ants toward better paths, leading to convergence.\n",
    "\n",
    "- **Ability to escape local optima**: ACO's probabilistic nature allows it to escape local optima and explore different parts of the solution space. This stochastic behavior helps prevent premature convergence to suboptimal solutions, making ACO more robust in finding high-quality solutions for the TSP.\n",
    "\n",
    "- **Adaptability and self-organization**: The pheromone trails are dynamically updated as the ants construct solutions. This adaptability helps the algorithm respond to changes in the problem space and converge towards better solutions over time."
   ]
  },
  {
   "cell_type": "markdown",
   "metadata": {},
   "source": [
    "## Some concepts of ACO\n",
    "\n",
    "- **Graph Representation**: In ACO, the problem is represented as a graph where nodes represent cities or components of the problem, and edges represent the connections between these cities or parts. The weight of each edge represents a measure of desirability or cost (e.g., distance, time, or any other metric).\n",
    "\n",
    "- **Pheromone Trails**: ACO uses pheromone trails to model the communication among ants. The pheromone level on each edge represents the probability of an ant choosing that edge during its solution construction. Higher pheromone levels indicate a more desirable path.\n",
    "\n",
    "- **Convergence Criteria**: ACO terminates when a predefined stopping condition is met, such as reaching a maximum number of iterations or finding a satisfactory solution.\n",
    "\n",
    "There are several other concepts about ACO, but we will stick with only these three."
   ]
  },
  {
   "cell_type": "markdown",
   "metadata": {},
   "source": [
    "## Mathematics behind ACO\n",
    "\n",
    "### Edge selection\n",
    "\n",
    "Each movement of the ant is done by a probability calculation using some parameters. Here we will not discuss those parameters, but if you want to learn more, [click here](https://en.wikipedia.org/wiki/Ant_colony_optimization_algorithms). Imagine we have five cities to travel. The first formula represents the probability an ant will chose to travel to an specific city instead of others:\n",
    "\n",
    "$$ p^k_{xy} = \\frac{(\\tau^\\alpha_{xy})(\\eta^\\beta_{xz})}{\\sum_{z\\in allowed_y}(\\tau^\\alpha_{xy})(\\eta^\\beta_{xz})}$$\n",
    "\n",
    "### Pheromone update\n",
    "Trails are usually updated when all ants have completed their solution, increasing or decreasing the level of trails corresponding to moves that were part of \"good\" or \"bad\" solutions, respectively. An example of a global pheromone updating rule is\n",
    "\n",
    "$$  \\tau_{xy} \\leftarrow (1 - \\rho)\\tau_{xy} + \\sum \\limits _{k} ^{m} \\Delta\\tau^k_{xy}$$\n",
    "\n",
    "where $\\tau_{xy}$ is the amount of pheromone deposited for a state transition $xy$, $\\rho$ is the pheromone evaporation coefficient, $m$ is the number of ants and \n",
    "$\\Delta\\tau^k_{xy}$ is the amount of pheromone deposited by the $k_{th}$ ant, typically given for a TSP problem (with moves corresponding to arcs of the graph) by\n",
    "\n",
    "$$  \\Delta\\tau^k_{xy} = \\begin{cases} Q/L_k & \\text{if ant k uses curve xy in its tour } \\\\ 0 & \\text{otherwise }  \\end{cases}$$\n",
    "\n",
    "where $L_k$ is the cost of the tour of the $k_{th}$ ant (typically length) and $Q$ is a constant."
   ]
  },
  {
   "cell_type": "markdown",
   "metadata": {},
   "source": [
    "## ACO brief simulation"
   ]
  },
  {
   "cell_type": "markdown",
   "metadata": {},
   "source": [
    "<p style='text-align: justify;'>\n",
    "Below, we have an animation of the simulation of the ACO algorithm to find the best route between two points. Notice that initially, all paths are considered potential routes. However, after a few iterations, the best way stands out among the others and is used by almost all ants, eventually becoming the <i>only</i> possible route.\n",
    "</p>"
   ]
  },
  {
   "cell_type": "markdown",
   "metadata": {},
   "source": [
    "<div style=\"display: flex; justify-content: center;\">\n",
    "    <img src=\"./images/ACO_GIF.gif\" alt=\"segment\" />\n",
    "</div>"
   ]
  },
  {
   "cell_type": "markdown",
   "metadata": {},
   "source": [
    "## ☆ Challenge: Traveling through Spain ☆"
   ]
  },
  {
   "cell_type": "markdown",
   "metadata": {},
   "source": [
    "Consider the following problem:\n",
    "<p style=\"text-align: justify;\">\n",
    "After years dedicated to tending and protecting his precious plantations on the farm, a farmer finally decided to treat himself to well-deserved vacations and set off on a journey through the beautiful landscapes of Spain. He then decided to visit eight renowned cities during this unique adventure.\n",
    "</p>\n",
    "\n",
    "<p style=\"text-align: justify;\">\n",
    "Recognizing the value of time, the farmer understands the importance of finding the most efficient route to travel through all the cities, ensuring a seamless journey with the shortest travel time between each destination.\n",
    "</p>\n",
    "    \n",
    "<p style=\"text-align: justify;\">\n",
    "The map of Spain takes the form of a graph, where cities are represented as nodes and the roads connecting them as edges. Each edge is associated with a distance in miles between each pair of cities. Although the farmer is free to choose a starting city, he must visit exactly eight distinct cities, avoiding revisits during his expedition.\n",
    "</p>\n",
    "\n",
    "<p style=\"text-align: center;\">\n",
    " <img src=\"./images/figure08_cities.png\"  width=\"500\" height=\"500\">\n",
    "</p>\n",
    "\n",
    "<p style=\"text-align: justify;\">\n",
    "Your mission is to assist the farmer in creating the optimal order to visit all the cities, allowing him to explore their wonders while spending the least amount of time on the road. To do that, answer the following items:\n",
    "</p>\n",
    "\n",
    "a) Implement a bio-inspired algorithm using **ACO**,\n",
    "\n",
    "b) Find the best route between the cities using **ACO**.\n",
    "\n",
    "`As support you will have at your disposal an adjacency matrix, where you will have access to all possible distances between each of the cities`. This table will help you in solving the proposed problem.\n",
    "</p>\n",
    "\n",
    "<p style=\"text-align: center;\">\n",
    " <img src=\"./images/figure09_cities_distances_table.png\"  width=\"500\" height=\"500\">\n",
    "</p>"
   ]
  },
  {
   "cell_type": "markdown",
   "metadata": {},
   "source": [
    "### ☆ Solution ☆ "
   ]
  },
  {
   "cell_type": "markdown",
   "metadata": {},
   "source": [
    "First we need to import the packages."
   ]
  },
  {
   "cell_type": "code",
   "execution_count": 1,
   "metadata": {},
   "outputs": [],
   "source": [
    "import itertools\n",
    "import time\n",
    "import matplotlib.pyplot as plt\n",
    "import numpy as np\n",
    "from geopy.geocoders import Nominatim\n",
    "from geopy.distance import geodesic"
   ]
  },
  {
   "cell_type": "markdown",
   "metadata": {},
   "source": [
    "Let's insert all cities connections and their distances."
   ]
  },
  {
   "cell_type": "code",
   "execution_count": 2,
   "metadata": {},
   "outputs": [],
   "source": [
    "cities = {\n",
    "    (\"Murcia\", \"Jaén\"): 368,\n",
    "    (\"Murcia\", \"Valencia\"): 241,\n",
    "    (\"Murcia\", \"Madrid\"): 401,\n",
    "    (\"Jaén\", \"Madrid\"): 335,\n",
    "    (\"Madrid\", \"Valladolid\"): 193,\n",
    "    (\"Madrid\", \"Bilbao\"): 395,\n",
    "    (\"Madrid\", \"Zaragoza\"): 325,\n",
    "    (\"Valladolid\", \"Bilbao\"): 280,\n",
    "    (\"Bilbao\", \"Zaragoza\"): 324,\n",
    "    (\"Zaragoza\", \"Barcelona\"): 296,\n",
    "    (\"Valencia\", \"Murcia\"): 241,\n",
    "    (\"Valencia\", \"Barcelona\"): 349\n",
    "}\n",
    "\n",
    "# Convert the city names to a set of unique city names\n",
    "unique_cities = set(sum(cities, ()))"
   ]
  },
  {
   "cell_type": "markdown",
   "metadata": {},
   "source": [
    "Simple function to return the distance between two cities and calculate the total path distance:"
   ]
  },
  {
   "cell_type": "code",
   "execution_count": 3,
   "metadata": {},
   "outputs": [],
   "source": [
    "def distance(city1, city2):\n",
    "    if (city1, city2) in cities:\n",
    "        return cities[(city1, city2)]\n",
    "    elif (city2, city1) in cities:\n",
    "        return cities[(city2, city1)]\n",
    "    elif city1 == city2:\n",
    "        return 0\n",
    "    else:\n",
    "        return float('inf')  # Return a large value for non-connected cities\n",
    "    \n",
    "def total_distance(route):\n",
    "    total_distance = 0\n",
    "    for i in range(len(route) - 1):\n",
    "        total_distance += distance(route[i], route[i + 1])\n",
    "    return total_distance"
   ]
  },
  {
   "cell_type": "markdown",
   "metadata": {},
   "source": [
    "We also need an algorithm to plot the cities at their positions. Since our problem has real cities names, we can use the `GeoFunctions` from python. This algorithm uses the name of the city to find its location and relationship to every other named city. At the end, the cities relative positions to each other is very similar to the problems image.    "
   ]
  },
  {
   "cell_type": "code",
   "execution_count": 4,
   "metadata": {},
   "outputs": [],
   "source": [
    "def get_coordinates(city):\n",
    "    geolocator = Nominatim(user_agent=\"city_locator\")\n",
    "    location = geolocator.geocode(city)\n",
    "    return location.latitude, location.longitude\n",
    "\n",
    "def plot_route(best_route):\n",
    "    plt.figure(figsize=(10, 8))\n",
    "    for i in range(len(best_route) - 1):\n",
    "        city1, city2 = best_route[i], best_route[i + 1]\n",
    "        distance_between_cities = distance(city1, city2)\n",
    "        coords1 = get_coordinates(city1)\n",
    "        coords2 = get_coordinates(city2)\n",
    "        plt.plot([coords1[1], coords2[1]], [coords1[0], coords2[0]], 'b', linewidth=1)\n",
    "        plt.scatter(coords1[1], coords1[0], color='blue', marker='o')\n",
    "        plt.scatter(coords2[1], coords2[0], color='blue', marker='o')\n",
    "        plt.text(coords1[1], coords1[0], city1, fontsize=12, ha='center', va='center', color='red')\n",
    "        plt.text(coords2[1], coords2[0], city2, fontsize=12, ha='center', va='center', color='red')\n",
    "        mid_latitude = (coords1[0] + coords2[0]) / 2\n",
    "        mid_longitude = (coords1[1] + coords2[1]) / 2\n",
    "        plt.text(mid_longitude, mid_latitude, f\"{distance_between_cities} km\", fontsize=10, ha='center', va='center', color='black')\n",
    "    plt.title(\"Best Route\")\n",
    "    plt.xlabel(\"Longitude\")\n",
    "    plt.ylabel(\"Latitude\")\n",
    "    plt.grid()\n",
    "    plt.show()"
   ]
  },
  {
   "cell_type": "markdown",
   "metadata": {},
   "source": [
    "Let's see the solution with the ACO implementation. The following code blocks are the ACO implementation. First, let's create a class to represent each ant of our algorithm:"
   ]
  },
  {
   "cell_type": "code",
   "execution_count": 5,
   "metadata": {},
   "outputs": [],
   "source": [
    "class Ant:\n",
    "    def __init__(self, cities, alpha, beta):\n",
    "        \"\"\"\n",
    "        Initialize an Ant object.\n",
    "\n",
    "        Parameters:\n",
    "        - cities (set): A set of unique city names.\n",
    "        - alpha (float): The importance of pheromone in the ant's decision-making process.\n",
    "        - beta (float): The importance of distance in the ant's decision-making process.\n",
    "        \"\"\"\n",
    "        self.cities = cities\n",
    "        self.alpha = alpha\n",
    "        self.beta = beta\n",
    "        self.path = []  # Stores the path taken by the ant (list of cities)\n",
    "        self.visited = set()  # Set to keep track of visited cities\n",
    "        self.current_city = None  # The current city the ant is in\n",
    "        self.unique_cities = unique_cities  # Set of unique city names\n",
    "\n",
    "    def select_next_city(self, pheromone_matrix):\n",
    "        \"\"\"\n",
    "        Select the next city for the ant to move to based on pheromone levels and distance.\n",
    "\n",
    "        Parameters:\n",
    "        - pheromone_matrix (dict): A dictionary representing pheromone levels between cities.\n",
    "\n",
    "        This method uses a probabilistic approach to choose the next city, considering both\n",
    "        pheromone levels and distance between cities. It updates the ant's path, visited cities,\n",
    "        and the current city accordingly.\n",
    "        \"\"\"\n",
    "        unvisited_cities = [city for city in self.unique_cities if city not in self.visited and city != self.current_city]\n",
    "\n",
    "        probabilities = []\n",
    "        total = 0\n",
    "\n",
    "        for city in unvisited_cities:\n",
    "            distance_to_city = distance(self.current_city, city)\n",
    "\n",
    "            if(distance_to_city > 0):  # Two different cities\n",
    "                pheromone = pheromone_matrix[self.current_city][city]\n",
    "                probabilities.append((pheromone ** self.alpha) * (1.0 / distance_to_city) ** self.beta)\n",
    "            else:\n",
    "                probabilities.append(0)\n",
    "\n",
    "            total += probabilities[-1]\n",
    "\n",
    "        if(total > 0):\n",
    "            probabilities = [p / total for p in probabilities]\n",
    "        else:\n",
    "            probabilities = [0 for p in probabilities]\n",
    "        \n",
    "        if(sum(probabilities) > 0.9):\n",
    "            selected_city = np.random.choice(unvisited_cities, size=1, p=probabilities)[0]\n",
    "            self.path.append(selected_city)\n",
    "            \n",
    "            self.visited.add(selected_city)\n",
    "            self.current_city = selected_city\n"
   ]
  },
  {
   "cell_type": "markdown",
   "metadata": {},
   "source": [
    "Below is an example code that uses ACO to solve the TSP:"
   ]
  },
  {
   "cell_type": "code",
   "execution_count": 6,
   "metadata": {},
   "outputs": [],
   "source": [
    "def ant_colony_optimization(cities, num_ants, num_iterations, alpha=1.0, beta=5.0, evaporation=0.5):\n",
    "    \"\"\"\n",
    "    Solve the Traveling Salesman Problem using Ant Colony Optimization (ACO) algorithm.\n",
    "\n",
    "    Parameters:\n",
    "    - cities (dict): A dictionary with city pairs as keys and distances as values.\n",
    "    - num_ants (int): The number of ants (iterations) to run in each cycle.\n",
    "    - num_iterations (int): The number of iterations (cycles) for the optimization process.\n",
    "    - alpha (float, optional): The importance of pheromone in ant decision-making (default is 1.0).\n",
    "    - beta (float, optional): The importance of distance in ant decision-making (default is 5.0).\n",
    "    - evaporation (float, optional): Pheromone evaporation rate (default is 0.5).\n",
    "\n",
    "    Returns:\n",
    "    - best_route (list): A list representing the best route found by the algorithm.\n",
    "    - best_distance (float): The total distance of the best route found.\n",
    "\n",
    "    This function implements the Ant Colony Optimization algorithm to find the best route\n",
    "    for the Traveling Salesman Problem (TSP). It repeatedly constructs routes for each ant,\n",
    "    updates pheromone levels, and selects the best route with the smallest distance found\n",
    "    during the specified number of iterations.\n",
    "    \"\"\"\n",
    "    num_cities = len(unique_cities)\n",
    "    pheromone_matrix = {city1: {city2: 1.0 for city2 in unique_cities if city1 != city2} for city1 in unique_cities}\n",
    "\n",
    "    best_route = None\n",
    "    best_distance = float('inf')  # Set an initial value for best_distance\n",
    "\n",
    "    for _ in range(num_iterations):\n",
    "        ants = [Ant(unique_cities, alpha, beta) for _ in range(num_ants)]\n",
    "\n",
    "        starting_cities = list(unique_cities)\n",
    "        np.random.shuffle(starting_cities)\n",
    "        starting_cities = starting_cities * num_ants  # Repeat the starting cities to match the number of ants\n",
    "\n",
    "        # Initialize each ant's current city randomly\n",
    "        for i, ant in enumerate(ants):\n",
    "            ant.current_city = starting_cities[i]\n",
    "            ant.visited.add(ant.current_city[0])\n",
    "\n",
    "        # Construct the complete tour for each ant\n",
    "        for _ in range(num_cities):\n",
    "            for ant in ants:\n",
    "                ant.select_next_city(pheromone_matrix)\n",
    "\n",
    "        # Calculate the total distance of each ant's tour\n",
    "        for ant in ants:\n",
    "            ant_total_distance = total_distance(ant.path)\n",
    "\n",
    "            if ant_total_distance < best_distance:\n",
    "                if(len(ant.path) == len(unique_cities)): # Checking if that path is a valid one\n",
    "                    best_route = ant.path.copy()\n",
    "                    best_distance = ant_total_distance\n",
    "\n",
    "        # Update pheromone levels\n",
    "        for city1 in unique_cities:\n",
    "            for city2 in unique_cities:\n",
    "                if city1 != city2:\n",
    "                    pheromone_matrix[city1][city2] *= (1 - evaporation)\n",
    "\n",
    "        for ant in ants:\n",
    "            if len(ant.path) >= 2:\n",
    "                if(best_distance > 0):\n",
    "                    pheromone_delta = 1.0 / best_distance\n",
    "                    for i in range(len(ant.path) - 1):\n",
    "                        city1, city2 = ant.path[i], ant.path[i + 1]                                     \n",
    "                        pheromone_matrix[city1][city2] += pheromone_delta\n",
    "\n",
    "    return best_route, best_distance\n"
   ]
  },
  {
   "cell_type": "markdown",
   "metadata": {},
   "source": [
    "Finally, the usage example with the ACO implementation. Notice that this solution might not provide the best possible route. Try increasing and decreasing the number of iterations and check the results."
   ]
  },
  {
   "cell_type": "code",
   "execution_count": 7,
   "metadata": {},
   "outputs": [
    {
     "name": "stdout",
     "output_type": "stream",
     "text": [
      "Best Route: ['Valencia', 'Murcia', 'Jaén', 'Madrid', 'Valladolid', 'Bilbao', 'Zaragoza', 'Barcelona']\n",
      "Best Distance: 2037\n"
     ]
    },
    {
     "data": {
      "image/png": "[encoded data removed]",
      "text/plain": [
       "<Figure size 1000x800 with 1 Axes>"
      ]
     },
     "metadata": {},
     "output_type": "display_data"
    }
   ],
   "source": [
    "# Example usage:\n",
    "num_ants = 1\n",
    "num_iterations = 1\n",
    "\n",
    "best_route, best_distance = ant_colony_optimization(cities, num_ants, num_iterations)\n",
    "\n",
    "print(\"Best Route:\", best_route)\n",
    "print(\"Best Distance:\", best_distance)\n",
    "\n",
    "plot_route(best_route)"
   ]
  },
  {
   "cell_type": "markdown",
   "metadata": {},
   "source": [
    "<p style='text-align: justify;'>\n",
    "The main difference between the approach with and without ACO is that ACO is a biologically-inspired algorithm that simulates the behavior of ants when searching for shorter paths using pheromones. ACO tends to be more efficient in complex TSP problems with many cities because it leverages collective information about promising ways.\n",
    "</p>\n",
    "\n",
    "<p style='text-align: justify;'>\n",
    "On the other hand, the approach without ACO is more straightforward. Still, as the number of cities increases, the number of permutations to be examined grows exponentially, making the problem computationally infeasible for many cities.\n",
    "</p>"
   ]
  },
  {
   "cell_type": "markdown",
   "metadata": {},
   "source": [
    "## Convergence in ACO"
   ]
  },
  {
   "cell_type": "markdown",
   "metadata": {},
   "source": [
    "<p style='text-align: justify;'>\n",
    "Convergence is a crucial aspect of the ACO algorithm. It refers to the process by which the algorithm approaches a solution considered satisfactory or close to the optimal solution. The ACO is designed to converge towards better solutions over time by collaborating with ants and modifying pheromone trails. The convergence process in ACO can be described as follows:\n",
    "\n",
    "1. <strong>Exploration</strong>: In the early iterations, the ants explore the solution space by randomly choosing paths between cities. The exploration phase allows the ants to discover different routes and update the pheromone trails accordingly.\n",
    "\n",
    "2. <strong>Exploitation</strong>: As the algorithm progresses, the ants exploit the information gathered from the pheromone trails. They are likelier to choose paths with higher pheromone intensity, reflecting paths frequently traveled by other ants. This exploitation mechanism allows the ants to focus on promising ways and reduces the search space.\n",
    "\n",
    "3. <strong>Positive feedback</strong>: The exploitation of highly pheromone-intensive paths creates positive feedback. As more ants follow these paths, their pheromone intensity increases further, making those paths even more attractive to future ants. This positive feedback reinforces the convergence towards the best path.\n",
    "\n",
    "4. <strong>Convergence to optimal solution</strong>: Over several iterations, the algorithm converges towards a solution representing a trade-off between exploration and exploitation. The convergence process helps the ants concentrate on the most promising paths, ultimately leading to identifying a relatively good solution to the optimization problem.\n",
    "\n",
    "It is important to note that the convergence of ACO is only guaranteed to find the globally optimal solution for some problem instances. Depending on the problem complexity, parameter settings, and the initial pheromone distribution, ACO may converge to a local optimum, the best solution within a specific neighborhood, but not the globally optimal solution.\n",
    "\n",
    "To enhance the convergence of ACO, researchers, and practitioners often experiment with various parameter configurations, pheromone update strategies, and problem-specific heuristics. Additionally, combining ACO with other metaheuristic algorithms or problem-specific optimization methods can improve the convergence and solution quality.\n",
    "</p>    "
   ]
  },
  {
   "cell_type": "markdown",
   "metadata": {},
   "source": [
    "## Summary"
   ]
  },
  {
   "cell_type": "markdown",
   "metadata": {},
   "source": [
    "In this notebook we have shown: \n",
    "\n",
    "- Implement a bio-inspired algorithm using **ACO**,\n",
    "- Find the best route between the cities using the **ACO**."
   ]
  },
  {
   "cell_type": "markdown",
   "metadata": {},
   "source": [
    "## Clear the memory"
   ]
  },
  {
   "cell_type": "markdown",
   "metadata": {},
   "source": [
    "Before moving on, please execute the following cell to clear up the CPU memory. This is required to move on to the next notebook."
   ]
  },
  {
   "cell_type": "code",
   "execution_count": 8,
   "metadata": {},
   "outputs": [],
   "source": [
    "import IPython\n",
    "app = IPython.Application.instance()\n",
    "app.kernel.do_shutdown(True)"
   ]
  },
  {
   "cell_type": "markdown",
   "metadata": {},
   "source": [
    "## Next"
   ]
  },
  {
   "cell_type": "markdown",
   "metadata": {},
   "source": [
    "In this section, you learned how to apply the Ant Colony Optimization (ACO) algorithm using Python to optimize a route-finding problem. In the next section, you will learn about other bio-inspired algorithms such as the one based on a flock of bird using [_04-bio-inspired-particle-swarm-optimization.ipynb_](04-bio-inspired-particle-swarm-optimization.ipynb)."
   ]
  }
 ],
 "metadata": {
  "kernelspec": {
   "display_name": "Python 3 (ipykernel)",
   "language": "python",
   "name": "python3"
  },
  "language_info": {
   "codemirror_mode": {
    "name": "ipython",
    "version": 3
   },
   "file_extension": ".py",
   "mimetype": "text/x-python",
   "name": "python",
   "nbconvert_exporter": "python",
   "pygments_lexer": "ipython3",
   "version": "3.8.8"
  }
 },
 "nbformat": 4,
 "nbformat_minor": 4
}
