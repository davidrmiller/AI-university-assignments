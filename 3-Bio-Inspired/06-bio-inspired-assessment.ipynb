{
 "cells": [
  {
   "cell_type": "markdown",
   "metadata": {},
   "source": [
    "# Assessment"
   ]
  },
  {
   "cell_type": "markdown",
   "metadata": {},
   "source": [
    "<p style='text-align: justify;'>\n",
    "Congratulations on finishing the bio-inspired course!! Hopefully, you learned some valuable skills along the way and had fun doing it. Now it is time to put those skills to the test. In this assessment, we have the following problem: Soccer passing strategies. First, you will make the effectiveness of this approach depends on technical skill, tactical understanding, and coordination between players. Let's get started!\n",
    "</p>"
   ]
  },
  {
   "cell_type": "markdown",
   "metadata": {},
   "source": [
    "## Problem: Soccer passing strategies"
   ]
  },
  {
   "cell_type": "markdown",
   "metadata": {},
   "source": [
    "<p style='text-align: justify;'>\n",
    "Soccer passing strategies, especially those that move the ball from goalkeeper to striker quickly and efficiently without a long shot or <i>hot link</i>, are critical in the modern game. The idea is to maintain possession of the ball, moving it across the pitch with a series of short, controlled passes, often involving midfielders and defenders. From the following graph, find the most efficient passing path leaving the goalkeeper (1) and arriving at the last attacker (11), considering the possible connections and distances between players on the same team.\n",
    "</p>    \n",
    "\n",
    "<p style=\"text-align: center;\">\n",
    " <img src=\"images/figure16_soccer_assessment.jpg\" style=\"width: 500px;\">         \n",
    "</p>\n"
   ]
  },
  {
   "cell_type": "markdown",
   "metadata": {},
   "source": [
    "### Characteristics of the connections and distances\n",
    "\n",
    "We encourage you to start with a model pretrained from the following table. Load the model with the correct values. Remember that the features have two dimensions: **player origin**, **player destination**, and **distance**. In summary, your model will require an output layer of one bio-inspired algorithm. "
   ]
  },
  {
   "cell_type": "markdown",
   "metadata": {},
   "source": [
    "| Player origin | Player destination  | Distance (m)\n",
    "| :-:           | :-:                 | :-: \n",
    "|1 \t\t\t\t| 3  \t\t\t\t  | 4\n",
    "|1 \t\t\t\t| 5  \t\t\t\t  | 6\n",
    "|1 \t\t\t\t| 4  \t\t\t\t  | 4\n",
    "|1 \t\t\t\t| 7  \t\t\t\t  | 20\n",
    "|3 \t\t\t\t| 2  \t\t\t\t  | 4\n",
    "|4 \t\t\t\t| 2  \t\t\t\t  | 6\n",
    "|4 \t\t\t\t| 5  \t\t\t\t  | 4\n",
    "|2 \t\t\t\t| 5  \t\t\t\t  | 5\n",
    "|5 \t\t\t\t| 6  \t\t\t\t  | 4\n",
    "|5 \t\t\t\t| 7  \t\t\t\t  | 8\n",
    "|6 \t\t\t\t| 9  \t\t\t\t  | 5\n",
    "|7 \t\t\t\t| 8  \t\t\t\t  | 6\n",
    "|7 \t\t\t\t| 11 \t\t\t\t  | 15\n",
    "|7 \t\t\t\t| 9  \t\t\t\t  | 7\n",
    "|8 \t\t\t\t| 10 \t\t\t\t  | 7\n",
    "|8 \t\t\t\t| 9  \t\t\t\t  | 15 \n",
    "|9 \t\t\t\t| 10 \t\t\t\t  | 10\n",
    "|9 \t\t\t\t| 11 \t\t\t\t  | 8  \n",
    "|10             | 11 \t\t\t\t  | 6"
   ]
  },
  {
   "cell_type": "markdown",
   "metadata": {},
   "source": [
    "`Our mission is to help the coach create the best pass-to-goal strategy, that is, to find the ideal order, with the shortest path, to pass the ball between the players until it reaches the opposing goal`. To do that, answer the following item: \n",
    "\n",
    "a) Implement a bio-inspired algorithm to find the best route between the players using soccer passing strategy."
   ]
  }
 ],
 "metadata": {
  "kernelspec": {
   "display_name": "Python 3 (ipykernel)",
   "language": "python",
   "name": "python3"
  },
  "language_info": {
   "codemirror_mode": {
    "name": "ipython",
    "version": 3
   },
   "file_extension": ".py",
   "mimetype": "text/x-python",
   "name": "python",
   "nbconvert_exporter": "python",
   "pygments_lexer": "ipython3",
   "version": "3.8.8"
  }
 },
 "nbformat": 4,
 "nbformat_minor": 4
}
