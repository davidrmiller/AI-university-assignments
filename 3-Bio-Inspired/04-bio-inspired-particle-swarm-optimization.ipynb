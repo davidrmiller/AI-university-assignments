{
 "cells": [
  {
   "cell_type": "markdown",
   "metadata": {
    "id": "2gMnY4ESvfEA"
   },
   "source": [
    "# Particle Swarm Optimization Algorithm"
   ]
  },
  {
   "cell_type": "markdown",
   "metadata": {
    "id": "7wHXE1ij1bIA"
   },
   "source": [
    "## Objectives"
   ]
  },
  {
   "cell_type": "markdown",
   "metadata": {
    "id": "5ZLVbMKZ1bIA"
   },
   "source": [
    "* **Understand** the particle swarm optimization algorithm,\n",
    "* **Learn and Explore** how and why the particle swarm optimization algorithm can be helpful in some situations,\n",
    "* **Use** the particle swarm optimization algorithm in a classic problem,\n",
    "* **Observe** the performance of the solution."
   ]
  },
  {
   "cell_type": "markdown",
   "metadata": {
    "id": "fmwBTXpn1bIA"
   },
   "source": [
    "## The problem: Find the best parameter combinations"
   ]
  },
  {
   "cell_type": "markdown",
   "metadata": {
    "id": "vP0wr4R51bIA"
   },
   "source": [
    "<p style='text-align: justify;'>\n",
    "The issue of finding combinations of values and parameters is a recurring challenge in computing. It is associated with searching for optimal or suitable solutions in vast possibilities. This type of problem is known as a combinatorial optimization problem.\n",
    "</p>\n",
    "\n",
    "<p style='text-align: justify;'>\n",
    "For example, in optimizing parameters in machine learning models, finding the ideal combination of hyperparameters is necessary. It may involve testing various values for each parameter, resulting in an extensive search space. Furthermore, in areas such as computer network routing, task scheduling, and logistics problems, determining the most efficient path, optimal order and timing of execution, and the best combination of vehicles, routes, and cargo, respectively, are complex tasks.\n",
    "</p>\n",
    "\n",
    "<p style='text-align: justify;'>\n",
    "What makes these problems incredibly challenging in computing is their combinatorial nature, which implies that the number of possible combinations grows exponentially with the size of the input data or the number of parameters to be optimized. Consequently, as the size of the problem increases, the time required to find the optimal solution grows significantly. Additionally, many of these problems are classified as NP-hard, which means that no known efficient algorithmic solution works for all cases.\n",
    "</p>"
   ]
  },
  {
   "cell_type": "markdown",
   "metadata": {
    "id": "OJ4Teb2m1bIA"
   },
   "source": [
    "## The solution: Particle swarm optimization (PSO)"
   ]
  },
  {
   "cell_type": "markdown",
   "metadata": {
    "id": "ST3ronAy1bIA"
   },
   "source": [
    "<p style='text-align: justify;'>\n",
    "Therefore, the most common approach to address these challenges is to utilize heuristic search algorithms and optimization techniques. These methods enable the discovery of approximate solutions within a reasonable timeframe, even though they may not yield the globally optimal solution. Such approaches are crucial for effectively tackling real and complex problems.\n",
    "</p>\n",
    "\n",
    "<p style='text-align: justify;'>\n",
    "This notebook focuses on the PSO, a bio-inspired algorithm. This means that it draws inspiration from social and collective behaviors observed in some animals, such as the movement of bird flocks. The PSO was first proposed by Eberhart and Kennedy in $1995$ as a stochastic optimization algorithm designed to find optimal combinations within <strong>continuous</strong> values. For instance, it can be used to determine the optimal speed and position for each iteration along a path connecting multiple points. \n",
    "</p>"
   ]
  },
  {
   "cell_type": "markdown",
   "metadata": {
    "id": "nAaja20MCaN3"
   },
   "source": [
    "### How does it work?"
   ]
  },
  {
   "cell_type": "markdown",
   "metadata": {
    "id": "jb3uOQRlCaN3"
   },
   "source": [
    "<p style='text-align: justify;'>\n",
    "The process begins by placing several particles in the search space, like a cartesian plane, each having position and velocity vectors defined by random numbers. Each particle simulates the behavior of a bird in a flock. These velocity and position vectors are updated in each iteration based on the information gathered from other particles. The velocity and position are updated in the following formulas:\n",
    "</p>"
   ]
  },
  {
   "cell_type": "markdown",
   "metadata": {
    "id": "ij0-h3fKCaN4"
   },
   "source": [
    "\\begin{equation}\n",
    "v_{i,d}^{t+1} = \\omega \\cdot v_{i,d}^t + c_1 \\cdot r_1 \\cdot (pbest_{i,d} - x_{i,d}^t) + c_2 \\cdot r_2 \\cdot (gbest_d - x_{i,d}^t)\n",
    "\\end{equation}"
   ]
  },
  {
   "cell_type": "markdown",
   "metadata": {
    "id": "2U7t8qH3CaN4"
   },
   "source": [
    "Where:\n",
    "- $v_{i,d}^{t+1}$ is the velocity of particle $i$ in dimension $d$ in the next iteration step ($t+1$),\n",
    "\n",
    "- $\\omega$ is the inertia coefficient, controlling the influence of the previous velocity,\n",
    "\n",
    "- $c_1$ is the cognitive learning factor (cognitive weight) that controls the influence of the $pbest$ component,\n",
    "\n",
    "- $c_2$ is the social learning factor (social weight) that controls the influence of the $gbest$ component,\n",
    "\n",
    "- $r_1$ and $r_2$ are random numbers between $0$ and $1$,\n",
    "\n",
    "- $pbest_{i,d}$ is the personal best position of particle $i$ in dimension $d$,\n",
    "\n",
    "- $x_{i,d}^t$ is the current position of particle $i$ in dimension $d$,\n",
    "\n",
    "- $gbest_d$ is the best global position among all particles in dimension $d$,\n",
    "\n",
    "The determination of these coefficients, such as iteration number and particles number, bears a resemblance to the process involved in system control methods. These values are often established using sophisticated methods or through meticulous experimentation."
   ]
  },
  {
   "cell_type": "markdown",
   "metadata": {
    "id": "Fnl2sEOLCaN5"
   },
   "source": [
    "\\begin{equation}\n",
    "x_{i,d}^{t+1} = x_{i,d}^t + v_{i,d}^{t+1}\n",
    "\\end{equation}\n",
    "\n",
    "Where:\n",
    "\n",
    "- $v_{i,d}^{t+1}$ the velocity calculated in the previous equation,\n",
    "\n",
    "- $x_{i,d}^{t+1}$ is the next position of particle $i$ in dimension $d$,\n",
    "\n",
    "- $x_{i,d}^t$ is the current position of particle $i$ in dimension $d$."
   ]
  },
  {
   "cell_type": "markdown",
   "metadata": {
    "id": "wJbsIuWuCaN5"
   },
   "source": [
    "After updating the position and the velocity of the particles, it is necessary to compare the value of the objective function for each particle and update their individual best positions ($pbest$) and the global best position ($gbest$):\n",
    "\n",
    "\\begin{equation}\n",
    "pbest_{i,d} = \\text{argmin}\\left( \\text{objective_function}(x_{i,1}^{t+1}, x_{i,2}^{t+1}, ..., x_{i,D}^{t+1}) \\right)\n",
    "\\end{equation}\n",
    "\n",
    "\\begin{equation}\n",
    "gbest_d = \\text{argmin}\\left( \\text{objective_function}(x_{1,d}^{t+1}, x_{2,d}^{t+1}, ..., x_{N,d}^{t+1}) \\right)\n",
    "\\end{equation}\n"
   ]
  },
  {
   "cell_type": "markdown",
   "metadata": {
    "id": "1RShoZ0xCaN5"
   },
   "source": [
    "The interactions continue until the stop condition is reached, whether it be the maximum number of iterations or the minimum error achieved."
   ]
  },
  {
   "cell_type": "markdown",
   "metadata": {
    "id": "BMvo8TG2WWZE"
   },
   "source": [
    "## ☆ Challenge: Travel through Spain☆"
   ]
  },
  {
   "cell_type": "markdown",
   "metadata": {
    "id": "X9pJ2tDOCaN6"
   },
   "source": [
    "Consider the following problem:\n",
    "<p style=\"text-align: justify;\">\n",
    "After years dedicated to tending and protecting his precious plantations on the farm, a farmer finally decided to treat himself to well-deserved vacations and set off on a journey through the beautiful landscapes of Spain. He then decided to visit eight renowned cities during this unique adventure.\n",
    "</p>\n",
    "\n",
    "<p style=\"text-align: justify;\">\n",
    "Recognizing the value of time, the farmer understands the importance of finding the most efficient route to travel through all the cities, ensuring a seamless journey with the shortest travel time between each destination.\n",
    "</p>\n",
    "    \n",
    "<p style=\"text-align: justify;\">\n",
    "The map of Spain takes the form of a graph, where cities are represented as nodes and the roads connecting them as edges. Each edge is associated with a distance in miles between each pair of cities. Although the farmer is free to choose a starting city, he must visit exactly eight distinct cities, avoiding revisits during his expedition.\n",
    "</p>\n",
    "\n",
    "<p style=\"text-align: center;\">\n",
    " <img src=\"./images/figure08_cities.png\"  width=\"500\" height=\"500\">\n",
    "</p>\n",
    "\n",
    "`Your mission is to assist the farmer in creating the optimal order to visit all the cities, allowing him to explore their wonders while spending the least amount of time on the road`. To do that, answer the following items:\n",
    "</p>\n",
    "\n",
    "a) Implement a bio-inspired algorithm using <strong>PSO</strong>,\n",
    "\n",
    "b) Find the best route between the cities using <strong>PSO</strong>.\n",
    "\n",
    "<p style=\"text-align: justify;\">\n",
    "As support you will have at your disposal an adjacency matrix, where you will have access to all possible distances between each of the cities. This table will help you in solving the proposed problem.\n",
    "</p>\n",
    "\n",
    "<p style=\"text-align: center;\">\n",
    " <img src=\"./images/figure09_cities_distances_table.png\"  width=\"500\" height=\"500\">\n",
    "</p>"
   ]
  },
  {
   "cell_type": "markdown",
   "metadata": {
    "id": "8_Ch1ZPO1bIC"
   },
   "source": [
    "### ☆ Solution ☆"
   ]
  },
  {
   "cell_type": "markdown",
   "metadata": {
    "id": "hhFMIwVnCaN7"
   },
   "source": [
    "<p style='text-align: justify;'>\n",
    "PSO was originally designed to find <i>continuous</i> values, so when trying to find a discrete value, like the best route, we have to modify the algorithm to adapt it to the problem, making things a little different from the original intent. As requested in item (a), we first need to input our cities and their possibilities into the code:\n",
    "</p>    "
   ]
  },
  {
   "cell_type": "code",
   "execution_count": 8,
   "metadata": {
    "id": "YrTkdf-bCaN7"
   },
   "outputs": [],
   "source": [
    "import numpy as np\n",
    "import matplotlib.pyplot as plt\n",
    "import random\n",
    "\n",
    "cities = ['Barcelona', 'Bilbao', 'Jaén', 'Madrid', 'Murcia', 'Valencia', 'Valladolid', 'Zaragoza']\n",
    "connections = {\n",
    "    'Barcelona': {'Valencia': 349, 'Zaragoza': 296},\n",
    "    'Bilbao': {'Madrid': 395, 'Valladolid': 280, 'Zaragoza': 324},\n",
    "    'Jaén': {'Murcia': 368, 'Madrid': 335},\n",
    "    'Madrid': {'Murcia': 401, 'Zaragoza': 325, 'Bilbao': 395, 'Jaén': 135, 'Valladolid': 193},\n",
    "    'Murcia': {'Jaén': 368, 'Madrid': 401, 'Valencia': 241},\n",
    "    'Valencia': {'Murcia': 241, 'Barcelona': 349},   \n",
    "    'Valladolid': {'Bilbao': 280, 'Madrid': 193},\n",
    "    'Zaragoza': {'Madrid': 325, 'Bilbao': 324, 'Barcelona': 296},\n",
    "}"
   ]
  },
  {
   "cell_type": "markdown",
   "metadata": {
    "id": "P1KwrlfACaN8"
   },
   "source": [
    "After that, let's build the `Particle` class, which will store all the information that the particle needs: the `position`, `velocity`, `gbest`, and `pbest`. For that type of problem, the particle's position will be the route chosen by the particle, initially random routes."
   ]
  },
  {
   "cell_type": "code",
   "execution_count": 9,
   "metadata": {
    "id": "aB6GcXK_CaN9"
   },
   "outputs": [],
   "source": [
    "class Particle:\n",
    "    def __init__(self, connections):\n",
    "        self.position = list(connections.keys())\n",
    "        random.shuffle(self.position)\n",
    "        self.best_position = self.position\n",
    "        self.best_fitness = fitness(self.position, connections)"
   ]
  },
  {
   "cell_type": "markdown",
   "metadata": {
    "id": "J23luXr8CaN9"
   },
   "source": [
    "With the distance between cities calculated in the connections dictionary, we can make a fitness function. For this problem, it will return the total distance for the route, if the route is valid."
   ]
  },
  {
   "cell_type": "code",
   "execution_count": 10,
   "metadata": {
    "id": "xo4_YMNcCaN-"
   },
   "outputs": [],
   "source": [
    "def fitness(route, connections):\n",
    "    total_distance = 0\n",
    "    for i in range(len(route) - 1):\n",
    "        if route[i+1] in connections[route[i]]:\n",
    "            total_distance += connections[route[i]][route[i+1]]\n",
    "        else:\n",
    "            # If the connection does not exist, we can set it to infinite.\n",
    "            total_distance += float('inf')\n",
    "    return total_distance"
   ]
  },
  {
   "cell_type": "markdown",
   "metadata": {
    "id": "u_fl0JbZCaN-"
   },
   "source": [
    "In the context of the PSO algorithm, the first step involves creating particles with random routes. Once initialized, we evaluate each particle's route and update both the individual best ($pbest_{i,d}$) and the global best ($gbest_{d}$) solutions accordingly.\n",
    "\n",
    "After the updates, we would determine the coefficients and use them to calculate the new velocity for each particle. This velocity governs how swiftly the particle will change its route, influencing the potential changes in its chosen route. Since the problem does not have a <i>continuous</i> value just like a velocity vector, we have to think in other way to change routes in a effective way. Based on [this](https://www.tandfonline.com/doi/epdf/10.1080/23311835.2015.1048581?needAccess=true&role=button) article, we can use heuristic crossover (HC) method, which crosses over the particle's best result with the best found by all particles:"
   ]
  },
  {
   "cell_type": "code",
   "execution_count": 11,
   "metadata": {
    "id": "mNwEPIjKIJl4"
   },
   "outputs": [],
   "source": [
    "def distance(city1, city2, connections):\n",
    "    if city2 in connections[city1]:\n",
    "        return connections[city1][city2]\n",
    "    else:\n",
    "        # If the connection does not exist, we can set it to infinite.\n",
    "        return float('inf')\n",
    "\n",
    "def heuristic_crossover(x1, x2, connections):\n",
    "    n = len(x1) - 1\n",
    "    v = random.choice(x1)\n",
    "    x = [v]\n",
    "\n",
    "    x1.remove(v)\n",
    "    x1.insert(0, v)\n",
    "    x2.remove(v)\n",
    "    x2.insert(0, v)\n",
    "\n",
    "    i = 1\n",
    "    j = 1\n",
    "\n",
    "    while i <= n and j <= n:\n",
    "        if x1[i] in x and x2[j] in x:\n",
    "            i += 1\n",
    "            j += 1\n",
    "        elif x1[i] in x:\n",
    "            x.append(x2[j])\n",
    "            j += 1\n",
    "        elif x2[j] in x:\n",
    "            x.append(x1[i])\n",
    "            i += 1\n",
    "        else:\n",
    "            u = x[-1]\n",
    "            if distance(u, x1[i], connections) < distance(u, x2[j], connections):\n",
    "                x.append(x1[i])\n",
    "                i += 1\n",
    "            else:\n",
    "                x.append(x2[j])\n",
    "                j += 1\n",
    "    return x"
   ]
  },
  {
   "cell_type": "markdown",
   "metadata": {},
   "source": [
    "For last, just build the `PSO` function, we we initialize the particles, get best position and fitness, update them and update each postion:"
   ]
  },
  {
   "cell_type": "code",
   "execution_count": 12,
   "metadata": {
    "id": "OfVSBCn2CaN-"
   },
   "outputs": [],
   "source": [
    "def PSO(cities, connections, n_particles, n_iterations):\n",
    "    # Creating particles\n",
    "    particles = [Particle(connections) for _ in range(n_particles)]\n",
    "\n",
    "    # Initializing global_best_position and global_best_fitness\n",
    "    global_best_position = particles[0].position\n",
    "    global_best_fitness = particles[0].best_fitness\n",
    "\n",
    "    for _ in range(n_iterations):\n",
    "        # Checking each route\n",
    "        for particle in particles:\n",
    "            current_fitness = fitness(particle.position, connections)\n",
    "\n",
    "            # Update pbest\n",
    "            if current_fitness < particle.best_fitness:\n",
    "                particle.best_fitness = current_fitness\n",
    "                particle.best_position = particle.position\n",
    "\n",
    "            # Update gbest\n",
    "            if current_fitness < global_best_fitness:\n",
    "                global_best_fitness = current_fitness\n",
    "                global_best_position = particle.position\n",
    "        # Update each route, using heuristic crossover (HC)\n",
    "        for particle in particles:\n",
    "            # Calculate new route using heuristic crossover with pbest and gbest\n",
    "            particle.position = heuristic_crossover(particle.best_position, global_best_position, connections)\n",
    "\n",
    "    return global_best_position, global_best_fitness\n"
   ]
  },
  {
   "cell_type": "markdown",
   "metadata": {
    "id": "JocK5I45CaN-"
   },
   "source": [
    "After all this is done, we can finally define the particle number, the iteration number, and use PSO to get the best route found, as requested in item (b)."
   ]
  },
  {
   "cell_type": "code",
   "execution_count": 13,
   "metadata": {
    "id": "fAQCnCbxCaN_"
   },
   "outputs": [
    {
     "name": "stdout",
     "output_type": "stream",
     "text": [
      "Best route: ['Zaragoza', 'Murcia', 'Valencia', 'Valladolid', 'Bilbao', 'Barcelona', 'Jaén', 'Madrid']\n",
      "Best fitness: 2022\n"
     ]
    }
   ],
   "source": [
    "n_particles = 20\n",
    "n_iterations = 100\n",
    "best_route, best_fitness = PSO(cities, connections, n_particles, n_iterations)\n",
    "print(\"Best route:\", best_route)\n",
    "print(\"Best fitness:\", best_fitness)"
   ]
  },
  {
   "cell_type": "markdown",
   "metadata": {
    "id": "ilcR9NWJ1bIC"
   },
   "source": [
    "## Summary"
   ]
  },
  {
   "cell_type": "markdown",
   "metadata": {
    "id": "oCCcZ7Q31bIC"
   },
   "source": [
    "<p style='text-align: justify;'>\n",
    "This topic delves into the PSO algorithm, a potent technique for optimizing and searching for solutions in complex spaces. Throughout this guide, we comprehensively understand how PSO works, learn effective ways to apply it, and discuss its limitations. PSO enables us to discover high-quality solutions for optimization problems, particularly those with extensive and intricate search spaces.</br>\n",
    "\n",
    "We achieved remarkable results by employing PSO to tackle the challenging task of finding the best combination of cities for a trip. Comparing these outcomes with those obtained from a brute force algorithm, it became evident that PSO demonstrated superior performance in finding solutions close to the global optimum, all in a faster and more efficient manner.\n",
    "</p>"
   ]
  },
  {
   "cell_type": "markdown",
   "metadata": {
    "id": "4FolLqE_1bID"
   },
   "source": [
    "## Clear the memory"
   ]
  },
  {
   "cell_type": "markdown",
   "metadata": {
    "id": "tXiePpX31bID"
   },
   "source": [
    "Before moving on, please execute the following cell to clear up the CPU memory. This is required to move on to the next notebook."
   ]
  },
  {
   "cell_type": "code",
   "execution_count": 7,
   "metadata": {
    "id": "kMB90WpX1bID"
   },
   "outputs": [],
   "source": [
    "import IPython\n",
    "app = IPython.Application.instance()\n",
    "app.kernel.do_shutdown(True)"
   ]
  },
  {
   "cell_type": "markdown",
   "metadata": {
    "id": "EbgrxWUP1bIE"
   },
   "source": [
    "## Next"
   ]
  },
  {
   "cell_type": "markdown",
   "metadata": {
    "id": "RniCDPdQ1bIE"
   },
   "source": [
    "In the next section, you will be asked to build your solution with the [_Intel® SigOpt_](https://sigopt.com/) package in the notebook [_05-bio-inspired-intelSigOpt.ipynb_](05-bio-inspired-intelSigOpt.ipynb)."
   ]
  }
 ],
 "metadata": {
  "colab": {
   "provenance": []
  },
  "kernelspec": {
   "display_name": "Python 3 (ipykernel)",
   "language": "python",
   "name": "python3"
  },
  "language_info": {
   "codemirror_mode": {
    "name": "ipython",
    "version": 3
   },
   "file_extension": ".py",
   "mimetype": "text/x-python",
   "name": "python",
   "nbconvert_exporter": "python",
   "pygments_lexer": "ipython3",
   "version": "3.8.8"
  }
 },
 "nbformat": 4,
 "nbformat_minor": 4
}
