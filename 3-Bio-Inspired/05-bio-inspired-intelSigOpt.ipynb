{
 "cells": [
  {
   "cell_type": "markdown",
   "metadata": {},
   "source": [
    "# Bio-inspired Algorithms using Intel® SigOpt"
   ]
  },
  {
   "cell_type": "markdown",
   "metadata": {},
   "source": [
    "In this section, we will learn how to optimize the parameters and hyperparameters of bio-inspired using the Intel® SigOpt."
   ]
  },
  {
   "cell_type": "markdown",
   "metadata": {},
   "source": [
    "## What is the Intel® SigOpt platform?"
   ]
  },
  {
   "cell_type": "markdown",
   "metadata": {},
   "source": [
    "<p style='text-align: justify;'>\n",
    "This platform is designed to help researchers, data scientists, and engineers automatically optimize the parameters and hyperparameters of their models, algorithms, and systems, rather than performing the optimization manually.\n",
    "</p>    "
   ]
  },
  {
   "cell_type": "markdown",
   "metadata": {},
   "source": [
    "## How does hyperparameter optimization work?"
   ]
  },
  {
   "cell_type": "markdown",
   "metadata": {},
   "source": [
    "<p style='text-align: justify;'>\n",
    "Hyperparameter optimization is a common problem in machine learning. Machine learning algorithms, from logistic regression to neural networks, rely on fine-tuned hyperparameters for maximum effectiveness. Different hyperparameter optimization strategies have varying performance and cost (in time, money, and computation cycles).  Evaluating optimization strategies is not intuitive. Stochastic optimization strategies produce a distribution of the most found values. We can generalize this problem as given a function that accepts inputs and returns a numerical output, how can we efficiently find the inputs, or parameters, that maximize the output of the function. Since finding the best hyperparameters of a model is an arduous task that demands a lot of time and resources, how can Intel® SigOpt find the hyperparameters that best fit the proposed model quickly and efficiently.\n",
    "</p>  "
   ]
  },
  {
   "cell_type": "markdown",
   "metadata": {},
   "source": [
    "## How to usage?"
   ]
  },
  {
   "cell_type": "markdown",
   "metadata": {},
   "source": [
    "<p style='text-align: justify;'>\n",
    "To use the platform, you must first register on the website Intel® SigOpt and then install the library.\n",
    "</p>    "
   ]
  },
  {
   "cell_type": "markdown",
   "metadata": {},
   "source": [
    "#### ⊗ Install library"
   ]
  },
  {
   "cell_type": "code",
   "execution_count": 1,
   "metadata": {},
   "outputs": [
    {
     "name": "stdout",
     "output_type": "stream",
     "text": [
      "Collecting sigopt\n",
      "  Downloading sigopt-8.8.2-py2.py3-none-any.whl (198 kB)\n",
      "\u001b[2K     \u001b[38;2;114;156;31m━━━━━━━━━━━━━━━━━━━━━━━━━━━━━━━━━━━━━━━\u001b[0m \u001b[32m198.8/198.8 kB\u001b[0m \u001b[31m1.0 MB/s\u001b[0m eta \u001b[36m0:00:00\u001b[0m kB/s\u001b[0m eta \u001b[36m0:00:01\u001b[0m:01\u001b[0m\n",
      "\u001b[?25hCollecting GitPython>=2.0.0\n",
      "  Downloading GitPython-3.1.32-py3-none-any.whl (188 kB)\n",
      "\u001b[2K     \u001b[38;2;114;156;31m━━━━━━━━━━━━━━━━━━━━━━━━━━━━━━━━━━━━━━━\u001b[0m \u001b[32m188.5/188.5 kB\u001b[0m \u001b[31m6.2 MB/s\u001b[0m eta \u001b[36m0:00:00\u001b[0m\n",
      "\u001b[?25hCollecting backoff<2.0.0,>=1.10.0\n",
      "  Downloading backoff-1.11.1-py2.py3-none-any.whl (13 kB)\n",
      "Requirement already satisfied: urllib3<2.0.0,>=1.26.5 in /home/antonio/anaconda3/lib/python3.10/site-packages (from sigopt) (1.26.14)\n",
      "Requirement already satisfied: click>=8.0.0 in /home/antonio/anaconda3/lib/python3.10/site-packages (from sigopt) (8.0.4)\n",
      "Requirement already satisfied: packaging>=21.3 in /home/antonio/anaconda3/lib/python3.10/site-packages (from sigopt) (22.0)\n",
      "Requirement already satisfied: PyYAML<7,>=5 in /home/antonio/anaconda3/lib/python3.10/site-packages (from sigopt) (6.0)\n",
      "Requirement already satisfied: requests<3.0.0,>=2.25.0 in /home/antonio/anaconda3/lib/python3.10/site-packages (from sigopt) (2.28.1)\n",
      "Collecting pypng>=0.0.20\n",
      "  Downloading pypng-0.20220715.0-py3-none-any.whl (58 kB)\n",
      "\u001b[2K     \u001b[38;2;114;156;31m━━━━━━━━━━━━━━━━━━━━━━━━━━━━━━━━━━━━━━━━\u001b[0m \u001b[32m58.1/58.1 kB\u001b[0m \u001b[31m15.0 MB/s\u001b[0m eta \u001b[36m0:00:00\u001b[0m\n",
      "\u001b[?25hCollecting gitdb<5,>=4.0.1\n",
      "  Downloading gitdb-4.0.10-py3-none-any.whl (62 kB)\n",
      "\u001b[2K     \u001b[38;2;114;156;31m━━━━━━━━━━━━━━━━━━━━━━━━━━━━━━━━━━━━━━━━\u001b[0m \u001b[32m62.7/62.7 kB\u001b[0m \u001b[31m14.0 MB/s\u001b[0m eta \u001b[36m0:00:00\u001b[0m\n",
      "\u001b[?25hRequirement already satisfied: certifi>=2017.4.17 in /home/antonio/anaconda3/lib/python3.10/site-packages (from requests<3.0.0,>=2.25.0->sigopt) (2022.12.7)\n",
      "Requirement already satisfied: idna<4,>=2.5 in /home/antonio/anaconda3/lib/python3.10/site-packages (from requests<3.0.0,>=2.25.0->sigopt) (3.4)\n",
      "Requirement already satisfied: charset-normalizer<3,>=2 in /home/antonio/anaconda3/lib/python3.10/site-packages (from requests<3.0.0,>=2.25.0->sigopt) (2.0.4)\n",
      "Collecting smmap<6,>=3.0.1\n",
      "  Downloading smmap-5.0.0-py3-none-any.whl (24 kB)\n",
      "Installing collected packages: pypng, smmap, backoff, gitdb, GitPython, sigopt\n",
      "Successfully installed GitPython-3.1.32 backoff-1.11.1 gitdb-4.0.10 pypng-0.20220715.0 sigopt-8.8.2 smmap-5.0.0\n"
     ]
    }
   ],
   "source": [
    "!pip install sigopt"
   ]
  },
  {
   "cell_type": "markdown",
   "metadata": {},
   "source": [
    "#### ⊗ Insert the API Key"
   ]
  },
  {
   "cell_type": "markdown",
   "metadata": {},
   "source": [
    "<p style='text-align: justify;'>To use the platform's API, as a last step, you must enter the key right after registration. Run the code below, click on the link, redeem your key and enter it.</p>"
   ]
  },
  {
   "cell_type": "code",
   "execution_count": null,
   "metadata": {},
   "outputs": [
    {
     "name": "stdout",
     "output_type": "stream",
     "text": [
      "SigOpt API token (find at https://app.sigopt.com/tokens/info):"
     ]
    }
   ],
   "source": [
    "%load_ext sigopt\n",
    "%sigopt config"
   ]
  },
  {
   "cell_type": "markdown",
   "metadata": {},
   "source": [
    "## ☆ Challenge: Traveling through Spain ☆\n",
    "\n",
    "Consider the following problem:\n",
    "<p style=\"text-align: justify;\">\n",
    "After years dedicated to tending and protecting his precious plantations on the farm, a farmer finally decided to treat himself to well-deserved vacations and set off on a journey through the beautiful landscapes of Spain. He then established the goal of visiting eight renowned cities during this unique adventure.\n",
    "</p>\n",
    "\n",
    "<p style=\"text-align: justify;\">\n",
    "Recognizing the value of time, the farmer understands the importance of finding the most efficient route to travel through all the cities, ensuring a seamless journey with the shortest travel time between each destination.\n",
    "</p>\n",
    "    \n",
    "<p style=\"text-align: justify;\">\n",
    "The map of Spain takes the form of a graph, where cities are represented as nodes and the roads connecting them as edges. Each edge is associated with a specific distance in miles between each pair of cities. Although the farmer is free to choose a starting city, he must visit exactly eight distinct cities, avoiding revisits during his expedition.\n",
    "</p>\n",
    "\n",
    "<p style=\"text-align: center;\">\n",
    " <img src=\"./images/figure08_cities.png\"  width=\"500\" height=\"500\">\n",
    "</p>\n",
    "\n",
    "<p style=\"text-align: justify;\">\n",
    "Your mission is to assist the farmer in creating the optimal order to visit all the cities, allowing him to explore their wonders while spending the least amount of time on the road. To do that, answer the following items:\n",
    "</p>\n",
    "\n",
    "a) Implement Intel® SigOpt in solutions using **AG**, **PSO** and **ACO**.\n",
    "\n",
    "b) Compare the obtained **results and hyperparameters**.\n",
    "\n",
    "c) Measure the **execution time** of this algorithm."
   ]
  },
  {
   "cell_type": "markdown",
   "metadata": {},
   "source": [
    "### ☆ Solution ☆ "
   ]
  },
  {
   "cell_type": "markdown",
   "metadata": {},
   "source": [
    "<p style='text-align: justify;'>Here are some examples already seen in previous notebooks, but using Intel® SigOpt to perform parameter optimization.</p>"
   ]
  },
  {
   "cell_type": "markdown",
   "metadata": {},
   "source": [
    "### ⊗ Genetic algorithm"
   ]
  },
  {
   "cell_type": "markdown",
   "metadata": {},
   "source": [
    "<p style='text-align: justify;'>Below we will perform the optimization of the hyperparameters of the genetic algorithm relative to the solution of the previously proposed problem.</p>"
   ]
  },
  {
   "cell_type": "markdown",
   "metadata": {},
   "source": [
    "#### Import Intel® SigOpt  and others libraries"
   ]
  },
  {
   "cell_type": "markdown",
   "metadata": {},
   "source": [
    "<p style='text-align: justify;'>In this step, you can either include the library or use the key provided after registering on the site (We chose to import the library, as it is the most common and practical).</p>"
   ]
  },
  {
   "cell_type": "code",
   "execution_count": 2,
   "metadata": {},
   "outputs": [],
   "source": [
    "import random\n",
    "import time\n",
    "import matplotlib.pyplot as plt\n",
    "import sigopt"
   ]
  },
  {
   "cell_type": "markdown",
   "metadata": {},
   "source": [
    "#### Implements genetic algorithm functions"
   ]
  },
  {
   "cell_type": "markdown",
   "metadata": {},
   "source": [
    "<p style='text-align: justify;'>In this part you just have to create the functions, necessary for the implementation of the genetic algorithm, and provide the problem data.</p>"
   ]
  },
  {
   "cell_type": "code",
   "execution_count": null,
   "metadata": {},
   "outputs": [],
   "source": [
    "# City distance table (indexes are used as city representations)\n",
    "distance_table = [\n",
    "    [0, 620, 956, 621, 590, 349, 814, 296],\n",
    "    [620, 0, 730, 395, 796, 969, 280, 324],\n",
    "    [956, 730, 0, 335, 368, 609, 528, 660],\n",
    "    [621, 395, 335, 0, 401, 642, 193, 325],\n",
    "    [590, 796, 368, 401, 0, 241, 594, 726],\n",
    "    [349, 969, 609, 642, 241, 0, 835, 645],\n",
    "    [814, 280, 528, 193, 594, 835, 0, 518],\n",
    "    [296, 324, 660, 325, 726, 645, 518, 0]\n",
    "]\n",
    "\n",
    "# Mapping city indexes to their respective names\n",
    "city_names = {\n",
    "    0: \"Barcelona\",\n",
    "    1: \"Bilbao\",\n",
    "    2: \"Jaén\",\n",
    "    3: \"Madrid\",\n",
    "    4: \"Murcia\",\n",
    "    5: \"Valencia\",\n",
    "    6: \"Valladolid\",\n",
    "    7: \"Zaragoza\"\n",
    "}\n",
    "\n",
    "# Objective function (total path distance)\n",
    "def total_distance(path):\n",
    "    dist = 0\n",
    "    for i in range(len(path) - 1):\n",
    "        dist += distance_table[path[i]][path[i + 1]]\n",
    "    dist += distance_table[path[-1]][path[0]] \n",
    "    return dist\n",
    "\n",
    "# Step 1: Creating the population\n",
    "def create_population(population_size, num_cities):\n",
    "    population = []\n",
    "    for _ in range(population_size):\n",
    "        path = list(range(num_cities))\n",
    "        random.shuffle(path)\n",
    "        population.append(path)\n",
    "    return population\n",
    "\n",
    "# Step 2: Evaluation function (calculates fitness for each individual)\n",
    "def evaluate_population(population):\n",
    "    return [total_distance(path) for path in population]\n",
    "\n",
    "# Step 3: Selection of parents (roulette wheel method)\n",
    "def roulette_selection(population, fitness):\n",
    "    total_fitness = sum(fitness)\n",
    "    probabilities = [fit / total_fitness for fit in fitness]\n",
    "    selected_parents = random.choices(population, weights=probabilities, k=2)\n",
    "    return selected_parents\n",
    "\n",
    "# Step 4: Crossover (partial order)\n",
    "def crossover(parent1, parent2,CROSSOVER_RATE):\n",
    "    if random.random() < CROSSOVER_RATE:\n",
    "        start = random.randint(0, len(parent1) - 1)\n",
    "        end = random.randint(start + 1, len(parent1))\n",
    "        child = [-1] * len(parent1)\n",
    "\n",
    "        for i in range(start, end):\n",
    "            child[i] = parent1[i]\n",
    "\n",
    "        idx = 0\n",
    "        for city in parent2:\n",
    "            if city not in child:\n",
    "                while child[idx] != -1:\n",
    "                    idx += 1\n",
    "                child[idx] = city\n",
    "        return child\n",
    "    else:\n",
    "        return parent1\n",
    "\n",
    "# Step 5: Mutation (switching positions between two cities)\n",
    "def mutate(path,MUTATION_RATE):\n",
    "    if random.random() < MUTATION_RATE:\n",
    "        idx1, idx2 = random.sample(range(len(path)), 2)\n",
    "        path[idx1], path[idx2] = path[idx2], path[idx1]"
   ]
  },
  {
   "cell_type": "markdown",
   "metadata": {},
   "source": [
    "<p style='text-align: justify;'>The function below is the same as previously seen in the genetic algorithm notebook, with only one modification, it must be passed parameters for which we want to optimize.</p>"
   ]
  },
  {
   "cell_type": "code",
   "execution_count": null,
   "metadata": {},
   "outputs": [],
   "source": [
    "# Run the genetic algorithm\n",
    "def genetic_algorithm(population_size, max_generations, crossover_rate, mutation_rate):\n",
    "    NUM_CITIES = len(distance_table)\n",
    "    population = create_population(population_size, NUM_CITIES)\n",
    "    best_distance = float('inf')\n",
    "    best_path = []\n",
    "\n",
    "    for generation in range(max_generations):\n",
    "        fitness = evaluate_population(population)\n",
    "        best_idx = fitness.index(min(fitness))\n",
    "        current_best_path = population[best_idx]\n",
    "        current_best_distance = total_distance(current_best_path)\n",
    "\n",
    "        if current_best_distance < best_distance:\n",
    "            best_distance = current_best_distance\n",
    "            best_path = current_best_path[:]\n",
    "\n",
    "        if generation == max_generations - 1:\n",
    "            print(f\"Generation {generation + 1}: Best Distance = {best_distance}\")\n",
    "            print(\"Best Path:\", [city_names[idx] for idx in best_path])\n",
    "            print(\"---------------------------------------\")\n",
    "            return best_path\n",
    "\n",
    "        new_population = []\n",
    "        for _ in range(population_size // 2):\n",
    "            parent1, parent2 = roulette_selection(population, fitness)\n",
    "            child1 = crossover(parent1, parent2,crossover_rate)\n",
    "            child2 = crossover(parent2, parent1,crossover_rate)\n",
    "            mutate(child1,mutation_rate)\n",
    "            mutate(child2,mutation_rate)\n",
    "            new_population.extend([child1, child2])\n",
    "\n",
    "        population = new_population"
   ]
  },
  {
   "cell_type": "markdown",
   "metadata": {},
   "source": [
    "#### Intel® SigOpt Optimization"
   ]
  },
  {
   "cell_type": "markdown",
   "metadata": {},
   "source": [
    "<p style='text-align: justify;'>    \n",
    "Finally, the function below implements hyperparameter optimization using Intel® SigOpt\n",
    "</p>\n",
    "\n",
    "1. First, the function creates a connection to Intel® SigOpt using the provided API key. The connection is established with the Intel® SigOpt endpoint to send and receive data.\n",
    "\n",
    "2. Next, an experiment is created in Intel® SigOpt. The experiment is defined with the name **Genetic Algorithm TSP Optimization** and the hyperparameter parameters to be optimized. Parameters include **population_size**, **max_generations**, **crossover_rate** and **mutation_rate**, each with its type and range of possible values.\n",
    "\n",
    "3. Finally, a range of iterations must be defined where the Intel® SigOpt API will generate hyperparameters and test them using the **genetic_algorithm function**, obtaining as a result the best distance for the referred hyperparameters, at the end the best path to be performed will be returned, as well as the distance travelled."
   ]
  },
  {
   "cell_type": "code",
   "execution_count": 1,
   "metadata": {},
   "outputs": [],
   "source": [
    "# SigOpt Optimization Function\n",
    "def sigopt_optimization():\n",
    "    # Connect your API TOKEN\n",
    "    conn = sigopt.Connection(client_token=\"YOUR API TOKEN\")\n",
    "    \n",
    "    # Creating the sigOpt experiment and defining which hyperparameters will be optimized as well as the range covered\n",
    "    experiment = conn.experiments().create(\n",
    "        name=\"Genetic Algorithm TSP Optimization\",\n",
    "        parameters=[\n",
    "            {\"name\": \"population_size\", \"type\": \"int\", \"bounds\": {\"min\": 20, \"max\": 100}},\n",
    "            {\"name\": \"max_generations\", \"type\": \"int\", \"bounds\": {\"min\": 500, \"max\": 2000}},\n",
    "            {\"name\": \"crossover_rate\", \"type\": \"double\", \"bounds\": {\"min\": 0.6, \"max\": 0.9}},\n",
    "            {\"name\": \"mutation_rate\", \"type\": \"double\", \"bounds\": {\"min\": 0.1, \"max\": 0.4}}\n",
    "        ],\n",
    "        observation_budget = 50,  # Number of total iterations\n",
    "    )\n",
    "    \n",
    "    # Optimization iterations\n",
    "    for _ in range(experiment.observation_budget):\n",
    "        # Suggested hyperparameters by sigOpt\n",
    "        suggestion = conn.experiments(experiment.id).suggestions().create()\n",
    "        hyperparameters = suggestion.assignments\n",
    "        print(f\"Running with hyperparameters: {hyperparameters}\")\n",
    "\n",
    "        # Run the genetic algorithm with suggested hyperparameters\n",
    "        best_path = genetic_algorithm(\n",
    "            hyperparameters[\"population_size\"],\n",
    "            hyperparameters[\"max_generations\"],\n",
    "            hyperparameters[\"crossover_rate\"],\n",
    "            hyperparameters[\"mutation_rate\"],\n",
    "        )\n",
    "\n",
    "        # Calculate the total distance for the best path\n",
    "        best_distance = total_distance(best_path)\n",
    "\n",
    "        # Report the observation to SigOpt\n",
    "        conn.experiments(experiment.id).observations().create(\n",
    "            suggestion=suggestion.id, value=best_distance\n",
    "        )\n",
    "\n",
    "    return best_path"
   ]
  },
  {
   "cell_type": "markdown",
   "metadata": {},
   "source": [
    "#### Run code"
   ]
  },
  {
   "cell_type": "code",
   "execution_count": null,
   "metadata": {},
   "outputs": [],
   "source": [
    "if __name__ == \"__main__\":\n",
    "    sigopt_optimization()"
   ]
  },
  {
   "cell_type": "markdown",
   "metadata": {},
   "source": [
    "### ⊗ ACO"
   ]
  },
  {
   "cell_type": "markdown",
   "metadata": {},
   "source": [
    "Sed ut perspiciatis unde omnis iste natus error sit voluptatem accusantium doloremque laudantium, totam rem aperiam, eaque ipsa quae ab illo inventore veritatis et quasi architecto beatae vitae dicta sunt explicabo. Nemo enim ipsam voluptatem quia voluptas sit aspernatur aut odit aut fugit, sed quia consequuntur magni dolores eos qui ratione voluptatem sequi nesciunt. Neque porro quisquam est, qui dolorem ipsum quia dolor sit amet, consectetur, adipisci velit, sed quia non numquam eius modi tempora incidunt ut labore et dolore magnam aliquam quaerat voluptatem. Ut enim ad minima veniam, quis nostrum exercitationem ullam corporis suscipit laboriosam, nisi ut aliquid ex ea commodi consequatur? Quis autem vel eum iure reprehenderit qui in ea voluptate velit esse quam nihil molestiae consequatur, vel illum qui dolorem eum fugiat quo voluptas nulla pariatur."
   ]
  },
  {
   "cell_type": "markdown",
   "metadata": {},
   "source": [
    "### ⊗ PSO"
   ]
  },
  {
   "cell_type": "markdown",
   "metadata": {},
   "source": [
    "Sed ut perspiciatis unde omnis iste natus error sit voluptatem accusantium doloremque laudantium, totam rem aperiam, eaque ipsa quae ab illo inventore veritatis et quasi architecto beatae vitae dicta sunt explicabo. Nemo enim ipsam voluptatem quia voluptas sit aspernatur aut odit aut fugit, sed quia consequuntur magni dolores eos qui ratione voluptatem sequi nesciunt. Neque porro quisquam est, qui dolorem ipsum quia dolor sit amet, consectetur, adipisci velit, sed quia non numquam eius modi tempora incidunt ut labore et dolore magnam aliquam quaerat voluptatem. Ut enim ad minima veniam, quis nostrum exercitationem ullam corporis suscipit laboriosam, nisi ut aliquid ex ea commodi consequatur? Quis autem vel eum iure reprehenderit qui in ea voluptate velit esse quam nihil molestiae consequatur, vel illum qui dolorem eum fugiat quo voluptas nulla pariatur."
   ]
  },
  {
   "cell_type": "markdown",
   "metadata": {},
   "source": [
    "## Clear the memory"
   ]
  },
  {
   "cell_type": "markdown",
   "metadata": {},
   "source": [
    "Before moving on, please execute the following cell to clear up the CPU memory. This is required to move on to the next notebook."
   ]
  },
  {
   "cell_type": "code",
   "execution_count": 8,
   "metadata": {},
   "outputs": [
    {
     "data": {
      "text/plain": [
       "{'status': 'ok', 'restart': True}"
      ]
     },
     "execution_count": 8,
     "metadata": {},
     "output_type": "execute_result"
    }
   ],
   "source": [
    "import IPython\n",
    "app = IPython.Application.instance()\n",
    "app.kernel.do_shutdown(True)"
   ]
  },
  {
   "cell_type": "markdown",
   "metadata": {},
   "source": [
    "## Next"
   ]
  },
  {
   "cell_type": "markdown",
   "metadata": {},
   "source": [
    "Congratulations, you have completed second part the learning objectives of the course! As a final exercise, successfully complete an applied problem in the assessment in [_06-bio-inspired-assessment.ipynb_](06-bio-inspired-assessment.ipynb)."
   ]
  }
 ],
 "metadata": {
  "kernelspec": {
   "display_name": "Python 3 (ipykernel)",
   "language": "python",
   "name": "python3"
  },
  "language_info": {
   "codemirror_mode": {
    "name": "ipython",
    "version": 3
   },
   "file_extension": ".py",
   "mimetype": "text/x-python",
   "name": "python",
   "nbconvert_exporter": "python",
   "pygments_lexer": "ipython3",
   "version": "3.8.8"
  }
 },
 "nbformat": 4,
 "nbformat_minor": 4
}
