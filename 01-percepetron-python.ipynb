{
 "cells": [
  {
   "cell_type": "markdown",
   "metadata": {},
   "source": [
    "# Classification with the Perceptron Neural Network using Intel® Python"
   ]
  },
  {
   "cell_type": "markdown",
   "metadata": {},
   "source": [
    "In this section, we will build the Perceptron Algorithm in Intel® Python. The principal idea is to train a single-layer neural network model to correctly data classify."
   ]
  },
  {
   "cell_type": "markdown",
   "metadata": {},
   "source": [
    "## Objectives"
   ]
  },
  {
   "cell_type": "markdown",
   "metadata": {},
   "source": [
    "* **Understand** the concept of Single-layer Neural Network in the Perceptron\n",
    "* **Learn** about the Perceptron Neural Network Algorithm\n",
    "* **Create** a simple Perceptron Neural Network to data classification\n",
    "* **Train** the Perceptron Neural Network Model\n",
    "* **Observe** the performance of the trained Perceptron Neural Network Model"
   ]
  },
  {
   "cell_type": "markdown",
   "metadata": {},
   "source": [
    "## The Problem: Classification Data"
   ]
  },
  {
   "cell_type": "markdown",
   "metadata": {},
   "source": [
    "<p style='text-align: justify;'> \n",
    "Classification problems require the given data set to be classified into two or more categories. A simple example is buying something from the online portal now or waiting a couple of months to get the maximum discount. Or, if you are planning to buy a car, which car out of available options is the best buy given your budget? Classification problems can be of the following different types, for example:\n",
    "</p>  \n",
    "\n",
    "- Classifies data into two classes: yes/no, good/bad, and high/low.\n",
    "\n",
    "- Classifies data into three or more categories. "
   ]
  },
  {
   "cell_type": "markdown",
   "metadata": {},
   "source": [
    "## The Solution: Perceptron Neural Network"
   ]
  },
  {
   "cell_type": "markdown",
   "metadata": {},
   "source": [
    "<p style='text-align: justify;'> \n",
    "Perceptron Neural Network is an algorithm that imitate how a neuron in the brain works. It is also called a single-layer neural network consisting of a single neuron. The output of this neural network is decided based on the outcome of just one activation function associated with the single neuron. In perceptron, the forward propagation of information happens. A deep neural network consists of one or more perceptrons in two or more layers. Input to different perceptrons in a particular layer will be fed from the previous layer by combining them with different weights. \n",
    "</p>     \n",
    "\n",
    "<p style=\"text-align: center;\">\n",
    " <img src=\"images/perceptron2.png\"  width=\"600\" height=\"600\">\n",
    "</p>\n",
    "\n",
    "<p style='text-align: justify;'>\n",
    "Let us first understand how a neuron works. The diagram below represents a neuron in the brain. The input signals ($X_1$, $X_2$, ...) of different strength (observed weights, $W_1$, $W_2$, ...) is fed into the neuron cell as a weighted sum via dendrites. The weighted sum is termed the net input. The neuron processes the net input, and the output signal is appropriately fired. If the combined signal strength is inappropriate based on the decision function within the neuron cell, the neuron does not fire any output signal.  The perceptron, when represented as a line diagram, would look like the following with mathematical notations:   \n",
    "</p>\n",
    "\n",
    "<p style=\"text-align: center;\">\n",
    " <img src=\"images/perceptron.png\"  width=\"650\" height=\"650\">\n",
    "</p>"
   ]
  },
  {
   "cell_type": "markdown",
   "metadata": {},
   "source": [
    "Then just do $\\sum_{i = 0}^{n} (W_i*X_i)$ where $n$ is the input data number, $W$ are the weights and $X$ are the inputs.\n",
    "And then this result is activated by the activation function. Usually the sigmoid is used, but there are others.\n",
    "\n",
    "$$\n",
    "\\sigma(x) = \\frac{1}{1 + e^{-x}}\n",
    "$$"
   ]
  },
  {
   "cell_type": "markdown",
   "metadata": {},
   "source": [
    "## Implementing the Perceptron Neural Network with Intel Python"
   ]
  },
  {
   "cell_type": "markdown",
   "metadata": {},
   "source": [
    "Now that we have studied the Perceptron Algorithm, let is implement the actual algorithm in Python. Create a code will store our Perceptron implementation for a generical problem:"
   ]
  },
  {
   "cell_type": "code",
   "execution_count": 1,
   "metadata": {},
   "outputs": [
    {
     "name": "stdout",
     "output_type": "stream",
     "text": [
      "[-6.853343494406385, -6.261212314881444]\n",
      "-6.853343494406385\n",
      "0.0010548055343871582\n"
     ]
    },
    {
     "data": {
      "image/png": "[encoded data removed]",
      "text/plain": [
       "<Figure size 432x288 with 1 Axes>"
      ]
     },
     "metadata": {
      "needs_background": "light"
     },
     "output_type": "display_data"
    }
   ],
   "source": [
    "# Python Packages\n",
    "import numpy as np\n",
    "import matplotlib.pyplot as plt\n",
    "import random\n",
    "import math\n",
    "\n",
    "# Activation function\n",
    "def sigmoid(x):\n",
    "    return 1 / (1 + math.exp(-x))\n",
    "\n",
    "plt.plot([sigmoid(x) for x in np.arange(-5,5,0.1)])\n",
    "\n",
    "# Creating the perceptron weights\n",
    "W = []\n",
    "nInputs = 2\n",
    "\n",
    "for i in range(nInputs):\n",
    "    W.append(random.random() * 20 - 10)\n",
    "print(W)\n",
    "\n",
    "# Inputs\n",
    "X = [1,0]\n",
    "\n",
    "# Calculating answer\n",
    "soma = 0\n",
    "for i in range(len(W)):\n",
    "    soma = soma + (W[i] * X[i])  \n",
    "print(soma)\n",
    "\n",
    "# Constract Python expression\n",
    "soma = sum([w * x for w,x in zip(W, X)])\n",
    "\n",
    "# Use the sigmoid function\n",
    "activated = sigmoid(soma)\n",
    "print(activated)"
   ]
  },
  {
   "cell_type": "markdown",
   "metadata": {},
   "source": [
    "#### Discussion: What happened?\n",
    "\n",
    "- ``Why is it advisable to initialize the weights randomly?``\n",
    "     \n",
    "- ``What is the meaning of the value of the sum of the weights and inputs submitted to the activation function?``"
   ]
  },
  {
   "cell_type": "markdown",
   "metadata": {},
   "source": [
    "### ☆ Challenger: Classification of Roses and Violets  ☆"
   ]
  },
  {
   "cell_type": "markdown",
   "metadata": {},
   "source": [
    "Consider the following problem:\n",
    "\n",
    "**Roses are red, violets are blue, the stems of roses are tall, and violets are short.**\n",
    "\n",
    "Then:\n",
    "\n",
    "- Having the color spectrum between $red = 0$ and $blue = 10$.\n",
    "\n",
    "- Between $0$ and $10$, there is a mixture of the two colors, where the closer to $0$ is redder, and the closer to $10$ is bluer.\n",
    "\n",
    "- Given a set of pairs with (height and color) determine whether it is a rose or a violet.\n",
    "\n",
    "<p style=\"text-align: center;\">\n",
    " <img src=\"images/rosas.png\"  width=\"500\" height=\"500\">\n",
    "</p>\n",
    "\n",
    "\n",
    "1. Create a Perceptron Neural Network with Python.\n",
    "\n",
    "2. Formulate the labels (known data) for this problem.\n",
    "\n",
    "3. Use the Perceptron to classify whether they are pink or violet, and answer:\n",
    "    \n",
    "    - ``How many did she get right and wrong?``\n",
    "    \n",
    "    - ``What is the problem?``"
   ]
  },
  {
   "cell_type": "markdown",
   "metadata": {},
   "source": [
    "### ☆ Solution ☆ "
   ]
  },
  {
   "cell_type": "markdown",
   "metadata": {},
   "source": [
    "Click on the '...' below to show the solution."
   ]
  },
  {
   "cell_type": "markdown",
   "metadata": {},
   "source": [
    "## Example\n",
    "<details>\n",
    "    <summary>Click me</summary>\n",
    "\n",
    "  ### Heading\n",
    "  1. Foo\n",
    "  2. Bar\n",
    "     * Baz\n",
    "     * Qux\n",
    "     \n",
    "  ### Some Code\n",
    "  ```js\n",
    "  function logSomething(something) {\n",
    "    console.log('Something', something);\n",
    "  }\n",
    "  ```\n",
    "</details>"
   ]
  },
  {
   "cell_type": "code",
   "execution_count": 2,
   "metadata": {},
   "outputs": [
    {
     "name": "stdout",
     "output_type": "stream",
     "text": [
      "[0.9999999999997455, 0.0009110511944006454]\n"
     ]
    },
    {
     "data": {
      "text/plain": [
       "[<matplotlib.lines.Line2D at 0x7fb4ea4928b0>]"
      ]
     },
     "execution_count": 2,
     "metadata": {},
     "output_type": "execute_result"
    },
    {
     "data": {
      "image/png": "[encoded data removed]",
      "text/plain": [
       "<Figure size 432x288 with 1 Axes>"
      ]
     },
     "metadata": {
      "needs_background": "light"
     },
     "output_type": "display_data"
    }
   ],
   "source": [
    "# Python Packages\n",
    "import numpy as np\n",
    "from matplotlib import pyplot as plt\n",
    "\n",
    "# Inputs X(x1,x2) and y -> Roses (-1), Violets (1)\n",
    "X = np.array([\n",
    "             [ 1, 10],\n",
    "             [ 2, 25],\n",
    "             [ 3, 22],\n",
    "             [ 4, 20],\n",
    "             [ 4, 27],\n",
    "             [ 5, 23],\n",
    "             [ 6, 1],\n",
    "             [ 7, 8],\n",
    "             [ 8, 1],\n",
    "             [ 9, 18],\n",
    "             [ 10, 8],\n",
    "                                   \n",
    "])\n",
    "\n",
    "y = np.array([-1, -1, -1, -1, -1, -1, 1, 1, 1, 1, 1])\n",
    "\n",
    "# Perceptron Neural Network Module\n",
    "def perceptron_sgd(X, Y, eta, epochs):\n",
    "    # X --> Inputs\n",
    "    # y --> labels/target\n",
    "    # eta --> learning rate\n",
    "    # epochs --> Number of iterations\n",
    "    w = np.zeros(len(X[0]))\n",
    "\n",
    "    for t in range(epochs):\n",
    "        for i, x in enumerate(X):\n",
    "            if (np.dot(X[i], w) * Y[i]) <= 0:\n",
    "                w = w + eta * X[i] * Y[i]\n",
    "    return w\n",
    "\n",
    "# Call the Perceptron Neural Network Module\n",
    "eta = 1\n",
    "epochs = 100\n",
    "w = perceptron_sgd(X, y, eta, epochs)\n",
    "\n",
    "# Use the sigmoid function\n",
    "w = [sigmoid(x) for x in w]\n",
    "print(w)\n",
    "\n",
    "# Visualization - Plot the samples\n",
    "for d, sample in zip(y,X):\n",
    "    # Plot the negative samples (Roses)\n",
    "    if d == -1:\n",
    "        plt.scatter(sample[0], sample[1], s=120, marker='_', linewidths=2)\n",
    "    # Plot the positive samples (Violets)\n",
    "    else:\n",
    "        plt.scatter(sample[0], sample[1], s=120, marker='+', linewidths=2)\n",
    "\n",
    "# Print a possible hyperplane, that is seperating the two classes.\n",
    "plt.xlabel('Color')\n",
    "plt.ylabel('Stalk')\n",
    "plt.title('Roses (-1) x Violets (1)')\n",
    "plt.plot([0,10],[0,30])"
   ]
  },
  {
   "cell_type": "markdown",
   "metadata": {},
   "source": [
    "## Summary"
   ]
  },
  {
   "cell_type": "markdown",
   "metadata": {},
   "source": [
    "Lorem ipsum dolor sit amet, consectetur adipiscing elit, sed do eiusmod tempor incididunt ut labore et dolore magna aliqua. Ut enim ad minim veniam, quis nostrud exercitation ullamco laboris nisi ut aliquip ex ea commodo consequat. Duis aute irure dolor in reprehenderit in voluptate velit esse cillum dolore eu fugiat nulla pariatur. Excepteur sint occaecat cupidatat non proident, sunt in culpa qui officia deserunt mollit anim id est laborum."
   ]
  },
  {
   "cell_type": "markdown",
   "metadata": {},
   "source": [
    "## Clear the Memory"
   ]
  },
  {
   "cell_type": "markdown",
   "metadata": {},
   "source": [
    "Before moving on, please execute the following cell to clear up the CPU memory. This is required to move on to the next notebook."
   ]
  },
  {
   "cell_type": "code",
   "execution_count": null,
   "metadata": {},
   "outputs": [],
   "source": [
    "import IPython\n",
    "app = IPython.Application.instance()\n",
    "app.kernel.do_shutdown(True)"
   ]
  },
  {
   "cell_type": "markdown",
   "metadata": {},
   "source": [
    "## Next"
   ]
  },
  {
   "cell_type": "markdown",
   "metadata": {},
   "source": [
    "In this section you learned how to build a simple Perceptron Neural Network with Python for data classification. In the next section, you will be asked to build your own Perceptron with perform data preparation to solve a different data classification with the concepts of BIAS in [_02-perceptron-bias.ipynb_](02-perceptron-bias.ipynb)."
   ]
  }
 ],
 "metadata": {
  "kernelspec": {
   "display_name": "Python 3 (ipykernel)",
   "language": "python",
   "name": "python3"
  },
  "language_info": {
   "codemirror_mode": {
    "name": "ipython",
    "version": 3
   },
   "file_extension": ".py",
   "mimetype": "text/x-python",
   "name": "python",
   "nbconvert_exporter": "python",
   "pygments_lexer": "ipython3",
   "version": "3.8.8"
  }
 },
 "nbformat": 4,
 "nbformat_minor": 4
}
