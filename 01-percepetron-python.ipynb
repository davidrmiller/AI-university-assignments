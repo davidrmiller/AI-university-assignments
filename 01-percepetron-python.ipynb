{
 "cells": [
  {
   "cell_type": "markdown",
   "metadata": {},
   "source": [
    "# Classification with the Perceptron Neural Network using Intel® Python"
   ]
  },
  {
   "cell_type": "markdown",
   "metadata": {},
   "source": [
    "In this section, we will build the Perceptron Algorithm in Intel® Python. The principal idea is to train a single-layer neural network model to correctly data classify."
   ]
  },
  {
   "cell_type": "markdown",
   "metadata": {},
   "source": [
    "## Objectives"
   ]
  },
  {
   "cell_type": "markdown",
   "metadata": {},
   "source": [
    "* **Understand** the concept of Single-layer Neural Network in the Perceptron;\n",
    "* **Learn** about the Perceptron Neural Network Algorithm;\n",
    "* **Create** a simple Perceptron Neural Network to data classification;\n",
    "* **Train** the Perceptron Neural Network Model;\n",
    "* **Observe** the performance of the trained Perceptron Neural Network Model."
   ]
  },
  {
   "cell_type": "markdown",
   "metadata": {},
   "source": [
    "## The Problem: Classification Data"
   ]
  },
  {
   "cell_type": "markdown",
   "metadata": {},
   "source": [
    "<p style='text-align: justify;'> \n",
    "Classification problems require the given data set to be classified into two or more categories. A simple example is buying something from the online portal now or waiting a couple of months to get the maximum discount. Or, if you are planning to buy a car, which car out of available options is the best buy given your budget? Classification problems can be of the following different types, for example:\n",
    "</p>  \n",
    "\n",
    "- Classifies data into two classes: yes/no, good/bad, and high/low.\n",
    "\n",
    "- Classifies data into three or more categories. "
   ]
  },
  {
   "cell_type": "markdown",
   "metadata": {},
   "source": [
    "## The Solution: Perceptron Neural Network"
   ]
  },
  {
   "cell_type": "markdown",
   "metadata": {},
   "source": [
    "<p style='text-align: justify;'> \n",
    "Perceptron Neural Network is an algorithm that imitates how a neuron in the brain works. It is also called a single-layer neural network consisting of a single neuron. The output of this neural network is decided based on the outcome of just one activation function associated with the single neuron. In perceptron, the forward propagation of information happens. A deep neural network consists of one or more perceptrons in two or more layers. Input to different perceptrons in a particular layer will be fed from the previous layer by combining them with different weights. \n",
    "</p>     \n",
    "\n",
    "<p style='text-align: justify;'> \n",
    "Before studying a perceptron neural network, we must understand how a human neuron works. The <b>dendrites</b> are the entrances to the neuron. They receive electrical signals from other neurons and send them to the cell body.\n",
    "</p> \n",
    "\n",
    "<p style='text-align: justify;'> \n",
    "Inside the <b>cell body</b>, information processing is carried out through the <b>sum</b> of the inputs that the neuron receives. This set of added electrical stimuli causes the cell nucleus of the neuron to send the result of the sum of the information it received to a structure called <b>axon</b>, which consequently sends these electrical signals to the <b>axon terminals</b>, thus producing an output stimulus.\n",
    "</p> \n",
    "       \n",
    "     \n",
    "     \n",
    "<p style=\"text-align: center;\">\n",
    " <img src=\"images/figure1_humanNeuron.png\"  width=\"500\" height=\"500\">\n",
    "</p>\n",
    "\n",
    "<p style='text-align: justify;'>\n",
    "In an artificial neural network the logic is quite similar. First, the network receives different signals at its inputs, which are represented by ($X_1$, $X_2$, $X_n$ ...). \n",
    "</p>\n",
    "\n",
    "<p style='text-align: justify;'>\n",
    "From there, the input signals pass through weights ($W_1$, $W_2$, $W_n$ ...) which are nothing more than multipliers that control the influence of each of the inputs of the neural network. Initially, these weights are randomly generated. However, as we will see in the following modules, the weights are adjusted according to the training of the network. After the neural network multiplies the inputs $X_n$ by the weights $W_n$, a sum of all results is performed according to the following formula:\n",
    "</p>\n",
    "    \n",
    "$$y = \\sum_{i = 0}^{n} (W_i*X_i)$$\n",
    "<br>\n",
    "<br>\n",
    "    \n",
    "Once the sum is performed, the result is then sent to a function called sigmoid, which has the function of activating or not activating the network output: \n",
    "</p>\n",
    "\n",
    "<br>\n",
    "\n",
    "$$\n",
    "\\sigma(x) = \\frac{1}{1 + e^{-x}}\n",
    "$$\n",
    "\n",
    "<br>\n",
    "<br>\n",
    "\n",
    "<p style='text-align: justify;'>\n",
    "    The following is a complete representation of the structure of a perceptron neural network:\n",
    "</p>\n",
    "\n",
    "<p style=\"text-align: center;\">\n",
    " <img src=\"images/figure2_perceptron.jpg\"  width=\"500\" height=\"500\">\n",
    "</p>"
   ]
  },
  {
   "cell_type": "markdown",
   "metadata": {},
   "source": [
    "## Implementing the Perceptron Neural Network with Intel® Python"
   ]
  },
  {
   "cell_type": "markdown",
   "metadata": {},
   "source": [
    "Now that we have studied the Perceptron Algorithm, let us implement the actual algorithm using with Intel® Python. Create a code that will store our Perceptron implementation for a generical problem:"
   ]
  },
  {
   "cell_type": "markdown",
   "metadata": {
    "tags": []
   },
   "source": [
    "#### ⊗ Import Python Packages \n",
    "The first thing we need to do is import the necessary libraries to be able to implement our perceptron neural network."
   ]
  },
  {
   "cell_type": "code",
   "execution_count": 1,
   "metadata": {},
   "outputs": [],
   "source": [
    "# Python Packages\n",
    "import numpy as np\n",
    "import matplotlib.pyplot as plt\n",
    "import random\n",
    "import math"
   ]
  },
  {
   "cell_type": "markdown",
   "metadata": {
    "tags": []
   },
   "source": [
    "#### ⊗ Define the inputs\n",
    "\n",
    "<p style='text-align: justify;'>\n",
    "In this first example, we will define two inputs ($X_1$, $X_2$) with fixed values to simplify the didactics of how a neural network is built. However, in real applications, the importance ​​of inputs is composed of a set of diverse data.\n",
    "<p/>"
   ]
  },
  {
   "cell_type": "code",
   "execution_count": 2,
   "metadata": {},
   "outputs": [],
   "source": [
    "# Inputs\n",
    "X = [1, 0]"
   ]
  },
  {
   "cell_type": "markdown",
   "metadata": {
    "tags": []
   },
   "source": [
    "#### ⊗ Generate weights\n",
    "\n",
    "<p style='text-align: justify;'>\n",
    "Here we will generate the weights to compose our neural network. We will initially generate random weights in this example, but it is important to note that these weights will be updated when the network is trained. The weight training itself will be covered in a later module.\n",
    "</p>\n",
    "\n",
    "<p style='text-align: justify;'>\n",
    "This code snippet generates two weights ($W_1$, $W_2$), and then a loop uses the random function to generate random values between $-1$ and $1$.\n",
    "</p>"
   ]
  },
  {
   "cell_type": "code",
   "execution_count": 3,
   "metadata": {},
   "outputs": [
    {
     "name": "stdout",
     "output_type": "stream",
     "text": [
      "Weights:\n",
      "[0.0074016012542610365, -0.9379547665313435]\n"
     ]
    }
   ],
   "source": [
    "# Creating the perceptron weights\n",
    "W = []\n",
    "nInputs = 2\n",
    "\n",
    "for i in range(nInputs):\n",
    "    W.append(random.uniform(-1, 1))\n",
    "print(\"Weights:\")\n",
    "print(W)"
   ]
  },
  {
   "cell_type": "markdown",
   "metadata": {
    "tags": []
   },
   "source": [
    "#### ⊗ Calculate the sum of the network\n",
    "\n",
    "<p style='text-align: justify;'>\n",
    "In this step, the algorithm will multiply the inputs by the weights, adding the result of this multiplication, thus resulting in an output value of the network.\n",
    "</p>\n",
    "\n",
    "$$\n",
    "y = (X_1 * W_1) + (X_2 * W_2)\n",
    "$$"
   ]
  },
  {
   "cell_type": "code",
   "execution_count": 4,
   "metadata": {},
   "outputs": [
    {
     "name": "stdout",
     "output_type": "stream",
     "text": [
      "0.0074016012542610365\n"
     ]
    }
   ],
   "source": [
    "# Calculating sum of the network\n",
    "y_sum = 0\n",
    "for i in range(len(W)):\n",
    "    y_sum =  y_sum + (W[i] * X[i])  \n",
    "print(y_sum)"
   ]
  },
  {
   "cell_type": "markdown",
   "metadata": {},
   "source": [
    "#### ⊗ Activation Function (*Sigmoid*)\n",
    "\n",
    "<p style='text-align: justify;'>\n",
    "Limiting the outputs allows the network to produce results at an adequate scale for most problems. The sigmoid function is used in neural networks because it defines the outputs between $0$ and $1$, which is helpful for classification problems. It is also differentiable, which is essential for training the network. At the same time, function differentiability is necessary to adjust network weights during training.\n",
    "</p>"
   ]
  },
  {
   "cell_type": "code",
   "execution_count": 5,
   "metadata": {},
   "outputs": [],
   "source": [
    "# Activation function\n",
    "def sigmoid(x):\n",
    "    return 1 / (1 + math.exp(-x))"
   ]
  },
  {
   "cell_type": "markdown",
   "metadata": {},
   "source": [
    "<p style='text-align: justify;'>\n",
    "Plotting a graph is one way to understand how the sigmoid function works. We can see that the sigmoid function is not linear and that it varies from $0$ to its maximum value of $1$. \n",
    "</p>    \n",
    "    \n",
    "<p style='text-align: justify;'>  \n",
    "This characteristic is used to decide if the neural network's output will be activated. If the output value is close to $0$, the network output will not be started. However, if the output approaches $1$, it will be activated.\n",
    "</p>"
   ]
  },
  {
   "cell_type": "code",
   "execution_count": 6,
   "metadata": {},
   "outputs": [
    {
     "data": {
      "image/png": "[encoded data removed]",
      "text/plain": [
       "<Figure size 432x288 with 1 Axes>"
      ]
     },
     "metadata": {
      "needs_background": "light"
     },
     "output_type": "display_data"
    }
   ],
   "source": [
    "plt.plot([sigmoid(x) for x in np.arange(-5,5,0.1)])\n",
    "plt.show()"
   ]
  },
  {
   "cell_type": "markdown",
   "metadata": {
    "tags": []
   },
   "source": [
    "#### ⊗ Output from the network\n",
    "\n",
    "<p style='text-align: justify;'>\n",
    "At this point we create a function called activated where the value generated through the result of the sum of the network values ​​passing through the sigmoid function will be stored, thus generating a final activation value.\n",
    "</p>"
   ]
  },
  {
   "cell_type": "code",
   "execution_count": 7,
   "metadata": {},
   "outputs": [
    {
     "name": "stdout",
     "output_type": "stream",
     "text": [
      "0.5018503918659634\n"
     ]
    }
   ],
   "source": [
    "# Use the sigmoid function\n",
    "activated = sigmoid(y_sum)\n",
    "print(activated)"
   ]
  },
  {
   "cell_type": "markdown",
   "metadata": {},
   "source": [
    "<p style='text-align: justify;'>\n",
    "The activated function will show the network output value, which must be within a range between 0 and 1. The closer to 1, the more likely it is that the input data and weights converged to a desired result.\n",
    "</p>"
   ]
  },
  {
   "cell_type": "markdown",
   "metadata": {
    "jp-MarkdownHeadingCollapsed": true,
    "tags": []
   },
   "source": [
    "##### Discussion: What happened?\n",
    "\n",
    "- ``Why is it advisable to initialize the weights randomly?``\n",
    "     \n",
    "- ``What is the meaning of the value of the sum of the weights and inputs submitted to the activation function?``"
   ]
  },
  {
   "cell_type": "markdown",
   "metadata": {},
   "source": [
    "## ☆ Challenger: Classification of Roses and Violets  ☆"
   ]
  },
  {
   "cell_type": "markdown",
   "metadata": {},
   "source": [
    "Consider the following problem:\n",
    "\n",
    "**Roses are red, violets are blue, the stems of roses are tall, and violets are short.**\n",
    "\n",
    "Then:\n",
    "\n",
    "- Having the color spectrum between $red = 0$ and $blue = 10$.\n",
    "\n",
    "- Between $0$ and $10$, there is a mixture of the two colors, where the closer to $0$ is redder, and the closer to $10$ is bluer.\n",
    "\n",
    "- Given a set of pairs with (height and color) determine whether it is a rose or a violet.\n",
    "\n",
    "<p style=\"text-align: center;\">\n",
    " <img src=\"images/figure3_rosesXviolets.png\"  width=\"500\" height=\"500\">\n",
    "</p>\n",
    "\n",
    "\n",
    "1. Create a Perceptron Neural Network with Python.\n",
    "\n",
    "2. Formulate the labels (known data) for this problem.\n",
    "\n",
    "3. Use the Perceptron to classify whether they are pink or violet, and answer:\n",
    "    \n",
    "    - ``How many did she get right and wrong?``\n",
    "    \n",
    "    - ``What is the problem?``"
   ]
  },
  {
   "cell_type": "markdown",
   "metadata": {},
   "source": [
    "### ☆ Solution ☆ "
   ]
  },
  {
   "cell_type": "code",
   "execution_count": 8,
   "metadata": {},
   "outputs": [],
   "source": [
    "# Import Python Packages\n",
    "import numpy as np\n",
    "import math\n",
    "import random\n",
    "from matplotlib import pyplot as plt"
   ]
  },
  {
   "cell_type": "code",
   "execution_count": 9,
   "metadata": {},
   "outputs": [],
   "source": [
    "# Activation function\n",
    "def sigmoid(x):\n",
    "    return 1 / (1 + math.exp(-x))"
   ]
  },
  {
   "cell_type": "code",
   "execution_count": 10,
   "metadata": {},
   "outputs": [],
   "source": [
    "# Defines an array X_inputs where the first value refers to the flower color and the second refers to the stem size\n",
    "# X_inputs = ([[color, stem], [color, stem] ...])\n",
    "X_inputs = np.array([\n",
    "             [ 1, 10 ],  # Rose\n",
    "             [ 2, 25 ],  # Rose\n",
    "             [ 3, 22 ],  # Rose\n",
    "             [ 4, 20 ],  # Rose\n",
    "             [ 5, 23 ],  # Rose\n",
    "             [ 6, 1 ],   # Violet\n",
    "             [ 7, 8 ],   # Violet\n",
    "             [ 8, 1 ],   # Violet\n",
    "             [ 9, 10 ],  # Violet\n",
    "             [ 10, 8 ],  # Violet                                \n",
    "])"
   ]
  },
  {
   "cell_type": "code",
   "execution_count": 11,
   "metadata": {
    "tags": []
   },
   "outputs": [
    {
     "name": "stdout",
     "output_type": "stream",
     "text": [
      "Weights:\n",
      "[-0.11208439849023377, 0.3069626868320634]\n"
     ]
    }
   ],
   "source": [
    "# Creating random perceptron weights\n",
    "# Attention!! In this exercise, the weights will be randomly generated because the objective \n",
    "# is to understand how the neural network works. However, in the next modules, we will study \n",
    "# how we can update the weights from neural network training.\n",
    "w = []\n",
    "w_inputs = 2\n",
    "\n",
    "for i in range(w_inputs):\n",
    "    w.append(random.uniform(-1, 1))\n",
    "print(\"Weights:\")\n",
    "print(w)"
   ]
  },
  {
   "cell_type": "code",
   "execution_count": 12,
   "metadata": {},
   "outputs": [
    {
     "name": "stdout",
     "output_type": "stream",
     "text": [
      "[ 2.95754247  7.44989837  6.41692591  5.69091614  6.4997198  -0.3655437\n",
      "  1.67111071 -0.5897125   2.06086728  1.33485751]\n"
     ]
    }
   ],
   "source": [
    "# Calculating sum of the network\n",
    "y_sum = np.zeros(len(X_inputs))\n",
    "\n",
    "for i in range(len(X_inputs)):\n",
    "    for j in range(2):\n",
    "        y_sum[i] += X_inputs[i][j] * w[j]\n",
    "\n",
    "print(y_sum)"
   ]
  },
  {
   "cell_type": "code",
   "execution_count": 13,
   "metadata": {},
   "outputs": [
    {
     "name": "stdout",
     "output_type": "stream",
     "text": [
      "0.9506187584003711\n",
      "0.9994188372416679\n",
      "0.9983689939605088\n",
      "0.9966348641771834\n",
      "0.9984983976917946\n",
      "0.4096182570265881\n",
      "0.8417238508174533\n",
      "0.35670082262419156\n",
      "0.8870411000446571\n",
      "0.7916429887431305\n"
     ]
    }
   ],
   "source": [
    "# Use the sigmoid function\n",
    "activated = np.zeros(len(y_sum))\n",
    "\n",
    "for i in range(len(y_sum)):\n",
    "    activated[i] = sigmoid(y_sum[i])\n",
    "    print(activated[i])"
   ]
  },
  {
   "cell_type": "code",
   "execution_count": 14,
   "metadata": {},
   "outputs": [
    {
     "name": "stdout",
     "output_type": "stream",
     "text": [
      "Violet\n",
      "Violet\n",
      "Violet\n",
      "Violet\n",
      "Violet\n",
      "Rose\n",
      "Violet\n",
      "Rose\n",
      "Violet\n",
      "Violet\n"
     ]
    }
   ],
   "source": [
    "# Here is just a simple way to visualize how many roses or violets were found by the perceptron.\n",
    "for i in range(len(y_sum)):\n",
    "    if activated[i] > 0.5:\n",
    "        print(\"Violet\")\n",
    "    else:\n",
    "        print(\"Rose\")    "
   ]
  },
  {
   "cell_type": "markdown",
   "metadata": {},
   "source": [
    "However, to observe more easily, we can use a graph to plot all the results. To do this, just follow the code below that will plot a **+** if the result was a Rose or a **-** if the result was a Violet."
   ]
  },
  {
   "cell_type": "code",
   "execution_count": 15,
   "metadata": {
    "tags": []
   },
   "outputs": [
    {
     "data": {
      "image/png": "[encoded data removed]",
      "text/plain": [
       "<Figure size 432x288 with 1 Axes>"
      ]
     },
     "metadata": {
      "needs_background": "light"
     },
     "output_type": "display_data"
    }
   ],
   "source": [
    "# Visualization - Plot the samples\n",
    "for sample, d in zip(X_inputs,activated):\n",
    "    # Plot the negative samples (Violets)\n",
    "    if d > 0.5:\n",
    "        plt.scatter(sample[0], sample[1], s=120, marker='_', linewidths=2, color = \"red\")\n",
    "    # Plot the positive samples (Roses)\n",
    "    else:\n",
    "        plt.scatter(sample[0], sample[1], s=120, marker='+', linewidths=2, color = \"violet\")\n",
    "\n",
    "# Print a possible hyperplane, that is seperating the two classes.\n",
    "plt.xlabel('Color')\n",
    "plt.ylabel('Stem')\n",
    "plt.title('Roses (+) x Violets (-)')\n",
    "plt.plot([0,10],[0,30])\n",
    "plt.show()"
   ]
  },
  {
   "cell_type": "markdown",
   "metadata": {},
   "source": [
    "## Summary"
   ]
  },
  {
   "cell_type": "markdown",
   "metadata": {},
   "source": [
    "<p style='text-align: justify;'>\n",
    "The Perceptron Neural Network imitates how a neuron in the brain works and consists of a single neuron. This notebook discusses the concept of a single-layer neural network in the Perceptron algorithm and its use in classification problems. The notebook also explains how inputs, weights, and activation function work in an artificial neural network. Finally, the notebook presents a complete representation of the structure of a Perceptron Neural Network.\n",
    "</p>"
   ]
  },
  {
   "cell_type": "markdown",
   "metadata": {},
   "source": [
    "## Clear the Memory"
   ]
  },
  {
   "cell_type": "markdown",
   "metadata": {},
   "source": [
    "Before moving on, please execute the following cell to clear up the CPU memory. This is required to move on to the next notebook."
   ]
  },
  {
   "cell_type": "code",
   "execution_count": 16,
   "metadata": {},
   "outputs": [
    {
     "data": {
      "text/plain": [
       "{'status': 'ok', 'restart': True}"
      ]
     },
     "execution_count": 16,
     "metadata": {},
     "output_type": "execute_result"
    }
   ],
   "source": [
    "import IPython\n",
    "app = IPython.Application.instance()\n",
    "app.kernel.do_shutdown(True)"
   ]
  },
  {
   "cell_type": "markdown",
   "metadata": {},
   "source": [
    "## Next"
   ]
  },
  {
   "cell_type": "markdown",
   "metadata": {},
   "source": [
    "In this section you learned how to build a simple Perceptron Neural Network with Python for data classification. In the next section, you will be asked to build your own Perceptron with perform data preparation to solve a different data classification with the concepts of BIAS in the notebook [_02-percepetron-bias.ipynb_](02-percepetron-bias.ipynb)."
   ]
  }
 ],
 "metadata": {
  "kernelspec": {
   "display_name": "Python 3 (ipykernel)",
   "language": "python",
   "name": "python3"
  },
  "language_info": {
   "codemirror_mode": {
    "name": "ipython",
    "version": 3
   },
   "file_extension": ".py",
   "mimetype": "text/x-python",
   "name": "python",
   "nbconvert_exporter": "python",
   "pygments_lexer": "ipython3",
   "version": "3.8.8"
  }
 },
 "nbformat": 4,
 "nbformat_minor": 4
}
