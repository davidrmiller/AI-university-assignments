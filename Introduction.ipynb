{
 "cells": [
  {
   "cell_type": "markdown",
   "metadata": {
    "tags": []
   },
   "source": [
    "# Intelligent Computational Algorithms"
   ]
  },
  {
   "cell_type": "markdown",
   "metadata": {},
   "source": [
    "<p style='text-align: justify;'> \n",
    "Before learning about search algorithms, we must understand a computational algorithm. Computational algorithms are at the heart of modern computing, enabling machines to perform various tasks with ever-increasing efficiency and accuracy. They are step-by-step recipes for solving specific problems, turning input data into valuable insights and solutions. Whether sorting a list of numbers, looking up information, or training a machine to recognize image patterns, algorithms form the building blocks of countless applications and technologies.\n",
    "</p>\n",
    "\n",
    "<p style='text-align: justify;'> \n",
    "There are many computational algorithms, from the simplest ones, ranging from classic control structures, such as elementary searches and sorting, to the most complex ones, involving advanced machine learning techniques, heuristic optimization, and natural language processing. Its applications are vast and diverse, finding space in areas such as data analysis, artificial intelligence, bioinformatics, engineering, and finance, among others. These algorithms play an essential role in processing and interpreting information, making them fundamental pillars in solving complex problems and advancing information technologies.\n",
    "</p>\n",
    "\n",
    "<p style='text-align: justify;'> \n",
    "Our study will focus on three types of computational algorithms: deep learning, machine learning, and artificial intelligence. You must know the particularities of these technologies and how they are driving significant advances and significantly changing how we carry out our activities. In the following image, we can understand how each technology is interrelated.\n",
    "</p>\n",
    "\n",
    "<div style=\"text-align:center\">\n",
    "<img src=\"./1-Artificial-Neurons/images/figure10_computer_vision.jpg\" style=\"width: 500px;\">\n",
    "</div>\n"
   ]
  },
  {
   "cell_type": "markdown",
   "metadata": {},
   "source": [
    "<p style='text-align: justify;'>\n",
    "Intelligent computational algorithms, often called artificial intelligence algorithms, are a broad class of algorithms designed to imitate human intelligence or perform tasks that usually require human intelligence. These algorithms learn from data, identify patterns, make decisions, and predict outcomes. Here are some of the main types:\n",
    "</p>\n",
    "\n",
    "* **`Machine learning algorithms`:** These algorithms learn from data and make predictions or decisions based on the patterns they identify. Machine Learning algorithms can be categorized further into supervised learning (like linear regression, decision trees, support vector machines (SVM), and neural networks), unsupervised learning (like K-means, hierarchical clustering, and principal component analysis (PCA)), and reinforcement learning.\n",
    "\n",
    "* **`Deep learning algorithms`:** Deep learning is a subset of machine learning that uses artificial neural networks with several hidden layers (hence the term 'deep'). These algorithms can learn complex patterns in large datasets. Examples include Convolutional Neural Networks (CNN) for image processing, Recurrent Neural Networks (RNN) for sequence data, and Transformers for natural language processing.\n",
    "\n",
    "* **`Optimization algorithms`:** These algorithms are designed to find the best solution from all feasible solutions. Examples include gradient descent, genetic algorithms, particle swarm optimization, and simulated annealing.\n",
    "\n",
    "* **`Swarm intelligence algorithms`:** These are inspired by the behavior of social organisms like ants and birds. They include algorithms like particle swarm optimization (PSO) and ant colony optimization (ACO).\n",
    "\n",
    "* **`Fuzzy logic systems`:** These algorithms mimic human reasoning by allowing for approximate values and inferences rather than exact values. They are instrumental in control systems and decision-making.\n",
    "\n",
    "* **`Expert systems`:** These are AI programs that simulate the decision-making ability of a human expert. They use a set of rules to analyze information and provide explanations and advice to the end user.\n",
    "\n",
    "* **`Probabilistic and Bayesian algorithms`:** These algorithms are used for statistical inference and predictions. They provide a flexible framework for modeling uncertainty. Examples include the naive Bayes classifier and Markov chains.\n",
    "\n",
    "* **`Search and planning algorithms`:** These algorithms are used for finding solutions in significant state-space problems. Examples include A* search, Monte Carlo tree search, and algorithms for game-playing like those used in chess and Go.\n",
    "\n",
    "* **`Natural language processing algorithms`:** These algorithms are used to understand, generate, and translate human languages. Examples include a bag of words, TF-IDF, Word2Vec, and transformer models like GPT and BERT.\n",
    "\n",
    "Each type of intelligent computational algorithm has its strengths and weaknesses, and the choice of which to use depends on the specific task or problem.\n",
    "\n",
    "\n",
    "<div style=\"text-align:center\">\n",
    "<img src=\"./1-Artificial-Neurons/images/figure11_DL_ML_AI.jpg\" style=\"width: 550px;\">\n",
    "</div>\n"
   ]
  },
  {
   "cell_type": "markdown",
   "metadata": {},
   "source": [
    "### ⊗ **Machine learning**:\n",
    "\n",
    "<p style='text-align: justify;'>\n",
    "Machine learning, or simply ML, is a subfield of artificial intelligence that involves the development of algorithms and techniques that allow a computational system to learn and improve performance in a specific task from data and past experiences. Rather than being explicitly programmed to perform a task, an ML model is trained on a data set to identify patterns and regularities, allowing the generalization of learned knowledge to new situations.\n",
    "</p>\n",
    "\n",
    "<div style=\"text-align:center\">\n",
    "<img src=\"./1-Artificial-Neurons/images/figure13_machine_learning_process.png\" style=\"width: 500px;\">\n",
    "</div>\n",
    "\n",
    "<p style='text-align: justify;'>\n",
    "ML methods can be classified into three main categories: supervised, unsupervised, and reinforcement learning. In supervised learning, the model is trained on a labeled dataset, where inputs (data) are associated with known outputs (labels). The goal is to learn a function that maps the inputs to the correct outputs, allowing the model to make accurate predictions on new, unlabeled data.    \n",
    "</p>\n",
    "<p style='text-align: justify;'>\n",
    "On the other hand, in unsupervised learning, the model is trained on an unlabeled dataset, and its goal is to find intrinsic patterns and structures in the data, such as clustering or dimensionality reduction. This type of learning is often used to discover hidden information and valuable insights from large data sets.\n",
    "</p>\n",
    "<p style='text-align: justify;'>\n",
    "Finally, reinforcement learning involves an agent learning to perform actions in an environment to achieve a specific goal. The agent receives positive or negative feedback (rewards or punishments) depending on its actions, allowing it to learn to make decisions that lead to better results over time.\n",
    "</p>\n",
    "<p style='text-align: justify;'>\n",
    "Machine learning finds application in a variety of domains such as natural language processing, computer vision, medicine, finance and games. Search algorithms such as the genetic algorithm (GA), the particle swarm optimizer (PSO) and the ant colony optimizer (ACO), is based on machine learning to seek optimal or approximate solutions to complex problems, based on available data or information.\n",
    "</p>"
   ]
  },
  {
   "cell_type": "markdown",
   "metadata": {},
   "source": [
    "### ⊗ **Deep learning**:\n",
    "\n",
    "<p style='text-align: justify;'>\n",
    "Deep learning or simply DL, is an advanced sub-area of machine learning that is based on the use of deep artificial neural networks to learn complex and hierarchical representations of data. This approach has stood out significantly in several applications, driving revolutionary advances in areas such as computer vision, natural language processing, speech recognition and many other complex machine learning tasks.\n",
    "</p>\n",
    "\n",
    "<div style=\"text-align:center\">\n",
    "<img src=\"./1-Artificial-Neurons/images/figure14_deep_learning_process.jpeg\" style=\"width: 500px;\">\n",
    "</div>\n",
    "\n",
    "<p style='text-align: justify;'>\n",
    "The main feature of Deep Learning is the construction of neural networks with multiple layers, also known as deep neural networks. Unlike shallow neural networks with only a few intermediate layers, deep neural networks are capable of learning hierarchical representations of data, where each successive layer learns from the information extracted by the previous layers. This allows the network to extract increasingly sophisticated features and abstractions, making it highly capable of dealing with complex problems.\n",
    "</p>\n",
    "<p style='text-align: justify;'>\n",
    "A notable example of deep learning application is the use of convolutional neural networks (CNNs) in computer vision tasks, such as object recognition in images. CNNs are designed to detect patterns located in images and then combine this information to perform the object classification task with remarkable accuracy. Another important application is in recurrent neural networks (RNNs) in natural language processing, where RNNs can capture sequential contextual information and understand syntactic and semantic structures in texts.\n",
    "</p>\n",
    "\n",
    "<p style='text-align: justify;'>\n",
    "With this study, we can conclude that the three technologies addressed represent essential pillars in the field of computing and have played a key role in technological and scientific advancement, allowing humans to create intelligent systems that simulate human skills, boosting automation, decision making and problem solving in various areas.\n",
    "</p>"
   ]
  },
  {
   "cell_type": "markdown",
   "metadata": {},
   "source": [
    "### ⊗ **Main differences between artificial intelligence, machine learning and deep learning**:\n",
    "\n",
    "<p style='text-align: justify;'>\n",
    "After studying each of the computational algorithms, the ability to distinguish each of the technologies becomes crucial. To facilitate this understanding, we prepared a table that contains the main definitions and applications of each one of them.\n",
    "</p>\n",
    "\n",
    "<div style=\"text-align:center\">\n",
    "<img src=\"./1-Artificial-Neurons/images/figure15_AI_ML_DP_caractheristcs.png\" style=\"width: 600px;\">\n",
    "</div>\n",
    "\n",
    "<p style='text-align: justify;'>\n",
    "After the detailed study of computational algorithms and their respective technologies, it becomes evident the importance of acquiring the ability to distinguish each one of them. Understanding the differences and applications of artificial intelligence, machine learning and deep learning allows you to let us explore each approach and select the most appropriate technique to tackle specific challenges.\n",
    "</p>"
   ]
  },
  {
   "cell_type": "markdown",
   "metadata": {},
   "source": [
    "## Table of contents"
   ]
  },
  {
   "cell_type": "markdown",
   "metadata": {},
   "source": [
    "In the topics, we will use the Intel® packages for computing the intelligent algorithms, for example:\n",
    "\n",
    "- [_Intel® Python_](https://www.intel.com/content/www/us/en/developer/tools/oneapi/distribution-for-python.html)\n",
    "- [_Intel® Scikit Learn_](https://www.intel.com/content/www/us/en/developer/tools/oneapi/scikit-learn.html)\n",
    "- [_Intel® Pytorch_](https://pytorch.org/tutorials/recipes/recipes/intel_extension_for_pytorch.html)\n",
    "- [_Intel® SigOpt_](https://sigopt.com)\n",
    "\n",
    "These packages are highly optimized libraries that take advantage of specialized computational resource (multiprocessor, multicore, and multi-GPU) functionality are preferred. \n",
    "\n",
    "During this part you will work through each of the following topics:\n",
    "\n",
    "- [_Artificial neurons_](1-Artificial-Neurons/01-artificial-neurons-python.ipynb): In this topic you will introduced the concept of artificial neurons.\n",
    "\n",
    "- [_Multilayer artificial neurons network_](2-Neural-Network/01-multilayer-artificial-neuron-introduction.ipynb): You will begin by familiarizing with the concepts of multilayer artificial neurons network architecture and how to build such a network.\n",
    "\n",
    "- [_Bio-inspired algorithms_](3-Bio-Inspired/01-bio-inspired-introduction.ipynb): You will begin by familiarizing yourself with the teory and practice in bio-inspired algorithms.\n",
    "\n",
    "- [_HPC simulations_](4-HPC-Simulations/01-hpc-simulations-introduction.ipynb): In this notebook you will extend the AI applications viewed to run on supercomputing environments."
   ]
  }
 ],
 "metadata": {
  "kernelspec": {
   "display_name": "Python 3 (ipykernel)",
   "language": "python",
   "name": "python3"
  },
  "language_info": {
   "codemirror_mode": {
    "name": "ipython",
    "version": 3
   },
   "file_extension": ".py",
   "mimetype": "text/x-python",
   "name": "python",
   "nbconvert_exporter": "python",
   "pygments_lexer": "ipython3",
   "version": "3.8.8"
  },
  "toc-autonumbering": false,
  "toc-showtags": false
 },
 "nbformat": 4,
 "nbformat_minor": 4
}
