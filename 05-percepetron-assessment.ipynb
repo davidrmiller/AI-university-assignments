{
 "cells": [
  {
   "cell_type": "markdown",
   "metadata": {},
   "source": [
    "# Assessment"
   ]
  },
  {
   "cell_type": "markdown",
   "metadata": {},
   "source": [
    "<p style='text-align: justify;'>\n",
    "Congratulations on going through the first part of the course! Hopefully, you have learned some valuable skills along the way and had fun doing it. Now it is time to put those skills to the test. In this assessment, you will train a new model that is able to classify vehicles on the traffic of the one smart city. You will need to get the model to a validation in order to pass the assessment, though we challenge you to do even better if you can. You will have the use the skills that you learned in the previous exercises. Let's get started! \n",
    "</p>    "
   ]
  },
  {
   "cell_type": "markdown",
   "metadata": {},
   "source": [
    "## The Problem: Vehicle classification in traffic models"
   ]
  },
  {
   "cell_type": "markdown",
   "metadata": {},
   "source": [
    "<p style='text-align: justify;'>\n",
    "For traffic simulation, it is necessary to know a lot of parameters. One of these is the vehicle classification. In modeling a specific situation, the traffic composition must be known to create a well-functioning model. There are many different types and sizes of vehicles on the road, making traffic simulation software necessary to distinguish different vehicle types. In this exercise, you will train a model to classify light and heavy vehicles. The dataset comes from the following tables), which are a great place to go if you're interested in starting a project after this class. \n",
    "</p>    "
   ]
  },
  {
   "cell_type": "markdown",
   "metadata": {},
   "source": [
    "<p style=\"text-align: center;\">\n",
    " <img src=\"images/figure8_smartCity.jpg\"  width=\"1920\" height=\"1080\">\n",
    "</p>"
   ]
  },
  {
   "cell_type": "markdown",
   "metadata": {},
   "source": [
    "### Characteristics of vehicles traveling on the highway\n",
    "\n",
    "We encourage you to start with a model pretrained on the follow table. Load the model with the correct weights, set an input shape, and choose to remove the last layers of the model. Remember that the features have four dimensions: a **weight**, and **number of axes**, and a **height**, and **length**. There are $2$ categories of vehicles: **Light** and **Heavy**. This means that your model will require an output layer of one perceptron to do the categorization successfully. \n",
    "\n",
    "| Vehicle | Total  Weight (kg)   | Number of Axes       | Height (m)     | Length (m)     |  Category   | \n",
    "| :-:     | :-:                  | :-:                  | :-:            | :-:            |     :-:     |      \n",
    "| A       | 1500                | 2                    | 2.5            | 6.5            |    Light         | \n",
    "| B       | 1400                | 2                    | 2.2            | 6.0            |    Light         |\n",
    "| C       | 1600                | 2                    | 2.8            | 7.2            |    Light         |\n",
    "| D       | 1750                | 2                    | 2.0            | 8.0            |    Light         |\n",
    "| E       | 1800                | 2                    | 2.9            | 7.5            |    Light         |\n",
    "| F       | 1650                | 2                    | 3.7            | 7.0            |    Light         |\n",
    "| G       | 21000                | 3                    | 4.2            | 13.0          |    Heavy         |\n",
    "| H       | 20000                | 3                    | 4.1            | 12.5          |    Heavy         |\n",
    "| I       | 19000                | 3                    | 3.8            | 12.0          |    Heavy         |\n",
    "| J       | 17000                | 3                    | 3.5            | 10.8          |    Heavy         |\n",
    "| K       | 15500                | 3                    | 3.4            | 10.3          |    Heavy         |\n",
    "| L       | 17000                | 3                    | 3.6            | 10.9          |    Heavy         |\n",
    "| M       | 22000                | 3                    | 4.5            | 13.5          |     Heavy        |\n",
    "| N       | 23500                | 3                    | 4.7            | 14.0          |    Heavy         |\n",
    "| O       | 20500                | 3                    | 4.3            | 9.0           |    Heavy         |\n",
    "| P       | 13000                | 3                    | 3.0            | 9.5           |    Heavy         |\n",
    "| Q       | 14500                | 3                    | 3.1            | 13.8          |    Heavy         |\n",
    "| R       | 15800                | 3                    | 3.3            | 10.2          |    Heavy         |\n",
    "| S       | 22500                | 3                    | 4.4            | 13.3          |    Heavy         |\n",
    "| T       | 24000                | 3                    | 4.6            | 13.8          |    Heavy         |"
   ]
  },
  {
   "cell_type": "markdown",
   "metadata": {},
   "source": [
    "\n",
    "| Type of Vehicle  | Total  Weight (kg)    | Number of Axes      | Height (m) | Length (m)      | \n",
    "| :-:              | :-:                   | :-:                 | :-:        | :-:             |\n",
    "| Light            |  1000 a 8000          |    2 a 3            |  2 a 3     |      4 a 12     | \n",
    "| Heavy            |    > 8000             |    3 a 6            |  3 a 5     |      12 a 15    | \n",
    "\n",
    "\n",
    "Then:\n",
    "\n",
    "1. Create a Perceptron Neural Network.\n",
    "\n",
    "2. Formulate the labels (known data) for this problem.\n",
    "\n",
    "3. Create a Training for the Perceptron Neural Network.\n",
    "\n",
    "4. Use the Perceptron to classify whether they are Light or Heavy vehicles."
   ]
  },
  {
   "cell_type": "markdown",
   "metadata": {},
   "source": [
    "## Evaluate the Model"
   ]
  },
  {
   "cell_type": "markdown",
   "metadata": {},
   "source": [
    "Hopefully, you now have a model that has a validation accuracy of 92% or higher. If not, you may want to go back and either run more epochs of training, or adjust your data.  Once you are satisfied with the validation accuracy, evaluate the model by executing the following cell. The evaluate function will return a tuple, where the first value is your loss, and the second value is your accuracy. To pass, the model will need have an accuracy value of `92% or higher`. "
   ]
  },
  {
   "cell_type": "code",
   "execution_count": 4,
   "metadata": {},
   "outputs": [],
   "source": [
    "#model.evaluate(valid_it, steps=valid_it.samples/valid_it.batch_size)"
   ]
  }
 ],
 "metadata": {
  "kernelspec": {
   "display_name": "Python 3 (ipykernel)",
   "language": "python",
   "name": "python3"
  },
  "language_info": {
   "codemirror_mode": {
    "name": "ipython",
    "version": 3
   },
   "file_extension": ".py",
   "mimetype": "text/x-python",
   "name": "python",
   "nbconvert_exporter": "python",
   "pygments_lexer": "ipython3",
   "version": "3.8.8"
  }
 },
 "nbformat": 4,
 "nbformat_minor": 4
}
