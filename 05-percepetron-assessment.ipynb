{
 "cells": [
  {
   "cell_type": "markdown",
   "metadata": {},
   "source": [
    "# Assessment"
   ]
  },
  {
   "cell_type": "markdown",
   "metadata": {},
   "source": [
    "<p style='text-align: justify;'>\n",
    "Congratulations on going through the first part of the course! Hopefully, you have learned some valuable skills along the way and had fun doing it. Now it is time to put those skills to the test. In this assessment, you will train a new model that is able to classify vehicles on the traffic of the one smart city. You will need to get the model to a validation in order to pass the assessment, though we challenge you to do even better if you can. You will have the use the skills that you learned in the previous exercises. Let's get started! \n",
    "</p>    "
   ]
  },
  {
   "cell_type": "markdown",
   "metadata": {},
   "source": [
    "## The Problem: Vehicle classification in traffic models"
   ]
  },
  {
   "cell_type": "markdown",
   "metadata": {},
   "source": [
    "<p style='text-align: justify;'>\n",
    "For traffic simulation, it is necessary to know a lot of parameters. One of these is the vehicle classification. In modeling a specific situation, the traffic composition must be known to create a well-functioning model. There are many different types and sizes of vehicles on the road, making traffic simulation software necessary to distinguish different vehicle types. In this exercise, you will train a model to classify light and heavy vehicles. The dataset comes from the following tables), which are a great place to go if you're interested in starting a project after this class. \n",
    "</p>    "
   ]
  },
  {
   "cell_type": "markdown",
   "metadata": {},
   "source": [
    "<p style=\"text-align: center;\">\n",
    " <img src=\"images/figure8_smartCity.jpg\"  width=\"1920\" height=\"1080\">\n",
    "</p>"
   ]
  },
  {
   "cell_type": "markdown",
   "metadata": {},
   "source": [
    "### Characteristics of vehicles traveling on the highway\n",
    "\n",
    "We encourage you to start with a model pretrained on the follow table. Load the model with the correct weights, set an input shape, and choose to remove the last layers of the model. Remember that the features have four dimensions: a weight, and number of axes, and a height, and length.\n",
    "\n",
    "| Vehicle | Total  Weight (kg)   | Number of Axes       | Height (m)     | Length (m)     |  \n",
    "| :-:     | :-:                  | :-:                  | :-:            | :-:            |\n",
    "| A       | 15000                | 2                    | 3.5            | 6.5            | \n",
    "| B       | 14000                | 2                    | 3.2            | 6.0            | \n",
    "| C       | 16000                | 2                    | 3.8            | 7.2            | \n",
    "| D       | 17500                | 2                    | 4.0            | 8.0            | \n",
    "| E       | 18000                | 2                    | 3.9            | 7.5            | \n",
    "| F       | 16500                | 2                    | 3.7            | 7.0            | \n",
    "| G       | 21000                | 3                    | 4.2            | 9.0            |\n",
    "| H       | 20000                | 3                    | 4.1            | 8.5            | \n",
    "| I       | 19000                | 3                    | 3.8            | 8.0            | \n",
    "| J       | 17000                | 2                    | 3.5            | 6.8            |\n",
    "| K       | 15500                | 2                    | 3.4            | 6.3            | \n",
    "| L       | 17000                | 2                    | 3.6            | 6.9            | \n",
    "| M       | 22000                | 3                    | 4.5            | 9.5            | \n",
    "| N       | 23500                | 3                    | 4.7            | 10.0           | \n",
    "| O       | 20500                | 3                    | 4.3            | 9.0            | \n",
    "| P       | 13000                | 2                    | 3.0            | 5.5            | \n",
    "| Q       | 14500                | 2                    | 3.1            | 5.8            | \n",
    "| R       | 15800                | 2                    | 3.3            | 6.2            | \n",
    "| S       | 22500                | 3                    | 4.4            | 9.3            | \n",
    "| T       | 24000                | 3                    | 4.6            | 9.8            | "
   ]
  },
  {
   "cell_type": "markdown",
   "metadata": {},
   "source": [
    "There are $2$ categories of vehicles: light and hea. This means that your model will require an output layer of one perceptron to do the categorization successfully. \n",
    " \n",
    "| Type of Vehicle  | Total  Weight (kg)    | Number of Axes      | Height (m) | Length (m)      | \n",
    "| :-:              | :-:                   | :-:                 | :-:        | :-:             |\n",
    "| Light            | 1000 a 3500           |    2 a 3            |  2 a 3     |      4 a 7      | \n",
    "| Heavy            | 8000 a 12000          |    3 a 6            |  3 a 4     |      12 a 15    | \n",
    "\n",
    "Then:\n",
    "\n",
    "1. Create a Perceptron Neural Network.\n",
    "\n",
    "2. Formulate the labels (known data) for this problem.\n",
    "\n",
    "3. Create a Training for the Perceptron Neural Network.\n",
    "\n",
    "4. Use the Perceptron to classify whether they are light or heavy vehicles."
   ]
  }
 ],
 "metadata": {
  "kernelspec": {
   "display_name": "Python 3 (ipykernel)",
   "language": "python",
   "name": "python3"
  },
  "language_info": {
   "codemirror_mode": {
    "name": "ipython",
    "version": 3
   },
   "file_extension": ".py",
   "mimetype": "text/x-python",
   "name": "python",
   "nbconvert_exporter": "python",
   "pygments_lexer": "ipython3",
   "version": "3.8.8"
  }
 },
 "nbformat": 4,
 "nbformat_minor": 4
}
