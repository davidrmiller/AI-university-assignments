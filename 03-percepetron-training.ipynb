{
 "cells": [
  {
   "cell_type": "markdown",
   "metadata": {},
   "source": [
    "# Training the Perceptron Neural Network"
   ]
  },
  {
   "cell_type": "markdown",
   "metadata": {},
   "source": [
    "In this section, we will discuss about training neural networks based on perceptron. The training process is crucial for the accuracy of an artificial intelligence."
   ]
  },
  {
   "cell_type": "markdown",
   "metadata": {},
   "source": [
    "## Training"
   ]
  },
  {
   "cell_type": "markdown",
   "metadata": {},
   "source": [
    "<p style='text-align: justify;'> \n",
    "Training a Perceptron Neural Network is essential for those who wish to work with machine learning. This technique teaches a machine to recognize patterns and perform specific tasks such as image classification, voice recognition, and data analysis.\n",
    "</p>  \n",
    "\n",
    "* The training process involves adjusting the weights of the connections between the neurons in the network to minimize the error in the network's output. This is done through a learning algorithm responsible for updating the weights at each iteration of the training process.\n",
    "\n",
    "* Training a Perceptron Neural Network is essential for those who wish to work with machine learning. This technique teaches a machine to recognize patterns and perform specific tasks such as image classification, voice recognition, and data analysis.* With proper training, it is possible to create perceptron neural network models capable of performing complex tasks with great accuracy, which can be very useful in various fields, such as healthcare, finance, and technology."
   ]
  },
  {
   "cell_type": "markdown",
   "metadata": {},
   "source": [
    "## The Weights"
   ]
  },
  {
   "cell_type": "markdown",
   "metadata": {},
   "source": [
    "<p style='text-align: justify;'>\n",
    "Obtaining a neural network with a high level of accuracy implies having a network with well-defined parameter weights. Within a neural network, the essential components for decision-making are precisely the weights each parameter will possess. The weights will be how relevant each parameter will be in that decision-making.\n",
    "</p>"
   ]
  },
  {
   "cell_type": "markdown",
   "metadata": {},
   "source": [
    "## ☆ Challenger: Classification of Roses and Violets  ☆"
   ]
  },
  {
   "cell_type": "markdown",
   "metadata": {},
   "source": [
    "Consider the following problem:\n",
    "\n",
    "**Roses are red, violets are blue, the stems of roses are tall, and violets are short.**\n",
    "\n",
    "Then:\n",
    "\n",
    "- Having the color spectrum between $red = 0$ and $blue = 10$.\n",
    "\n",
    "- Between $0$ and $10$, there is a mixture of the two colors, where the closer to $0$ is redder, and the closer to $10$ is bluer.\n",
    "\n",
    "- Given a set of pairs with (height and color) determine whether it is a rose or a violet.\n",
    "\n",
    "<p style=\"text-align: center;\">\n",
    " <img src=\"./images/04-rosesXviolets.png\"  width=\"500\" height=\"500\">\n",
    "</p>\n",
    "\n",
    "\n",
    "1. Create a Perceptron Neural Network with Python.\n",
    "\n",
    "2. Implementing training in a Perceptron Neural Network.\n",
    "\n",
    "3. Validate the results."
   ]
  },
  {
   "cell_type": "markdown",
   "metadata": {},
   "source": [
    "### ☆ Solution ☆ "
   ]
  },
  {
   "cell_type": "markdown",
   "metadata": {
    "tags": []
   },
   "source": [
    "&emsp;Having understood the basic concepts of neural network training, now is the time to implement code capable of training a network."
   ]
  },
  {
   "cell_type": "markdown",
   "metadata": {},
   "source": [
    "#### Import Python Packages"
   ]
  },
  {
   "cell_type": "markdown",
   "metadata": {},
   "source": [
    "&emsp;First of all, we need to import the libraries that we will use for training."
   ]
  },
  {
   "cell_type": "code",
   "execution_count": 2,
   "metadata": {},
   "outputs": [],
   "source": [
    "# Python packages\n",
    "import numpy as np\n",
    "from matplotlib import pyplot as plt"
   ]
  },
  {
   "cell_type": "markdown",
   "metadata": {},
   "source": [
    "#### Create the perceptron class"
   ]
  },
  {
   "cell_type": "markdown",
   "metadata": {},
   "source": [
    "The next step is to create a class that will be responsible for representing the perceptron in our model. This class will have the attributes that characterize our perceptron and also the functions that will represent the actions it will be performing."
   ]
  },
  {
   "cell_type": "markdown",
   "metadata": {},
   "source": [
    "Among the existing attributes, we have input_size, learning_rate, activation_fn and W."
   ]
  },
  {
   "cell_type": "markdown",
   "metadata": {},
   "source": [
    "* **input_size** - the number of parameters that the input data will have\n",
    "* **learning_rate** - the value at which the weights will be changed\n",
    "* **activation_fn** - the activation function of the neural network\n",
    "* **W** - the weights of each parameter within our network"
   ]
  },
  {
   "cell_type": "markdown",
   "metadata": {},
   "source": [
    "<p style='text-align: justify;'> \n",
    "In the Perceptron class, we also have two functions, predict and fit. The predict function aims to make the final prediction for a given input. That is, this is the function responsible for the final response of the model to a given input data. The other function is fit, which is responsible for training the neural network by adjusting its weight every time it makes a prediction.\n",
    "</p>    "
   ]
  },
  {
   "cell_type": "code",
   "execution_count": 3,
   "metadata": {},
   "outputs": [],
   "source": [
    "# Perceptron class with it's own functions and attributes\n",
    "class Perceptron:\n",
    "    def __init__(self, input_size=2, learning_rate=0.1, activation_fn=lambda x: x >= 0):\n",
    "        self.input_size = input_size \n",
    "        self.learning_rate = learning_rate \n",
    "        self.activation_fn = activation_fn \n",
    "        self.W = np.random.uniform(-1, 1, size=(input_size)) # Initializes the weights with random values.\n",
    "\n",
    "    # Prediction function, receives an input and returns 1 (pink) or 0 (violet)\n",
    "    def predict(self, x): \n",
    "        z = self.W.T.dot(x)  # Dot product between self.W transpose and x\n",
    "        a = self.activation_fn(z) # Insert z into the activation function to obtain the final prediction result: 1 (rose) or 0 (violet)\n",
    "        return a\n",
    "\n",
    "    # Perceptron training function, X = input, y = expected output, epochs = number of times it will train\n",
    "    def fit(self, X, y, epochs):  \n",
    "        for epoch in range(epochs):\n",
    "            for i in range(len(X)): \n",
    "                x = X[i]            \n",
    "                y_true = y[i]\n",
    "                y_pred = self.predict(x) \n",
    "                error = y_true - y_pred  # Calculate if there was an error in the prediction or not, 1 (had an error) or 0 (had no error).\n",
    "                self.W += self.learning_rate * error * x # Update the weights, if the result is correct the weights are not changed."
   ]
  },
  {
   "cell_type": "markdown",
   "metadata": {},
   "source": [
    "<p style='text-align: justify;'> \n",
    "After creating the class to represent a perceptron, we must develop a function to test the prediction results. To do this, we can use the logic below present in the function test_plant, where its objective is to test the plants individually, receiving their height and color as input parameters and returning as output whether the plant is closer to a violet or a rose.\n",
    "</p> "
   ]
  },
  {
   "cell_type": "code",
   "execution_count": 4,
   "metadata": {},
   "outputs": [],
   "source": [
    "# Test individual plants\n",
    "def test_plant(high, color): \n",
    "    plant = np.array([high, color]) # Create an instance of the plant\n",
    "    result = perceptron.predict(plant)\n",
    "\n",
    "    # Check if the plant is a rose (result > 0) or a violet (result <= 0)\n",
    "    if result > 0: \n",
    "        return 1 # rose\n",
    "    else:\n",
    "        return 0 # violet"
   ]
  },
  {
   "cell_type": "markdown",
   "metadata": {},
   "source": [
    "<p style='text-align: justify;'> \n",
    "To facilitate the task of testing all plants, we can create a function that has this objective. Therefore, the function to test all existing plants in the test cases is shown below.\n",
    "</p> "
   ]
  },
  {
   "cell_type": "code",
   "execution_count": 5,
   "metadata": {},
   "outputs": [],
   "source": [
    "# Test all plants\n",
    "def test_all_plants(x): \n",
    "    result_array = []\n",
    "    for i in range(len(X)):                  \n",
    "        result_array.append(test_plant(x[i][0], x[i][1]))\n",
    "\n",
    "    return result_array"
   ]
  },
  {
   "cell_type": "markdown",
   "metadata": {},
   "source": [
    "Before starting the training, we need to instantiate the perceptron so that we can use the functionalities we created for it. To do this, just execute the code below where we will be initializing a perceptron with known values in its parameters."
   ]
  },
  {
   "cell_type": "code",
   "execution_count": 6,
   "metadata": {},
   "outputs": [],
   "source": [
    "# Create an instance of Perceptron to classify roses and violets\n",
    "perceptron = Perceptron(input_size=2, learning_rate=0.1, activation_fn=lambda x: x >= 0 )"
   ]
  },
  {
   "cell_type": "markdown",
   "metadata": {},
   "source": [
    "Now with all the functions developed, we can move on to the training and accuracy testing stage of our neural network. First, we must establish some training data. The variable $X$ is a vector of plants, where $X_1$ represents the height and $X_2$ represents the color of that plant."
   ]
  },
  {
   "cell_type": "code",
   "execution_count": 7,
   "metadata": {},
   "outputs": [],
   "source": [
    "# Define training data (height, color)\n",
    "X = np.array([\n",
    "    [0.5, 0.2],\n",
    "    [0.4, 0.4],\n",
    "    [0.3, 0.6],\n",
    "    [0.2, 0.8],\n",
    "    [0.1, 1.0],\n",
    "    [0.6, 0.3],\n",
    "    [0.7, 0.5],\n",
    "    [0.8, 0.7],\n",
    "    [0.9, 0.9],\n",
    "    [0.4, 0.9],\n",
    "    [0.3, 0.7],\n",
    "    [0.2, 0.5],\n",
    "    [0.1, 0.3],\n",
    "    [0.0, 0.1]\n",
    "])"
   ]
  },
  {
   "cell_type": "markdown",
   "metadata": {},
   "source": [
    "After creating the test plants, we need to tell what is expected for each test input so that it is possible to train our neural network. To do this, just specify the result for each test case ($X_1$ and $X_2$) present in the example above. Below is an example of expected outputs for the inputs."
   ]
  },
  {
   "cell_type": "code",
   "execution_count": 8,
   "metadata": {},
   "outputs": [],
   "source": [
    "# Define the expected outputs for each input, 1 = Rose, 0 = Violet\n",
    "y = np.array([1, 1, 1, 0, 0, 1, 1, 1, 1, 0, 0, 0, 0, 0])"
   ]
  },
  {
   "cell_type": "markdown",
   "metadata": {},
   "source": [
    "After declaring the training cases and the expected outputs, use the fit function to train the neural network. In the parameter of the function, we have the epochs attribute, which is the number of times we will repeat the process of training our neural network. Below is an example of training our network."
   ]
  },
  {
   "cell_type": "code",
   "execution_count": 9,
   "metadata": {},
   "outputs": [],
   "source": [
    "perceptron.fit(X, y, epochs=100000) # Trains the Perceptron with the training data"
   ]
  },
  {
   "cell_type": "markdown",
   "metadata": {},
   "source": [
    "Before moving on to the next step, we need to define some plants that will be used as test cases to validate the accuracy of our neural network. This can be done as follows."
   ]
  },
  {
   "cell_type": "code",
   "execution_count": 10,
   "metadata": {},
   "outputs": [],
   "source": [
    "# Tests the model and returns the results\n",
    "XTest = np.array([\n",
    "    [0.1, 0.9], \n",
    "    [0.2, 0.8],\n",
    "    [0.3, 0.6],\n",
    "    [0.2, 0.8],\n",
    "    [0.1, 1.0],\n",
    "    [0.3, 0.7],\n",
    "    [0.1, 0.9],\n",
    "    [0.2, 0.7], \n",
    "    [0.9, 0.1], \n",
    "    [0.7, 0.3],\n",
    "    [0.9, 0.1],\n",
    "    [0.6, 0.2],\n",
    "    [0.9, 0.1],\n",
    "    [0.6, 0.1]\n",
    "])"
   ]
  },
  {
   "cell_type": "markdown",
   "metadata": {},
   "source": [
    "With the neural network adequately trained, we must collect the test results using the test_all_plants function and pass the chosen test cases as a parameter."
   ]
  },
  {
   "cell_type": "code",
   "execution_count": 11,
   "metadata": {},
   "outputs": [],
   "source": [
    "# Gets the results obtained by passing all tests\n",
    "yResult = test_all_plants(XTest)"
   ]
  },
  {
   "cell_type": "markdown",
   "metadata": {},
   "source": [
    "To determine the accuracy of our network, we need to compare the results obtained at the end of the training with the expected results. However, we can use a graph to plot all the results to observe more efficiently. To do this, follow the code below to plot a + if the result is a Rose or a - if the result is a Violet. After doing this, we will have the final outputs for the obtained test cases."
   ]
  },
  {
   "cell_type": "code",
   "execution_count": 12,
   "metadata": {},
   "outputs": [
    {
     "data": {
      "image/png": "[encoded data removed]",
      "text/plain": [
       "<Figure size 432x288 with 1 Axes>"
      ]
     },
     "metadata": {
      "needs_background": "light"
     },
     "output_type": "display_data"
    }
   ],
   "source": [
    "for result, input in zip(yResult, XTest):\n",
    "    if result == 1:\n",
    "        plt.scatter(input[0], input[1], s=120, marker='+', linewidths=2)\n",
    "    else:\n",
    "        plt.scatter(input[0], input[1], s=120, marker='_', linewidths=2)\n",
    "\n",
    "plt.xlabel('Color')\n",
    "plt.ylabel('Stem')\n",
    "plt.title('Roses (+) x Violets (-)')\n",
    "plt.plot([0,1],[0,1.5])\n",
    "plt.show()"
   ]
  },
  {
   "cell_type": "markdown",
   "metadata": {},
   "source": [
    "## Summary"
   ]
  },
  {
   "cell_type": "markdown",
   "metadata": {},
   "source": [
    "<p style='text-align: justify;'>\n",
    "This notebook discusses the concept of a  Training the Perceptron Neural Network in classification problems. The notebook also explains how train the Perceptron Neural Network. \n",
    "</p>"
   ]
  },
  {
   "cell_type": "markdown",
   "metadata": {},
   "source": [
    "## Clear the Memory"
   ]
  },
  {
   "cell_type": "markdown",
   "metadata": {},
   "source": [
    "Before moving on, please execute the following cell to clear up the CPU memory. This is required to move on to the next notebook."
   ]
  },
  {
   "cell_type": "code",
   "execution_count": 16,
   "metadata": {},
   "outputs": [
    {
     "data": {
      "text/plain": [
       "{'status': 'ok', 'restart': True}"
      ]
     },
     "execution_count": 16,
     "metadata": {},
     "output_type": "execute_result"
    }
   ],
   "source": [
    "import IPython\n",
    "app = IPython.Application.instance()\n",
    "app.kernel.do_shutdown(True)"
   ]
  },
  {
   "cell_type": "markdown",
   "metadata": {},
   "source": [
    "## Next"
   ]
  },
  {
   "cell_type": "markdown",
   "metadata": {},
   "source": [
    "In this section you learned how to build a simple Trainning Perceptron Neural Network with Python for data classification. In the next section, you will be asked to build your own Perceptron with perform using the package Intel® Scikit Learn [_03-perceptron-scikit-learning.ipynb_](03-perceptron-scikitlearning.ipynb)."
   ]
  }
 ],
 "metadata": {
  "kernelspec": {
   "display_name": "Python 3 (ipykernel)",
   "language": "python",
   "name": "python3"
  },
  "language_info": {
   "codemirror_mode": {
    "name": "ipython",
    "version": 3
   },
   "file_extension": ".py",
   "mimetype": "text/x-python",
   "name": "python",
   "nbconvert_exporter": "python",
   "pygments_lexer": "ipython3",
   "version": "3.8.8"
  }
 },
 "nbformat": 4,
 "nbformat_minor": 4
}
