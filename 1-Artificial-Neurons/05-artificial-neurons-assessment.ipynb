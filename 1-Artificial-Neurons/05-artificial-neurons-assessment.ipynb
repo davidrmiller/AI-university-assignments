{
 "cells": [
  {
   "cell_type": "markdown",
   "metadata": {},
   "source": [
    "# Assessment"
   ]
  },
  {
   "cell_type": "markdown",
   "metadata": {},
   "source": [
    "<p style='text-align: justify;'>\n",
    "Congratulations on going through the first part of the course! Hopefully, you have learned some valuable skills along the way and had fun doing it. Now it is time to put those skills to the test. In this assessment, you will train a new model that is able to classify vehicles on the roads of a smart city. You will need to get the model to a validation in order to pass the assessment, though we challenge you to do even better if you can. You will have to use the skills that you learned in the previous exercises. Let's get started! \n",
    "</p>    "
   ]
  },
  {
   "cell_type": "markdown",
   "metadata": {},
   "source": [
    "## The Problem: Vehicle classification in traffic models"
   ]
  },
  {
   "cell_type": "markdown",
   "metadata": {},
   "source": [
    "<p style='text-align: justify;'>\n",
    "For traffic simulation, it is necessary to know a lot of parameters. One of these is the vehicle classification. In modeling a specific situation, the traffic composition must be known to create a well-functioning model. There are many different types and sizes of vehicles on the road, making traffic simulation software necessary to distinguish different vehicle types. In this exercise, you will train a model to classify light and heavy vehicles. The dataset comes from the following tables, a great place to go if you want to start a project after this class. \n",
    "</p>    "
   ]
  },
  {
   "cell_type": "markdown",
   "metadata": {},
   "source": [
    "<p style=\"text-align: center;\">\n",
    " <img src=\"images/figure8_smartCity.jpg\"  width=\"1920\" height=\"1080\">\n",
    "</p>"
   ]
  },
  {
   "cell_type": "markdown",
   "metadata": {},
   "source": [
    "### Characteristics of vehicles traveling on the highway\n",
    "\n",
    "We encourage you to start with a model pretrained from the following table. Load the model with the correct weights, and set an input shape. Remember that the features have four dimensions: **weight**, **number of axles**, **height**, and **length**. There are only $2$ categories of vehicles: **light** and **heavy**. In summary, your model will require an output layer of one artificial neuron to do the categorization successfully. \n",
    "\n",
    "| Vehicle | Total  Weight (ton)   | Number of Axles       | Height (ft)     | Length (ft)     |  Category   | \n",
    "| :-:     | :-:                  | :-:                  | :-:            | :-:            |     :-:     |      \n",
    "| A       | 1.50                | 2                    | 2.5            | 6.5            |    Light         | \n",
    "| B       | 1.40                | 2                    | 2.2            | 6.0            |    Light         |\n",
    "| C       | 1.60                | 2                    | 2.8            | 7.2            |    Light         |\n",
    "| D       | 1.75                | 2                    | 2.0            | 8.0            |    Light         |\n",
    "| E       | 1.80                | 2                    | 2.9            | 7.5            |    Light         |\n",
    "| F       | 1.65                | 2                    | 3.7            | 7.0            |    Light         |\n",
    "| G       | 3.75                | 3                    | 4.2            | 13.0          |    Heavy         |\n",
    "| H       | 3.90                | 3                    | 4.1            | 12.5          |    Heavy         |\n",
    "| I       | 3.90                | 3                    | 3.8            | 12.0          |    Heavy         |\n",
    "| J       | 3.70                | 3                    | 3.5            | 10.8          |    Heavy         |\n",
    "| K       | 3.55                | 3                    | 3.4            | 10.3          |    Heavy         |\n",
    "| L       | 4.70                | 3                    | 3.6            | 10.9          |    Heavy         |\n",
    "| M       | 5.20                | 3                    | 4.5            | 13.5          |     Heavy        |\n",
    "| N       | 4.35                | 3                    | 4.7            | 14.0          |    Heavy         |\n",
    "| O       | 4.05                | 3                    | 4.3            | 9.0           |    Heavy         |\n",
    "| P       | 4.13                | 3                    | 3.0            | 9.5           |    Heavy         |\n",
    "| Q       | 3.45                | 3                    | 3.1            | 13.8          |    Heavy         |\n",
    "| R       | 3.58                | 3                    | 3.3            | 10.2          |    Heavy         |\n",
    "| S       | 4.25                | 3                    | 4.4            | 13.3          |    Heavy         |\n",
    "| T       | 4.40                | 3                    | 4.6            | 13.8          |    Heavy         |"
   ]
  },
  {
   "cell_type": "markdown",
   "metadata": {},
   "source": [
    "Then:\n",
    "\n",
    "1. Create a artificial neuron.\n",
    "\n",
    "2. Formulate the labels (known data) for this problem.\n",
    "\n",
    "3. Train the artificial neuron.\n",
    "\n",
    "4. Use the artificial neuron to classify whether they are light or heavy vehicles.\n",
    "\n",
    "5. Use precision metrics from scikit learning and calculate model accuracy, precision, and recall values.\n",
    "\n",
    "6. What can be observed in relation to the values obtained and what is the relationship between them?"
   ]
  },
  {
   "cell_type": "markdown",
   "metadata": {},
   "source": [
    "## Evaluate the model"
   ]
  },
  {
   "cell_type": "markdown",
   "metadata": {},
   "source": [
    "Hopefully, you now have a model that has a validation accuracy higher. If not, you may want to go back and either run more epochs of training, or adjust your data.  Once you are satisfied with the validation accuracy, evaluate the model by executing the following cell. The evaluate function will return a tuple, where the first value is your loss, and the second value is your accuracy. To pass, the model will need have an accuracy value of `92% or higher`. \n",
    "\n",
    "Use the metric to calculate the accuracy of your solution in the package Intel® Extension for Scikit-learn:\n",
    "~~~python\n",
    "from sklearn.metrics import accuracy_score, precision_score, recall_score, f1_score\n",
    "print(\".4f\".format(accuracy_score(y_expected,y_pred)))\n",
    "~~~"
   ]
  }
 ],
 "metadata": {
  "kernelspec": {
   "display_name": "Python 3 (ipykernel)",
   "language": "python",
   "name": "python3"
  },
  "language_info": {
   "codemirror_mode": {
    "name": "ipython",
    "version": 3
   },
   "file_extension": ".py",
   "mimetype": "text/x-python",
   "name": "python",
   "nbconvert_exporter": "python",
   "pygments_lexer": "ipython3",
   "version": "3.8.8"
  }
 },
 "nbformat": 4,
 "nbformat_minor": 4
}
