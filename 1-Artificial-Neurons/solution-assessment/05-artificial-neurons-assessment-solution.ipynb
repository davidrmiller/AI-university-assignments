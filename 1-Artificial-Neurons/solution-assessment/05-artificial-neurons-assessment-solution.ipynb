{
 "cells": [
  {
   "cell_type": "markdown",
   "metadata": {},
   "source": [
    "# Assessment"
   ]
  },
  {
   "cell_type": "markdown",
   "metadata": {},
   "source": [
    "<p style='text-align: justify;'>\n",
    "Congratulations on going through the first part of the course! Hopefully, you have learned some valuable skills along the way and had fun doing it. Now it is time to put those skills to the test. In this assessment, you will train a new model that is able to classify vehicles on the roads of a smart city. You will need to get the model to a validation in order to pass the assessment, though we challenge you to do even better if you can. You will have the use the skills that you learned in the previous exercises. Let's get started! \n",
    "</p>    "
   ]
  },
  {
   "cell_type": "markdown",
   "metadata": {},
   "source": [
    "## The problem: Vehicle classification in traffic models"
   ]
  },
  {
   "cell_type": "markdown",
   "metadata": {},
   "source": [
    "<p style='text-align: justify;'>\n",
    "For traffic simulation, it is necessary to know a lot of parameters. One of these is the vehicle classification. In modeling a specific situation, the traffic composition must be known to create a well-functioning model. There are many different types and sizes of vehicles on the road, making traffic simulation software necessary to distinguish different vehicle types. In this exercise, you will train a model to classify light and heavy vehicles. The dataset comes from the following tables, a great place to go if you want to start a project after this class. \n",
    "</p>    "
   ]
  },
  {
   "cell_type": "markdown",
   "metadata": {},
   "source": [
    "<p style=\"text-align: center;\">\n",
    " <img src=\"../images/figure8_smartCity.jpg\"  width=\"1920\" height=\"1080\">\n",
    "</p>"
   ]
  },
  {
   "cell_type": "markdown",
   "metadata": {},
   "source": [
    "### Characteristics of vehicles traveling on the highway\n",
    "\n",
    "We encourage you to start with a model pretrained from the following table. Load the model with the correct weights, and set an input shape. Remember that the features have four dimensions: **weight**, **number of axles**, **height**, and **length**. There are only $2$ categories of vehicles: **light** and **heavy**. In summary, your model will require an output layer of one artificial neuron to do the categorization successfully. \n",
    "\n",
    "| Vehicle | Total  Weight (kg)   | Number of Axles      | Height (m)     | Length (m)     |  Category   | \n",
    "| :-:     | :-:                  | :-:                  | :-:            | :-:            |     :-:     |      \n",
    "| A       | 1500                | 2                    | 2.5            | 6.5            |    Light         | \n",
    "| B       | 1400                | 2                    | 2.2            | 6.0            |    Light         |\n",
    "| C       | 1600                | 2                    | 2.8            | 7.2            |    Light         |\n",
    "| D       | 1750                | 2                    | 2.0            | 8.0            |    Light         |\n",
    "| E       | 1800                | 2                    | 2.9            | 7.5            |    Light         |\n",
    "| F       | 1650                | 2                    | 3.7            | 7.0            |    Light         |\n",
    "| G       | 21000                | 3                    | 4.2            | 13.0          |    Heavy         |\n",
    "| H       | 20000                | 3                    | 4.1            | 12.5          |    Heavy         |\n",
    "| I       | 19000                | 3                    | 3.8            | 12.0          |    Heavy         |\n",
    "| J       | 17000                | 3                    | 3.5            | 10.8          |    Heavy         |\n",
    "| K       | 15500                | 3                    | 3.4            | 10.3          |    Heavy         |\n",
    "| L       | 17000                | 3                    | 3.6            | 10.9          |    Heavy         |\n",
    "| M       | 22000                | 3                    | 4.5            | 13.5          |     Heavy        |\n",
    "| N       | 23500                | 3                    | 4.7            | 14.0          |    Heavy         |\n",
    "| O       | 20500                | 3                    | 4.3            | 9.0           |    Heavy         |\n",
    "| P       | 13000                | 3                    | 3.0            | 9.5           |    Heavy         |\n",
    "| Q       | 14500                | 3                    | 3.1            | 13.8          |    Heavy         |\n",
    "| R       | 15800                | 3                    | 3.3            | 10.2          |    Heavy         |\n",
    "| S       | 22500                | 3                    | 4.4            | 13.3          |    Heavy         |\n",
    "| T       | 24000                | 3                    | 4.6            | 13.8          |    Heavy         |"
   ]
  },
  {
   "cell_type": "markdown",
   "metadata": {},
   "source": [
    "Then:\n",
    "\n",
    "1. Create a artificial neuron.\n",
    "\n",
    "2. Formulate the labels (known data) for this problem.\n",
    "\n",
    "3. Train the artificial neuron neural network.\n",
    "\n",
    "4. Use the artificial neuron to classify whether they are light or heavy vehicles.\n",
    "\n",
    "5. Use precision metrics from scikit-learn and calculate model accuracy, precision, and recall values.\n",
    "\n",
    "6. What can be observed in relation to the values obtained and what is the relationship between them?"
   ]
  },
  {
   "cell_type": "markdown",
   "metadata": {},
   "source": [
    "### ☆ Solution using the Intel® Extension for Scikit-learn ☆ "
   ]
  },
  {
   "cell_type": "code",
   "execution_count": 1,
   "metadata": {},
   "outputs": [
    {
     "name": "stdout",
     "output_type": "stream",
     "text": [
      "[0 0 0 0 1 1 1 1]\n",
      "\n",
      "['Light', 'Light', 'Light', 'Light', 'Heavy', 'Heavy', 'Heavy', 'Heavy']\n",
      "Accuracy: 1.0000\n",
      "Precision: 1.0000\n",
      "Recall: 1.0000\n"
     ]
    }
   ],
   "source": [
    "# Import Python packages \n",
    "from sklearn.linear_model import Perceptron\n",
    "from sklearn.metrics import accuracy_score, precision_score, recall_score, f1_score\n",
    "from sklearn.model_selection import train_test_split\n",
    "import numpy as np\n",
    "from matplotlib import pyplot as plt\n",
    "\n",
    "# Training data \n",
    "# X_train = ([[total Weight (ton), Number of axes, Height (m), Length (m)], ...]) = np.array([\n",
    "X_train = np.array([\n",
    "             [ 1.5, 2, 2.5, 6.5 ],  #Light\n",
    "             [ 1.4, 2, 2.2, 6.0 ],  #Light\n",
    "             [ 1.6, 2, 2.8, 7.2 ],  #Light\n",
    "             [ 1.75, 2, 2.0, 8.0 ], #Light\n",
    "             [ 1.8, 2, 2.9, 7.5 ],  #Light\n",
    "             [ 1.65, 2, 3.7, 7.0 ], #Light\n",
    "             [ 3.75, 3, 4.2, 13.0], #Heavy\n",
    "             [ 3.90, 3, 3.8, 12.0], #Heavy\n",
    "             [ 3.90, 3, 3.8, 12.0], #Heavy\n",
    "             [ 3.70, 3, 3.5, 10.8], #Heavy\n",
    "             [ 3.55, 3, 3.4, 10.3], #Heavy\n",
    "             [ 4.70, 3, 3.6, 10.9], #Heavy\n",
    "             [ 5.20, 3, 4.5, 13.5], #Heavy\n",
    "             [ 4.35, 3, 4.7, 14.0], #Heavy\n",
    "             [ 4.05, 3, 4.3, 9.0],  #Heavy\n",
    "             [ 4.13, 3, 3.0, 9.5],  #Heavy\n",
    "             [ 3.45, 3, 3.1, 13.8], #Heavy\n",
    "             [ 3.58, 3, 3.3, 10.2], #Heavy\n",
    "             [ 4.25, 3, 4.4, 13.3], #Heavy\n",
    "             [ 4.40, 3, 4.6, 13.8]  #Heavy\n",
    "])\n",
    "# Define the expected outputs for each input, 1 = Heavy, 0 = Light\n",
    "y_train = np.array([0,0,0,0,0,0,1,1,1,1,1,1,1,1,1,1,1,1,1,1])\n",
    "\n",
    "# Instantiating the artificial neuron\n",
    "artificial_neuron = Perceptron(eta0 = 1, max_iter = 200)\n",
    "\n",
    "# Training the artificial neuron\n",
    "artificial_neuron.fit(X_train, y_train)\n",
    "\n",
    "# Testing the model prediction with new input data\n",
    "X_test = np.array([\n",
    "             [ 1.55, 2, 2.0, 5.5],  #Light\n",
    "             [ 1.72, 2, 2.5, 5.7],  #Light\n",
    "             [ 1.8, 2, 2.7, 7.4],   #Light\n",
    "             [ 2.1, 2, 2.8, 6.5],   #Light \n",
    "             [ 3.8, 3, 4.2, 11.0],  #Heavy\n",
    "             [ 4.1, 3, 3.95, 13.2], #Heavy \n",
    "             [ 5.2, 3, 3.0, 14.0],  #Heavy\n",
    "             [ 4.15, 3, 3.7, 13.1]  #Heavy\n",
    "                         \n",
    "])\n",
    "\n",
    "y_expected = np.array([0,0,0,0,1,1,1,1])\n",
    "\n",
    "# Prediction\n",
    "y_pred = artificial_neuron.predict(X_test)\n",
    "\n",
    "# Checking the predictions stored in the y_pred array, 1 for Heavy and 0 for Light\n",
    "vehicles = []\n",
    "for i in y_pred:\n",
    "    if i == 1:\n",
    "        vehicles.append(\"Heavy\")\n",
    "    else:\n",
    "        vehicles.append(\"Light\")\n",
    "        \n",
    "# Results\n",
    "print(y_pred)\n",
    "print(\"\\n{}\".format(vehicles))\n",
    "\n",
    "# Precision metrics from scikit-learn\n",
    "print(\"Accuracy: {:.4f}\".format(accuracy_score(y_expected,y_pred)))\n",
    "print(\"Precision: {:.4f}\".format(precision_score(y_expected,y_pred)))\n",
    "print(\"Recall: {:.4f}\".format(recall_score(y_expected,y_pred)))"
   ]
  }
 ],
 "metadata": {
  "kernelspec": {
   "display_name": "Python 3 (ipykernel)",
   "language": "python",
   "name": "python3"
  },
  "language_info": {
   "codemirror_mode": {
    "name": "ipython",
    "version": 3
   },
   "file_extension": ".py",
   "mimetype": "text/x-python",
   "name": "python",
   "nbconvert_exporter": "python",
   "pygments_lexer": "ipython3",
   "version": "3.8.8"
  }
 },
 "nbformat": 4,
 "nbformat_minor": 4
}
