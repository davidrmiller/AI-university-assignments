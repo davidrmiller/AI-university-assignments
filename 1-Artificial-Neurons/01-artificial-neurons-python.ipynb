{
 "cells": [
  {
   "cell_type": "markdown",
   "metadata": {},
   "source": [
    "# Classification with the artificial neuron using Intel® Python"
   ]
  },
  {
   "cell_type": "markdown",
   "metadata": {},
   "source": [
    "In this section, we will build a artificial neuron using Intel® Python. The principal idea is to train a single-layer neural network model to correctly data classify."
   ]
  },
  {
   "cell_type": "markdown",
   "metadata": {
    "tags": []
   },
   "source": [
    "## Objectives"
   ]
  },
  {
   "cell_type": "markdown",
   "metadata": {},
   "source": [
    "* **Understand** the concept of single-layer neural network using the artificial neuron model,\n",
    "* **Learn** about the artificial neuron algorithm,\n",
    "* **Create** a simple artificial neuron neural network to classify data,\n",
    "* **Train** the artificial neuron neural network,\n",
    "* **Observe** the performance of the trained artificial neuron neural network."
   ]
  },
  {
   "cell_type": "markdown",
   "metadata": {},
   "source": [
    "## The problem: classification data"
   ]
  },
  {
   "cell_type": "markdown",
   "metadata": {},
   "source": [
    "<p style='text-align: justify;'> \n",
    "Classification problems require the given data set to be classified into two or more categories. A simple example is classifying an email message as spam or not spam. Or, given an image of a flower, classify which kind of flower it is. There are different kinds of classifiers:\n",
    "</p>  \n",
    "\n",
    "- A binary classifier classifies data into exactly two classes: yes/no, good/bad, or high/low,\n",
    "\n",
    "- A non-binary classifier can classify data into three or more categories."
   ]
  },
  {
   "cell_type": "markdown",
   "metadata": {},
   "source": [
    "## The solution: artificial neuron"
   ]
  },
  {
   "cell_type": "markdown",
   "metadata": {},
   "source": [
    "<p style='text-align: justify;'> \n",
    "A artificial neuron is an algorithm that imitates how a neuron in the brain works. It is a type of single-layer neural network consisting of a single neuron. The output of this neural network is decided based on the outcome of just one activation function associated with the single neuron. In a artificial neuron, information propagates forward through the network. A deep neural network consists of one or more artificial neurons in two or more layers. Input to different artificial neurons in a particular layer will be fed from the previous layer by combining them with different weights. \n",
    "</p>     \n",
    "\n",
    "<p style='text-align: justify;'> \n",
    "Before studying a artificial neuron, we must understand how a human neuron works. The <b>dendrites</b> are the entrances to the neuron. They receive electrical signals from other neurons and send them to the cell body.\n",
    "</p> \n",
    "\n",
    "<p style='text-align: justify;'> \n",
    "Inside the <b>cell body</b>, information processing is carried out through the <b>sum</b> of the inputs that the neuron receives. This set of added electrical stimuli causes the cell nucleus of the neuron to send the result of the sum of the information it received to a structure called an <b>axon</b>, which consequently sends these electrical signals to the <b>axon terminals</b>, thus producing an output stimulus.\n",
    "</p> \n",
    "       \n",
    "     \n",
    "     \n",
    "<p style=\"text-align: center;\">\n",
    " <img src=\"images/figure1_humanNeuron.png\"  width=\"500\" height=\"500\">\n",
    "</p>\n",
    "\n",
    "<p style='text-align: justify;'>\n",
    "In an artificial neural network, the logic is quite similar. First, the network receives different signals at its inputs, which are represented by ($X_1$, $X_2$, ... $X_n$). \n",
    "</p>\n",
    "\n",
    "<p style='text-align: justify;'>\n",
    "From there, the input signals pass through weights ($W_1$, $W_2$, ... $W_n$) which are nothing more than multipliers that control the influence of each of the inputs of the neural network. Initially, these weights are randomly generated. However, as we will see in the following modules, the weights are adjusted by training the network. After the neural network multiplies the inputs $X$ by the weights $W$, a sum of all results is performed according to the following formula:\n",
    "</p>\n",
    "    \n",
    "$$\n",
    "y = \\sum_{i = 0}^{n} (W_i*X_i)\n",
    "$$\n",
    "<br>\n",
    "<br>\n",
    "    \n",
    "Once the sum is performed, the result is then sent to a function called sigmoid, which has the function of activating or not activating the network output: \n",
    "</p>\n",
    "\n",
    "<br>\n",
    "\n",
    "$$\n",
    "\\sigma(x) = \\frac{1}{1 + e^{-x}}\n",
    "$$\n",
    "\n",
    "<br>\n",
    "<br>\n",
    "\n",
    "<p style='text-align: justify;'>\n",
    "    The following is a complete representation of the structure of a artificial neuron:\n",
    "</p>\n",
    "\n",
    "<p style=\"text-align: center;\">\n",
    " <img src=\"images/figure2_artificial_neuron.jpg\"  width=\"500\" height=\"500\">\n",
    "</p>"
   ]
  },
  {
   "cell_type": "markdown",
   "metadata": {},
   "source": [
    "## Implementing the artificial neuron with Intel® Python"
   ]
  },
  {
   "cell_type": "markdown",
   "metadata": {},
   "source": [
    "Now that we have studied the artificial neuron algorithm, let us implement the actual algorithm with Intel® Python. Create a code that will store our artificial neuron implementation for a generic problem:"
   ]
  },
  {
   "cell_type": "markdown",
   "metadata": {
    "tags": []
   },
   "source": [
    "#### ⊗ Import Python packages \n",
    "The first thing we need to do is import the necessary libraries to be able to implement our artificial neuron neural network."
   ]
  },
  {
   "cell_type": "code",
   "execution_count": 97,
   "metadata": {},
   "outputs": [],
   "source": [
    "# Python Packages\n",
    "import numpy as np\n",
    "import matplotlib.pyplot as plt\n",
    "import random\n",
    "import math"
   ]
  },
  {
   "cell_type": "markdown",
   "metadata": {
    "tags": []
   },
   "source": [
    "#### ⊗ Define the inputs\n",
    "\n",
    "<p style='text-align: justify;'>\n",
    "In this first example, we will define two inputs ($X_1$, $X_2$) with fixed values to simplify the neural network. However, in real applications, the neuron may use many inputs in order to represent diverse input information.\n",
    "<p/>"
   ]
  },
  {
   "cell_type": "code",
   "execution_count": 98,
   "metadata": {},
   "outputs": [],
   "source": [
    "# Inputs\n",
    "X = [1, 0]"
   ]
  },
  {
   "cell_type": "markdown",
   "metadata": {
    "tags": []
   },
   "source": [
    "#### ⊗ Generate weights\n",
    "\n",
    "<p style='text-align: justify;'>\n",
    "Here we will generate the weights to compose our neural network. We will initially generate random weights in this example, but it is important to note that these weights will be updated when the network is trained. The weight training itself will be covered in a later module.\n",
    "</p>\n",
    "\n",
    "<p style='text-align: justify;'>\n",
    "This code snippet generates two weights ($W_1$, $W_2$), and then a loop uses the random function to generate random values between $-1$ and $1$.\n",
    "</p>"
   ]
  },
  {
   "cell_type": "code",
   "execution_count": 99,
   "metadata": {},
   "outputs": [
    {
     "name": "stdout",
     "output_type": "stream",
     "text": [
      "Weights:\n",
      "[0.5501253340748573, -0.05216859549501707]\n"
     ]
    }
   ],
   "source": [
    "# Creating the artificial neuron weights\n",
    "W = []\n",
    "nInputs = 2\n",
    "\n",
    "for i in range(nInputs):\n",
    "    W.append(random.uniform(-1, 1))\n",
    "print(\"Weights:\")\n",
    "print(W)"
   ]
  },
  {
   "cell_type": "markdown",
   "metadata": {
    "tags": []
   },
   "source": [
    "#### ⊗ Calculate the sum of the network\n",
    "\n",
    "<p style='text-align: justify;'>\n",
    "In this step, the algorithm will multiply the inputs by the weights, adding the result of this multiplication, thus resulting in an output value of the network.\n",
    "</p>\n",
    "\n",
    "$$\n",
    "y = (X_1 * W_1) + (X_2 * W_2)\n",
    "$$"
   ]
  },
  {
   "cell_type": "code",
   "execution_count": 100,
   "metadata": {
    "tags": []
   },
   "outputs": [
    {
     "name": "stdout",
     "output_type": "stream",
     "text": [
      "0.5501253340748573\n"
     ]
    }
   ],
   "source": [
    "# Calculating sum of the network\n",
    "y_sum = 0\n",
    "for i in range(len(W)):\n",
    "    y_sum =  y_sum + (W[i] * X[i])  \n",
    "print(y_sum)"
   ]
  },
  {
   "cell_type": "markdown",
   "metadata": {
    "tags": []
   },
   "source": [
    "#### ⊗ Activation function (*sigmoid*)\n",
    "\n",
    "<p style='text-align: justify;'>\n",
    "Constraining the outputs is essential to ensure that the neural network generates results on a suitable scale for most scenarios. The sigmoid function is employed in neural networks due to its ability to map outputs within the range of $0$ to $1$, making it particularly advantageous for classification tasks. This implies that it's more beneficial for computational processing to handle compact values between $0$ and $1$, avoiding overly large numbers. Such consideration is critical as, depending on the data volume, memory capacity or other computational resources might be constrained when dealing with high values.\n",
    "</p>\n",
    "<p style='text-align: justify;'>\n",
    "Another crucial attribute is its differentiability, which plays a vital role in network training. The differentiability of the function is an indispensable requirement for adjusting the network's weights during the training process, enabling the network to learn from data and improve over time.\n",
    "</p>"
   ]
  },
  {
   "cell_type": "code",
   "execution_count": 101,
   "metadata": {
    "tags": []
   },
   "outputs": [],
   "source": [
    "# Activation function\n",
    "def sigmoid(x):\n",
    "    return 1 / (1 + math.exp(-x))"
   ]
  },
  {
   "cell_type": "markdown",
   "metadata": {},
   "source": [
    "<p style='text-align: justify;'>\n",
    "Plotting a graph is one way to understand how the sigmoid function works. We can see that the sigmoid function is not linear and that it varies from $0$ to its maximum value of $1$. \n",
    "</p>    \n",
    "    \n",
    "<p style='text-align: justify;'>  \n",
    "This characteristic is used to decide if the neural network's output will be activated. If the output value is close to $0$, the network output is not activated. If the output approaches $1$, it will be activated.\n",
    "</p>"
   ]
  },
  {
   "cell_type": "code",
   "execution_count": 102,
   "metadata": {},
   "outputs": [
    {
     "data": {
      "image/png": "[encoded data removed]",
      "text/plain": [
       "<Figure size 432x288 with 1 Axes>"
      ]
     },
     "metadata": {
      "needs_background": "light"
     },
     "output_type": "display_data"
    }
   ],
   "source": [
    "plt.plot(np.arange(-5,5,0.1), [sigmoid(x) for x in np.arange(-5,5,0.1)])\n",
    "plt.show()"
   ]
  },
  {
   "cell_type": "markdown",
   "metadata": {
    "tags": []
   },
   "source": [
    "#### ⊗ Output from the network\n",
    "\n",
    "<p style='text-align: justify;'>\n",
    "At this point we create a function called activated where the value generated through the result of the sum of the network values ​​passing through the sigmoid function will be stored, thus generating a final activation value.\n",
    "</p>"
   ]
  },
  {
   "cell_type": "code",
   "execution_count": 103,
   "metadata": {
    "tags": []
   },
   "outputs": [
    {
     "name": "stdout",
     "output_type": "stream",
     "text": [
      "0.6341646689852339\n"
     ]
    }
   ],
   "source": [
    "# Use the sigmoid function\n",
    "activated = sigmoid(y_sum)\n",
    "print(activated)"
   ]
  },
  {
   "cell_type": "markdown",
   "metadata": {},
   "source": [
    "<p style='text-align: justify;'>\n",
    "The activated function will show the network output value, which must be within a range between $0$ and $1$. The closer the values are to the limits of $0$ and $1$, the more likely it is that the input data and weights converged to a desired result.\n",
    "</p>"
   ]
  },
  {
   "cell_type": "markdown",
   "metadata": {},
   "source": [
    "#### ⊗ Threshold\n",
    "\n",
    "<p style='text-align: justify;'>\n",
    "The term <i>thresholded</i> refers to a decision-making technique in a model, where an input or output value is compared with a specific threshold to determine the appropriate category or state. This is often used to convert a continuous output into a binary decision.\n",
    "</p>\n",
    "\n",
    "<p style='text-align: justify;'>\n",
    "In the context of a sigmoid function in a perceptron (a type of artificial neuron), it can be utilized to make a binary decision after calculating the sigmoid function's output. The sigmoid function's output falls within the $0$ to $1$, representing the probability of belonging to a class (for example, the probability of being a rose). A specific value can be applied to transform this probability into a final decision, usually around $0.5$.\n",
    "</p>\n",
    "\n",
    "<p style='text-align: justify;'>\n",
    "If the sigmoid function's output is more significant than $0.5$, a decision can be made that the input belongs to a class (for instance, it's a rose). On the other hand, if the output is less than or equal to $0.5$, it can be inferred that the input belongs to the other class (for instance, it's a violet).\n",
    "</p>\n",
    "\n",
    "<p style='text-align: justify;'>\n",
    "This thresholding technique assists in converting the probabilistic output of the sigmoid function into a more precise and helpful decision, allowing the perceptron to perform binary classification based on a specific threshold. However, remember that the choice of this threshold may depend on the particular problem you are addressing and may need to be adjusted to achieve the best results.\n",
    "</p>"
   ]
  },
  {
   "cell_type": "markdown",
   "metadata": {},
   "source": [
    "## ☆ Challenge: Classification of roses and violets  ☆"
   ]
  },
  {
   "cell_type": "markdown",
   "metadata": {},
   "source": [
    "Consider the following problem:\n",
    "\n",
    "**Roses are red, violets are blue, the stems of roses are tall, and violets are short.**\n",
    "\n",
    "Then:\n",
    "\n",
    "- Having the color spectrum between $red = 0$ and $blue = 10$.\n",
    "\n",
    "- Between $0$ and $10$, there is a mixture of the two colors, where the closer to $0$ is redder, and the closer to $10$ is bluer.\n",
    "\n",
    "- Given a set of pairs with (height and color) determine whether it is a rose or a violet.\n",
    "\n",
    "<p style=\"text-align: center;\">\n",
    " <img src=\"images/figure3_rosesXviolets.png\"  width=\"500\" height=\"500\">\n",
    "</p>\n",
    "\n",
    "\n",
    "1. Create a artificial neuron with Intel® Python.\n",
    "\n",
    "2. Formulate the labels (known data) for this problem.\n",
    "\n",
    "3. Use the artificial neuron to classify whether they are rose or violet, and answer:\n",
    "    \n",
    "    - ``How many did she get right and wrong?``\n",
    "    \n",
    "    - ``What is the problem?``"
   ]
  },
  {
   "cell_type": "markdown",
   "metadata": {},
   "source": [
    "### ☆ Solution ☆ "
   ]
  },
  {
   "cell_type": "markdown",
   "metadata": {},
   "source": [
    "#### ⊗ Import Python packages "
   ]
  },
  {
   "cell_type": "code",
   "execution_count": 104,
   "metadata": {
    "tags": []
   },
   "outputs": [],
   "source": [
    "import numpy as np\n",
    "import math\n",
    "import random\n",
    "from matplotlib import pyplot as plt"
   ]
  },
  {
   "cell_type": "markdown",
   "metadata": {},
   "source": [
    "#### ⊗ Activation function"
   ]
  },
  {
   "cell_type": "code",
   "execution_count": 105,
   "metadata": {
    "tags": []
   },
   "outputs": [],
   "source": [
    "# Activation function\n",
    "def sigmoid(x):\n",
    "    return 1 / (1 + math.exp(-x))"
   ]
  },
  {
   "cell_type": "markdown",
   "metadata": {},
   "source": [
    "#### ⊗ Create the samples"
   ]
  },
  {
   "cell_type": "code",
   "execution_count": 106,
   "metadata": {
    "tags": []
   },
   "outputs": [],
   "source": [
    "# Defines an array X_inputs where the first value refers to the flower color and the second refers to the stem size\n",
    "# X_inputs = ([[color, stem], [color, stem] ...])\n",
    "X_inputs = np.array([\n",
    "             [ 1, 10 ],  # Rose\n",
    "             [ 2, 25 ],  # Rose\n",
    "             [ 3, 22 ],  # Rose\n",
    "             [ 4, 20 ],  # Rose\n",
    "             [ 5, 23 ],  # Rose\n",
    "             [ 6, 1 ],   # Violet\n",
    "             [ 7, 8 ],   # Violet\n",
    "             [ 8, 1 ],   # Violet\n",
    "             [ 9, 10 ],  # Violet\n",
    "             [ 10, 8 ],  # Violet                                \n",
    "])"
   ]
  },
  {
   "cell_type": "markdown",
   "metadata": {},
   "source": [
    "#### ⊗ Generate weights"
   ]
  },
  {
   "cell_type": "code",
   "execution_count": 107,
   "metadata": {
    "tags": []
   },
   "outputs": [
    {
     "name": "stdout",
     "output_type": "stream",
     "text": [
      "Weights:\n",
      "[0.6224023601031263, -0.46793359457087047]\n"
     ]
    }
   ],
   "source": [
    "# Creating random artificial neuron weights\n",
    "# Attention!! In this exercise, the weights will be randomly generated because the objective \n",
    "# is to understand how the neural network works. However, in the next modules, we will study \n",
    "# how we can update the weights from neural network training.\n",
    "w = []\n",
    "w_inputs = 2\n",
    "\n",
    "for i in range(w_inputs):\n",
    "    w.append(random.uniform(-1, 1))\n",
    "print(\"Weights:\")\n",
    "print(w)"
   ]
  },
  {
   "cell_type": "markdown",
   "metadata": {},
   "source": [
    "#### ⊗ Calculating sum of the network"
   ]
  },
  {
   "cell_type": "code",
   "execution_count": 108,
   "metadata": {
    "tags": []
   },
   "outputs": [
    {
     "name": "stdout",
     "output_type": "stream",
     "text": [
      "[ -4.05693359 -10.45353514  -8.427332    -6.86906245  -7.65046087\n",
      "   3.26648057   0.61334776   4.51128529   0.9222853    2.48055484]\n"
     ]
    }
   ],
   "source": [
    "y_sum = np.zeros(len(X_inputs))\n",
    "\n",
    "for i in range(len(X_inputs)):\n",
    "    for j in range(2):\n",
    "        y_sum[i] += X_inputs[i][j] * w[j]\n",
    "\n",
    "print(y_sum)"
   ]
  },
  {
   "cell_type": "markdown",
   "metadata": {
    "tags": []
   },
   "source": [
    "#### ⊗ Estimating the classification confidence percentage\n",
    "\n",
    "Here we are going to use the sigmoid activation function to determine in percentage terms what is a rose or a violet."
   ]
  },
  {
   "cell_type": "code",
   "execution_count": 109,
   "metadata": {
    "tags": []
   },
   "outputs": [
    {
     "name": "stdout",
     "output_type": "stream",
     "text": [
      "0.017007725389664104\n",
      "2.884528558099862e-05\n",
      "0.00021875661770942538\n",
      "0.0010383718075325067\n",
      "0.00047559848137312754\n",
      "0.9632608239048195\n",
      "0.6487040935941085\n",
      "0.9891350115652039\n",
      "0.7155075214299834\n",
      "0.9227673496665856\n"
     ]
    }
   ],
   "source": [
    "# Use the sigmoid function\n",
    "activated = np.zeros(len(y_sum))\n",
    "\n",
    "for i in range(len(y_sum)):\n",
    "    activated[i] = sigmoid(y_sum[i])\n",
    "    print(activated[i])"
   ]
  },
  {
   "cell_type": "markdown",
   "metadata": {},
   "source": [
    "#### ⊗ Applying threshold"
   ]
  },
  {
   "cell_type": "code",
   "execution_count": 110,
   "metadata": {
    "tags": []
   },
   "outputs": [
    {
     "name": "stdout",
     "output_type": "stream",
     "text": [
      "Rose\n",
      "Rose\n",
      "Rose\n",
      "Rose\n",
      "Rose\n",
      "Violet\n",
      "Violet\n",
      "Violet\n",
      "Violet\n",
      "Violet\n"
     ]
    }
   ],
   "source": [
    "# Here is just a simple way to visualize how many roses or violets were found by the perceptron\n",
    "\n",
    "threshold = 0.5 # equivalent to 50% of the threshold\n",
    "\n",
    "for i in range(len(y_sum)):\n",
    "    if activated[i] > threshold:\n",
    "        print(\"Violet\")\n",
    "    else:\n",
    "        print(\"Rose\")    "
   ]
  },
  {
   "cell_type": "markdown",
   "metadata": {},
   "source": [
    "We can more easily observe the results with a graph. To do this, follow the code below to plot a **+** if the result was a rose or a **-** if the result was a violet."
   ]
  },
  {
   "cell_type": "markdown",
   "metadata": {},
   "source": [
    "#### ⊗ Visualization the data"
   ]
  },
  {
   "cell_type": "code",
   "execution_count": 111,
   "metadata": {
    "tags": []
   },
   "outputs": [
    {
     "data": {
      "image/png": "[encoded data removed]",
      "text/plain": [
       "<Figure size 432x288 with 1 Axes>"
      ]
     },
     "metadata": {
      "needs_background": "light"
     },
     "output_type": "display_data"
    }
   ],
   "source": [
    "# Visualization - Plot the samples\n",
    "for sample, d in zip(X_inputs,activated):\n",
    "    # Plot the negative samples (Violets)\n",
    "    if d > 0.5:\n",
    "        plt.scatter(sample[0], sample[1], s=120, marker='_', linewidths=2, color = \"blue\")\n",
    "    # Plot the positive samples (Roses)\n",
    "    else:\n",
    "        plt.scatter(sample[0], sample[1], s=120, marker='+', linewidths=2, color = \"red\")\n",
    "\n",
    "# Print a possible hyperplane, that is seperating the two classes\n",
    "plt.xlabel('Color')\n",
    "plt.ylabel('Stem')\n",
    "plt.title('Roses (+) x Violets (-)')\n",
    "plt.plot([0,10],[0,30])\n",
    "plt.show()"
   ]
  },
  {
   "cell_type": "markdown",
   "metadata": {},
   "source": [
    "## Summary"
   ]
  },
  {
   "cell_type": "markdown",
   "metadata": {},
   "source": [
    "<p style='text-align: justify;'>\n",
    "The artificial neuron imitates how a neuron in the brain works and consists of a single neuron. This notebook discusses the concept of a single-layer neural network using the artificial neuron algorithm and its use in classification problems. The notebook also explains how inputs, weights, and activation function work in an artificial neural network. Finally, the notebook presents a complete representation of the structure of a artificial neuron neural network.\n",
    "</p>"
   ]
  },
  {
   "cell_type": "markdown",
   "metadata": {},
   "source": [
    "## Clear the memory"
   ]
  },
  {
   "cell_type": "markdown",
   "metadata": {},
   "source": [
    "Before moving on, please execute the following cell to clear up the CPU memory. This is required to move on to the next notebook."
   ]
  },
  {
   "cell_type": "code",
   "execution_count": 112,
   "metadata": {},
   "outputs": [],
   "source": [
    "import IPython\n",
    "app = IPython.Application.instance()\n",
    "app.kernel.do_shutdown(True)"
   ]
  },
  {
   "cell_type": "markdown",
   "metadata": {},
   "source": [
    "## Next"
   ]
  },
  {
   "cell_type": "markdown",
   "metadata": {},
   "source": [
    "In the next section, you will learn how to apply a bias parameter in a artificial neuron using Intel® Python for data classification. In the next section, you will how a artificial neuron trained; after many guesses and adjustments, the weights will be correct in the notebook [_02-artificial-neurons-training.ipynb_](02-artificial-neurons-training.ipynb)."
   ]
  }
 ],
 "metadata": {
  "kernelspec": {
   "display_name": "Python 3 (ipykernel)",
   "language": "python",
   "name": "python3"
  },
  "language_info": {
   "codemirror_mode": {
    "name": "ipython",
    "version": 3
   },
   "file_extension": ".py",
   "mimetype": "text/x-python",
   "name": "python",
   "nbconvert_exporter": "python",
   "pygments_lexer": "ipython3",
   "version": "3.8.8"
  }
 },
 "nbformat": 4,
 "nbformat_minor": 4
}
