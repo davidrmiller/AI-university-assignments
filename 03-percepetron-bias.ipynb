{
 "cells": [
  {
   "cell_type": "markdown",
   "metadata": {
    "id": "icd8YEjb0k3Z"
   },
   "source": [
    "# Applying the Bias parameter in Perceptron using Intel® Python"
   ]
  },
  {
   "cell_type": "markdown",
   "metadata": {
    "id": "_ZYWbeOt-2Zn"
   },
   "source": [
    "<p style='text-align: justify;'> \n",
    "This section will add a BIAS parameter to the Perceptron Algorithm we built in the previous notebooks using Intel® Python. Without a bias, the activation function of the perceptron would be forced to pass through the origin (0,0), which can limit its ability to learn patterns in more complex data.\n",
    "</p>"
   ]
  },
  {
   "cell_type": "markdown",
   "metadata": {
    "id": "AY2d3T6i-_XA"
   },
   "source": [
    "## Perceptron Theory: Linearly separable problems\n"
   ]
  },
  {
   "cell_type": "markdown",
   "metadata": {
    "id": "Hq2Fah8mBK1d"
   },
   "source": [
    "<p style='text-align: justify;'> \n",
    "The perceptron is a learning model that can only solve problems that can be divided into linear segments. This indicates that it can only separate and categorize data that can be divided by a single line or hyperplane. The perceptron is appropriate for cases where data can be divided into two or more different classes and separated by a line or hyperplane in the feature space.\n",
    "</p>    "
   ]
  },
  {
   "cell_type": "markdown",
   "metadata": {
    "id": "WcQUPZyWCDG9"
   },
   "source": [
    "<p style=\"text-align: center;\">\n",
    " <img src=\"images/figure4_perceptronTheory.png\"  width=\"600\" height=\"600\">\n",
    "</p>"
   ]
  },
  {
   "cell_type": "markdown",
   "metadata": {
    "id": "De95n7F5DQMO"
   },
   "source": [
    "<p style='text-align: justify;'>\n",
    "From the point of view of a problem with two parameters, when the classification value depends on \"AND\" and \"OR\" relationships between inputs, it is a linearly separable problem. In cases where the relationship is \"XNOR,\" it is a non-linearly separable problem:\n",
    "</p>"
   ]
  },
  {
   "cell_type": "markdown",
   "metadata": {
    "id": "7JF53Hb5DS1z"
   },
   "source": [
    "<p style=\"text-align: center;\">\n",
    " <img src=\"images/figure5 perceptronBias.png\"  width=\"500\" height=\"500\">\n",
    "</p>"
   ]
  },
  {
   "cell_type": "markdown",
   "metadata": {
    "id": "L6p2zUxw0HU1"
   },
   "source": [
    "## The Problem: The separation line "
   ]
  },
  {
   "cell_type": "markdown",
   "metadata": {
    "id": "7PE5N3omDsya"
   },
   "source": [
    "<p style='text-align: justify;'>\n",
    "The last Perceptron Algorithm classifies data into two classes. They used separation lines that were forced to pass through the origin (0,0). That characteristic limits the model's ability to adjust the line correctly, reducing the accuracy of predictions. The following figure shows a case of a linearly separable problem where it is impossible to draw the separation line in a way that passes through the origin. Therefore, using the models worked so far to solve this problem would not be possible.\n",
    "</p>    "
   ]
  },
  {
   "cell_type": "markdown",
   "metadata": {
    "id": "Ks42-a6OFkCb"
   },
   "source": [
    "<p style=\"text-align: center;\">\n",
    " <img src=\"images/figure6_perceptronSeparationLin.png\"  width=\"800\" height=\"800\">\n",
    "</p>"
   ]
  },
  {
   "cell_type": "markdown",
   "metadata": {
    "id": "pdKQjrchGbLn"
   },
   "source": [
    "## The Solution: BIAS parameter\n"
   ]
  },
  {
   "cell_type": "markdown",
   "metadata": {
    "id": "aqPOJJmeGdcK"
   },
   "source": [
    "<p style='text-align: justify;'>\n",
    "The word BIAS in the context of perceptrons refers to a different parameter added to the model's input and acts as an offset or threshold for activation. Moving the decision boundary further from the origin, the perceptron can segregate data in some specific cases that are linearly separable.\n",
    "</p> \n",
    "<p style='text-align: justify;'> \n",
    "It can be changed during model training for the best possible prediction accuracy. In other words, the bias allows the model to be more flexible to the data it is trying to learn from and forecast, in addition to enabling the resolution of more specific linear issues. \n",
    "</p> \n",
    "<p style='text-align: justify;'> \n",
    "We can also use BIAS weights o obtain the separation line of the perceptron, based on the construction of a straight line using a first-degree function, with the model $f(x) = ax + b$. We must use the input weights to calculate the coefficients $a$ and $b$.\n",
    "</p>    "
   ]
  },
  {
   "cell_type": "markdown",
   "metadata": {
    "id": "35hyP80QHsxl"
   },
   "source": [
    "<p style='text-align: justify;'>\n",
    "For the perceptron to \"leave the point (0,0)\", another factor is added to the result. Then just do the equation, where $n$ is the input data number, $W$ are the weights and $X$ are the inputs and $b$ is the bias, or trend. The parameter $b$ is an arbitrary number different of $0$. In this way, the process becomes:\n",
    "</p>\n",
    "$$\n",
    "x = \\bigg( \\sum_{i = 0}^{n} (W_i * X_i)\\bigg) + b\n",
    "$$"
   ]
  },
  {
   "cell_type": "markdown",
   "metadata": {},
   "source": [
    "## ☆ Challenger: Classification of Roses and Violets Modified ☆"
   ]
  },
  {
   "cell_type": "markdown",
   "metadata": {},
   "source": [
    "Consider the following problem that is a variation of the previosly. Modify the weights so that the perceptron can solve the follow problems:\n",
    "\n",
    "| Problem A   |      Problem B      |        \n",
    "|:----------: |:-------------:|\n",
    "| <img src=\"images/figure3_rosesXviolets.png\"  width=\"500\" height=\"500\"> |  <img src=\"images/figure7_violetsXroses.png\"  width=\"500\" height=\"500\"> |         \n",
    "\n",
    "- Implement BIAS parameter at Perceptron Neural Network with Intel® Python for the Problem B."
   ]
  },
  {
   "cell_type": "markdown",
   "metadata": {},
   "source": [
    "## ☆ Solution ☆ "
   ]
  },
  {
   "cell_type": "markdown",
   "metadata": {
    "id": "5Idl-dYqJepN"
   },
   "source": [
    "<p style='text-align: justify;'>\n",
    "To classify a flower as a Rose or Violet, we will consider both the height and the color of the flower on the spectrum. Therefore, if a flower has at least five units tall and has at least five units of color, it will be classified as a rose; otherwise, it will be classified as a violet. Thus, we analyze a situation where both stem and color must be met to be classified as another class.\n",
    "</p>    "
   ]
  },
  {
   "cell_type": "code",
   "execution_count": 1,
   "metadata": {
    "colab": {
     "base_uri": "https://localhost:8080/",
     "height": 472
    },
    "id": "98bgt0ZGA75R",
    "outputId": "cfb84649-e54a-445a-b0ac-cd4d401df59c"
   },
   "outputs": [
    {
     "data": {
      "image/png": "[encoded data removed]",
      "text/plain": [
       "<Figure size 432x288 with 1 Axes>"
      ]
     },
     "metadata": {
      "needs_background": "light"
     },
     "output_type": "display_data"
    }
   ],
   "source": [
    "import numpy as np\n",
    "import matplotlib.pyplot as plt\n",
    "import random\n",
    "import math\n",
    "\n",
    "# Activation function\n",
    "def sigmoid(x):\n",
    "    return 1 / (1 + math.exp(-x))\n",
    "\n",
    "# X_inputs = ([[color, stem], [color, stem] ...]) = np.array([\n",
    "X_inputs = np.array([\n",
    "             [ 5, 7 ],    # Violet\n",
    "             [ 4, 8 ],    # Violet\n",
    "             [ 3, 7 ],    # Violet\n",
    "             [ 5, 6 ],    # Violet\n",
    "             [ 2, 9 ],    # Violet\n",
    "             [ 1, 13 ],   # Violet\n",
    "             [ 10, 24 ],  # Rose\n",
    "             [ 7, 21 ],   # Rose\n",
    "             [ 7, 24 ],   # Rose\n",
    "             [ 7, 22 ],   # Rose                       \n",
    "             [ 6, 21 ],   # Rose\n",
    "             [ 9, 18 ],   # Rose\n",
    "             [ 10, 17],   # Rose\n",
    "             [ 3, 23 ]    # Rose\n",
    "           \n",
    "])\n",
    "\n",
    "## Expected outcomes for each input\n",
    "expected_outputs = np.array([0, 0, 0, 0, 0, 0, 1, 1, 1, 1, 1, 1, 1, 1])\n",
    "\n",
    "for result, input in zip(expected_outputs, X_inputs):\n",
    "    if result == 1: # Rose\n",
    "        plt.scatter(input[0], input[1], s=120, marker='+', linewidths=2, color=\"red\")\n",
    "    else: # Violets\n",
    "        plt.scatter(input[0], input[1], s=120, marker='_', linewidths=2, color=\"blue\")\n",
    "\n",
    "plt.xlabel('Color')\n",
    "plt.ylabel('Steam')\n",
    "plt.title('Roses (+) x Violets (-)')\n",
    "plt.show()"
   ]
  },
  {
   "cell_type": "markdown",
   "metadata": {
    "id": "Nq9uge1kDLoc"
   },
   "source": [
    "To implement BIAS we just need to add one more line at our dot product that will be constant. Or, you can also add one more constant parameter to the inputs, which will be our BIAS. Thus, during the training period of the perceptron weights, it will adjust to the correct height for each problem."
   ]
  },
  {
   "cell_type": "code",
   "execution_count": 2,
   "metadata": {
    "colab": {
     "base_uri": "https://localhost:8080/"
    },
    "id": "wb0PGYaqKBZV",
    "outputId": "9969b611-28d7-44c0-86f2-296aa33c13e3"
   },
   "outputs": [
    {
     "name": "stdout",
     "output_type": "stream",
     "text": [
      "Weights:\n",
      "[  0.6456489    0.81582322 -14.71793286]\n"
     ]
    }
   ],
   "source": [
    "# Perceptron training function\n",
    "def perceptron_sgd(X_inputs, expected_outputs):\n",
    "    weights = np.random.randn(len(input) + 1) / np.sqrt(len(input)) # BIAS weight being inserted randmly with the \"+ 1\" mathematical term\n",
    "    learning_rate = 0.1\n",
    "    epochs = 100\n",
    "\n",
    "    ## Perceptron weights adjusting  \n",
    "    X_inputs = np.c_[X_inputs, np.ones((X_inputs.shape[0]))] #BIAS input being inserted at the input vector as 1 constant \n",
    "    for _ in range(epochs):\n",
    "        for i in range(len(X_inputs)): \n",
    "            sample = X_inputs[i]            \n",
    "            current_output = sigmoid(np.dot(sample, weights)) \n",
    "            if current_output != expected_outputs[i]: \n",
    "                error = expected_outputs[i] - current_output\n",
    "                weights += learning_rate * error * sample \n",
    "    return weights\n",
    "\n",
    "weights = perceptron_sgd(X_inputs,expected_outputs)\n",
    "print(\"Weights:\")\n",
    "print(weights)"
   ]
  },
  {
   "cell_type": "markdown",
   "metadata": {
    "id": "APtFF1LgPloI"
   },
   "source": [
    "After the weights training, we are good to test if the Perceptron can classify the flowers:"
   ]
  },
  {
   "cell_type": "code",
   "execution_count": 3,
   "metadata": {
    "colab": {
     "base_uri": "https://localhost:8080/"
    },
    "id": "WquiDC50KEv7",
    "outputId": "31827a37-c8fc-4372-fefd-0ceb195a72e9"
   },
   "outputs": [
    {
     "name": "stdout",
     "output_type": "stream",
     "text": [
      "[0, 0, 0, 0, 0, 0, 1, 1, 1, 1, 1, 1, 1, 1]\n"
     ]
    }
   ],
   "source": [
    "result_array = []\n",
    "inputs_bias = np.c_[X_inputs, np.ones((X_inputs.shape[0]))]\n",
    "\n",
    "for i in range(len(inputs_bias)): \n",
    "    sample = inputs_bias[i]   \n",
    "    if sigmoid(np.dot(sample, weights)) > 0.5:\n",
    "        result_array.append(1)\n",
    "    else:\n",
    "        result_array.append(0)\n",
    "print(result_array)"
   ]
  },
  {
   "cell_type": "markdown",
   "metadata": {
    "id": "pdusyjzFjjbX"
   },
   "source": [
    "Now, plot the grafic based on the results:"
   ]
  },
  {
   "cell_type": "code",
   "execution_count": 4,
   "metadata": {
    "colab": {
     "base_uri": "https://localhost:8080/",
     "height": 472
    },
    "id": "UHsW0jsxjq0j",
    "outputId": "d474d561-a05f-4ec3-875b-ee44698604e7"
   },
   "outputs": [
    {
     "data": {
      "image/png": "[encoded data removed]",
      "text/plain": [
       "<Figure size 432x288 with 1 Axes>"
      ]
     },
     "metadata": {
      "needs_background": "light"
     },
     "output_type": "display_data"
    }
   ],
   "source": [
    "for result, sample in zip(result_array, X_inputs):\n",
    "    if result == 1: # rose\n",
    "        plt.scatter(sample[0], sample[1], s=120, marker='+', linewidths=2, color=\"red\")\n",
    "    else: # violet\n",
    "        plt.scatter(sample[0], sample[1], s=120, marker='_', linewidths=2, color=\"blue\")\n",
    "                \n",
    "plt.xlabel('Color')\n",
    "plt.ylabel('Steam')\n",
    "plt.title('Roses (+) x Violets (-)')\n",
    "\n",
    "#Calculanting the  Decision Boundary\n",
    "def f(x):\n",
    "    return ((-weights[0]/weights[1]))*x + -(weights[2]/weights[1])\n",
    "\n",
    "x = np.array([0, 10])\n",
    "y = f(x)\n",
    "plt.plot(x,y)\n",
    "plt.show()"
   ]
  },
  {
   "cell_type": "code",
   "execution_count": 5,
   "metadata": {},
   "outputs": [],
   "source": [
    "def plot_perceptron(W1, W2, Bias):\n",
    "    # Create the Weights and Bias based on the slide\n",
    "    weights = np.array([W1, W2, Bias])\n",
    "    # Input with a third value as 1 to bias\n",
    "    inputs_bias = np.c_[X_inputs, np.ones((X_inputs.shape[0]))]\n",
    "\n",
    "    # Predict\n",
    "    result_array = []\n",
    "    for i in range(len(inputs_bias)): \n",
    "        sample = inputs_bias[i]   \n",
    "        if sigmoid(np.dot(sample, weights)) > 0.5:\n",
    "            result_array.append(1)\n",
    "        else:\n",
    "            result_array.append(0)\n",
    "    \n",
    "    # Plot Result\n",
    "    acc = 0\n",
    "    tot = len(result_array)\n",
    "    for y_pred, y_true, sample in zip(result_array, expected_outputs, X_inputs):\n",
    "        c = 'b'# violet\n",
    "        if y_true == 1:\n",
    "            c = 'r' # rose\n",
    "        if y_true == y_pred:\n",
    "            acc += 1 # number of network hits\n",
    "        if y_pred == 1: # rose\n",
    "            plt.scatter(sample[0], sample[1], s=120, marker='+', linewidths=2, color=c)\n",
    "        else: # violet\n",
    "            plt.scatter(sample[0], sample[1], s=120, marker='_', linewidths=2, color=c)\n",
    "                \n",
    "    plt.xlabel('Color')\n",
    "    plt.ylabel('Steam')\n",
    "    plt.title(f'Roses (Truth:Red Pred:+ ) x Violets (Truth:Blue Pred:- ) [Acc: {acc/tot*100:.2f}%]')\n",
    "\n",
    "    # Calculanting the Decision Boundary:\n",
    "    def f(x):\n",
    "        w1 = weights[1]\n",
    "        if weights[1] == 0: # Avoid division by zero \n",
    "            w1 = 0.0000001\n",
    "        return ((-weights[0]/w1))*x + -(weights[2]/w1)\n",
    "    x = np.array([-1, 11])\n",
    "    y = f(x)\n",
    "    \n",
    "    #Plot\n",
    "    plt.plot(x, y)\n",
    "    plt.xlim([-1, 11])\n",
    "    plt.ylim([-1, 31])\n",
    "    plt.show()"
   ]
  },
  {
   "cell_type": "code",
   "execution_count": 6,
   "metadata": {
    "tags": []
   },
   "outputs": [
    {
     "data": {
      "application/vnd.jupyter.widget-view+json": {
       "model_id": "e85a00bd7d7c43759c887339cd996f88",
       "version_major": 2,
       "version_minor": 0
      },
      "text/plain": [
       "interactive(children=(FloatSlider(value=0.0, description='W1', max=10.0, min=-10.0, step=0.01), FloatSlider(va…"
      ]
     },
     "metadata": {},
     "output_type": "display_data"
    }
   ],
   "source": [
    "from ipywidgets import interactive\n",
    "from IPython.display import display, HTML\n",
    "interactive_plot = interactive(plot_perceptron, \n",
    "                               W1=(-10, 10, 0.01),\n",
    "                               W2=(-10, 10, 0.01),  \n",
    "                               Bias=(-110, 110, 0.01))\n",
    "display(interactive_plot)"
   ]
  },
  {
   "cell_type": "markdown",
   "metadata": {},
   "source": [
    "##### Discussion: What happened?\n",
    "\n",
    "- ``What happens if we vary W1 and W2?``\n",
    "\n",
    "- ``What happens when the BIAS is 0%? And with 100%?``"
   ]
  },
  {
   "cell_type": "markdown",
   "metadata": {},
   "source": [
    "## Summary"
   ]
  },
  {
   "cell_type": "markdown",
   "metadata": {},
   "source": [
    "<p style='text-align: justify;'>\n",
    "Applying the Bias parameter in Perceptron Neural Network is an adjustable, numerical term added to a perceptron's weighted sum of inputs and weights that can increase classification model accuracy.  It is used to offset the result and helps the models to shift the activation function towards the positive or negative side.  \n",
    "</p>"
   ]
  },
  {
   "cell_type": "markdown",
   "metadata": {},
   "source": [
    "## Clear the Memory"
   ]
  },
  {
   "cell_type": "markdown",
   "metadata": {},
   "source": [
    "Before moving on, please execute the following cell to clear up the CPU memory. This is required to move on to the next notebook."
   ]
  },
  {
   "cell_type": "code",
   "execution_count": 7,
   "metadata": {},
   "outputs": [],
   "source": [
    "import IPython\n",
    "app = IPython.Application.instance()\n",
    "app.kernel.do_shutdown(True)"
   ]
  },
  {
   "cell_type": "markdown",
   "metadata": {},
   "source": [
    "## Next"
   ]
  },
  {
   "cell_type": "markdown",
   "metadata": {},
   "source": [
    "In this section you learned how to train a simple Perceptron Neural Network with Python for data classification. In the next section, you will be asked to build your own Perceptron with perform data preparation to solve a different data classification with the [_Intel® Scikit Learn Extensions_](https://scikit-learn.org/stable/) package in the notebook [_04-percepetron-scikit-learning.ipynb_](04-percepetron-scikit-learning.ipynb)."
   ]
  }
 ],
 "metadata": {
  "colab": {
   "provenance": []
  },
  "kernelspec": {
   "display_name": "Python 3 (ipykernel)",
   "language": "python",
   "name": "python3"
  },
  "language_info": {
   "codemirror_mode": {
    "name": "ipython",
    "version": 3
   },
   "file_extension": ".py",
   "mimetype": "text/x-python",
   "name": "python",
   "nbconvert_exporter": "python",
   "pygments_lexer": "ipython3",
   "version": "3.8.8"
  }
 },
 "nbformat": 4,
 "nbformat_minor": 4
}
