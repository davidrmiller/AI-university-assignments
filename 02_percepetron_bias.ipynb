{
  "cells": [
    {
      "cell_type": "markdown",
      "metadata": {
        "id": "icd8YEjb0k3Z"
      },
      "source": [
        "# Applying Bias parameter in perceptron using Intel® Python"
      ]
    },
    {
      "cell_type": "markdown",
      "metadata": {
        "id": "_ZYWbeOt-2Zn"
      },
      "source": [
        "In this section, we will add a BIAS parameter to the Perceptron Algorithm that we built in the previous notebooks using Intel® Python. Without a bias, the activation function of the perceptron would be forced to pass through the origin (0,0), which can limit its ability to learn patterns in more complex data."
      ]
    },
    {
      "cell_type": "markdown",
      "metadata": {
        "id": "a0cQveSt-6DL"
      },
      "source": [
        "## Objectives"
      ]
    },
    {
      "cell_type": "markdown",
      "metadata": {
        "id": "MXDHeyVl-4KB"
      },
      "source": [
        "* **Understand** the concept of BIAS parameter;\n",
        "* **Learn** how to implement BIAS parameter;\n",
        "* **Adjust** BIAS weights to get more precise results."
      ]
    },
    {
      "cell_type": "markdown",
      "metadata": {
        "id": "AY2d3T6i-_XA"
      },
      "source": [
        "## Perceptron Theory: Linearly separable problems.\n"
      ]
    },
    {
      "cell_type": "markdown",
      "metadata": {
        "id": "Hq2Fah8mBK1d"
      },
      "source": [
        "The perceptron is a learning model that can only solve problems that can be divided into linear segments. This indicates that it can only separate and categorize data that can be divided by a single line or hyperplane.\n",
        "\n",
        "For cases where data can be divided into two or more different classes and separated by a line or hyperplane in the feature space, the perceptron is appropriate, in other words.\n",
        "\n",
        "This dynamic is well represented at Figure 1.\n"
      ]
    },
    {
      "attachments": {},
      "cell_type": "markdown",
      "metadata": {
        "id": "WcQUPZyWCDG9"
      },
      "source": [
        "<p style=\"text-align: center;\">\n",
        " <img src=\"./images/figure1_perceptron_bias.png\"  width=\"800\" height=\"800\">\n",
        "</p>\n",
        "\n",
        "Figure 1 - Linear and Non Linear Separable Problems Examples."
      ]
    },
    {
      "cell_type": "markdown",
      "metadata": {
        "id": "De95n7F5DQMO"
      },
      "source": [
        "From the point of view of a problem with two parameters, when the classification value depends on \"AND\" and \"OR\" relationships between inputs, it means that it is a linearly separable problem. In cases where the relationship is \"XNOR\", it is a non-linearly separable problem, as exemplified in figure 2."
      ]
    },
    {
      "attachments": {},
      "cell_type": "markdown",
      "metadata": {
        "id": "7JF53Hb5DS1z"
      },
      "source": [
        "<p style=\"text-align: center;\">\n",
        " <img src=\"./images/figure2_perceptron_bias.png\"  width=\"500\" height=\"500\">\n",
        "</p>\n",
        "\n",
        "Figure 2 - \"AND\", \"OR\", \"XNOR\" relations at two Parameters Linear separable problems."
      ]
    },
    {
      "cell_type": "markdown",
      "metadata": {
        "id": "L6p2zUxw0HU1"
      },
      "source": [
        "## The Problem: The separation line \n",
        "\n"
      ]
    },
    {
      "cell_type": "markdown",
      "metadata": {
        "id": "7PE5N3omDsya"
      },
      "source": [
        "The last Perceptron Algorithms classifies data into two classes, to do that they used separation lines that were forced to pass through the origin (0,0). That characteristic limits the model's ability to adjust the line correctly, reducing the accuracy of predictions.\n",
        "\n",
        "Looking at figure 3, it shows a case of a linearly separable problem where it is not possible to draw the separation line in a way that it passes through the origin. Therefore, it would not be possible to use the models worked on so far to solve this problem."
      ]
    },
    {
      "attachments": {},
      "cell_type": "markdown",
      "metadata": {
        "id": "Ks42-a6OFkCb"
      },
      "source": [
        "<p style=\"text-align: center;\">\n",
        " <img src=\"./images/figure3_perceptron_bias.png\"  width=\"800\" height=\"800\">\n",
        "</p>"
      ]
    },
    {
      "cell_type": "markdown",
      "metadata": {
        "id": "pdKQjrchGbLn"
      },
      "source": [
        "## The Solution: BIAS parameter\n"
      ]
    },
    {
      "cell_type": "markdown",
      "metadata": {
        "id": "aqPOJJmeGdcK"
      },
      "source": [
        "The word \"bias\" in the context of perceptrons refers to a further parameter that is added to the model's input and acts as an offset or threshold for activation. By moving the decision boundary further from the origin, as illustrated in figure 4, the perceptron is able to segregate data at some specific cases that are linearly separable.\n",
        "\n",
        "For the best possible prediction accuracy, it can be changed during model training. In other words, the bias allows the model to be more flexible to the data it is trying to learn from and forecast, in addition to enabling the resolution of more specific linear issues."
      ]
    },
    {
      "attachments": {},
      "cell_type": "markdown",
      "metadata": {
        "id": "35hyP80QHsxl"
      },
      "source": [
        "<p style=\"text-align: center;\">\n",
        " <img src=\"./images/figure4_perceptron_bias.png\"  width=\"500\" height=\"500\">\n",
        "</p>\n"
      ]
    },
    {
      "cell_type": "markdown",
      "metadata": {
        "id": "ZVKHPTtIH9V9"
      },
      "source": [
        "## Implementing BIAS parameter at Perceptron Neural Network with Intel® Python"
      ]
    },
    {
      "cell_type": "markdown",
      "metadata": {
        "id": "5Idl-dYqJepN"
      },
      "source": [
        "Taking the last worked problem \"Roses and Violets,\" let's make a small modification. To classify a flower as a rose or violet, we are going consider both the height and the color of the flower on the spectrum.\n",
        "\n",
        "Therefore, if a flower have at least 5 units tall and at least 5 units of color, it will be classified as a rose; otherwise, it will be classified as a violet. Thus, we analyze a situation where both height **and** color must be met to be classified as another class."
      ]
    },
    {
      "cell_type": "code",
      "execution_count": 176,
      "metadata": {
        "colab": {
          "base_uri": "https://localhost:8080/",
          "height": 472
        },
        "id": "98bgt0ZGA75R",
        "outputId": "cfb84649-e54a-445a-b0ac-cd4d401df59c"
      },
      "outputs": [
        {
          "data": {
            "image/png": "[encoded data removed]",
            "text/plain": [
              "<Figure size 640x480 with 1 Axes>"
            ]
          },
          "metadata": {},
          "output_type": "display_data"
        }
      ],
      "source": [
        "import numpy as np\n",
        "import matplotlib.pyplot as plt\n",
        "import random\n",
        "import math\n",
        "\n",
        "## Activation Function\n",
        "def activation_fn(x):\n",
        "  return 1 if x >= 0 else 0\n",
        "\n",
        "\n",
        "## Inputs: stalk, color\n",
        "\n",
        "inputs = np.array([\n",
        "             [ 2, 5], # Rose\n",
        "             [ 3, 4], # Rose\n",
        "             [ 2, 3], # Rose\n",
        "             [ 1, 5], # Rose\n",
        "             [ 4, 2], # Rose\n",
        "             [ 5, 1], # Rose\n",
        "             [ 5, 3], # Rose\n",
        "             [ 9, 10], # Violet\n",
        "             [ 6, 7], # Violet\n",
        "             [ 9, 7], # Violet\n",
        "             [ 10, 6], # Violet\n",
        "             [ 7, 7], # Violet                       \n",
        "             [ 6, 6], # Violet\n",
        "             [ 3, 9], # Violet\n",
        "             [ 2, 10], # Violet\n",
        "             [ 8, 3], # Violet\n",
        "             [ 10, 2], # Violet\n",
        "             [ 6, 2], # Violet\n",
        "             [ 10, 1] # Violet\n",
        "])\n",
        "\n",
        "## Expected outcomes for each input.\n",
        "expected_outputs = np.array([1, 1, 1, 1, 1, 1, 1, 0, 0, 0, 0, 0, 0, 0, 0, 0, 0, 0, 0])\n",
        "\n",
        "for result, input in zip(expected_outputs, inputs):\n",
        "    if result == 1: # Rose\n",
        "        plt.scatter(input[0], input[1], s=120, marker='+', linewidths=2)\n",
        "    else: # Violets\n",
        "        plt.scatter(input[0], input[1], s=120, marker='_', linewidths=2)\n",
        "\n",
        "plt.xlabel('Stem')\n",
        "plt.ylabel('Color')\n",
        "plt.title('Roses (+) x Violets (-)')\n",
        "plt.show()\n"
      ]
    },
    {
      "cell_type": "markdown",
      "metadata": {
        "id": "Nq9uge1kDLoc"
      },
      "source": [
        "To implement BIAS we just need to add one more line at our dot product that will be constant. Or, you can also add one more constant parameter to the inputs, which will be our BIAS. Thus, during the training period of the perceptron weights, it will adjust to the correct height for each problem."
      ]
    },
    {
      "cell_type": "code",
      "execution_count": 172,
      "metadata": {
        "colab": {
          "base_uri": "https://localhost:8080/"
        },
        "id": "wb0PGYaqKBZV",
        "outputId": "9969b611-28d7-44c0-86f2-296aa33c13e3"
      },
      "outputs": [
        {
          "name": "stdout",
          "output_type": "stream",
          "text": [
            "Weights:\n",
            "[-0.75152316 -0.41255488  5.16724731]\n"
          ]
        }
      ],
      "source": [
        "def perceptron_sgd(inputs, expected_outputs):\n",
        "    weights = np.random.randn(len(input) + 1) / np.sqrt(len(input)) # BIAS weight being inserted randmly with the \"+ 1\" mathematical term\n",
        "    learning_rate = 0.1\n",
        "    epochs = 100\n",
        "\n",
        "    ## Perceptron weights adjusting  \n",
        "    inputs = np.c_[inputs, np.ones((inputs.shape[0]))] #BIAS input being inserted at the input vector as 1 constant \n",
        "    for _ in range(epochs):\n",
        "            for i in range(len(inputs)): \n",
        "                sample = inputs[i]            \n",
        "                current_output = activation_fn(np.dot(sample, weights)) \n",
        "                if current_output != expected_outputs[i]: \n",
        "                  error = expected_outputs[i] - current_output\n",
        "                  weights += learning_rate * error * sample \n",
        "    return weights\n",
        "\n",
        "weights = perceptron_sgd(inputs,expected_outputs)\n",
        "print(\"Weights:\")\n",
        "print(weights)\n"
      ]
    },
    {
      "cell_type": "markdown",
      "metadata": {
        "id": "APtFF1LgPloI"
      },
      "source": [
        "After the weights training, we are good to test if the Perceptron can classify the flowers:"
      ]
    },
    {
      "cell_type": "code",
      "execution_count": 173,
      "metadata": {
        "colab": {
          "base_uri": "https://localhost:8080/"
        },
        "id": "WquiDC50KEv7",
        "outputId": "31827a37-c8fc-4372-fefd-0ceb195a72e9"
      },
      "outputs": [
        {
          "name": "stdout",
          "output_type": "stream",
          "text": [
            "[1, 1, 1, 1, 1, 1, 1, 0, 0, 0, 0, 0, 0, 0, 0, 0, 0, 0, 0]\n"
          ]
        }
      ],
      "source": [
        "result_array = []\n",
        "inputs_bias = np.c_[inputs, np.ones((inputs.shape[0]))]\n",
        "\n",
        "for i in range(len(inputs_bias)): \n",
        "    sample = inputs_bias[i]   \n",
        "    if activation_fn(np.dot(sample, weights)) > 0.5:\n",
        "      result_array.append(1)\n",
        "    else:\n",
        "      result_array.append(0)\n",
        "print(result_array)"
      ]
    },
    {
      "cell_type": "markdown",
      "metadata": {
        "id": "pdusyjzFjjbX"
      },
      "source": [
        "Now, plot the grafic based on the results:"
      ]
    },
    {
      "cell_type": "code",
      "execution_count": 175,
      "metadata": {
        "colab": {
          "base_uri": "https://localhost:8080/",
          "height": 472
        },
        "id": "UHsW0jsxjq0j",
        "outputId": "d474d561-a05f-4ec3-875b-ee44698604e7"
      },
      "outputs": [
        {
          "data": {
            "image/png": "[encoded data removed]",
            "text/plain": [
              "<Figure size 640x480 with 1 Axes>"
            ]
          },
          "metadata": {},
          "output_type": "display_data"
        }
      ],
      "source": [
        "for result, sample in zip(result_array, inputs):\n",
        "    if result == 1: # rose\n",
        "        plt.scatter(sample[0], sample[1], s=120, marker='+', linewidths=2)\n",
        "    else: # violet\n",
        "        plt.scatter(sample[0], sample[1], s=120, marker='_', linewidths=2)\n",
        "\n",
        "plt.xlabel('Stem')\n",
        "plt.ylabel('Color')\n",
        "plt.title('Roses (+) x Violets (-)')\n",
        "\n",
        "#Calculanting the  Decision Boundary:\n",
        "def f(x):\n",
        "    return ((-weights[0]/weights[1]))*x + -(weights[2]/weights[1])\n",
        "\n",
        "x = np.array([0, 10])\n",
        "y=f(x)\n",
        "plt.plot(x,y)\n",
        "\n",
        "plt.plot()\n",
        "plt.show()"
      ]
    }
  ],
  "metadata": {
    "colab": {
      "provenance": []
    },
    "kernelspec": {
      "display_name": "Python 3",
      "name": "python3"
    },
    "language_info": {
      "name": "python"
    }
  },
  "nbformat": 4,
  "nbformat_minor": 0
}
