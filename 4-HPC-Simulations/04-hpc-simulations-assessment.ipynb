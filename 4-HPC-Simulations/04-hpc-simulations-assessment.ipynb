{
 "cells": [
  {
   "cell_type": "markdown",
   "metadata": {},
   "source": [
    "# Assessment"
   ]
  },
  {
   "cell_type": "markdown",
   "metadata": {},
   "source": [
    "<p style='text-align: justify;'>\n",
    "Congratulations on finishing the HPC simulations course!! Hopefully you learned some valuable skills along the way and had fun doing it. Now it's time to put these skills to the test. In this evaluation, we have the following problem: Create a neural network to predict atmospheric wind speed. You must create and train a model using one of the tools studied and evaluate its performance. Let's get started!\n",
    "</p>"
   ]
  },
  {
   "cell_type": "markdown",
   "metadata": {
    "tags": []
   },
   "source": [
    "## Problem: Predict atmospheric wind speed"
   ]
  },
  {
   "cell_type": "markdown",
   "metadata": {
    "tags": []
   },
   "source": [
    "<p style='text-align: justify;'>\n",
    "Predicting atmospheric wind speed is of great importance in various applications, such as weather forecasting, aviation, wind energy park deployment, among others. An accurate understanding of wind speed and direction is essential for making informed decisions in many sectors.\n",
    "</p>\n",
    "<p style='text-align: justify;'>\n",
    "In this challenge, your goal is to develop a machine learning model capable of predicting wind speed one hour ahead. To accomplish this, you will use one of the tools studied in the course and leverage the knowledge you have acquired to create and train a precise neural network model using appropriate computational resources. After training the model, you will also need to assess its forecasting ability and determine its effectiveness.\n",
    "</p>    \n",
    "\n",
    "<p style=\"text-align: center;\">\n",
    " <img src=\"images/figure01_meteorological_station.jpg\" style=\"width: 700px;\">\n",
    "</p>\n"
   ]
  },
  {
   "cell_type": "markdown",
   "metadata": {
    "tags": []
   },
   "source": [
    "### Wind dataset\n",
    "\n",
    "We will use the [Wind dataset](data/wind-dataset/wind-dataset.csv) of a city where we will have various meteorological information available in which we will obtain information related to wind measurement so that we can develop our algorithm. "
   ]
  },
  {
   "cell_type": "markdown",
   "metadata": {},
   "source": [
    "Its mission is to filter data related to wind speed and develop artificial intelligence for forecasting based on this data. The algorithm must follow the following criteria:\n",
    "\n",
    "* Implement the algorithm using Tensorflow or Pytorch,\n",
    "* Predict the wind speed one hour ahead,\n",
    "* Measure the execution time of the algorithm developed for the CPU or/and GPU."
   ]
  }
 ],
 "metadata": {
  "kernelspec": {
   "display_name": "Python 3 (ipykernel)",
   "language": "python",
   "name": "python3"
  },
  "language_info": {
   "codemirror_mode": {
    "name": "ipython",
    "version": 3
   },
   "file_extension": ".py",
   "mimetype": "text/x-python",
   "name": "python",
   "nbconvert_exporter": "python",
   "pygments_lexer": "ipython3",
   "version": "3.8.8"
  }
 },
 "nbformat": 4,
 "nbformat_minor": 4
}
